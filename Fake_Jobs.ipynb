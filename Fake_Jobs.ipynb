{
  "nbformat": 4,
  "nbformat_minor": 0,
  "metadata": {
    "kernelspec": {
      "display_name": "Python 3",
      "language": "python",
      "name": "python3"
    },
    "language_info": {
      "codemirror_mode": {
        "name": "ipython",
        "version": 3
      },
      "file_extension": ".py",
      "mimetype": "text/x-python",
      "name": "python",
      "nbconvert_exporter": "python",
      "pygments_lexer": "ipython3",
      "version": "3.7.3"
    },
    "colab": {
      "provenance": [],
      "collapsed_sections": [
        "cjwpuybYs-j5",
        "vCfJIMUjs-kC",
        "45WMsxwKs-kX",
        "_qpigGS7s-lG",
        "_DTxWsNfs-lg",
        "xeCpRm29s-lp",
        "o-WV3jkDs-l0",
        "Y_7pQq_Ks-mV",
        "ZnFkJrlms-mV",
        "ia1DXV_qs-ms",
        "4ZxiWMnCs-mx",
        "YPQRxCBis-m0",
        "lwcFcYWys-m6",
        "pIovDUxis-m9",
        "kZHShDLFs-nO",
        "BukWBKXFs-nQ",
        "WdK2ZpiXs-nV"
      ],
      "include_colab_link": true
    }
  },
  "cells": [
    {
      "cell_type": "markdown",
      "metadata": {
        "id": "view-in-github",
        "colab_type": "text"
      },
      "source": [
        "<a href=\"https://colab.research.google.com/github/multifacs/MachineLearning/blob/main/Fake_Jobs.ipynb\" target=\"_parent\"><img src=\"https://colab.research.google.com/assets/colab-badge.svg\" alt=\"Open In Colab\"/></a>"
      ]
    },
    {
      "cell_type": "markdown",
      "metadata": {
        "id": "nwl8aLgYs-h0"
      },
      "source": [
        "# Быстрый старт в анализ данных\n",
        "\n",
        "**с помощью `Pandas` и `Scikit-learn`,**\n",
        "**а также `numpy` и `matplotlib`**\n",
        "\n",
        "- `numpy` – матричные операции\n",
        "- `matplotlib` – научная графика\n",
        "- `pandas` – таблицы (DataFrame) для анализа данных\n",
        "- `scikit-learn` – алгоритмы машинного обучения\n",
        "\n",
        "\n"
      ]
    },
    {
      "cell_type": "code",
      "source": [
        "from google.colab import drive\n",
        "drive.mount('/content/drive')"
      ],
      "metadata": {
        "colab": {
          "base_uri": "https://localhost:8080/"
        },
        "id": "FK8SCWtwJs4j",
        "outputId": "d8fd4457-cbc5-4380-9cbf-d0af731d837b"
      },
      "execution_count": null,
      "outputs": [
        {
          "output_type": "stream",
          "name": "stdout",
          "text": [
            "Mounted at /content/drive\n"
          ]
        }
      ]
    },
    {
      "cell_type": "code",
      "metadata": {
        "id": "xu4Nl9_Ts-h2"
      },
      "source": [
        "import numpy as np\n",
        "import matplotlib.pyplot as plt\n",
        "import pandas as pd\n",
        "%matplotlib inline"
      ],
      "execution_count": null,
      "outputs": []
    },
    {
      "cell_type": "code",
      "metadata": {
        "id": "eLG2kVGXs-h7"
      },
      "source": [
        "url = '/content/drive/MyDrive/ML/fake_job_postings.csv'\n",
        "data = pd.read_csv(url, encoding= \"UTF-8\")\n",
        "#data = pd.read_csv('./adult.data', sep = ', ', header=None, engine = 'python')"
      ],
      "execution_count": null,
      "outputs": []
    },
    {
      "cell_type": "code",
      "metadata": {
        "id": "FOnhd1p7s-h_",
        "colab": {
          "base_uri": "https://localhost:8080/"
        },
        "outputId": "6e753858-435c-4a9a-ab2d-10a9f60e844a"
      },
      "source": [
        "type(data)"
      ],
      "execution_count": null,
      "outputs": [
        {
          "output_type": "execute_result",
          "data": {
            "text/plain": [
              "pandas.core.frame.DataFrame"
            ]
          },
          "metadata": {},
          "execution_count": 5
        }
      ]
    },
    {
      "cell_type": "code",
      "metadata": {
        "id": "YgH_LG-Ks-iE",
        "colab": {
          "base_uri": "https://localhost:8080/",
          "height": 974
        },
        "outputId": "6fde5a0b-2859-40a7-bb82-f5cdb5314dbf"
      },
      "source": [
        "data"
      ],
      "execution_count": null,
      "outputs": [
        {
          "output_type": "execute_result",
          "data": {
            "text/plain": [
              "       job_id                                              title  \\\n",
              "0           1                                   Marketing Intern   \n",
              "1           2          Customer Service - Cloud Video Production   \n",
              "2           3            Commissioning Machinery Assistant (CMA)   \n",
              "3           4                  Account Executive - Washington DC   \n",
              "4           5                                Bill Review Manager   \n",
              "...       ...                                                ...   \n",
              "17875   17876                   Account Director - Distribution    \n",
              "17876   17877                                 Payroll Accountant   \n",
              "17877   17878  Project Cost Control Staff Engineer - Cost Con...   \n",
              "17878   17879                                   Graphic Designer   \n",
              "17879   17880                         Web Application Developers   \n",
              "\n",
              "                   location   department salary_range  \\\n",
              "0          US, NY, New York    Marketing          NaN   \n",
              "1            NZ, , Auckland      Success          NaN   \n",
              "2             US, IA, Wever          NaN          NaN   \n",
              "3        US, DC, Washington        Sales          NaN   \n",
              "4        US, FL, Fort Worth          NaN          NaN   \n",
              "...                     ...          ...          ...   \n",
              "17875       CA, ON, Toronto        Sales          NaN   \n",
              "17876  US, PA, Philadelphia   Accounting          NaN   \n",
              "17877       US, TX, Houston          NaN          NaN   \n",
              "17878         NG, LA, Lagos          NaN          NaN   \n",
              "17879     NZ, N, Wellington  Engineering          NaN   \n",
              "\n",
              "                                         company_profile  \\\n",
              "0      We're Food52, and we've created a groundbreaki...   \n",
              "1      90 Seconds, the worlds Cloud Video Production ...   \n",
              "2      Valor Services provides Workforce Solutions th...   \n",
              "3      Our passion for improving quality of life thro...   \n",
              "4      SpotSource Solutions LLC is a Global Human Cap...   \n",
              "...                                                  ...   \n",
              "17875  Vend is looking for some awesome new talent to...   \n",
              "17876  WebLinc is the e-commerce platform and service...   \n",
              "17877  We Provide Full Time Permanent Positions for m...   \n",
              "17878                                                NaN   \n",
              "17879  Vend is looking for some awesome new talent to...   \n",
              "\n",
              "                                             description  \\\n",
              "0      Food52, a fast-growing, James Beard Award-winn...   \n",
              "1      Organised - Focused - Vibrant - Awesome!Do you...   \n",
              "2      Our client, located in Houston, is actively se...   \n",
              "3      THE COMPANY: ESRI – Environmental Systems Rese...   \n",
              "4      JOB TITLE: Itemization Review ManagerLOCATION:...   \n",
              "...                                                  ...   \n",
              "17875  Just in case this is the first time you’ve vis...   \n",
              "17876  The Payroll Accountant will focus primarily on...   \n",
              "17877  Experienced Project Cost Control Staff Enginee...   \n",
              "17878  Nemsia Studios is looking for an experienced v...   \n",
              "17879  Who are we?Vend is an award winning web based ...   \n",
              "\n",
              "                                            requirements  \\\n",
              "0      Experience with content management systems a m...   \n",
              "1      What we expect from you:Your key responsibilit...   \n",
              "2      Implement pre-commissioning and commissioning ...   \n",
              "3      EDUCATION: Bachelor’s or Master’s in GIS, busi...   \n",
              "4      QUALIFICATIONS:RN license in the State of Texa...   \n",
              "...                                                  ...   \n",
              "17875  To ace this role you:Will eat comprehensive St...   \n",
              "17876  - B.A. or B.S. in Accounting- Desire to have f...   \n",
              "17877  At least 12 years professional experience.Abil...   \n",
              "17878  1. Must be fluent in the latest versions of Co...   \n",
              "17879  We want to hear from you if:You have an in-dep...   \n",
              "\n",
              "                                                benefits  telecommuting  \\\n",
              "0                                                    NaN              0   \n",
              "1      What you will get from usThrough being part of...              0   \n",
              "2                                                    NaN              0   \n",
              "3      Our culture is anything but corporate—we have ...              0   \n",
              "4                                  Full Benefits Offered              0   \n",
              "...                                                  ...            ...   \n",
              "17875  What can you expect from us?We have an open cu...              0   \n",
              "17876  Health &amp; WellnessMedical planPrescription ...              0   \n",
              "17877                                                NaN              0   \n",
              "17878  Competitive salary (compensation will be based...              0   \n",
              "17879                                                NaN              0   \n",
              "\n",
              "       has_company_logo  has_questions employment_type required_experience  \\\n",
              "0                     1              0           Other          Internship   \n",
              "1                     1              0       Full-time      Not Applicable   \n",
              "2                     1              0             NaN                 NaN   \n",
              "3                     1              0       Full-time    Mid-Senior level   \n",
              "4                     1              1       Full-time    Mid-Senior level   \n",
              "...                 ...            ...             ...                 ...   \n",
              "17875                 1              1       Full-time    Mid-Senior level   \n",
              "17876                 1              1       Full-time    Mid-Senior level   \n",
              "17877                 0              0       Full-time                 NaN   \n",
              "17878                 0              1        Contract      Not Applicable   \n",
              "17879                 1              1       Full-time    Mid-Senior level   \n",
              "\n",
              "      required_education                   industry              function  \\\n",
              "0                    NaN                        NaN             Marketing   \n",
              "1                    NaN  Marketing and Advertising      Customer Service   \n",
              "2                    NaN                        NaN                   NaN   \n",
              "3      Bachelor's Degree          Computer Software                 Sales   \n",
              "4      Bachelor's Degree     Hospital & Health Care  Health Care Provider   \n",
              "...                  ...                        ...                   ...   \n",
              "17875                NaN          Computer Software                 Sales   \n",
              "17876  Bachelor's Degree                   Internet   Accounting/Auditing   \n",
              "17877                NaN                        NaN                   NaN   \n",
              "17878       Professional             Graphic Design                Design   \n",
              "17879                NaN          Computer Software           Engineering   \n",
              "\n",
              "       fraudulent  \n",
              "0               0  \n",
              "1               0  \n",
              "2               0  \n",
              "3               0  \n",
              "4               0  \n",
              "...           ...  \n",
              "17875           0  \n",
              "17876           0  \n",
              "17877           0  \n",
              "17878           0  \n",
              "17879           0  \n",
              "\n",
              "[17880 rows x 18 columns]"
            ],
            "text/html": [
              "\n",
              "  <div id=\"df-b0391e6e-8ee5-44f0-be9d-f8eecee72c75\">\n",
              "    <div class=\"colab-df-container\">\n",
              "      <div>\n",
              "<style scoped>\n",
              "    .dataframe tbody tr th:only-of-type {\n",
              "        vertical-align: middle;\n",
              "    }\n",
              "\n",
              "    .dataframe tbody tr th {\n",
              "        vertical-align: top;\n",
              "    }\n",
              "\n",
              "    .dataframe thead th {\n",
              "        text-align: right;\n",
              "    }\n",
              "</style>\n",
              "<table border=\"1\" class=\"dataframe\">\n",
              "  <thead>\n",
              "    <tr style=\"text-align: right;\">\n",
              "      <th></th>\n",
              "      <th>job_id</th>\n",
              "      <th>title</th>\n",
              "      <th>location</th>\n",
              "      <th>department</th>\n",
              "      <th>salary_range</th>\n",
              "      <th>company_profile</th>\n",
              "      <th>description</th>\n",
              "      <th>requirements</th>\n",
              "      <th>benefits</th>\n",
              "      <th>telecommuting</th>\n",
              "      <th>has_company_logo</th>\n",
              "      <th>has_questions</th>\n",
              "      <th>employment_type</th>\n",
              "      <th>required_experience</th>\n",
              "      <th>required_education</th>\n",
              "      <th>industry</th>\n",
              "      <th>function</th>\n",
              "      <th>fraudulent</th>\n",
              "    </tr>\n",
              "  </thead>\n",
              "  <tbody>\n",
              "    <tr>\n",
              "      <th>0</th>\n",
              "      <td>1</td>\n",
              "      <td>Marketing Intern</td>\n",
              "      <td>US, NY, New York</td>\n",
              "      <td>Marketing</td>\n",
              "      <td>NaN</td>\n",
              "      <td>We're Food52, and we've created a groundbreaki...</td>\n",
              "      <td>Food52, a fast-growing, James Beard Award-winn...</td>\n",
              "      <td>Experience with content management systems a m...</td>\n",
              "      <td>NaN</td>\n",
              "      <td>0</td>\n",
              "      <td>1</td>\n",
              "      <td>0</td>\n",
              "      <td>Other</td>\n",
              "      <td>Internship</td>\n",
              "      <td>NaN</td>\n",
              "      <td>NaN</td>\n",
              "      <td>Marketing</td>\n",
              "      <td>0</td>\n",
              "    </tr>\n",
              "    <tr>\n",
              "      <th>1</th>\n",
              "      <td>2</td>\n",
              "      <td>Customer Service - Cloud Video Production</td>\n",
              "      <td>NZ, , Auckland</td>\n",
              "      <td>Success</td>\n",
              "      <td>NaN</td>\n",
              "      <td>90 Seconds, the worlds Cloud Video Production ...</td>\n",
              "      <td>Organised - Focused - Vibrant - Awesome!Do you...</td>\n",
              "      <td>What we expect from you:Your key responsibilit...</td>\n",
              "      <td>What you will get from usThrough being part of...</td>\n",
              "      <td>0</td>\n",
              "      <td>1</td>\n",
              "      <td>0</td>\n",
              "      <td>Full-time</td>\n",
              "      <td>Not Applicable</td>\n",
              "      <td>NaN</td>\n",
              "      <td>Marketing and Advertising</td>\n",
              "      <td>Customer Service</td>\n",
              "      <td>0</td>\n",
              "    </tr>\n",
              "    <tr>\n",
              "      <th>2</th>\n",
              "      <td>3</td>\n",
              "      <td>Commissioning Machinery Assistant (CMA)</td>\n",
              "      <td>US, IA, Wever</td>\n",
              "      <td>NaN</td>\n",
              "      <td>NaN</td>\n",
              "      <td>Valor Services provides Workforce Solutions th...</td>\n",
              "      <td>Our client, located in Houston, is actively se...</td>\n",
              "      <td>Implement pre-commissioning and commissioning ...</td>\n",
              "      <td>NaN</td>\n",
              "      <td>0</td>\n",
              "      <td>1</td>\n",
              "      <td>0</td>\n",
              "      <td>NaN</td>\n",
              "      <td>NaN</td>\n",
              "      <td>NaN</td>\n",
              "      <td>NaN</td>\n",
              "      <td>NaN</td>\n",
              "      <td>0</td>\n",
              "    </tr>\n",
              "    <tr>\n",
              "      <th>3</th>\n",
              "      <td>4</td>\n",
              "      <td>Account Executive - Washington DC</td>\n",
              "      <td>US, DC, Washington</td>\n",
              "      <td>Sales</td>\n",
              "      <td>NaN</td>\n",
              "      <td>Our passion for improving quality of life thro...</td>\n",
              "      <td>THE COMPANY: ESRI – Environmental Systems Rese...</td>\n",
              "      <td>EDUCATION: Bachelor’s or Master’s in GIS, busi...</td>\n",
              "      <td>Our culture is anything but corporate—we have ...</td>\n",
              "      <td>0</td>\n",
              "      <td>1</td>\n",
              "      <td>0</td>\n",
              "      <td>Full-time</td>\n",
              "      <td>Mid-Senior level</td>\n",
              "      <td>Bachelor's Degree</td>\n",
              "      <td>Computer Software</td>\n",
              "      <td>Sales</td>\n",
              "      <td>0</td>\n",
              "    </tr>\n",
              "    <tr>\n",
              "      <th>4</th>\n",
              "      <td>5</td>\n",
              "      <td>Bill Review Manager</td>\n",
              "      <td>US, FL, Fort Worth</td>\n",
              "      <td>NaN</td>\n",
              "      <td>NaN</td>\n",
              "      <td>SpotSource Solutions LLC is a Global Human Cap...</td>\n",
              "      <td>JOB TITLE: Itemization Review ManagerLOCATION:...</td>\n",
              "      <td>QUALIFICATIONS:RN license in the State of Texa...</td>\n",
              "      <td>Full Benefits Offered</td>\n",
              "      <td>0</td>\n",
              "      <td>1</td>\n",
              "      <td>1</td>\n",
              "      <td>Full-time</td>\n",
              "      <td>Mid-Senior level</td>\n",
              "      <td>Bachelor's Degree</td>\n",
              "      <td>Hospital &amp; Health Care</td>\n",
              "      <td>Health Care Provider</td>\n",
              "      <td>0</td>\n",
              "    </tr>\n",
              "    <tr>\n",
              "      <th>...</th>\n",
              "      <td>...</td>\n",
              "      <td>...</td>\n",
              "      <td>...</td>\n",
              "      <td>...</td>\n",
              "      <td>...</td>\n",
              "      <td>...</td>\n",
              "      <td>...</td>\n",
              "      <td>...</td>\n",
              "      <td>...</td>\n",
              "      <td>...</td>\n",
              "      <td>...</td>\n",
              "      <td>...</td>\n",
              "      <td>...</td>\n",
              "      <td>...</td>\n",
              "      <td>...</td>\n",
              "      <td>...</td>\n",
              "      <td>...</td>\n",
              "      <td>...</td>\n",
              "    </tr>\n",
              "    <tr>\n",
              "      <th>17875</th>\n",
              "      <td>17876</td>\n",
              "      <td>Account Director - Distribution</td>\n",
              "      <td>CA, ON, Toronto</td>\n",
              "      <td>Sales</td>\n",
              "      <td>NaN</td>\n",
              "      <td>Vend is looking for some awesome new talent to...</td>\n",
              "      <td>Just in case this is the first time you’ve vis...</td>\n",
              "      <td>To ace this role you:Will eat comprehensive St...</td>\n",
              "      <td>What can you expect from us?We have an open cu...</td>\n",
              "      <td>0</td>\n",
              "      <td>1</td>\n",
              "      <td>1</td>\n",
              "      <td>Full-time</td>\n",
              "      <td>Mid-Senior level</td>\n",
              "      <td>NaN</td>\n",
              "      <td>Computer Software</td>\n",
              "      <td>Sales</td>\n",
              "      <td>0</td>\n",
              "    </tr>\n",
              "    <tr>\n",
              "      <th>17876</th>\n",
              "      <td>17877</td>\n",
              "      <td>Payroll Accountant</td>\n",
              "      <td>US, PA, Philadelphia</td>\n",
              "      <td>Accounting</td>\n",
              "      <td>NaN</td>\n",
              "      <td>WebLinc is the e-commerce platform and service...</td>\n",
              "      <td>The Payroll Accountant will focus primarily on...</td>\n",
              "      <td>- B.A. or B.S. in Accounting- Desire to have f...</td>\n",
              "      <td>Health &amp;amp; WellnessMedical planPrescription ...</td>\n",
              "      <td>0</td>\n",
              "      <td>1</td>\n",
              "      <td>1</td>\n",
              "      <td>Full-time</td>\n",
              "      <td>Mid-Senior level</td>\n",
              "      <td>Bachelor's Degree</td>\n",
              "      <td>Internet</td>\n",
              "      <td>Accounting/Auditing</td>\n",
              "      <td>0</td>\n",
              "    </tr>\n",
              "    <tr>\n",
              "      <th>17877</th>\n",
              "      <td>17878</td>\n",
              "      <td>Project Cost Control Staff Engineer - Cost Con...</td>\n",
              "      <td>US, TX, Houston</td>\n",
              "      <td>NaN</td>\n",
              "      <td>NaN</td>\n",
              "      <td>We Provide Full Time Permanent Positions for m...</td>\n",
              "      <td>Experienced Project Cost Control Staff Enginee...</td>\n",
              "      <td>At least 12 years professional experience.Abil...</td>\n",
              "      <td>NaN</td>\n",
              "      <td>0</td>\n",
              "      <td>0</td>\n",
              "      <td>0</td>\n",
              "      <td>Full-time</td>\n",
              "      <td>NaN</td>\n",
              "      <td>NaN</td>\n",
              "      <td>NaN</td>\n",
              "      <td>NaN</td>\n",
              "      <td>0</td>\n",
              "    </tr>\n",
              "    <tr>\n",
              "      <th>17878</th>\n",
              "      <td>17879</td>\n",
              "      <td>Graphic Designer</td>\n",
              "      <td>NG, LA, Lagos</td>\n",
              "      <td>NaN</td>\n",
              "      <td>NaN</td>\n",
              "      <td>NaN</td>\n",
              "      <td>Nemsia Studios is looking for an experienced v...</td>\n",
              "      <td>1. Must be fluent in the latest versions of Co...</td>\n",
              "      <td>Competitive salary (compensation will be based...</td>\n",
              "      <td>0</td>\n",
              "      <td>0</td>\n",
              "      <td>1</td>\n",
              "      <td>Contract</td>\n",
              "      <td>Not Applicable</td>\n",
              "      <td>Professional</td>\n",
              "      <td>Graphic Design</td>\n",
              "      <td>Design</td>\n",
              "      <td>0</td>\n",
              "    </tr>\n",
              "    <tr>\n",
              "      <th>17879</th>\n",
              "      <td>17880</td>\n",
              "      <td>Web Application Developers</td>\n",
              "      <td>NZ, N, Wellington</td>\n",
              "      <td>Engineering</td>\n",
              "      <td>NaN</td>\n",
              "      <td>Vend is looking for some awesome new talent to...</td>\n",
              "      <td>Who are we?Vend is an award winning web based ...</td>\n",
              "      <td>We want to hear from you if:You have an in-dep...</td>\n",
              "      <td>NaN</td>\n",
              "      <td>0</td>\n",
              "      <td>1</td>\n",
              "      <td>1</td>\n",
              "      <td>Full-time</td>\n",
              "      <td>Mid-Senior level</td>\n",
              "      <td>NaN</td>\n",
              "      <td>Computer Software</td>\n",
              "      <td>Engineering</td>\n",
              "      <td>0</td>\n",
              "    </tr>\n",
              "  </tbody>\n",
              "</table>\n",
              "<p>17880 rows × 18 columns</p>\n",
              "</div>\n",
              "      <button class=\"colab-df-convert\" onclick=\"convertToInteractive('df-b0391e6e-8ee5-44f0-be9d-f8eecee72c75')\"\n",
              "              title=\"Convert this dataframe to an interactive table.\"\n",
              "              style=\"display:none;\">\n",
              "        \n",
              "  <svg xmlns=\"http://www.w3.org/2000/svg\" height=\"24px\"viewBox=\"0 0 24 24\"\n",
              "       width=\"24px\">\n",
              "    <path d=\"M0 0h24v24H0V0z\" fill=\"none\"/>\n",
              "    <path d=\"M18.56 5.44l.94 2.06.94-2.06 2.06-.94-2.06-.94-.94-2.06-.94 2.06-2.06.94zm-11 1L8.5 8.5l.94-2.06 2.06-.94-2.06-.94L8.5 2.5l-.94 2.06-2.06.94zm10 10l.94 2.06.94-2.06 2.06-.94-2.06-.94-.94-2.06-.94 2.06-2.06.94z\"/><path d=\"M17.41 7.96l-1.37-1.37c-.4-.4-.92-.59-1.43-.59-.52 0-1.04.2-1.43.59L10.3 9.45l-7.72 7.72c-.78.78-.78 2.05 0 2.83L4 21.41c.39.39.9.59 1.41.59.51 0 1.02-.2 1.41-.59l7.78-7.78 2.81-2.81c.8-.78.8-2.07 0-2.86zM5.41 20L4 18.59l7.72-7.72 1.47 1.35L5.41 20z\"/>\n",
              "  </svg>\n",
              "      </button>\n",
              "      \n",
              "  <style>\n",
              "    .colab-df-container {\n",
              "      display:flex;\n",
              "      flex-wrap:wrap;\n",
              "      gap: 12px;\n",
              "    }\n",
              "\n",
              "    .colab-df-convert {\n",
              "      background-color: #E8F0FE;\n",
              "      border: none;\n",
              "      border-radius: 50%;\n",
              "      cursor: pointer;\n",
              "      display: none;\n",
              "      fill: #1967D2;\n",
              "      height: 32px;\n",
              "      padding: 0 0 0 0;\n",
              "      width: 32px;\n",
              "    }\n",
              "\n",
              "    .colab-df-convert:hover {\n",
              "      background-color: #E2EBFA;\n",
              "      box-shadow: 0px 1px 2px rgba(60, 64, 67, 0.3), 0px 1px 3px 1px rgba(60, 64, 67, 0.15);\n",
              "      fill: #174EA6;\n",
              "    }\n",
              "\n",
              "    [theme=dark] .colab-df-convert {\n",
              "      background-color: #3B4455;\n",
              "      fill: #D2E3FC;\n",
              "    }\n",
              "\n",
              "    [theme=dark] .colab-df-convert:hover {\n",
              "      background-color: #434B5C;\n",
              "      box-shadow: 0px 1px 3px 1px rgba(0, 0, 0, 0.15);\n",
              "      filter: drop-shadow(0px 1px 2px rgba(0, 0, 0, 0.3));\n",
              "      fill: #FFFFFF;\n",
              "    }\n",
              "  </style>\n",
              "\n",
              "      <script>\n",
              "        const buttonEl =\n",
              "          document.querySelector('#df-b0391e6e-8ee5-44f0-be9d-f8eecee72c75 button.colab-df-convert');\n",
              "        buttonEl.style.display =\n",
              "          google.colab.kernel.accessAllowed ? 'block' : 'none';\n",
              "\n",
              "        async function convertToInteractive(key) {\n",
              "          const element = document.querySelector('#df-b0391e6e-8ee5-44f0-be9d-f8eecee72c75');\n",
              "          const dataTable =\n",
              "            await google.colab.kernel.invokeFunction('convertToInteractive',\n",
              "                                                     [key], {});\n",
              "          if (!dataTable) return;\n",
              "\n",
              "          const docLinkHtml = 'Like what you see? Visit the ' +\n",
              "            '<a target=\"_blank\" href=https://colab.research.google.com/notebooks/data_table.ipynb>data table notebook</a>'\n",
              "            + ' to learn more about interactive tables.';\n",
              "          element.innerHTML = '';\n",
              "          dataTable['output_type'] = 'display_data';\n",
              "          await google.colab.output.renderOutput(dataTable, element);\n",
              "          const docLink = document.createElement('div');\n",
              "          docLink.innerHTML = docLinkHtml;\n",
              "          element.appendChild(docLink);\n",
              "        }\n",
              "      </script>\n",
              "    </div>\n",
              "  </div>\n",
              "  "
            ]
          },
          "metadata": {},
          "execution_count": 6
        }
      ]
    },
    {
      "cell_type": "code",
      "source": [
        "#filling null values, 'Not Applicable' and 'Unspecified' with 'Not Specified'\n",
        "data.fillna('Not Specified', inplace=True)\n",
        "data = data.replace(['Not Applicable','Unspecified'],'Not Specified')"
      ],
      "metadata": {
        "id": "C1xU8K32Kr6j"
      },
      "execution_count": null,
      "outputs": []
    },
    {
      "cell_type": "code",
      "source": [],
      "metadata": {
        "id": "ValHH83hKsgd"
      },
      "execution_count": null,
      "outputs": []
    },
    {
      "cell_type": "code",
      "metadata": {
        "id": "WYSGregFs-iI",
        "colab": {
          "base_uri": "https://localhost:8080/"
        },
        "outputId": "024d8f79-8f7c-4f75-b3e6-01a6be500433"
      },
      "source": [
        "print(data)"
      ],
      "execution_count": null,
      "outputs": [
        {
          "output_type": "stream",
          "name": "stdout",
          "text": [
            "       job_id                                              title  \\\n",
            "0           1                                   Marketing Intern   \n",
            "1           2          Customer Service - Cloud Video Production   \n",
            "2           3            Commissioning Machinery Assistant (CMA)   \n",
            "3           4                  Account Executive - Washington DC   \n",
            "4           5                                Bill Review Manager   \n",
            "...       ...                                                ...   \n",
            "17875   17876                   Account Director - Distribution    \n",
            "17876   17877                                 Payroll Accountant   \n",
            "17877   17878  Project Cost Control Staff Engineer - Cost Con...   \n",
            "17878   17879                                   Graphic Designer   \n",
            "17879   17880                         Web Application Developers   \n",
            "\n",
            "                   location     department   salary_range  \\\n",
            "0          US, NY, New York      Marketing  Not Specified   \n",
            "1            NZ, , Auckland        Success  Not Specified   \n",
            "2             US, IA, Wever  Not Specified  Not Specified   \n",
            "3        US, DC, Washington          Sales  Not Specified   \n",
            "4        US, FL, Fort Worth  Not Specified  Not Specified   \n",
            "...                     ...            ...            ...   \n",
            "17875       CA, ON, Toronto          Sales  Not Specified   \n",
            "17876  US, PA, Philadelphia     Accounting  Not Specified   \n",
            "17877       US, TX, Houston  Not Specified  Not Specified   \n",
            "17878         NG, LA, Lagos  Not Specified  Not Specified   \n",
            "17879     NZ, N, Wellington    Engineering  Not Specified   \n",
            "\n",
            "                                         company_profile  \\\n",
            "0      We're Food52, and we've created a groundbreaki...   \n",
            "1      90 Seconds, the worlds Cloud Video Production ...   \n",
            "2      Valor Services provides Workforce Solutions th...   \n",
            "3      Our passion for improving quality of life thro...   \n",
            "4      SpotSource Solutions LLC is a Global Human Cap...   \n",
            "...                                                  ...   \n",
            "17875  Vend is looking for some awesome new talent to...   \n",
            "17876  WebLinc is the e-commerce platform and service...   \n",
            "17877  We Provide Full Time Permanent Positions for m...   \n",
            "17878                                      Not Specified   \n",
            "17879  Vend is looking for some awesome new talent to...   \n",
            "\n",
            "                                             description  \\\n",
            "0      Food52, a fast-growing, James Beard Award-winn...   \n",
            "1      Organised - Focused - Vibrant - Awesome!Do you...   \n",
            "2      Our client, located in Houston, is actively se...   \n",
            "3      THE COMPANY: ESRI – Environmental Systems Rese...   \n",
            "4      JOB TITLE: Itemization Review ManagerLOCATION:...   \n",
            "...                                                  ...   \n",
            "17875  Just in case this is the first time you’ve vis...   \n",
            "17876  The Payroll Accountant will focus primarily on...   \n",
            "17877  Experienced Project Cost Control Staff Enginee...   \n",
            "17878  Nemsia Studios is looking for an experienced v...   \n",
            "17879  Who are we?Vend is an award winning web based ...   \n",
            "\n",
            "                                            requirements  \\\n",
            "0      Experience with content management systems a m...   \n",
            "1      What we expect from you:Your key responsibilit...   \n",
            "2      Implement pre-commissioning and commissioning ...   \n",
            "3      EDUCATION: Bachelor’s or Master’s in GIS, busi...   \n",
            "4      QUALIFICATIONS:RN license in the State of Texa...   \n",
            "...                                                  ...   \n",
            "17875  To ace this role you:Will eat comprehensive St...   \n",
            "17876  - B.A. or B.S. in Accounting- Desire to have f...   \n",
            "17877  At least 12 years professional experience.Abil...   \n",
            "17878  1. Must be fluent in the latest versions of Co...   \n",
            "17879  We want to hear from you if:You have an in-dep...   \n",
            "\n",
            "                                                benefits  telecommuting  \\\n",
            "0                                          Not Specified              0   \n",
            "1      What you will get from usThrough being part of...              0   \n",
            "2                                          Not Specified              0   \n",
            "3      Our culture is anything but corporate—we have ...              0   \n",
            "4                                  Full Benefits Offered              0   \n",
            "...                                                  ...            ...   \n",
            "17875  What can you expect from us?We have an open cu...              0   \n",
            "17876  Health &amp; WellnessMedical planPrescription ...              0   \n",
            "17877                                      Not Specified              0   \n",
            "17878  Competitive salary (compensation will be based...              0   \n",
            "17879                                      Not Specified              0   \n",
            "\n",
            "       has_company_logo  has_questions employment_type required_experience  \\\n",
            "0                     1              0           Other          Internship   \n",
            "1                     1              0       Full-time       Not Specified   \n",
            "2                     1              0   Not Specified       Not Specified   \n",
            "3                     1              0       Full-time    Mid-Senior level   \n",
            "4                     1              1       Full-time    Mid-Senior level   \n",
            "...                 ...            ...             ...                 ...   \n",
            "17875                 1              1       Full-time    Mid-Senior level   \n",
            "17876                 1              1       Full-time    Mid-Senior level   \n",
            "17877                 0              0       Full-time       Not Specified   \n",
            "17878                 0              1        Contract       Not Specified   \n",
            "17879                 1              1       Full-time    Mid-Senior level   \n",
            "\n",
            "      required_education                   industry              function  \\\n",
            "0          Not Specified              Not Specified             Marketing   \n",
            "1          Not Specified  Marketing and Advertising      Customer Service   \n",
            "2          Not Specified              Not Specified         Not Specified   \n",
            "3      Bachelor's Degree          Computer Software                 Sales   \n",
            "4      Bachelor's Degree     Hospital & Health Care  Health Care Provider   \n",
            "...                  ...                        ...                   ...   \n",
            "17875      Not Specified          Computer Software                 Sales   \n",
            "17876  Bachelor's Degree                   Internet   Accounting/Auditing   \n",
            "17877      Not Specified              Not Specified         Not Specified   \n",
            "17878       Professional             Graphic Design                Design   \n",
            "17879      Not Specified          Computer Software           Engineering   \n",
            "\n",
            "       fraudulent  \n",
            "0               0  \n",
            "1               0  \n",
            "2               0  \n",
            "3               0  \n",
            "4               0  \n",
            "...           ...  \n",
            "17875           0  \n",
            "17876           0  \n",
            "17877           0  \n",
            "17878           0  \n",
            "17879           0  \n",
            "\n",
            "[17880 rows x 18 columns]\n"
          ]
        }
      ]
    },
    {
      "cell_type": "code",
      "metadata": {
        "id": "intk-asgs-iM"
      },
      "source": [
        "data.columns = ['job_id', 'title', 'location', 'department', 'salary_range',\n",
        "       'company_profile', 'description', 'requirements', 'benefits', 'telecommuting',\n",
        "       'has_company_logo', 'has_questions', 'employment_type', 'required_experience',\n",
        "       'required_education', 'industry', 'function', 'fraudulent']"
      ],
      "execution_count": null,
      "outputs": []
    },
    {
      "cell_type": "code",
      "metadata": {
        "id": "qtEm20Ozs-iQ",
        "colab": {
          "base_uri": "https://localhost:8080/",
          "height": 600
        },
        "outputId": "1e85f247-4396-4bd4-8983-a4821cc8ca62"
      },
      "source": [
        "data.head()"
      ],
      "execution_count": null,
      "outputs": [
        {
          "output_type": "execute_result",
          "data": {
            "text/plain": [
              "   job_id                                      title            location  \\\n",
              "0       1                           Marketing Intern    US, NY, New York   \n",
              "1       2  Customer Service - Cloud Video Production      NZ, , Auckland   \n",
              "2       3    Commissioning Machinery Assistant (CMA)       US, IA, Wever   \n",
              "3       4          Account Executive - Washington DC  US, DC, Washington   \n",
              "4       5                        Bill Review Manager  US, FL, Fort Worth   \n",
              "\n",
              "      department   salary_range  \\\n",
              "0      Marketing  Not Specified   \n",
              "1        Success  Not Specified   \n",
              "2  Not Specified  Not Specified   \n",
              "3          Sales  Not Specified   \n",
              "4  Not Specified  Not Specified   \n",
              "\n",
              "                                     company_profile  \\\n",
              "0  We're Food52, and we've created a groundbreaki...   \n",
              "1  90 Seconds, the worlds Cloud Video Production ...   \n",
              "2  Valor Services provides Workforce Solutions th...   \n",
              "3  Our passion for improving quality of life thro...   \n",
              "4  SpotSource Solutions LLC is a Global Human Cap...   \n",
              "\n",
              "                                         description  \\\n",
              "0  Food52, a fast-growing, James Beard Award-winn...   \n",
              "1  Organised - Focused - Vibrant - Awesome!Do you...   \n",
              "2  Our client, located in Houston, is actively se...   \n",
              "3  THE COMPANY: ESRI – Environmental Systems Rese...   \n",
              "4  JOB TITLE: Itemization Review ManagerLOCATION:...   \n",
              "\n",
              "                                        requirements  \\\n",
              "0  Experience with content management systems a m...   \n",
              "1  What we expect from you:Your key responsibilit...   \n",
              "2  Implement pre-commissioning and commissioning ...   \n",
              "3  EDUCATION: Bachelor’s or Master’s in GIS, busi...   \n",
              "4  QUALIFICATIONS:RN license in the State of Texa...   \n",
              "\n",
              "                                            benefits  telecommuting  \\\n",
              "0                                      Not Specified              0   \n",
              "1  What you will get from usThrough being part of...              0   \n",
              "2                                      Not Specified              0   \n",
              "3  Our culture is anything but corporate—we have ...              0   \n",
              "4                              Full Benefits Offered              0   \n",
              "\n",
              "   has_company_logo  has_questions employment_type required_experience  \\\n",
              "0                 1              0           Other          Internship   \n",
              "1                 1              0       Full-time       Not Specified   \n",
              "2                 1              0   Not Specified       Not Specified   \n",
              "3                 1              0       Full-time    Mid-Senior level   \n",
              "4                 1              1       Full-time    Mid-Senior level   \n",
              "\n",
              "  required_education                   industry              function  \\\n",
              "0      Not Specified              Not Specified             Marketing   \n",
              "1      Not Specified  Marketing and Advertising      Customer Service   \n",
              "2      Not Specified              Not Specified         Not Specified   \n",
              "3  Bachelor's Degree          Computer Software                 Sales   \n",
              "4  Bachelor's Degree     Hospital & Health Care  Health Care Provider   \n",
              "\n",
              "   fraudulent  \n",
              "0           0  \n",
              "1           0  \n",
              "2           0  \n",
              "3           0  \n",
              "4           0  "
            ],
            "text/html": [
              "\n",
              "  <div id=\"df-424946a0-a2a2-4670-933d-b96b5822331b\">\n",
              "    <div class=\"colab-df-container\">\n",
              "      <div>\n",
              "<style scoped>\n",
              "    .dataframe tbody tr th:only-of-type {\n",
              "        vertical-align: middle;\n",
              "    }\n",
              "\n",
              "    .dataframe tbody tr th {\n",
              "        vertical-align: top;\n",
              "    }\n",
              "\n",
              "    .dataframe thead th {\n",
              "        text-align: right;\n",
              "    }\n",
              "</style>\n",
              "<table border=\"1\" class=\"dataframe\">\n",
              "  <thead>\n",
              "    <tr style=\"text-align: right;\">\n",
              "      <th></th>\n",
              "      <th>job_id</th>\n",
              "      <th>title</th>\n",
              "      <th>location</th>\n",
              "      <th>department</th>\n",
              "      <th>salary_range</th>\n",
              "      <th>company_profile</th>\n",
              "      <th>description</th>\n",
              "      <th>requirements</th>\n",
              "      <th>benefits</th>\n",
              "      <th>telecommuting</th>\n",
              "      <th>has_company_logo</th>\n",
              "      <th>has_questions</th>\n",
              "      <th>employment_type</th>\n",
              "      <th>required_experience</th>\n",
              "      <th>required_education</th>\n",
              "      <th>industry</th>\n",
              "      <th>function</th>\n",
              "      <th>fraudulent</th>\n",
              "    </tr>\n",
              "  </thead>\n",
              "  <tbody>\n",
              "    <tr>\n",
              "      <th>0</th>\n",
              "      <td>1</td>\n",
              "      <td>Marketing Intern</td>\n",
              "      <td>US, NY, New York</td>\n",
              "      <td>Marketing</td>\n",
              "      <td>Not Specified</td>\n",
              "      <td>We're Food52, and we've created a groundbreaki...</td>\n",
              "      <td>Food52, a fast-growing, James Beard Award-winn...</td>\n",
              "      <td>Experience with content management systems a m...</td>\n",
              "      <td>Not Specified</td>\n",
              "      <td>0</td>\n",
              "      <td>1</td>\n",
              "      <td>0</td>\n",
              "      <td>Other</td>\n",
              "      <td>Internship</td>\n",
              "      <td>Not Specified</td>\n",
              "      <td>Not Specified</td>\n",
              "      <td>Marketing</td>\n",
              "      <td>0</td>\n",
              "    </tr>\n",
              "    <tr>\n",
              "      <th>1</th>\n",
              "      <td>2</td>\n",
              "      <td>Customer Service - Cloud Video Production</td>\n",
              "      <td>NZ, , Auckland</td>\n",
              "      <td>Success</td>\n",
              "      <td>Not Specified</td>\n",
              "      <td>90 Seconds, the worlds Cloud Video Production ...</td>\n",
              "      <td>Organised - Focused - Vibrant - Awesome!Do you...</td>\n",
              "      <td>What we expect from you:Your key responsibilit...</td>\n",
              "      <td>What you will get from usThrough being part of...</td>\n",
              "      <td>0</td>\n",
              "      <td>1</td>\n",
              "      <td>0</td>\n",
              "      <td>Full-time</td>\n",
              "      <td>Not Specified</td>\n",
              "      <td>Not Specified</td>\n",
              "      <td>Marketing and Advertising</td>\n",
              "      <td>Customer Service</td>\n",
              "      <td>0</td>\n",
              "    </tr>\n",
              "    <tr>\n",
              "      <th>2</th>\n",
              "      <td>3</td>\n",
              "      <td>Commissioning Machinery Assistant (CMA)</td>\n",
              "      <td>US, IA, Wever</td>\n",
              "      <td>Not Specified</td>\n",
              "      <td>Not Specified</td>\n",
              "      <td>Valor Services provides Workforce Solutions th...</td>\n",
              "      <td>Our client, located in Houston, is actively se...</td>\n",
              "      <td>Implement pre-commissioning and commissioning ...</td>\n",
              "      <td>Not Specified</td>\n",
              "      <td>0</td>\n",
              "      <td>1</td>\n",
              "      <td>0</td>\n",
              "      <td>Not Specified</td>\n",
              "      <td>Not Specified</td>\n",
              "      <td>Not Specified</td>\n",
              "      <td>Not Specified</td>\n",
              "      <td>Not Specified</td>\n",
              "      <td>0</td>\n",
              "    </tr>\n",
              "    <tr>\n",
              "      <th>3</th>\n",
              "      <td>4</td>\n",
              "      <td>Account Executive - Washington DC</td>\n",
              "      <td>US, DC, Washington</td>\n",
              "      <td>Sales</td>\n",
              "      <td>Not Specified</td>\n",
              "      <td>Our passion for improving quality of life thro...</td>\n",
              "      <td>THE COMPANY: ESRI – Environmental Systems Rese...</td>\n",
              "      <td>EDUCATION: Bachelor’s or Master’s in GIS, busi...</td>\n",
              "      <td>Our culture is anything but corporate—we have ...</td>\n",
              "      <td>0</td>\n",
              "      <td>1</td>\n",
              "      <td>0</td>\n",
              "      <td>Full-time</td>\n",
              "      <td>Mid-Senior level</td>\n",
              "      <td>Bachelor's Degree</td>\n",
              "      <td>Computer Software</td>\n",
              "      <td>Sales</td>\n",
              "      <td>0</td>\n",
              "    </tr>\n",
              "    <tr>\n",
              "      <th>4</th>\n",
              "      <td>5</td>\n",
              "      <td>Bill Review Manager</td>\n",
              "      <td>US, FL, Fort Worth</td>\n",
              "      <td>Not Specified</td>\n",
              "      <td>Not Specified</td>\n",
              "      <td>SpotSource Solutions LLC is a Global Human Cap...</td>\n",
              "      <td>JOB TITLE: Itemization Review ManagerLOCATION:...</td>\n",
              "      <td>QUALIFICATIONS:RN license in the State of Texa...</td>\n",
              "      <td>Full Benefits Offered</td>\n",
              "      <td>0</td>\n",
              "      <td>1</td>\n",
              "      <td>1</td>\n",
              "      <td>Full-time</td>\n",
              "      <td>Mid-Senior level</td>\n",
              "      <td>Bachelor's Degree</td>\n",
              "      <td>Hospital &amp; Health Care</td>\n",
              "      <td>Health Care Provider</td>\n",
              "      <td>0</td>\n",
              "    </tr>\n",
              "  </tbody>\n",
              "</table>\n",
              "</div>\n",
              "      <button class=\"colab-df-convert\" onclick=\"convertToInteractive('df-424946a0-a2a2-4670-933d-b96b5822331b')\"\n",
              "              title=\"Convert this dataframe to an interactive table.\"\n",
              "              style=\"display:none;\">\n",
              "        \n",
              "  <svg xmlns=\"http://www.w3.org/2000/svg\" height=\"24px\"viewBox=\"0 0 24 24\"\n",
              "       width=\"24px\">\n",
              "    <path d=\"M0 0h24v24H0V0z\" fill=\"none\"/>\n",
              "    <path d=\"M18.56 5.44l.94 2.06.94-2.06 2.06-.94-2.06-.94-.94-2.06-.94 2.06-2.06.94zm-11 1L8.5 8.5l.94-2.06 2.06-.94-2.06-.94L8.5 2.5l-.94 2.06-2.06.94zm10 10l.94 2.06.94-2.06 2.06-.94-2.06-.94-.94-2.06-.94 2.06-2.06.94z\"/><path d=\"M17.41 7.96l-1.37-1.37c-.4-.4-.92-.59-1.43-.59-.52 0-1.04.2-1.43.59L10.3 9.45l-7.72 7.72c-.78.78-.78 2.05 0 2.83L4 21.41c.39.39.9.59 1.41.59.51 0 1.02-.2 1.41-.59l7.78-7.78 2.81-2.81c.8-.78.8-2.07 0-2.86zM5.41 20L4 18.59l7.72-7.72 1.47 1.35L5.41 20z\"/>\n",
              "  </svg>\n",
              "      </button>\n",
              "      \n",
              "  <style>\n",
              "    .colab-df-container {\n",
              "      display:flex;\n",
              "      flex-wrap:wrap;\n",
              "      gap: 12px;\n",
              "    }\n",
              "\n",
              "    .colab-df-convert {\n",
              "      background-color: #E8F0FE;\n",
              "      border: none;\n",
              "      border-radius: 50%;\n",
              "      cursor: pointer;\n",
              "      display: none;\n",
              "      fill: #1967D2;\n",
              "      height: 32px;\n",
              "      padding: 0 0 0 0;\n",
              "      width: 32px;\n",
              "    }\n",
              "\n",
              "    .colab-df-convert:hover {\n",
              "      background-color: #E2EBFA;\n",
              "      box-shadow: 0px 1px 2px rgba(60, 64, 67, 0.3), 0px 1px 3px 1px rgba(60, 64, 67, 0.15);\n",
              "      fill: #174EA6;\n",
              "    }\n",
              "\n",
              "    [theme=dark] .colab-df-convert {\n",
              "      background-color: #3B4455;\n",
              "      fill: #D2E3FC;\n",
              "    }\n",
              "\n",
              "    [theme=dark] .colab-df-convert:hover {\n",
              "      background-color: #434B5C;\n",
              "      box-shadow: 0px 1px 3px 1px rgba(0, 0, 0, 0.15);\n",
              "      filter: drop-shadow(0px 1px 2px rgba(0, 0, 0, 0.3));\n",
              "      fill: #FFFFFF;\n",
              "    }\n",
              "  </style>\n",
              "\n",
              "      <script>\n",
              "        const buttonEl =\n",
              "          document.querySelector('#df-424946a0-a2a2-4670-933d-b96b5822331b button.colab-df-convert');\n",
              "        buttonEl.style.display =\n",
              "          google.colab.kernel.accessAllowed ? 'block' : 'none';\n",
              "\n",
              "        async function convertToInteractive(key) {\n",
              "          const element = document.querySelector('#df-424946a0-a2a2-4670-933d-b96b5822331b');\n",
              "          const dataTable =\n",
              "            await google.colab.kernel.invokeFunction('convertToInteractive',\n",
              "                                                     [key], {});\n",
              "          if (!dataTable) return;\n",
              "\n",
              "          const docLinkHtml = 'Like what you see? Visit the ' +\n",
              "            '<a target=\"_blank\" href=https://colab.research.google.com/notebooks/data_table.ipynb>data table notebook</a>'\n",
              "            + ' to learn more about interactive tables.';\n",
              "          element.innerHTML = '';\n",
              "          dataTable['output_type'] = 'display_data';\n",
              "          await google.colab.output.renderOutput(dataTable, element);\n",
              "          const docLink = document.createElement('div');\n",
              "          docLink.innerHTML = docLinkHtml;\n",
              "          element.appendChild(docLink);\n",
              "        }\n",
              "      </script>\n",
              "    </div>\n",
              "  </div>\n",
              "  "
            ]
          },
          "metadata": {},
          "execution_count": 25
        }
      ]
    },
    {
      "cell_type": "code",
      "metadata": {
        "id": "ijwiJEUOs-iU",
        "colab": {
          "base_uri": "https://localhost:8080/",
          "height": 600
        },
        "outputId": "4e2ef8c6-099b-433f-9503-20030eabd99e"
      },
      "source": [
        "data.tail()"
      ],
      "execution_count": null,
      "outputs": [
        {
          "output_type": "execute_result",
          "data": {
            "text/plain": [
              "       job_id                                              title  \\\n",
              "17875   17876                   Account Director - Distribution    \n",
              "17876   17877                                 Payroll Accountant   \n",
              "17877   17878  Project Cost Control Staff Engineer - Cost Con...   \n",
              "17878   17879                                   Graphic Designer   \n",
              "17879   17880                         Web Application Developers   \n",
              "\n",
              "                   location     department   salary_range  \\\n",
              "17875       CA, ON, Toronto          Sales  Not Specified   \n",
              "17876  US, PA, Philadelphia     Accounting  Not Specified   \n",
              "17877       US, TX, Houston  Not Specified  Not Specified   \n",
              "17878         NG, LA, Lagos  Not Specified  Not Specified   \n",
              "17879     NZ, N, Wellington    Engineering  Not Specified   \n",
              "\n",
              "                                         company_profile  \\\n",
              "17875  Vend is looking for some awesome new talent to...   \n",
              "17876  WebLinc is the e-commerce platform and service...   \n",
              "17877  We Provide Full Time Permanent Positions for m...   \n",
              "17878                                      Not Specified   \n",
              "17879  Vend is looking for some awesome new talent to...   \n",
              "\n",
              "                                             description  \\\n",
              "17875  Just in case this is the first time you’ve vis...   \n",
              "17876  The Payroll Accountant will focus primarily on...   \n",
              "17877  Experienced Project Cost Control Staff Enginee...   \n",
              "17878  Nemsia Studios is looking for an experienced v...   \n",
              "17879  Who are we?Vend is an award winning web based ...   \n",
              "\n",
              "                                            requirements  \\\n",
              "17875  To ace this role you:Will eat comprehensive St...   \n",
              "17876  - B.A. or B.S. in Accounting- Desire to have f...   \n",
              "17877  At least 12 years professional experience.Abil...   \n",
              "17878  1. Must be fluent in the latest versions of Co...   \n",
              "17879  We want to hear from you if:You have an in-dep...   \n",
              "\n",
              "                                                benefits  telecommuting  \\\n",
              "17875  What can you expect from us?We have an open cu...              0   \n",
              "17876  Health &amp; WellnessMedical planPrescription ...              0   \n",
              "17877                                      Not Specified              0   \n",
              "17878  Competitive salary (compensation will be based...              0   \n",
              "17879                                      Not Specified              0   \n",
              "\n",
              "       has_company_logo  has_questions employment_type required_experience  \\\n",
              "17875                 1              1       Full-time    Mid-Senior level   \n",
              "17876                 1              1       Full-time    Mid-Senior level   \n",
              "17877                 0              0       Full-time       Not Specified   \n",
              "17878                 0              1        Contract       Not Specified   \n",
              "17879                 1              1       Full-time    Mid-Senior level   \n",
              "\n",
              "      required_education           industry             function  fraudulent  \n",
              "17875      Not Specified  Computer Software                Sales           0  \n",
              "17876  Bachelor's Degree           Internet  Accounting/Auditing           0  \n",
              "17877      Not Specified      Not Specified        Not Specified           0  \n",
              "17878       Professional     Graphic Design               Design           0  \n",
              "17879      Not Specified  Computer Software          Engineering           0  "
            ],
            "text/html": [
              "\n",
              "  <div id=\"df-5dcabb68-eda5-4593-9467-9d32ca5f242b\">\n",
              "    <div class=\"colab-df-container\">\n",
              "      <div>\n",
              "<style scoped>\n",
              "    .dataframe tbody tr th:only-of-type {\n",
              "        vertical-align: middle;\n",
              "    }\n",
              "\n",
              "    .dataframe tbody tr th {\n",
              "        vertical-align: top;\n",
              "    }\n",
              "\n",
              "    .dataframe thead th {\n",
              "        text-align: right;\n",
              "    }\n",
              "</style>\n",
              "<table border=\"1\" class=\"dataframe\">\n",
              "  <thead>\n",
              "    <tr style=\"text-align: right;\">\n",
              "      <th></th>\n",
              "      <th>job_id</th>\n",
              "      <th>title</th>\n",
              "      <th>location</th>\n",
              "      <th>department</th>\n",
              "      <th>salary_range</th>\n",
              "      <th>company_profile</th>\n",
              "      <th>description</th>\n",
              "      <th>requirements</th>\n",
              "      <th>benefits</th>\n",
              "      <th>telecommuting</th>\n",
              "      <th>has_company_logo</th>\n",
              "      <th>has_questions</th>\n",
              "      <th>employment_type</th>\n",
              "      <th>required_experience</th>\n",
              "      <th>required_education</th>\n",
              "      <th>industry</th>\n",
              "      <th>function</th>\n",
              "      <th>fraudulent</th>\n",
              "    </tr>\n",
              "  </thead>\n",
              "  <tbody>\n",
              "    <tr>\n",
              "      <th>17875</th>\n",
              "      <td>17876</td>\n",
              "      <td>Account Director - Distribution</td>\n",
              "      <td>CA, ON, Toronto</td>\n",
              "      <td>Sales</td>\n",
              "      <td>Not Specified</td>\n",
              "      <td>Vend is looking for some awesome new talent to...</td>\n",
              "      <td>Just in case this is the first time you’ve vis...</td>\n",
              "      <td>To ace this role you:Will eat comprehensive St...</td>\n",
              "      <td>What can you expect from us?We have an open cu...</td>\n",
              "      <td>0</td>\n",
              "      <td>1</td>\n",
              "      <td>1</td>\n",
              "      <td>Full-time</td>\n",
              "      <td>Mid-Senior level</td>\n",
              "      <td>Not Specified</td>\n",
              "      <td>Computer Software</td>\n",
              "      <td>Sales</td>\n",
              "      <td>0</td>\n",
              "    </tr>\n",
              "    <tr>\n",
              "      <th>17876</th>\n",
              "      <td>17877</td>\n",
              "      <td>Payroll Accountant</td>\n",
              "      <td>US, PA, Philadelphia</td>\n",
              "      <td>Accounting</td>\n",
              "      <td>Not Specified</td>\n",
              "      <td>WebLinc is the e-commerce platform and service...</td>\n",
              "      <td>The Payroll Accountant will focus primarily on...</td>\n",
              "      <td>- B.A. or B.S. in Accounting- Desire to have f...</td>\n",
              "      <td>Health &amp;amp; WellnessMedical planPrescription ...</td>\n",
              "      <td>0</td>\n",
              "      <td>1</td>\n",
              "      <td>1</td>\n",
              "      <td>Full-time</td>\n",
              "      <td>Mid-Senior level</td>\n",
              "      <td>Bachelor's Degree</td>\n",
              "      <td>Internet</td>\n",
              "      <td>Accounting/Auditing</td>\n",
              "      <td>0</td>\n",
              "    </tr>\n",
              "    <tr>\n",
              "      <th>17877</th>\n",
              "      <td>17878</td>\n",
              "      <td>Project Cost Control Staff Engineer - Cost Con...</td>\n",
              "      <td>US, TX, Houston</td>\n",
              "      <td>Not Specified</td>\n",
              "      <td>Not Specified</td>\n",
              "      <td>We Provide Full Time Permanent Positions for m...</td>\n",
              "      <td>Experienced Project Cost Control Staff Enginee...</td>\n",
              "      <td>At least 12 years professional experience.Abil...</td>\n",
              "      <td>Not Specified</td>\n",
              "      <td>0</td>\n",
              "      <td>0</td>\n",
              "      <td>0</td>\n",
              "      <td>Full-time</td>\n",
              "      <td>Not Specified</td>\n",
              "      <td>Not Specified</td>\n",
              "      <td>Not Specified</td>\n",
              "      <td>Not Specified</td>\n",
              "      <td>0</td>\n",
              "    </tr>\n",
              "    <tr>\n",
              "      <th>17878</th>\n",
              "      <td>17879</td>\n",
              "      <td>Graphic Designer</td>\n",
              "      <td>NG, LA, Lagos</td>\n",
              "      <td>Not Specified</td>\n",
              "      <td>Not Specified</td>\n",
              "      <td>Not Specified</td>\n",
              "      <td>Nemsia Studios is looking for an experienced v...</td>\n",
              "      <td>1. Must be fluent in the latest versions of Co...</td>\n",
              "      <td>Competitive salary (compensation will be based...</td>\n",
              "      <td>0</td>\n",
              "      <td>0</td>\n",
              "      <td>1</td>\n",
              "      <td>Contract</td>\n",
              "      <td>Not Specified</td>\n",
              "      <td>Professional</td>\n",
              "      <td>Graphic Design</td>\n",
              "      <td>Design</td>\n",
              "      <td>0</td>\n",
              "    </tr>\n",
              "    <tr>\n",
              "      <th>17879</th>\n",
              "      <td>17880</td>\n",
              "      <td>Web Application Developers</td>\n",
              "      <td>NZ, N, Wellington</td>\n",
              "      <td>Engineering</td>\n",
              "      <td>Not Specified</td>\n",
              "      <td>Vend is looking for some awesome new talent to...</td>\n",
              "      <td>Who are we?Vend is an award winning web based ...</td>\n",
              "      <td>We want to hear from you if:You have an in-dep...</td>\n",
              "      <td>Not Specified</td>\n",
              "      <td>0</td>\n",
              "      <td>1</td>\n",
              "      <td>1</td>\n",
              "      <td>Full-time</td>\n",
              "      <td>Mid-Senior level</td>\n",
              "      <td>Not Specified</td>\n",
              "      <td>Computer Software</td>\n",
              "      <td>Engineering</td>\n",
              "      <td>0</td>\n",
              "    </tr>\n",
              "  </tbody>\n",
              "</table>\n",
              "</div>\n",
              "      <button class=\"colab-df-convert\" onclick=\"convertToInteractive('df-5dcabb68-eda5-4593-9467-9d32ca5f242b')\"\n",
              "              title=\"Convert this dataframe to an interactive table.\"\n",
              "              style=\"display:none;\">\n",
              "        \n",
              "  <svg xmlns=\"http://www.w3.org/2000/svg\" height=\"24px\"viewBox=\"0 0 24 24\"\n",
              "       width=\"24px\">\n",
              "    <path d=\"M0 0h24v24H0V0z\" fill=\"none\"/>\n",
              "    <path d=\"M18.56 5.44l.94 2.06.94-2.06 2.06-.94-2.06-.94-.94-2.06-.94 2.06-2.06.94zm-11 1L8.5 8.5l.94-2.06 2.06-.94-2.06-.94L8.5 2.5l-.94 2.06-2.06.94zm10 10l.94 2.06.94-2.06 2.06-.94-2.06-.94-.94-2.06-.94 2.06-2.06.94z\"/><path d=\"M17.41 7.96l-1.37-1.37c-.4-.4-.92-.59-1.43-.59-.52 0-1.04.2-1.43.59L10.3 9.45l-7.72 7.72c-.78.78-.78 2.05 0 2.83L4 21.41c.39.39.9.59 1.41.59.51 0 1.02-.2 1.41-.59l7.78-7.78 2.81-2.81c.8-.78.8-2.07 0-2.86zM5.41 20L4 18.59l7.72-7.72 1.47 1.35L5.41 20z\"/>\n",
              "  </svg>\n",
              "      </button>\n",
              "      \n",
              "  <style>\n",
              "    .colab-df-container {\n",
              "      display:flex;\n",
              "      flex-wrap:wrap;\n",
              "      gap: 12px;\n",
              "    }\n",
              "\n",
              "    .colab-df-convert {\n",
              "      background-color: #E8F0FE;\n",
              "      border: none;\n",
              "      border-radius: 50%;\n",
              "      cursor: pointer;\n",
              "      display: none;\n",
              "      fill: #1967D2;\n",
              "      height: 32px;\n",
              "      padding: 0 0 0 0;\n",
              "      width: 32px;\n",
              "    }\n",
              "\n",
              "    .colab-df-convert:hover {\n",
              "      background-color: #E2EBFA;\n",
              "      box-shadow: 0px 1px 2px rgba(60, 64, 67, 0.3), 0px 1px 3px 1px rgba(60, 64, 67, 0.15);\n",
              "      fill: #174EA6;\n",
              "    }\n",
              "\n",
              "    [theme=dark] .colab-df-convert {\n",
              "      background-color: #3B4455;\n",
              "      fill: #D2E3FC;\n",
              "    }\n",
              "\n",
              "    [theme=dark] .colab-df-convert:hover {\n",
              "      background-color: #434B5C;\n",
              "      box-shadow: 0px 1px 3px 1px rgba(0, 0, 0, 0.15);\n",
              "      filter: drop-shadow(0px 1px 2px rgba(0, 0, 0, 0.3));\n",
              "      fill: #FFFFFF;\n",
              "    }\n",
              "  </style>\n",
              "\n",
              "      <script>\n",
              "        const buttonEl =\n",
              "          document.querySelector('#df-5dcabb68-eda5-4593-9467-9d32ca5f242b button.colab-df-convert');\n",
              "        buttonEl.style.display =\n",
              "          google.colab.kernel.accessAllowed ? 'block' : 'none';\n",
              "\n",
              "        async function convertToInteractive(key) {\n",
              "          const element = document.querySelector('#df-5dcabb68-eda5-4593-9467-9d32ca5f242b');\n",
              "          const dataTable =\n",
              "            await google.colab.kernel.invokeFunction('convertToInteractive',\n",
              "                                                     [key], {});\n",
              "          if (!dataTable) return;\n",
              "\n",
              "          const docLinkHtml = 'Like what you see? Visit the ' +\n",
              "            '<a target=\"_blank\" href=https://colab.research.google.com/notebooks/data_table.ipynb>data table notebook</a>'\n",
              "            + ' to learn more about interactive tables.';\n",
              "          element.innerHTML = '';\n",
              "          dataTable['output_type'] = 'display_data';\n",
              "          await google.colab.output.renderOutput(dataTable, element);\n",
              "          const docLink = document.createElement('div');\n",
              "          docLink.innerHTML = docLinkHtml;\n",
              "          element.appendChild(docLink);\n",
              "        }\n",
              "      </script>\n",
              "    </div>\n",
              "  </div>\n",
              "  "
            ]
          },
          "metadata": {},
          "execution_count": 26
        }
      ]
    },
    {
      "cell_type": "markdown",
      "metadata": {
        "id": "50HpcRDHs-ia"
      },
      "source": [
        " - `age` – The age of the individual\n",
        " - `workclass` – The type of employer the individual has. Whether they are `government`, `military`, `private`, and so on.\n",
        " - `fnlwgt` – The # of people the census takers believe that observation represents (final weight)\n",
        " - `education` – The highest level of education achieved for that individual\n",
        " - `education_num` – Highest level of education in numerical form\n",
        " - `marital-status` – Marital status of the individual\n",
        " - `occupation` – The occupation of the individual\n",
        " - `relationship` – Contains family relationship values like husband, father, and so on, but only contains one per observation. \n",
        " - `race` – Descriptions of the individuals race. `Black`, `White`, and so on\n",
        " - `sex` – Biological Sex\n",
        " - `capital_gain` – Capital gains recorded (income from investment sources, apart from wages/salary)\n",
        " - `capital_loss` – Capital losses recorded (losses from investment sources, apart from wages/salary)\n",
        " - `hours_per_week` – Hours worked per week\n",
        " - `native-country` – Country of origin for person\n",
        " - `class` – Whether or not the person makes more than \\$50,000 per annum income.\n",
        " \n",
        "Extraction was done by Barry Becker from the 1994 Census database. A set of reasonably clean records was extracted using the following conditions: ((AAGE>16) && (AGI>100) && (AFNLWGT>1)&& (HRSWK>0)) \n",
        "\n",
        "Prediction task is to determine whether a person makes over 50K a year. \n"
      ]
    },
    {
      "cell_type": "code",
      "metadata": {
        "id": "4GWKYIPVs-ib",
        "colab": {
          "base_uri": "https://localhost:8080/"
        },
        "outputId": "434b9925-d1d0-4ee4-c725-bd9ede6bdfde"
      },
      "source": [
        "print(data.shape)\n",
        "print(data.columns)"
      ],
      "execution_count": null,
      "outputs": [
        {
          "output_type": "stream",
          "name": "stdout",
          "text": [
            "(17880, 18)\n",
            "Index(['job_id', 'title', 'location', 'department', 'salary_range',\n",
            "       'company_profile', 'description', 'requirements', 'benefits',\n",
            "       'telecommuting', 'has_company_logo', 'has_questions', 'employment_type',\n",
            "       'required_experience', 'required_education', 'industry', 'function',\n",
            "       'fraudulent'],\n",
            "      dtype='object')\n"
          ]
        }
      ]
    },
    {
      "cell_type": "code",
      "metadata": {
        "id": "XdYkdieSs-if",
        "colab": {
          "base_uri": "https://localhost:8080/"
        },
        "outputId": "0ede45c8-052a-441f-ea2c-55c59bb0df44"
      },
      "source": [
        "data.index"
      ],
      "execution_count": null,
      "outputs": [
        {
          "output_type": "execute_result",
          "data": {
            "text/plain": [
              "RangeIndex(start=0, stop=17880, step=1)"
            ]
          },
          "metadata": {},
          "execution_count": 12
        }
      ]
    },
    {
      "cell_type": "code",
      "metadata": {
        "id": "qi9CrhBqs-ij",
        "colab": {
          "base_uri": "https://localhost:8080/",
          "height": 35
        },
        "outputId": "567ef7ac-8c9a-4b00-ea21-dfc8e7a0754d"
      },
      "source": [
        "data.at[2, 'location']"
      ],
      "execution_count": null,
      "outputs": [
        {
          "output_type": "execute_result",
          "data": {
            "text/plain": [
              "'US, IA, Wever'"
            ],
            "application/vnd.google.colaboratory.intrinsic+json": {
              "type": "string"
            }
          },
          "metadata": {},
          "execution_count": 13
        }
      ]
    },
    {
      "cell_type": "code",
      "metadata": {
        "id": "1EYa8hb7s-in",
        "colab": {
          "base_uri": "https://localhost:8080/"
        },
        "outputId": "74bc5175-c138-4284-b48b-5d456a102eaa"
      },
      "source": [
        "data['location']"
      ],
      "execution_count": null,
      "outputs": [
        {
          "output_type": "execute_result",
          "data": {
            "text/plain": [
              "0            US, NY, New York\n",
              "1              NZ, , Auckland\n",
              "2               US, IA, Wever\n",
              "3          US, DC, Washington\n",
              "4          US, FL, Fort Worth\n",
              "                 ...         \n",
              "17875         CA, ON, Toronto\n",
              "17876    US, PA, Philadelphia\n",
              "17877         US, TX, Houston\n",
              "17878           NG, LA, Lagos\n",
              "17879       NZ, N, Wellington\n",
              "Name: location, Length: 17880, dtype: object"
            ]
          },
          "metadata": {},
          "execution_count": 14
        }
      ]
    },
    {
      "cell_type": "code",
      "metadata": {
        "id": "paBctC6-s-iq",
        "colab": {
          "base_uri": "https://localhost:8080/",
          "height": 35
        },
        "outputId": "d1f13ae3-7da4-43ff-b48a-ea2719e97da1"
      },
      "source": [
        "data['location'][3]"
      ],
      "execution_count": null,
      "outputs": [
        {
          "output_type": "execute_result",
          "data": {
            "text/plain": [
              "'US, DC, Washington'"
            ],
            "application/vnd.google.colaboratory.intrinsic+json": {
              "type": "string"
            }
          },
          "metadata": {},
          "execution_count": 15
        }
      ]
    },
    {
      "cell_type": "code",
      "metadata": {
        "id": "fe0MdP7ks-iv",
        "colab": {
          "base_uri": "https://localhost:8080/",
          "height": 35
        },
        "outputId": "6faea13c-6420-4d78-eccf-418de674b7c4"
      },
      "source": [
        "data['department'].dtype.name"
      ],
      "execution_count": null,
      "outputs": [
        {
          "output_type": "execute_result",
          "data": {
            "text/plain": [
              "'object'"
            ],
            "application/vnd.google.colaboratory.intrinsic+json": {
              "type": "string"
            }
          },
          "metadata": {},
          "execution_count": 16
        }
      ]
    },
    {
      "cell_type": "code",
      "metadata": {
        "id": "2u9pxqZOs-iy",
        "colab": {
          "base_uri": "https://localhost:8080/"
        },
        "outputId": "6eedc212-e72a-424d-f86c-84eccd09253c"
      },
      "source": [
        "type(data['location'][3])"
      ],
      "execution_count": null,
      "outputs": [
        {
          "output_type": "execute_result",
          "data": {
            "text/plain": [
              "str"
            ]
          },
          "metadata": {},
          "execution_count": 17
        }
      ]
    },
    {
      "cell_type": "code",
      "metadata": {
        "id": "3Tpw0Cnis-i2",
        "colab": {
          "base_uri": "https://localhost:8080/"
        },
        "outputId": "23475318-6d6a-48fe-9ab7-1bc9121d866e"
      },
      "source": [
        "type(data['location'])"
      ],
      "execution_count": null,
      "outputs": [
        {
          "output_type": "execute_result",
          "data": {
            "text/plain": [
              "pandas.core.series.Series"
            ]
          },
          "metadata": {},
          "execution_count": 18
        }
      ]
    },
    {
      "cell_type": "code",
      "metadata": {
        "id": "Bg-fvYCKs-i5",
        "colab": {
          "base_uri": "https://localhost:8080/",
          "height": 206
        },
        "outputId": "fde56828-6a77-40aa-a060-9f99fe9d7ea9"
      },
      "source": [
        "data[['location', 'department']].head()"
      ],
      "execution_count": null,
      "outputs": [
        {
          "output_type": "execute_result",
          "data": {
            "text/plain": [
              "             location department\n",
              "0    US, NY, New York  Marketing\n",
              "1      NZ, , Auckland    Success\n",
              "2       US, IA, Wever        NaN\n",
              "3  US, DC, Washington      Sales\n",
              "4  US, FL, Fort Worth        NaN"
            ],
            "text/html": [
              "\n",
              "  <div id=\"df-3590c0de-74ef-451c-94c5-88a01f3a3b47\">\n",
              "    <div class=\"colab-df-container\">\n",
              "      <div>\n",
              "<style scoped>\n",
              "    .dataframe tbody tr th:only-of-type {\n",
              "        vertical-align: middle;\n",
              "    }\n",
              "\n",
              "    .dataframe tbody tr th {\n",
              "        vertical-align: top;\n",
              "    }\n",
              "\n",
              "    .dataframe thead th {\n",
              "        text-align: right;\n",
              "    }\n",
              "</style>\n",
              "<table border=\"1\" class=\"dataframe\">\n",
              "  <thead>\n",
              "    <tr style=\"text-align: right;\">\n",
              "      <th></th>\n",
              "      <th>location</th>\n",
              "      <th>department</th>\n",
              "    </tr>\n",
              "  </thead>\n",
              "  <tbody>\n",
              "    <tr>\n",
              "      <th>0</th>\n",
              "      <td>US, NY, New York</td>\n",
              "      <td>Marketing</td>\n",
              "    </tr>\n",
              "    <tr>\n",
              "      <th>1</th>\n",
              "      <td>NZ, , Auckland</td>\n",
              "      <td>Success</td>\n",
              "    </tr>\n",
              "    <tr>\n",
              "      <th>2</th>\n",
              "      <td>US, IA, Wever</td>\n",
              "      <td>NaN</td>\n",
              "    </tr>\n",
              "    <tr>\n",
              "      <th>3</th>\n",
              "      <td>US, DC, Washington</td>\n",
              "      <td>Sales</td>\n",
              "    </tr>\n",
              "    <tr>\n",
              "      <th>4</th>\n",
              "      <td>US, FL, Fort Worth</td>\n",
              "      <td>NaN</td>\n",
              "    </tr>\n",
              "  </tbody>\n",
              "</table>\n",
              "</div>\n",
              "      <button class=\"colab-df-convert\" onclick=\"convertToInteractive('df-3590c0de-74ef-451c-94c5-88a01f3a3b47')\"\n",
              "              title=\"Convert this dataframe to an interactive table.\"\n",
              "              style=\"display:none;\">\n",
              "        \n",
              "  <svg xmlns=\"http://www.w3.org/2000/svg\" height=\"24px\"viewBox=\"0 0 24 24\"\n",
              "       width=\"24px\">\n",
              "    <path d=\"M0 0h24v24H0V0z\" fill=\"none\"/>\n",
              "    <path d=\"M18.56 5.44l.94 2.06.94-2.06 2.06-.94-2.06-.94-.94-2.06-.94 2.06-2.06.94zm-11 1L8.5 8.5l.94-2.06 2.06-.94-2.06-.94L8.5 2.5l-.94 2.06-2.06.94zm10 10l.94 2.06.94-2.06 2.06-.94-2.06-.94-.94-2.06-.94 2.06-2.06.94z\"/><path d=\"M17.41 7.96l-1.37-1.37c-.4-.4-.92-.59-1.43-.59-.52 0-1.04.2-1.43.59L10.3 9.45l-7.72 7.72c-.78.78-.78 2.05 0 2.83L4 21.41c.39.39.9.59 1.41.59.51 0 1.02-.2 1.41-.59l7.78-7.78 2.81-2.81c.8-.78.8-2.07 0-2.86zM5.41 20L4 18.59l7.72-7.72 1.47 1.35L5.41 20z\"/>\n",
              "  </svg>\n",
              "      </button>\n",
              "      \n",
              "  <style>\n",
              "    .colab-df-container {\n",
              "      display:flex;\n",
              "      flex-wrap:wrap;\n",
              "      gap: 12px;\n",
              "    }\n",
              "\n",
              "    .colab-df-convert {\n",
              "      background-color: #E8F0FE;\n",
              "      border: none;\n",
              "      border-radius: 50%;\n",
              "      cursor: pointer;\n",
              "      display: none;\n",
              "      fill: #1967D2;\n",
              "      height: 32px;\n",
              "      padding: 0 0 0 0;\n",
              "      width: 32px;\n",
              "    }\n",
              "\n",
              "    .colab-df-convert:hover {\n",
              "      background-color: #E2EBFA;\n",
              "      box-shadow: 0px 1px 2px rgba(60, 64, 67, 0.3), 0px 1px 3px 1px rgba(60, 64, 67, 0.15);\n",
              "      fill: #174EA6;\n",
              "    }\n",
              "\n",
              "    [theme=dark] .colab-df-convert {\n",
              "      background-color: #3B4455;\n",
              "      fill: #D2E3FC;\n",
              "    }\n",
              "\n",
              "    [theme=dark] .colab-df-convert:hover {\n",
              "      background-color: #434B5C;\n",
              "      box-shadow: 0px 1px 3px 1px rgba(0, 0, 0, 0.15);\n",
              "      filter: drop-shadow(0px 1px 2px rgba(0, 0, 0, 0.3));\n",
              "      fill: #FFFFFF;\n",
              "    }\n",
              "  </style>\n",
              "\n",
              "      <script>\n",
              "        const buttonEl =\n",
              "          document.querySelector('#df-3590c0de-74ef-451c-94c5-88a01f3a3b47 button.colab-df-convert');\n",
              "        buttonEl.style.display =\n",
              "          google.colab.kernel.accessAllowed ? 'block' : 'none';\n",
              "\n",
              "        async function convertToInteractive(key) {\n",
              "          const element = document.querySelector('#df-3590c0de-74ef-451c-94c5-88a01f3a3b47');\n",
              "          const dataTable =\n",
              "            await google.colab.kernel.invokeFunction('convertToInteractive',\n",
              "                                                     [key], {});\n",
              "          if (!dataTable) return;\n",
              "\n",
              "          const docLinkHtml = 'Like what you see? Visit the ' +\n",
              "            '<a target=\"_blank\" href=https://colab.research.google.com/notebooks/data_table.ipynb>data table notebook</a>'\n",
              "            + ' to learn more about interactive tables.';\n",
              "          element.innerHTML = '';\n",
              "          dataTable['output_type'] = 'display_data';\n",
              "          await google.colab.output.renderOutput(dataTable, element);\n",
              "          const docLink = document.createElement('div');\n",
              "          docLink.innerHTML = docLinkHtml;\n",
              "          element.appendChild(docLink);\n",
              "        }\n",
              "      </script>\n",
              "    </div>\n",
              "  </div>\n",
              "  "
            ]
          },
          "metadata": {},
          "execution_count": 19
        }
      ]
    },
    {
      "cell_type": "code",
      "metadata": {
        "id": "2Ep0m6TPs-i9",
        "colab": {
          "base_uri": "https://localhost:8080/",
          "height": 300
        },
        "outputId": "2d231161-d002-42d2-cf52-3000f9720337"
      },
      "source": [
        "data.describe()"
      ],
      "execution_count": null,
      "outputs": [
        {
          "output_type": "execute_result",
          "data": {
            "text/plain": [
              "             job_id  telecommuting  has_company_logo  has_questions  \\\n",
              "count  17880.000000   17880.000000      17880.000000   17880.000000   \n",
              "mean    8940.500000       0.042897          0.795302       0.491723   \n",
              "std     5161.655742       0.202631          0.403492       0.499945   \n",
              "min        1.000000       0.000000          0.000000       0.000000   \n",
              "25%     4470.750000       0.000000          1.000000       0.000000   \n",
              "50%     8940.500000       0.000000          1.000000       0.000000   \n",
              "75%    13410.250000       0.000000          1.000000       1.000000   \n",
              "max    17880.000000       1.000000          1.000000       1.000000   \n",
              "\n",
              "         fraudulent  \n",
              "count  17880.000000  \n",
              "mean       0.048434  \n",
              "std        0.214688  \n",
              "min        0.000000  \n",
              "25%        0.000000  \n",
              "50%        0.000000  \n",
              "75%        0.000000  \n",
              "max        1.000000  "
            ],
            "text/html": [
              "\n",
              "  <div id=\"df-899d0e9b-6736-40a8-bf98-054b7de08560\">\n",
              "    <div class=\"colab-df-container\">\n",
              "      <div>\n",
              "<style scoped>\n",
              "    .dataframe tbody tr th:only-of-type {\n",
              "        vertical-align: middle;\n",
              "    }\n",
              "\n",
              "    .dataframe tbody tr th {\n",
              "        vertical-align: top;\n",
              "    }\n",
              "\n",
              "    .dataframe thead th {\n",
              "        text-align: right;\n",
              "    }\n",
              "</style>\n",
              "<table border=\"1\" class=\"dataframe\">\n",
              "  <thead>\n",
              "    <tr style=\"text-align: right;\">\n",
              "      <th></th>\n",
              "      <th>job_id</th>\n",
              "      <th>telecommuting</th>\n",
              "      <th>has_company_logo</th>\n",
              "      <th>has_questions</th>\n",
              "      <th>fraudulent</th>\n",
              "    </tr>\n",
              "  </thead>\n",
              "  <tbody>\n",
              "    <tr>\n",
              "      <th>count</th>\n",
              "      <td>17880.000000</td>\n",
              "      <td>17880.000000</td>\n",
              "      <td>17880.000000</td>\n",
              "      <td>17880.000000</td>\n",
              "      <td>17880.000000</td>\n",
              "    </tr>\n",
              "    <tr>\n",
              "      <th>mean</th>\n",
              "      <td>8940.500000</td>\n",
              "      <td>0.042897</td>\n",
              "      <td>0.795302</td>\n",
              "      <td>0.491723</td>\n",
              "      <td>0.048434</td>\n",
              "    </tr>\n",
              "    <tr>\n",
              "      <th>std</th>\n",
              "      <td>5161.655742</td>\n",
              "      <td>0.202631</td>\n",
              "      <td>0.403492</td>\n",
              "      <td>0.499945</td>\n",
              "      <td>0.214688</td>\n",
              "    </tr>\n",
              "    <tr>\n",
              "      <th>min</th>\n",
              "      <td>1.000000</td>\n",
              "      <td>0.000000</td>\n",
              "      <td>0.000000</td>\n",
              "      <td>0.000000</td>\n",
              "      <td>0.000000</td>\n",
              "    </tr>\n",
              "    <tr>\n",
              "      <th>25%</th>\n",
              "      <td>4470.750000</td>\n",
              "      <td>0.000000</td>\n",
              "      <td>1.000000</td>\n",
              "      <td>0.000000</td>\n",
              "      <td>0.000000</td>\n",
              "    </tr>\n",
              "    <tr>\n",
              "      <th>50%</th>\n",
              "      <td>8940.500000</td>\n",
              "      <td>0.000000</td>\n",
              "      <td>1.000000</td>\n",
              "      <td>0.000000</td>\n",
              "      <td>0.000000</td>\n",
              "    </tr>\n",
              "    <tr>\n",
              "      <th>75%</th>\n",
              "      <td>13410.250000</td>\n",
              "      <td>0.000000</td>\n",
              "      <td>1.000000</td>\n",
              "      <td>1.000000</td>\n",
              "      <td>0.000000</td>\n",
              "    </tr>\n",
              "    <tr>\n",
              "      <th>max</th>\n",
              "      <td>17880.000000</td>\n",
              "      <td>1.000000</td>\n",
              "      <td>1.000000</td>\n",
              "      <td>1.000000</td>\n",
              "      <td>1.000000</td>\n",
              "    </tr>\n",
              "  </tbody>\n",
              "</table>\n",
              "</div>\n",
              "      <button class=\"colab-df-convert\" onclick=\"convertToInteractive('df-899d0e9b-6736-40a8-bf98-054b7de08560')\"\n",
              "              title=\"Convert this dataframe to an interactive table.\"\n",
              "              style=\"display:none;\">\n",
              "        \n",
              "  <svg xmlns=\"http://www.w3.org/2000/svg\" height=\"24px\"viewBox=\"0 0 24 24\"\n",
              "       width=\"24px\">\n",
              "    <path d=\"M0 0h24v24H0V0z\" fill=\"none\"/>\n",
              "    <path d=\"M18.56 5.44l.94 2.06.94-2.06 2.06-.94-2.06-.94-.94-2.06-.94 2.06-2.06.94zm-11 1L8.5 8.5l.94-2.06 2.06-.94-2.06-.94L8.5 2.5l-.94 2.06-2.06.94zm10 10l.94 2.06.94-2.06 2.06-.94-2.06-.94-.94-2.06-.94 2.06-2.06.94z\"/><path d=\"M17.41 7.96l-1.37-1.37c-.4-.4-.92-.59-1.43-.59-.52 0-1.04.2-1.43.59L10.3 9.45l-7.72 7.72c-.78.78-.78 2.05 0 2.83L4 21.41c.39.39.9.59 1.41.59.51 0 1.02-.2 1.41-.59l7.78-7.78 2.81-2.81c.8-.78.8-2.07 0-2.86zM5.41 20L4 18.59l7.72-7.72 1.47 1.35L5.41 20z\"/>\n",
              "  </svg>\n",
              "      </button>\n",
              "      \n",
              "  <style>\n",
              "    .colab-df-container {\n",
              "      display:flex;\n",
              "      flex-wrap:wrap;\n",
              "      gap: 12px;\n",
              "    }\n",
              "\n",
              "    .colab-df-convert {\n",
              "      background-color: #E8F0FE;\n",
              "      border: none;\n",
              "      border-radius: 50%;\n",
              "      cursor: pointer;\n",
              "      display: none;\n",
              "      fill: #1967D2;\n",
              "      height: 32px;\n",
              "      padding: 0 0 0 0;\n",
              "      width: 32px;\n",
              "    }\n",
              "\n",
              "    .colab-df-convert:hover {\n",
              "      background-color: #E2EBFA;\n",
              "      box-shadow: 0px 1px 2px rgba(60, 64, 67, 0.3), 0px 1px 3px 1px rgba(60, 64, 67, 0.15);\n",
              "      fill: #174EA6;\n",
              "    }\n",
              "\n",
              "    [theme=dark] .colab-df-convert {\n",
              "      background-color: #3B4455;\n",
              "      fill: #D2E3FC;\n",
              "    }\n",
              "\n",
              "    [theme=dark] .colab-df-convert:hover {\n",
              "      background-color: #434B5C;\n",
              "      box-shadow: 0px 1px 3px 1px rgba(0, 0, 0, 0.15);\n",
              "      filter: drop-shadow(0px 1px 2px rgba(0, 0, 0, 0.3));\n",
              "      fill: #FFFFFF;\n",
              "    }\n",
              "  </style>\n",
              "\n",
              "      <script>\n",
              "        const buttonEl =\n",
              "          document.querySelector('#df-899d0e9b-6736-40a8-bf98-054b7de08560 button.colab-df-convert');\n",
              "        buttonEl.style.display =\n",
              "          google.colab.kernel.accessAllowed ? 'block' : 'none';\n",
              "\n",
              "        async function convertToInteractive(key) {\n",
              "          const element = document.querySelector('#df-899d0e9b-6736-40a8-bf98-054b7de08560');\n",
              "          const dataTable =\n",
              "            await google.colab.kernel.invokeFunction('convertToInteractive',\n",
              "                                                     [key], {});\n",
              "          if (!dataTable) return;\n",
              "\n",
              "          const docLinkHtml = 'Like what you see? Visit the ' +\n",
              "            '<a target=\"_blank\" href=https://colab.research.google.com/notebooks/data_table.ipynb>data table notebook</a>'\n",
              "            + ' to learn more about interactive tables.';\n",
              "          element.innerHTML = '';\n",
              "          dataTable['output_type'] = 'display_data';\n",
              "          await google.colab.output.renderOutput(dataTable, element);\n",
              "          const docLink = document.createElement('div');\n",
              "          docLink.innerHTML = docLinkHtml;\n",
              "          element.appendChild(docLink);\n",
              "        }\n",
              "      </script>\n",
              "    </div>\n",
              "  </div>\n",
              "  "
            ]
          },
          "metadata": {},
          "execution_count": 20
        }
      ]
    },
    {
      "cell_type": "code",
      "metadata": {
        "id": "Z4tQTLuvs-jB",
        "colab": {
          "base_uri": "https://localhost:8080/",
          "height": 621
        },
        "outputId": "18c2a52a-8578-45da-8a9e-25a879d53b82"
      },
      "source": [
        "from pandas.plotting import scatter_matrix\n",
        "scatter_matrix(data, alpha = .01, figsize = (10, 10))\n",
        "pass"
      ],
      "execution_count": null,
      "outputs": [
        {
          "output_type": "display_data",
          "data": {
            "text/plain": [
              "<Figure size 720x720 with 25 Axes>"
            ],
            "image/png": "[encoded data removed]"
          },
          "metadata": {
            "needs_background": "light"
          }
        }
      ]
    },
    {
      "cell_type": "code",
      "metadata": {
        "id": "gfqZTUBds-jE",
        "colab": {
          "base_uri": "https://localhost:8080/",
          "height": 206
        },
        "outputId": "c4de24be-0052-4c8a-9f32-37e69e5bfc67"
      },
      "source": [
        "data.corr()"
      ],
      "execution_count": null,
      "outputs": [
        {
          "output_type": "execute_result",
          "data": {
            "text/plain": [
              "                    job_id  telecommuting  has_company_logo  has_questions  \\\n",
              "job_id            1.000000      -0.004559         -0.014539      -0.087025   \n",
              "telecommuting    -0.004559       1.000000         -0.019836       0.020345   \n",
              "has_company_logo -0.014539      -0.019836          1.000000       0.233932   \n",
              "has_questions    -0.087025       0.020345          0.233932       1.000000   \n",
              "fraudulent        0.079872       0.034523         -0.261971      -0.091627   \n",
              "\n",
              "                  fraudulent  \n",
              "job_id              0.079872  \n",
              "telecommuting       0.034523  \n",
              "has_company_logo   -0.261971  \n",
              "has_questions      -0.091627  \n",
              "fraudulent          1.000000  "
            ],
            "text/html": [
              "\n",
              "  <div id=\"df-c72ba4d0-bf01-405b-a204-8b2c0938b682\">\n",
              "    <div class=\"colab-df-container\">\n",
              "      <div>\n",
              "<style scoped>\n",
              "    .dataframe tbody tr th:only-of-type {\n",
              "        vertical-align: middle;\n",
              "    }\n",
              "\n",
              "    .dataframe tbody tr th {\n",
              "        vertical-align: top;\n",
              "    }\n",
              "\n",
              "    .dataframe thead th {\n",
              "        text-align: right;\n",
              "    }\n",
              "</style>\n",
              "<table border=\"1\" class=\"dataframe\">\n",
              "  <thead>\n",
              "    <tr style=\"text-align: right;\">\n",
              "      <th></th>\n",
              "      <th>job_id</th>\n",
              "      <th>telecommuting</th>\n",
              "      <th>has_company_logo</th>\n",
              "      <th>has_questions</th>\n",
              "      <th>fraudulent</th>\n",
              "    </tr>\n",
              "  </thead>\n",
              "  <tbody>\n",
              "    <tr>\n",
              "      <th>job_id</th>\n",
              "      <td>1.000000</td>\n",
              "      <td>-0.004559</td>\n",
              "      <td>-0.014539</td>\n",
              "      <td>-0.087025</td>\n",
              "      <td>0.079872</td>\n",
              "    </tr>\n",
              "    <tr>\n",
              "      <th>telecommuting</th>\n",
              "      <td>-0.004559</td>\n",
              "      <td>1.000000</td>\n",
              "      <td>-0.019836</td>\n",
              "      <td>0.020345</td>\n",
              "      <td>0.034523</td>\n",
              "    </tr>\n",
              "    <tr>\n",
              "      <th>has_company_logo</th>\n",
              "      <td>-0.014539</td>\n",
              "      <td>-0.019836</td>\n",
              "      <td>1.000000</td>\n",
              "      <td>0.233932</td>\n",
              "      <td>-0.261971</td>\n",
              "    </tr>\n",
              "    <tr>\n",
              "      <th>has_questions</th>\n",
              "      <td>-0.087025</td>\n",
              "      <td>0.020345</td>\n",
              "      <td>0.233932</td>\n",
              "      <td>1.000000</td>\n",
              "      <td>-0.091627</td>\n",
              "    </tr>\n",
              "    <tr>\n",
              "      <th>fraudulent</th>\n",
              "      <td>0.079872</td>\n",
              "      <td>0.034523</td>\n",
              "      <td>-0.261971</td>\n",
              "      <td>-0.091627</td>\n",
              "      <td>1.000000</td>\n",
              "    </tr>\n",
              "  </tbody>\n",
              "</table>\n",
              "</div>\n",
              "      <button class=\"colab-df-convert\" onclick=\"convertToInteractive('df-c72ba4d0-bf01-405b-a204-8b2c0938b682')\"\n",
              "              title=\"Convert this dataframe to an interactive table.\"\n",
              "              style=\"display:none;\">\n",
              "        \n",
              "  <svg xmlns=\"http://www.w3.org/2000/svg\" height=\"24px\"viewBox=\"0 0 24 24\"\n",
              "       width=\"24px\">\n",
              "    <path d=\"M0 0h24v24H0V0z\" fill=\"none\"/>\n",
              "    <path d=\"M18.56 5.44l.94 2.06.94-2.06 2.06-.94-2.06-.94-.94-2.06-.94 2.06-2.06.94zm-11 1L8.5 8.5l.94-2.06 2.06-.94-2.06-.94L8.5 2.5l-.94 2.06-2.06.94zm10 10l.94 2.06.94-2.06 2.06-.94-2.06-.94-.94-2.06-.94 2.06-2.06.94z\"/><path d=\"M17.41 7.96l-1.37-1.37c-.4-.4-.92-.59-1.43-.59-.52 0-1.04.2-1.43.59L10.3 9.45l-7.72 7.72c-.78.78-.78 2.05 0 2.83L4 21.41c.39.39.9.59 1.41.59.51 0 1.02-.2 1.41-.59l7.78-7.78 2.81-2.81c.8-.78.8-2.07 0-2.86zM5.41 20L4 18.59l7.72-7.72 1.47 1.35L5.41 20z\"/>\n",
              "  </svg>\n",
              "      </button>\n",
              "      \n",
              "  <style>\n",
              "    .colab-df-container {\n",
              "      display:flex;\n",
              "      flex-wrap:wrap;\n",
              "      gap: 12px;\n",
              "    }\n",
              "\n",
              "    .colab-df-convert {\n",
              "      background-color: #E8F0FE;\n",
              "      border: none;\n",
              "      border-radius: 50%;\n",
              "      cursor: pointer;\n",
              "      display: none;\n",
              "      fill: #1967D2;\n",
              "      height: 32px;\n",
              "      padding: 0 0 0 0;\n",
              "      width: 32px;\n",
              "    }\n",
              "\n",
              "    .colab-df-convert:hover {\n",
              "      background-color: #E2EBFA;\n",
              "      box-shadow: 0px 1px 2px rgba(60, 64, 67, 0.3), 0px 1px 3px 1px rgba(60, 64, 67, 0.15);\n",
              "      fill: #174EA6;\n",
              "    }\n",
              "\n",
              "    [theme=dark] .colab-df-convert {\n",
              "      background-color: #3B4455;\n",
              "      fill: #D2E3FC;\n",
              "    }\n",
              "\n",
              "    [theme=dark] .colab-df-convert:hover {\n",
              "      background-color: #434B5C;\n",
              "      box-shadow: 0px 1px 3px 1px rgba(0, 0, 0, 0.15);\n",
              "      filter: drop-shadow(0px 1px 2px rgba(0, 0, 0, 0.3));\n",
              "      fill: #FFFFFF;\n",
              "    }\n",
              "  </style>\n",
              "\n",
              "      <script>\n",
              "        const buttonEl =\n",
              "          document.querySelector('#df-c72ba4d0-bf01-405b-a204-8b2c0938b682 button.colab-df-convert');\n",
              "        buttonEl.style.display =\n",
              "          google.colab.kernel.accessAllowed ? 'block' : 'none';\n",
              "\n",
              "        async function convertToInteractive(key) {\n",
              "          const element = document.querySelector('#df-c72ba4d0-bf01-405b-a204-8b2c0938b682');\n",
              "          const dataTable =\n",
              "            await google.colab.kernel.invokeFunction('convertToInteractive',\n",
              "                                                     [key], {});\n",
              "          if (!dataTable) return;\n",
              "\n",
              "          const docLinkHtml = 'Like what you see? Visit the ' +\n",
              "            '<a target=\"_blank\" href=https://colab.research.google.com/notebooks/data_table.ipynb>data table notebook</a>'\n",
              "            + ' to learn more about interactive tables.';\n",
              "          element.innerHTML = '';\n",
              "          dataTable['output_type'] = 'display_data';\n",
              "          await google.colab.output.renderOutput(dataTable, element);\n",
              "          const docLink = document.createElement('div');\n",
              "          docLink.innerHTML = docLinkHtml;\n",
              "          element.appendChild(docLink);\n",
              "        }\n",
              "      </script>\n",
              "    </div>\n",
              "  </div>\n",
              "  "
            ]
          },
          "metadata": {},
          "execution_count": 29
        }
      ]
    },
    {
      "cell_type": "code",
      "metadata": {
        "id": "VB1UAONis-jM",
        "outputId": "f3ca310f-be98-466f-85d9-44f948d93a4d",
        "colab": {
          "base_uri": "https://localhost:8080/",
          "height": 296
        }
      },
      "source": [
        "plt.plot(data['has_company_logo'], data['has_questions'], 'o', alpha = 0.05)\n",
        "plt.xlabel('has_company_logo')\n",
        "plt.ylabel('has_questions')\n",
        "plt.title('Age vs Hourse per week')\n",
        "pass"
      ],
      "execution_count": null,
      "outputs": [
        {
          "output_type": "display_data",
          "data": {
            "text/plain": [
              "<Figure size 432x288 with 1 Axes>"
            ],
            "image/png": "[encoded data removed]"
          },
          "metadata": {
            "needs_background": "light"
          }
        }
      ]
    },
    {
      "cell_type": "code",
      "metadata": {
        "id": "s_yoWeNSs-jQ",
        "colab": {
          "base_uri": "https://localhost:8080/"
        },
        "outputId": "03f09a49-6866-4e73-f196-ac3391d39318"
      },
      "source": [
        "data['fraudulent'] == '1'"
      ],
      "execution_count": null,
      "outputs": [
        {
          "output_type": "execute_result",
          "data": {
            "text/plain": [
              "0        False\n",
              "1        False\n",
              "2        False\n",
              "3        False\n",
              "4        False\n",
              "         ...  \n",
              "17875    False\n",
              "17876    False\n",
              "17877    False\n",
              "17878    False\n",
              "17879    False\n",
              "Name: fraudulent, Length: 17880, dtype: bool"
            ]
          },
          "metadata": {},
          "execution_count": 34
        }
      ]
    },
    {
      "cell_type": "code",
      "metadata": {
        "id": "bqjTsKvjs-jU",
        "outputId": "a4cfef26-ba18-4f88-aa30-8788eec86e03"
      },
      "source": [
        "plt.figure(figsize = (10, 6))\n",
        "\n",
        "plt.scatter(data[data['class'] == '<=50K']['education-num'],\n",
        "            data[data['class'] == '<=50K']['age'],\n",
        "            alpha = 0.15,\n",
        "            label = '<=50K',\n",
        "            color = 'b')\n",
        "\n",
        "plt.scatter(data[data['class'] == '>50K']['education-num'],\n",
        "            data[data['class'] == '>50K']['age'],\n",
        "            alpha = 0.05,\n",
        "            label = '>50K',\n",
        "            color = 'r')\n",
        "\n",
        "plt.xlabel('education-num')\n",
        "plt.xticks(range(18))\n",
        "plt.xlim(0, 17)\n",
        "plt.ylabel('age')\n",
        "plt.legend()\n",
        "plt.grid()"
      ],
      "execution_count": null,
      "outputs": [
        {
          "output_type": "display_data",
          "data": {
            "image/png": "[encoded data removed]",
            "text/plain": [
              "<Figure size 720x432 with 1 Axes>"
            ]
          },
          "metadata": {
            "tags": [],
            "needs_background": "light"
          }
        }
      ]
    },
    {
      "cell_type": "code",
      "metadata": {
        "id": "fx0tf_7Ms-jX",
        "outputId": "420e0d41-1eb8-4525-c1dd-4c1720aa1997"
      },
      "source": [
        "np.random.seed(0)\n",
        "education_num_rnd = data['education-num'] + np.random.rand(data.shape[0]) - .5\n",
        "\n",
        "plt.figure(figsize = (10, 8))\n",
        "\n",
        "plt.scatter(education_num_rnd[data['class'] == '<=50K'],\n",
        "            data[data['class'] == '<=50K']['age'],\n",
        "            alpha = 0.15,\n",
        "            label = '<=50K',\n",
        "            color = 'b')\n",
        "\n",
        "plt.scatter(education_num_rnd[data['class'] == '>50K'],\n",
        "            data[data['class'] == '>50K']['age'],\n",
        "            alpha = 0.15,\n",
        "            label = '>50K',\n",
        "            color = 'r')\n",
        "\n",
        "plt.xlabel('education-num')\n",
        "plt.xticks(range(17))\n",
        "plt.xlim(0, 17)\n",
        "plt.ylabel('age')\n",
        "plt.title('From Census Data of 1994')\n",
        "plt.grid()"
      ],
      "execution_count": null,
      "outputs": [
        {
          "output_type": "display_data",
          "data": {
            "image/png": "[encoded data removed]",
            "text/plain": [
              "<Figure size 720x576 with 1 Axes>"
            ]
          },
          "metadata": {
            "tags": [],
            "needs_background": "light"
          }
        }
      ]
    },
    {
      "cell_type": "code",
      "metadata": {
        "id": "kHX8lYXos-jb",
        "outputId": "84f51c75-db17-49b8-e34e-68a29f822b95"
      },
      "source": [
        "plt.figure(figsize = (10, 8))\n",
        "\n",
        "plt.scatter(data[data['class'] == '>50K']['education-num'],\n",
        "            data[data['class'] == '>50K']['fnlwgt'],\n",
        "            alpha = 0.15,\n",
        "            label = '>50K',\n",
        "            color = 'r')\n",
        "\n",
        "plt.scatter(data[data['class'] == '<=50K']['education-num'],\n",
        "            data[data['class'] == '<=50K']['fnlwgt'],\n",
        "            alpha = 0.15,\n",
        "            label = '<=50K',\n",
        "            color = 'b')\n",
        "\n",
        "plt.xlabel('education-num')\n",
        "plt.ylabel('fnlwgt')\n",
        "plt.grid()"
      ],
      "execution_count": null,
      "outputs": [
        {
          "output_type": "display_data",
          "data": {
            "image/png": "[encoded data removed]",
            "text/plain": [
              "<Figure size 720x576 with 1 Axes>"
            ]
          },
          "metadata": {
            "tags": [],
            "needs_background": "light"
          }
        }
      ]
    },
    {
      "cell_type": "code",
      "metadata": {
        "id": "_InFiXRms-jh",
        "outputId": "e8221568-78b6-4c00-9adb-3ba3d3846522"
      },
      "source": [
        "data.describe(include = ['object'])"
      ],
      "execution_count": null,
      "outputs": [
        {
          "output_type": "execute_result",
          "data": {
            "text/html": [
              "<div>\n",
              "<style scoped>\n",
              "    .dataframe tbody tr th:only-of-type {\n",
              "        vertical-align: middle;\n",
              "    }\n",
              "\n",
              "    .dataframe tbody tr th {\n",
              "        vertical-align: top;\n",
              "    }\n",
              "\n",
              "    .dataframe thead th {\n",
              "        text-align: right;\n",
              "    }\n",
              "</style>\n",
              "<table border=\"1\" class=\"dataframe\">\n",
              "  <thead>\n",
              "    <tr style=\"text-align: right;\">\n",
              "      <th></th>\n",
              "      <th>workclass</th>\n",
              "      <th>education</th>\n",
              "      <th>marital-status</th>\n",
              "      <th>occupation</th>\n",
              "      <th>relationship</th>\n",
              "      <th>race</th>\n",
              "      <th>sex</th>\n",
              "      <th>native-country</th>\n",
              "      <th>class</th>\n",
              "    </tr>\n",
              "  </thead>\n",
              "  <tbody>\n",
              "    <tr>\n",
              "      <th>count</th>\n",
              "      <td>32561</td>\n",
              "      <td>32561</td>\n",
              "      <td>32561</td>\n",
              "      <td>32561</td>\n",
              "      <td>32561</td>\n",
              "      <td>32561</td>\n",
              "      <td>32561</td>\n",
              "      <td>32561</td>\n",
              "      <td>32561</td>\n",
              "    </tr>\n",
              "    <tr>\n",
              "      <th>unique</th>\n",
              "      <td>9</td>\n",
              "      <td>16</td>\n",
              "      <td>7</td>\n",
              "      <td>15</td>\n",
              "      <td>6</td>\n",
              "      <td>5</td>\n",
              "      <td>2</td>\n",
              "      <td>42</td>\n",
              "      <td>2</td>\n",
              "    </tr>\n",
              "    <tr>\n",
              "      <th>top</th>\n",
              "      <td>Private</td>\n",
              "      <td>HS-grad</td>\n",
              "      <td>Married-civ-spouse</td>\n",
              "      <td>Prof-specialty</td>\n",
              "      <td>Husband</td>\n",
              "      <td>White</td>\n",
              "      <td>Male</td>\n",
              "      <td>United-States</td>\n",
              "      <td>&lt;=50K</td>\n",
              "    </tr>\n",
              "    <tr>\n",
              "      <th>freq</th>\n",
              "      <td>22696</td>\n",
              "      <td>10501</td>\n",
              "      <td>14976</td>\n",
              "      <td>4140</td>\n",
              "      <td>13193</td>\n",
              "      <td>27816</td>\n",
              "      <td>21790</td>\n",
              "      <td>29170</td>\n",
              "      <td>24720</td>\n",
              "    </tr>\n",
              "  </tbody>\n",
              "</table>\n",
              "</div>"
            ],
            "text/plain": [
              "       workclass education      marital-status      occupation relationship  \\\n",
              "count      32561     32561               32561           32561        32561   \n",
              "unique         9        16                   7              15            6   \n",
              "top      Private   HS-grad  Married-civ-spouse  Prof-specialty      Husband   \n",
              "freq       22696     10501               14976            4140        13193   \n",
              "\n",
              "         race    sex native-country  class  \n",
              "count   32561  32561          32561  32561  \n",
              "unique      5      2             42      2  \n",
              "top     White   Male  United-States  <=50K  \n",
              "freq    27816  21790          29170  24720  "
            ]
          },
          "metadata": {
            "tags": []
          },
          "execution_count": 26
        }
      ]
    },
    {
      "cell_type": "code",
      "metadata": {
        "id": "aSMkG93zs-jl",
        "colab": {
          "base_uri": "https://localhost:8080/",
          "height": 510
        },
        "outputId": "65f6d947-c025-4011-eb1c-d0aec854fdec"
      },
      "source": [
        "data.describe(include = 'all')"
      ],
      "execution_count": null,
      "outputs": [
        {
          "output_type": "execute_result",
          "data": {
            "text/plain": [
              "              job_id                    title         location     department  \\\n",
              "count   17880.000000                    17880            17880          17880   \n",
              "unique           NaN                    11231             3106           1338   \n",
              "top              NaN  English Teacher Abroad   GB, LND, London  Not Specified   \n",
              "freq             NaN                      311              718          11547   \n",
              "mean     8940.500000                      NaN              NaN            NaN   \n",
              "std      5161.655742                      NaN              NaN            NaN   \n",
              "min         1.000000                      NaN              NaN            NaN   \n",
              "25%      4470.750000                      NaN              NaN            NaN   \n",
              "50%      8940.500000                      NaN              NaN            NaN   \n",
              "75%     13410.250000                      NaN              NaN            NaN   \n",
              "max     17880.000000                      NaN              NaN            NaN   \n",
              "\n",
              "         salary_range company_profile  \\\n",
              "count           17880           17880   \n",
              "unique            875            1710   \n",
              "top     Not Specified   Not Specified   \n",
              "freq            15012            3308   \n",
              "mean              NaN             NaN   \n",
              "std               NaN             NaN   \n",
              "min               NaN             NaN   \n",
              "25%               NaN             NaN   \n",
              "50%               NaN             NaN   \n",
              "75%               NaN             NaN   \n",
              "max               NaN             NaN   \n",
              "\n",
              "                                              description   requirements  \\\n",
              "count                                               17880          17880   \n",
              "unique                                              14802          11969   \n",
              "top     Play with kids, get paid for it Love travel? J...  Not Specified   \n",
              "freq                                                  379           2695   \n",
              "mean                                                  NaN            NaN   \n",
              "std                                                   NaN            NaN   \n",
              "min                                                   NaN            NaN   \n",
              "25%                                                   NaN            NaN   \n",
              "50%                                                   NaN            NaN   \n",
              "75%                                                   NaN            NaN   \n",
              "max                                                   NaN            NaN   \n",
              "\n",
              "             benefits  telecommuting  has_company_logo  has_questions  \\\n",
              "count           17880   17880.000000      17880.000000   17880.000000   \n",
              "unique           6206            NaN               NaN            NaN   \n",
              "top     Not Specified            NaN               NaN            NaN   \n",
              "freq             7210            NaN               NaN            NaN   \n",
              "mean              NaN       0.042897          0.795302       0.491723   \n",
              "std               NaN       0.202631          0.403492       0.499945   \n",
              "min               NaN       0.000000          0.000000       0.000000   \n",
              "25%               NaN       0.000000          1.000000       0.000000   \n",
              "50%               NaN       0.000000          1.000000       0.000000   \n",
              "75%               NaN       0.000000          1.000000       1.000000   \n",
              "max               NaN       1.000000          1.000000       1.000000   \n",
              "\n",
              "       employment_type required_experience required_education       industry  \\\n",
              "count            17880               17880              17880          17880   \n",
              "unique               6                   7                 13            132   \n",
              "top          Full-time       Not Specified      Not Specified  Not Specified   \n",
              "freq             11620                8166               9502           4903   \n",
              "mean               NaN                 NaN                NaN            NaN   \n",
              "std                NaN                 NaN                NaN            NaN   \n",
              "min                NaN                 NaN                NaN            NaN   \n",
              "25%                NaN                 NaN                NaN            NaN   \n",
              "50%                NaN                 NaN                NaN            NaN   \n",
              "75%                NaN                 NaN                NaN            NaN   \n",
              "max                NaN                 NaN                NaN            NaN   \n",
              "\n",
              "             function    fraudulent  \n",
              "count           17880  17880.000000  \n",
              "unique             38           NaN  \n",
              "top     Not Specified           NaN  \n",
              "freq             6455           NaN  \n",
              "mean              NaN      0.048434  \n",
              "std               NaN      0.214688  \n",
              "min               NaN      0.000000  \n",
              "25%               NaN      0.000000  \n",
              "50%               NaN      0.000000  \n",
              "75%               NaN      0.000000  \n",
              "max               NaN      1.000000  "
            ],
            "text/html": [
              "\n",
              "  <div id=\"df-26b44a68-b5a5-489c-8516-6c7fc720c24c\">\n",
              "    <div class=\"colab-df-container\">\n",
              "      <div>\n",
              "<style scoped>\n",
              "    .dataframe tbody tr th:only-of-type {\n",
              "        vertical-align: middle;\n",
              "    }\n",
              "\n",
              "    .dataframe tbody tr th {\n",
              "        vertical-align: top;\n",
              "    }\n",
              "\n",
              "    .dataframe thead th {\n",
              "        text-align: right;\n",
              "    }\n",
              "</style>\n",
              "<table border=\"1\" class=\"dataframe\">\n",
              "  <thead>\n",
              "    <tr style=\"text-align: right;\">\n",
              "      <th></th>\n",
              "      <th>job_id</th>\n",
              "      <th>title</th>\n",
              "      <th>location</th>\n",
              "      <th>department</th>\n",
              "      <th>salary_range</th>\n",
              "      <th>company_profile</th>\n",
              "      <th>description</th>\n",
              "      <th>requirements</th>\n",
              "      <th>benefits</th>\n",
              "      <th>telecommuting</th>\n",
              "      <th>has_company_logo</th>\n",
              "      <th>has_questions</th>\n",
              "      <th>employment_type</th>\n",
              "      <th>required_experience</th>\n",
              "      <th>required_education</th>\n",
              "      <th>industry</th>\n",
              "      <th>function</th>\n",
              "      <th>fraudulent</th>\n",
              "    </tr>\n",
              "  </thead>\n",
              "  <tbody>\n",
              "    <tr>\n",
              "      <th>count</th>\n",
              "      <td>17880.000000</td>\n",
              "      <td>17880</td>\n",
              "      <td>17880</td>\n",
              "      <td>17880</td>\n",
              "      <td>17880</td>\n",
              "      <td>17880</td>\n",
              "      <td>17880</td>\n",
              "      <td>17880</td>\n",
              "      <td>17880</td>\n",
              "      <td>17880.000000</td>\n",
              "      <td>17880.000000</td>\n",
              "      <td>17880.000000</td>\n",
              "      <td>17880</td>\n",
              "      <td>17880</td>\n",
              "      <td>17880</td>\n",
              "      <td>17880</td>\n",
              "      <td>17880</td>\n",
              "      <td>17880.000000</td>\n",
              "    </tr>\n",
              "    <tr>\n",
              "      <th>unique</th>\n",
              "      <td>NaN</td>\n",
              "      <td>11231</td>\n",
              "      <td>3106</td>\n",
              "      <td>1338</td>\n",
              "      <td>875</td>\n",
              "      <td>1710</td>\n",
              "      <td>14802</td>\n",
              "      <td>11969</td>\n",
              "      <td>6206</td>\n",
              "      <td>NaN</td>\n",
              "      <td>NaN</td>\n",
              "      <td>NaN</td>\n",
              "      <td>6</td>\n",
              "      <td>7</td>\n",
              "      <td>13</td>\n",
              "      <td>132</td>\n",
              "      <td>38</td>\n",
              "      <td>NaN</td>\n",
              "    </tr>\n",
              "    <tr>\n",
              "      <th>top</th>\n",
              "      <td>NaN</td>\n",
              "      <td>English Teacher Abroad</td>\n",
              "      <td>GB, LND, London</td>\n",
              "      <td>Not Specified</td>\n",
              "      <td>Not Specified</td>\n",
              "      <td>Not Specified</td>\n",
              "      <td>Play with kids, get paid for it Love travel? J...</td>\n",
              "      <td>Not Specified</td>\n",
              "      <td>Not Specified</td>\n",
              "      <td>NaN</td>\n",
              "      <td>NaN</td>\n",
              "      <td>NaN</td>\n",
              "      <td>Full-time</td>\n",
              "      <td>Not Specified</td>\n",
              "      <td>Not Specified</td>\n",
              "      <td>Not Specified</td>\n",
              "      <td>Not Specified</td>\n",
              "      <td>NaN</td>\n",
              "    </tr>\n",
              "    <tr>\n",
              "      <th>freq</th>\n",
              "      <td>NaN</td>\n",
              "      <td>311</td>\n",
              "      <td>718</td>\n",
              "      <td>11547</td>\n",
              "      <td>15012</td>\n",
              "      <td>3308</td>\n",
              "      <td>379</td>\n",
              "      <td>2695</td>\n",
              "      <td>7210</td>\n",
              "      <td>NaN</td>\n",
              "      <td>NaN</td>\n",
              "      <td>NaN</td>\n",
              "      <td>11620</td>\n",
              "      <td>8166</td>\n",
              "      <td>9502</td>\n",
              "      <td>4903</td>\n",
              "      <td>6455</td>\n",
              "      <td>NaN</td>\n",
              "    </tr>\n",
              "    <tr>\n",
              "      <th>mean</th>\n",
              "      <td>8940.500000</td>\n",
              "      <td>NaN</td>\n",
              "      <td>NaN</td>\n",
              "      <td>NaN</td>\n",
              "      <td>NaN</td>\n",
              "      <td>NaN</td>\n",
              "      <td>NaN</td>\n",
              "      <td>NaN</td>\n",
              "      <td>NaN</td>\n",
              "      <td>0.042897</td>\n",
              "      <td>0.795302</td>\n",
              "      <td>0.491723</td>\n",
              "      <td>NaN</td>\n",
              "      <td>NaN</td>\n",
              "      <td>NaN</td>\n",
              "      <td>NaN</td>\n",
              "      <td>NaN</td>\n",
              "      <td>0.048434</td>\n",
              "    </tr>\n",
              "    <tr>\n",
              "      <th>std</th>\n",
              "      <td>5161.655742</td>\n",
              "      <td>NaN</td>\n",
              "      <td>NaN</td>\n",
              "      <td>NaN</td>\n",
              "      <td>NaN</td>\n",
              "      <td>NaN</td>\n",
              "      <td>NaN</td>\n",
              "      <td>NaN</td>\n",
              "      <td>NaN</td>\n",
              "      <td>0.202631</td>\n",
              "      <td>0.403492</td>\n",
              "      <td>0.499945</td>\n",
              "      <td>NaN</td>\n",
              "      <td>NaN</td>\n",
              "      <td>NaN</td>\n",
              "      <td>NaN</td>\n",
              "      <td>NaN</td>\n",
              "      <td>0.214688</td>\n",
              "    </tr>\n",
              "    <tr>\n",
              "      <th>min</th>\n",
              "      <td>1.000000</td>\n",
              "      <td>NaN</td>\n",
              "      <td>NaN</td>\n",
              "      <td>NaN</td>\n",
              "      <td>NaN</td>\n",
              "      <td>NaN</td>\n",
              "      <td>NaN</td>\n",
              "      <td>NaN</td>\n",
              "      <td>NaN</td>\n",
              "      <td>0.000000</td>\n",
              "      <td>0.000000</td>\n",
              "      <td>0.000000</td>\n",
              "      <td>NaN</td>\n",
              "      <td>NaN</td>\n",
              "      <td>NaN</td>\n",
              "      <td>NaN</td>\n",
              "      <td>NaN</td>\n",
              "      <td>0.000000</td>\n",
              "    </tr>\n",
              "    <tr>\n",
              "      <th>25%</th>\n",
              "      <td>4470.750000</td>\n",
              "      <td>NaN</td>\n",
              "      <td>NaN</td>\n",
              "      <td>NaN</td>\n",
              "      <td>NaN</td>\n",
              "      <td>NaN</td>\n",
              "      <td>NaN</td>\n",
              "      <td>NaN</td>\n",
              "      <td>NaN</td>\n",
              "      <td>0.000000</td>\n",
              "      <td>1.000000</td>\n",
              "      <td>0.000000</td>\n",
              "      <td>NaN</td>\n",
              "      <td>NaN</td>\n",
              "      <td>NaN</td>\n",
              "      <td>NaN</td>\n",
              "      <td>NaN</td>\n",
              "      <td>0.000000</td>\n",
              "    </tr>\n",
              "    <tr>\n",
              "      <th>50%</th>\n",
              "      <td>8940.500000</td>\n",
              "      <td>NaN</td>\n",
              "      <td>NaN</td>\n",
              "      <td>NaN</td>\n",
              "      <td>NaN</td>\n",
              "      <td>NaN</td>\n",
              "      <td>NaN</td>\n",
              "      <td>NaN</td>\n",
              "      <td>NaN</td>\n",
              "      <td>0.000000</td>\n",
              "      <td>1.000000</td>\n",
              "      <td>0.000000</td>\n",
              "      <td>NaN</td>\n",
              "      <td>NaN</td>\n",
              "      <td>NaN</td>\n",
              "      <td>NaN</td>\n",
              "      <td>NaN</td>\n",
              "      <td>0.000000</td>\n",
              "    </tr>\n",
              "    <tr>\n",
              "      <th>75%</th>\n",
              "      <td>13410.250000</td>\n",
              "      <td>NaN</td>\n",
              "      <td>NaN</td>\n",
              "      <td>NaN</td>\n",
              "      <td>NaN</td>\n",
              "      <td>NaN</td>\n",
              "      <td>NaN</td>\n",
              "      <td>NaN</td>\n",
              "      <td>NaN</td>\n",
              "      <td>0.000000</td>\n",
              "      <td>1.000000</td>\n",
              "      <td>1.000000</td>\n",
              "      <td>NaN</td>\n",
              "      <td>NaN</td>\n",
              "      <td>NaN</td>\n",
              "      <td>NaN</td>\n",
              "      <td>NaN</td>\n",
              "      <td>0.000000</td>\n",
              "    </tr>\n",
              "    <tr>\n",
              "      <th>max</th>\n",
              "      <td>17880.000000</td>\n",
              "      <td>NaN</td>\n",
              "      <td>NaN</td>\n",
              "      <td>NaN</td>\n",
              "      <td>NaN</td>\n",
              "      <td>NaN</td>\n",
              "      <td>NaN</td>\n",
              "      <td>NaN</td>\n",
              "      <td>NaN</td>\n",
              "      <td>1.000000</td>\n",
              "      <td>1.000000</td>\n",
              "      <td>1.000000</td>\n",
              "      <td>NaN</td>\n",
              "      <td>NaN</td>\n",
              "      <td>NaN</td>\n",
              "      <td>NaN</td>\n",
              "      <td>NaN</td>\n",
              "      <td>1.000000</td>\n",
              "    </tr>\n",
              "  </tbody>\n",
              "</table>\n",
              "</div>\n",
              "      <button class=\"colab-df-convert\" onclick=\"convertToInteractive('df-26b44a68-b5a5-489c-8516-6c7fc720c24c')\"\n",
              "              title=\"Convert this dataframe to an interactive table.\"\n",
              "              style=\"display:none;\">\n",
              "        \n",
              "  <svg xmlns=\"http://www.w3.org/2000/svg\" height=\"24px\"viewBox=\"0 0 24 24\"\n",
              "       width=\"24px\">\n",
              "    <path d=\"M0 0h24v24H0V0z\" fill=\"none\"/>\n",
              "    <path d=\"M18.56 5.44l.94 2.06.94-2.06 2.06-.94-2.06-.94-.94-2.06-.94 2.06-2.06.94zm-11 1L8.5 8.5l.94-2.06 2.06-.94-2.06-.94L8.5 2.5l-.94 2.06-2.06.94zm10 10l.94 2.06.94-2.06 2.06-.94-2.06-.94-.94-2.06-.94 2.06-2.06.94z\"/><path d=\"M17.41 7.96l-1.37-1.37c-.4-.4-.92-.59-1.43-.59-.52 0-1.04.2-1.43.59L10.3 9.45l-7.72 7.72c-.78.78-.78 2.05 0 2.83L4 21.41c.39.39.9.59 1.41.59.51 0 1.02-.2 1.41-.59l7.78-7.78 2.81-2.81c.8-.78.8-2.07 0-2.86zM5.41 20L4 18.59l7.72-7.72 1.47 1.35L5.41 20z\"/>\n",
              "  </svg>\n",
              "      </button>\n",
              "      \n",
              "  <style>\n",
              "    .colab-df-container {\n",
              "      display:flex;\n",
              "      flex-wrap:wrap;\n",
              "      gap: 12px;\n",
              "    }\n",
              "\n",
              "    .colab-df-convert {\n",
              "      background-color: #E8F0FE;\n",
              "      border: none;\n",
              "      border-radius: 50%;\n",
              "      cursor: pointer;\n",
              "      display: none;\n",
              "      fill: #1967D2;\n",
              "      height: 32px;\n",
              "      padding: 0 0 0 0;\n",
              "      width: 32px;\n",
              "    }\n",
              "\n",
              "    .colab-df-convert:hover {\n",
              "      background-color: #E2EBFA;\n",
              "      box-shadow: 0px 1px 2px rgba(60, 64, 67, 0.3), 0px 1px 3px 1px rgba(60, 64, 67, 0.15);\n",
              "      fill: #174EA6;\n",
              "    }\n",
              "\n",
              "    [theme=dark] .colab-df-convert {\n",
              "      background-color: #3B4455;\n",
              "      fill: #D2E3FC;\n",
              "    }\n",
              "\n",
              "    [theme=dark] .colab-df-convert:hover {\n",
              "      background-color: #434B5C;\n",
              "      box-shadow: 0px 1px 3px 1px rgba(0, 0, 0, 0.15);\n",
              "      filter: drop-shadow(0px 1px 2px rgba(0, 0, 0, 0.3));\n",
              "      fill: #FFFFFF;\n",
              "    }\n",
              "  </style>\n",
              "\n",
              "      <script>\n",
              "        const buttonEl =\n",
              "          document.querySelector('#df-26b44a68-b5a5-489c-8516-6c7fc720c24c button.colab-df-convert');\n",
              "        buttonEl.style.display =\n",
              "          google.colab.kernel.accessAllowed ? 'block' : 'none';\n",
              "\n",
              "        async function convertToInteractive(key) {\n",
              "          const element = document.querySelector('#df-26b44a68-b5a5-489c-8516-6c7fc720c24c');\n",
              "          const dataTable =\n",
              "            await google.colab.kernel.invokeFunction('convertToInteractive',\n",
              "                                                     [key], {});\n",
              "          if (!dataTable) return;\n",
              "\n",
              "          const docLinkHtml = 'Like what you see? Visit the ' +\n",
              "            '<a target=\"_blank\" href=https://colab.research.google.com/notebooks/data_table.ipynb>data table notebook</a>'\n",
              "            + ' to learn more about interactive tables.';\n",
              "          element.innerHTML = '';\n",
              "          dataTable['output_type'] = 'display_data';\n",
              "          await google.colab.output.renderOutput(dataTable, element);\n",
              "          const docLink = document.createElement('div');\n",
              "          docLink.innerHTML = docLinkHtml;\n",
              "          element.appendChild(docLink);\n",
              "        }\n",
              "      </script>\n",
              "    </div>\n",
              "  </div>\n",
              "  "
            ]
          },
          "metadata": {},
          "execution_count": 33
        }
      ]
    },
    {
      "cell_type": "code",
      "metadata": {
        "id": "SUl8T164s-jp",
        "outputId": "a95b7599-837b-40dd-8319-a85d4470c6c2"
      },
      "source": [
        "data['workclass'].unique()"
      ],
      "execution_count": null,
      "outputs": [
        {
          "output_type": "execute_result",
          "data": {
            "text/plain": [
              "array(['State-gov', 'Self-emp-not-inc', 'Private', 'Federal-gov',\n",
              "       'Local-gov', '?', 'Self-emp-inc', 'Without-pay', 'Never-worked'],\n",
              "      dtype=object)"
            ]
          },
          "metadata": {
            "tags": []
          },
          "execution_count": 28
        }
      ]
    },
    {
      "cell_type": "code",
      "metadata": {
        "id": "pWxTXKrTs-js",
        "outputId": "0fe9e5f5-c8e3-4e55-f2a9-00b3383f0f8f"
      },
      "source": [
        "data['education'].unique()"
      ],
      "execution_count": null,
      "outputs": [
        {
          "output_type": "execute_result",
          "data": {
            "text/plain": [
              "array(['Bachelors', 'HS-grad', '11th', 'Masters', '9th', 'Some-college',\n",
              "       'Assoc-acdm', 'Assoc-voc', '7th-8th', 'Doctorate', 'Prof-school',\n",
              "       '5th-6th', '10th', '1st-4th', 'Preschool', '12th'], dtype=object)"
            ]
          },
          "metadata": {
            "tags": []
          },
          "execution_count": 29
        }
      ]
    },
    {
      "cell_type": "code",
      "metadata": {
        "id": "q96gND0As-jv",
        "outputId": "6d46d776-7567-44ee-9ec8-6550d51feda6"
      },
      "source": [
        "for name in data['education'].unique():\n",
        "    print(name, data['education-num'][data['education'] == name].iloc[0])"
      ],
      "execution_count": null,
      "outputs": [
        {
          "output_type": "stream",
          "text": [
            "Bachelors 13\n",
            "HS-grad 9\n",
            "11th 7\n",
            "Masters 14\n",
            "9th 5\n",
            "Some-college 10\n",
            "Assoc-acdm 12\n",
            "Assoc-voc 11\n",
            "7th-8th 4\n",
            "Doctorate 16\n",
            "Prof-school 15\n",
            "5th-6th 3\n",
            "10th 6\n",
            "1st-4th 2\n",
            "Preschool 1\n",
            "12th 8\n"
          ],
          "name": "stdout"
        }
      ]
    },
    {
      "cell_type": "code",
      "metadata": {
        "id": "B4ye50h6s-jz",
        "outputId": "c6f8b49a-624a-4d5f-9f1a-14f790695e3e"
      },
      "source": [
        "data['native-country'].unique()"
      ],
      "execution_count": null,
      "outputs": [
        {
          "output_type": "execute_result",
          "data": {
            "text/plain": [
              "array(['United-States', 'Cuba', 'Jamaica', 'India', '?', 'Mexico',\n",
              "       'South', 'Puerto-Rico', 'Honduras', 'England', 'Canada', 'Germany',\n",
              "       'Iran', 'Philippines', 'Italy', 'Poland', 'Columbia', 'Cambodia',\n",
              "       'Thailand', 'Ecuador', 'Laos', 'Taiwan', 'Haiti', 'Portugal',\n",
              "       'Dominican-Republic', 'El-Salvador', 'France', 'Guatemala',\n",
              "       'China', 'Japan', 'Yugoslavia', 'Peru',\n",
              "       'Outlying-US(Guam-USVI-etc)', 'Scotland', 'Trinadad&Tobago',\n",
              "       'Greece', 'Nicaragua', 'Vietnam', 'Hong', 'Ireland', 'Hungary',\n",
              "       'Holand-Netherlands'], dtype=object)"
            ]
          },
          "metadata": {
            "tags": []
          },
          "execution_count": 31
        }
      ]
    },
    {
      "cell_type": "markdown",
      "metadata": {
        "id": "cjwpuybYs-j5"
      },
      "source": [
        "## Задача\n",
        "\n",
        "С `capital-gain` и `capital-loss` задача кажется слишком простой\n",
        "\n",
        "`education-num` и `education` \"совпадают\""
      ]
    },
    {
      "cell_type": "code",
      "metadata": {
        "id": "uza1DI8ks-j8",
        "colab": {
          "base_uri": "https://localhost:8080/",
          "height": 217
        },
        "outputId": "feb91594-cde7-408e-b34d-a90ee70a8bd6"
      },
      "source": [
        "data = data.drop('capital-gain', axis = 1)\\\n",
        "            .drop('capital-loss', axis = 1)\\\n",
        "           .drop('education',    axis = 1)\\\n",
        "           .drop('native-country', axis = 1).drop('fnlwgt', axis = 1)"
      ],
      "execution_count": null,
      "outputs": [
        {
          "output_type": "error",
          "ename": "NameError",
          "evalue": "ignored",
          "traceback": [
            "\u001b[0;31m---------------------------------------------------------------------------\u001b[0m",
            "\u001b[0;31mNameError\u001b[0m                                 Traceback (most recent call last)",
            "\u001b[0;32m<ipython-input-1-7b3fcbe6b66e>\u001b[0m in \u001b[0;36m<module>\u001b[0;34m\u001b[0m\n\u001b[0;32m----> 1\u001b[0;31m \u001b[0mdata\u001b[0m \u001b[0;34m=\u001b[0m \u001b[0mdata\u001b[0m\u001b[0;34m.\u001b[0m\u001b[0mdrop\u001b[0m\u001b[0;34m(\u001b[0m\u001b[0;34m'capital-gain'\u001b[0m\u001b[0;34m,\u001b[0m \u001b[0maxis\u001b[0m \u001b[0;34m=\u001b[0m \u001b[0;36m1\u001b[0m\u001b[0;34m)\u001b[0m\u001b[0;31m\\\u001b[0m\u001b[0;34m\u001b[0m\u001b[0;34m\u001b[0m\u001b[0m\n\u001b[0m\u001b[1;32m      2\u001b[0m             \u001b[0;34m.\u001b[0m\u001b[0mdrop\u001b[0m\u001b[0;34m(\u001b[0m\u001b[0;34m'capital-loss'\u001b[0m\u001b[0;34m,\u001b[0m \u001b[0maxis\u001b[0m \u001b[0;34m=\u001b[0m \u001b[0;36m1\u001b[0m\u001b[0;34m)\u001b[0m\u001b[0;31m\\\u001b[0m\u001b[0;34m\u001b[0m\u001b[0;34m\u001b[0m\u001b[0m\n\u001b[1;32m      3\u001b[0m            \u001b[0;34m.\u001b[0m\u001b[0mdrop\u001b[0m\u001b[0;34m(\u001b[0m\u001b[0;34m'education'\u001b[0m\u001b[0;34m,\u001b[0m    \u001b[0maxis\u001b[0m \u001b[0;34m=\u001b[0m \u001b[0;36m1\u001b[0m\u001b[0;34m)\u001b[0m\u001b[0;31m\\\u001b[0m\u001b[0;34m\u001b[0m\u001b[0;34m\u001b[0m\u001b[0m\n\u001b[1;32m      4\u001b[0m            \u001b[0;34m.\u001b[0m\u001b[0mdrop\u001b[0m\u001b[0;34m(\u001b[0m\u001b[0;34m'native-country'\u001b[0m\u001b[0;34m,\u001b[0m \u001b[0maxis\u001b[0m \u001b[0;34m=\u001b[0m \u001b[0;36m1\u001b[0m\u001b[0;34m)\u001b[0m\u001b[0;34m.\u001b[0m\u001b[0mdrop\u001b[0m\u001b[0;34m(\u001b[0m\u001b[0;34m'fnlwgt'\u001b[0m\u001b[0;34m,\u001b[0m \u001b[0maxis\u001b[0m \u001b[0;34m=\u001b[0m \u001b[0;36m1\u001b[0m\u001b[0;34m)\u001b[0m\u001b[0;34m\u001b[0m\u001b[0;34m\u001b[0m\u001b[0m\n",
            "\u001b[0;31mNameError\u001b[0m: name 'data' is not defined"
          ]
        }
      ]
    },
    {
      "cell_type": "code",
      "metadata": {
        "id": "bzBPUxmbs-j_"
      },
      "source": [
        "# так тоже работает\n",
        "# data.drop(['capital-gain','capital-loss'], axis = 1) "
      ],
      "execution_count": null,
      "outputs": []
    },
    {
      "cell_type": "markdown",
      "metadata": {
        "id": "vCfJIMUjs-kC"
      },
      "source": [
        "# Готовим данные"
      ]
    },
    {
      "cell_type": "code",
      "metadata": {
        "id": "T5R1ppiNs-kC",
        "outputId": "87b00988-f6c0-4fff-e4bf-c0f536461c03"
      },
      "source": [
        "data['workclass'].dtype.name"
      ],
      "execution_count": null,
      "outputs": [
        {
          "output_type": "execute_result",
          "data": {
            "text/plain": [
              "'object'"
            ]
          },
          "metadata": {
            "tags": []
          },
          "execution_count": 34
        }
      ]
    },
    {
      "cell_type": "code",
      "metadata": {
        "id": "B43Aps4Ns-kF",
        "outputId": "1b085669-91d1-49cd-ed7d-a4e20ecb3a74"
      },
      "source": [
        "data['education-num'].dtype.name"
      ],
      "execution_count": null,
      "outputs": [
        {
          "output_type": "execute_result",
          "data": {
            "text/plain": [
              "'int64'"
            ]
          },
          "metadata": {
            "tags": []
          },
          "execution_count": 35
        }
      ]
    },
    {
      "cell_type": "code",
      "metadata": {
        "id": "6UOfIJoDs-kK"
      },
      "source": [
        "#categorical_columns = []\n",
        "#numerical_columns = []\n",
        "#for c in data.columns:\n",
        "#    if data[c].dtype.name == 'object':\n",
        "#        categorical_columns.append(c)\n",
        "#    else:\n",
        "#        numerical_columns.append(c)          "
      ],
      "execution_count": null,
      "outputs": []
    },
    {
      "cell_type": "code",
      "metadata": {
        "id": "yC0kH_hUs-kR",
        "outputId": "57935462-db2f-4f18-9a44-abf3da54ba56"
      },
      "source": [
        "categorical_columns = [c for c in data.columns if data[c].dtype.name == 'object']\n",
        "numerical_columns   = [c for c in data.columns if data[c].dtype.name != 'object']\n",
        "print(categorical_columns)\n",
        "print(numerical_columns)"
      ],
      "execution_count": null,
      "outputs": [
        {
          "output_type": "stream",
          "text": [
            "['workclass', 'marital-status', 'occupation', 'relationship', 'race', 'sex', 'class']\n",
            "['age', 'education-num', 'hours-per-week']\n"
          ],
          "name": "stdout"
        }
      ]
    },
    {
      "cell_type": "code",
      "metadata": {
        "id": "uNJrfa3Is-kU",
        "outputId": "1d2b97da-536c-485b-d4ba-bcadd9b4f750"
      },
      "source": [
        "for c in categorical_columns:\n",
        "    print(c, data[c].unique())"
      ],
      "execution_count": null,
      "outputs": [
        {
          "output_type": "stream",
          "text": [
            "workclass ['State-gov' 'Self-emp-not-inc' 'Private' 'Federal-gov' 'Local-gov' '?'\n",
            " 'Self-emp-inc' 'Without-pay' 'Never-worked']\n",
            "marital-status ['Never-married' 'Married-civ-spouse' 'Divorced' 'Married-spouse-absent'\n",
            " 'Separated' 'Married-AF-spouse' 'Widowed']\n",
            "occupation ['Adm-clerical' 'Exec-managerial' 'Handlers-cleaners' 'Prof-specialty'\n",
            " 'Other-service' 'Sales' 'Craft-repair' 'Transport-moving'\n",
            " 'Farming-fishing' 'Machine-op-inspct' 'Tech-support' '?'\n",
            " 'Protective-serv' 'Armed-Forces' 'Priv-house-serv']\n",
            "relationship ['Not-in-family' 'Husband' 'Wife' 'Own-child' 'Unmarried' 'Other-relative']\n",
            "race ['White' 'Black' 'Asian-Pac-Islander' 'Amer-Indian-Eskimo' 'Other']\n",
            "sex ['Male' 'Female']\n",
            "class ['<=50K' '>50K']\n"
          ],
          "name": "stdout"
        }
      ]
    },
    {
      "cell_type": "markdown",
      "metadata": {
        "id": "45WMsxwKs-kX"
      },
      "source": [
        "## Обрабатываем пропущенные значения\n",
        "\n",
        "Если данные содержат пропущенные значения, то имеется две простые альтернативы:\n",
        "- удалить столбцы с такими значениями (`data = data.dropna(axis = 1)`),\n",
        "- удалить строки с такими значениями (`data = data.dropna(axis = 0)`).\n",
        "\n",
        "После этого данных может стать совсем мало.\n",
        "\n",
        "Куда более эффективным (и в то же время по-прежнему простым) методом обычно является заполнение пропущенных значений для каждой количественной переменной их средним или медианным значением. \n",
        "Для категориальных признаков пропущенные значения можно заполнить самым популярным значением в столбце."
      ]
    },
    {
      "cell_type": "code",
      "metadata": {
        "id": "gsEX_Docs-kY",
        "outputId": "580afe41-2103-4a96-e4d5-4706bf7eb329"
      },
      "source": [
        "data.median(axis = 0)"
      ],
      "execution_count": null,
      "outputs": [
        {
          "output_type": "execute_result",
          "data": {
            "text/plain": [
              "age               37.0\n",
              "education-num     10.0\n",
              "hours-per-week    40.0\n",
              "dtype: float64"
            ]
          },
          "metadata": {
            "tags": []
          },
          "execution_count": 39
        }
      ]
    },
    {
      "cell_type": "code",
      "metadata": {
        "id": "D_Q6E4I3s-kb"
      },
      "source": [
        "data = data.fillna(data.median(axis = 0), axis = 0)"
      ],
      "execution_count": null,
      "outputs": []
    },
    {
      "cell_type": "code",
      "metadata": {
        "id": "_o65Oymqs-kd",
        "outputId": "2427c870-2aa2-4ee3-f12f-2e9f779c071d"
      },
      "source": [
        "data[numerical_columns].count(axis = 0)"
      ],
      "execution_count": null,
      "outputs": [
        {
          "output_type": "execute_result",
          "data": {
            "text/plain": [
              "age               32561\n",
              "education-num     32561\n",
              "hours-per-week    32561\n",
              "dtype: int64"
            ]
          },
          "metadata": {
            "tags": []
          },
          "execution_count": 41
        }
      ]
    },
    {
      "cell_type": "code",
      "metadata": {
        "id": "fnQoEx_Ns-kg",
        "outputId": "d15f9a0b-dbbb-43a0-efaf-64783f77895f"
      },
      "source": [
        "data[categorical_columns].count(axis = 0)"
      ],
      "execution_count": null,
      "outputs": [
        {
          "output_type": "execute_result",
          "data": {
            "text/plain": [
              "workclass         32561\n",
              "marital-status    32561\n",
              "occupation        32561\n",
              "relationship      32561\n",
              "race              32561\n",
              "sex               32561\n",
              "class             32561\n",
              "dtype: int64"
            ]
          },
          "metadata": {
            "tags": []
          },
          "execution_count": 42
        }
      ]
    },
    {
      "cell_type": "code",
      "metadata": {
        "id": "EeX3m-tvs-kj",
        "outputId": "1cac964f-8c74-4326-ae4d-45cd430d62c2"
      },
      "source": [
        "data['workclass'].describe()"
      ],
      "execution_count": null,
      "outputs": [
        {
          "output_type": "execute_result",
          "data": {
            "text/plain": [
              "count       32561\n",
              "unique          9\n",
              "top       Private\n",
              "freq        22696\n",
              "Name: workclass, dtype: object"
            ]
          },
          "metadata": {
            "tags": []
          },
          "execution_count": 43
        }
      ]
    },
    {
      "cell_type": "code",
      "metadata": {
        "id": "VeF3pYwJs-km"
      },
      "source": [
        "data.loc[data.workclass == \"?\", 'workclass'] = None"
      ],
      "execution_count": null,
      "outputs": []
    },
    {
      "cell_type": "code",
      "metadata": {
        "id": "Y0FF1xffs-kq",
        "outputId": "d4eb3591-bdbe-4985-e9c6-6bf1f2bc723d"
      },
      "source": [
        "data.describe(include = [object])"
      ],
      "execution_count": null,
      "outputs": [
        {
          "output_type": "execute_result",
          "data": {
            "text/html": [
              "<div>\n",
              "<style scoped>\n",
              "    .dataframe tbody tr th:only-of-type {\n",
              "        vertical-align: middle;\n",
              "    }\n",
              "\n",
              "    .dataframe tbody tr th {\n",
              "        vertical-align: top;\n",
              "    }\n",
              "\n",
              "    .dataframe thead th {\n",
              "        text-align: right;\n",
              "    }\n",
              "</style>\n",
              "<table border=\"1\" class=\"dataframe\">\n",
              "  <thead>\n",
              "    <tr style=\"text-align: right;\">\n",
              "      <th></th>\n",
              "      <th>workclass</th>\n",
              "      <th>marital-status</th>\n",
              "      <th>occupation</th>\n",
              "      <th>relationship</th>\n",
              "      <th>race</th>\n",
              "      <th>sex</th>\n",
              "      <th>class</th>\n",
              "    </tr>\n",
              "  </thead>\n",
              "  <tbody>\n",
              "    <tr>\n",
              "      <th>count</th>\n",
              "      <td>30725</td>\n",
              "      <td>32561</td>\n",
              "      <td>32561</td>\n",
              "      <td>32561</td>\n",
              "      <td>32561</td>\n",
              "      <td>32561</td>\n",
              "      <td>32561</td>\n",
              "    </tr>\n",
              "    <tr>\n",
              "      <th>unique</th>\n",
              "      <td>8</td>\n",
              "      <td>7</td>\n",
              "      <td>15</td>\n",
              "      <td>6</td>\n",
              "      <td>5</td>\n",
              "      <td>2</td>\n",
              "      <td>2</td>\n",
              "    </tr>\n",
              "    <tr>\n",
              "      <th>top</th>\n",
              "      <td>Private</td>\n",
              "      <td>Married-civ-spouse</td>\n",
              "      <td>Prof-specialty</td>\n",
              "      <td>Husband</td>\n",
              "      <td>White</td>\n",
              "      <td>Male</td>\n",
              "      <td>&lt;=50K</td>\n",
              "    </tr>\n",
              "    <tr>\n",
              "      <th>freq</th>\n",
              "      <td>22696</td>\n",
              "      <td>14976</td>\n",
              "      <td>4140</td>\n",
              "      <td>13193</td>\n",
              "      <td>27816</td>\n",
              "      <td>21790</td>\n",
              "      <td>24720</td>\n",
              "    </tr>\n",
              "  </tbody>\n",
              "</table>\n",
              "</div>"
            ],
            "text/plain": [
              "       workclass      marital-status      occupation relationship   race  \\\n",
              "count      30725               32561           32561        32561  32561   \n",
              "unique         8                   7              15            6      5   \n",
              "top      Private  Married-civ-spouse  Prof-specialty      Husband  White   \n",
              "freq       22696               14976            4140        13193  27816   \n",
              "\n",
              "          sex  class  \n",
              "count   32561  32561  \n",
              "unique      2      2  \n",
              "top      Male  <=50K  \n",
              "freq    21790  24720  "
            ]
          },
          "metadata": {
            "tags": []
          },
          "execution_count": 45
        }
      ]
    },
    {
      "cell_type": "code",
      "metadata": {
        "id": "B5Ia3VUEs-kt",
        "outputId": "7f15f1cb-bb72-4aa3-b75e-64778b89a72f"
      },
      "source": [
        "type(data['workclass'].describe())"
      ],
      "execution_count": null,
      "outputs": [
        {
          "output_type": "execute_result",
          "data": {
            "text/plain": [
              "pandas.core.series.Series"
            ]
          },
          "metadata": {
            "tags": []
          },
          "execution_count": 46
        }
      ]
    },
    {
      "cell_type": "code",
      "metadata": {
        "id": "b52SHmqzs-k4",
        "outputId": "cb29134c-265c-4d64-f8cf-3cb5f0668003"
      },
      "source": [
        "data['workclass'].describe().top"
      ],
      "execution_count": null,
      "outputs": [
        {
          "output_type": "execute_result",
          "data": {
            "text/plain": [
              "'Private'"
            ]
          },
          "metadata": {
            "tags": []
          },
          "execution_count": 47
        }
      ]
    },
    {
      "cell_type": "code",
      "metadata": {
        "id": "KB8ZqEn_s-k7"
      },
      "source": [
        "data['workclass'] = data['workclass'].fillna('Private')"
      ],
      "execution_count": null,
      "outputs": []
    },
    {
      "cell_type": "code",
      "metadata": {
        "id": "i7yEAVN4s-k-",
        "outputId": "844a1048-55fd-4f49-8788-70de9ad59e76"
      },
      "source": [
        "data.describe(include = [object])"
      ],
      "execution_count": null,
      "outputs": [
        {
          "output_type": "execute_result",
          "data": {
            "text/html": [
              "<div>\n",
              "<style scoped>\n",
              "    .dataframe tbody tr th:only-of-type {\n",
              "        vertical-align: middle;\n",
              "    }\n",
              "\n",
              "    .dataframe tbody tr th {\n",
              "        vertical-align: top;\n",
              "    }\n",
              "\n",
              "    .dataframe thead th {\n",
              "        text-align: right;\n",
              "    }\n",
              "</style>\n",
              "<table border=\"1\" class=\"dataframe\">\n",
              "  <thead>\n",
              "    <tr style=\"text-align: right;\">\n",
              "      <th></th>\n",
              "      <th>workclass</th>\n",
              "      <th>marital-status</th>\n",
              "      <th>occupation</th>\n",
              "      <th>relationship</th>\n",
              "      <th>race</th>\n",
              "      <th>sex</th>\n",
              "      <th>class</th>\n",
              "    </tr>\n",
              "  </thead>\n",
              "  <tbody>\n",
              "    <tr>\n",
              "      <th>count</th>\n",
              "      <td>32561</td>\n",
              "      <td>32561</td>\n",
              "      <td>32561</td>\n",
              "      <td>32561</td>\n",
              "      <td>32561</td>\n",
              "      <td>32561</td>\n",
              "      <td>32561</td>\n",
              "    </tr>\n",
              "    <tr>\n",
              "      <th>unique</th>\n",
              "      <td>8</td>\n",
              "      <td>7</td>\n",
              "      <td>15</td>\n",
              "      <td>6</td>\n",
              "      <td>5</td>\n",
              "      <td>2</td>\n",
              "      <td>2</td>\n",
              "    </tr>\n",
              "    <tr>\n",
              "      <th>top</th>\n",
              "      <td>Private</td>\n",
              "      <td>Married-civ-spouse</td>\n",
              "      <td>Prof-specialty</td>\n",
              "      <td>Husband</td>\n",
              "      <td>White</td>\n",
              "      <td>Male</td>\n",
              "      <td>&lt;=50K</td>\n",
              "    </tr>\n",
              "    <tr>\n",
              "      <th>freq</th>\n",
              "      <td>24532</td>\n",
              "      <td>14976</td>\n",
              "      <td>4140</td>\n",
              "      <td>13193</td>\n",
              "      <td>27816</td>\n",
              "      <td>21790</td>\n",
              "      <td>24720</td>\n",
              "    </tr>\n",
              "  </tbody>\n",
              "</table>\n",
              "</div>"
            ],
            "text/plain": [
              "       workclass      marital-status      occupation relationship   race  \\\n",
              "count      32561               32561           32561        32561  32561   \n",
              "unique         8                   7              15            6      5   \n",
              "top      Private  Married-civ-spouse  Prof-specialty      Husband  White   \n",
              "freq       24532               14976            4140        13193  27816   \n",
              "\n",
              "          sex  class  \n",
              "count   32561  32561  \n",
              "unique      2      2  \n",
              "top      Male  <=50K  \n",
              "freq    21790  24720  "
            ]
          },
          "metadata": {
            "tags": []
          },
          "execution_count": 49
        }
      ]
    },
    {
      "cell_type": "code",
      "metadata": {
        "id": "i82B7Av2s-lB"
      },
      "source": [
        "data_describe = data.describe(include = [object])\n",
        "for c in categorical_columns:\n",
        "    data[c] = data[c].fillna(data_describe[c]['top'])"
      ],
      "execution_count": null,
      "outputs": []
    },
    {
      "cell_type": "code",
      "metadata": {
        "id": "dDqf51-ys-lD",
        "outputId": "3dbee7a9-b3c6-4cdc-b13d-9b5970afe4ae"
      },
      "source": [
        "data.describe(include = [object])"
      ],
      "execution_count": null,
      "outputs": [
        {
          "output_type": "execute_result",
          "data": {
            "text/html": [
              "<div>\n",
              "<style scoped>\n",
              "    .dataframe tbody tr th:only-of-type {\n",
              "        vertical-align: middle;\n",
              "    }\n",
              "\n",
              "    .dataframe tbody tr th {\n",
              "        vertical-align: top;\n",
              "    }\n",
              "\n",
              "    .dataframe thead th {\n",
              "        text-align: right;\n",
              "    }\n",
              "</style>\n",
              "<table border=\"1\" class=\"dataframe\">\n",
              "  <thead>\n",
              "    <tr style=\"text-align: right;\">\n",
              "      <th></th>\n",
              "      <th>workclass</th>\n",
              "      <th>marital-status</th>\n",
              "      <th>occupation</th>\n",
              "      <th>relationship</th>\n",
              "      <th>race</th>\n",
              "      <th>sex</th>\n",
              "      <th>class</th>\n",
              "    </tr>\n",
              "  </thead>\n",
              "  <tbody>\n",
              "    <tr>\n",
              "      <th>count</th>\n",
              "      <td>32561</td>\n",
              "      <td>32561</td>\n",
              "      <td>32561</td>\n",
              "      <td>32561</td>\n",
              "      <td>32561</td>\n",
              "      <td>32561</td>\n",
              "      <td>32561</td>\n",
              "    </tr>\n",
              "    <tr>\n",
              "      <th>unique</th>\n",
              "      <td>8</td>\n",
              "      <td>7</td>\n",
              "      <td>15</td>\n",
              "      <td>6</td>\n",
              "      <td>5</td>\n",
              "      <td>2</td>\n",
              "      <td>2</td>\n",
              "    </tr>\n",
              "    <tr>\n",
              "      <th>top</th>\n",
              "      <td>Private</td>\n",
              "      <td>Married-civ-spouse</td>\n",
              "      <td>Prof-specialty</td>\n",
              "      <td>Husband</td>\n",
              "      <td>White</td>\n",
              "      <td>Male</td>\n",
              "      <td>&lt;=50K</td>\n",
              "    </tr>\n",
              "    <tr>\n",
              "      <th>freq</th>\n",
              "      <td>24532</td>\n",
              "      <td>14976</td>\n",
              "      <td>4140</td>\n",
              "      <td>13193</td>\n",
              "      <td>27816</td>\n",
              "      <td>21790</td>\n",
              "      <td>24720</td>\n",
              "    </tr>\n",
              "  </tbody>\n",
              "</table>\n",
              "</div>"
            ],
            "text/plain": [
              "       workclass      marital-status      occupation relationship   race  \\\n",
              "count      32561               32561           32561        32561  32561   \n",
              "unique         8                   7              15            6      5   \n",
              "top      Private  Married-civ-spouse  Prof-specialty      Husband  White   \n",
              "freq       24532               14976            4140        13193  27816   \n",
              "\n",
              "          sex  class  \n",
              "count   32561  32561  \n",
              "unique      2      2  \n",
              "top      Male  <=50K  \n",
              "freq    21790  24720  "
            ]
          },
          "metadata": {
            "tags": []
          },
          "execution_count": 51
        }
      ]
    },
    {
      "cell_type": "markdown",
      "metadata": {
        "id": "_qpigGS7s-lG"
      },
      "source": [
        "## Векторизация\n",
        "\n",
        "Нужно что-то сделать с категориальными (номинальными) признаками"
      ]
    },
    {
      "cell_type": "code",
      "metadata": {
        "id": "2WnaxVYds-lG",
        "outputId": "76ec05d0-9ba3-4123-84fc-a16d5499cdea"
      },
      "source": [
        "binary_columns    = [c for c in categorical_columns if data_describe[c]['unique'] == 2]\n",
        "nonbinary_columns = [c for c in categorical_columns if data_describe[c]['unique'] > 2]\n",
        "print(binary_columns, nonbinary_columns)"
      ],
      "execution_count": null,
      "outputs": [
        {
          "output_type": "stream",
          "text": [
            "['sex', 'class'] ['workclass', 'marital-status', 'occupation', 'relationship', 'race']\n"
          ],
          "name": "stdout"
        }
      ]
    },
    {
      "cell_type": "code",
      "metadata": {
        "id": "1yrPokUes-lJ",
        "outputId": "fe5deff5-d2bf-4588-9c0a-99567c20b2b0"
      },
      "source": [
        "data['sex'].unique()"
      ],
      "execution_count": null,
      "outputs": [
        {
          "output_type": "execute_result",
          "data": {
            "text/plain": [
              "array(['Male', 'Female'], dtype=object)"
            ]
          },
          "metadata": {
            "tags": []
          },
          "execution_count": 53
        }
      ]
    },
    {
      "cell_type": "code",
      "metadata": {
        "id": "M531_v2qs-lL",
        "outputId": "dd35e003-478e-4619-d1c6-e10bbfbd923b"
      },
      "source": [
        "data.at[data['sex'] == 'Male', 'sex'] = 0\n",
        "data.at[data['sex'] == 'Female', 'sex'] = 1\n",
        "data['sex'].describe()"
      ],
      "execution_count": null,
      "outputs": [
        {
          "output_type": "execute_result",
          "data": {
            "text/plain": [
              "count    32561.000000\n",
              "mean         0.330795\n",
              "std          0.470506\n",
              "min          0.000000\n",
              "25%          0.000000\n",
              "50%          0.000000\n",
              "75%          1.000000\n",
              "max          1.000000\n",
              "Name: sex, dtype: float64"
            ]
          },
          "metadata": {
            "tags": []
          },
          "execution_count": 54
        }
      ]
    },
    {
      "cell_type": "markdown",
      "metadata": {
        "id": "XssF0RLPs-lP"
      },
      "source": [
        "К небинарными признакам применим метод _векторизации_, \n",
        "который заключается в следующем.\n",
        "\n",
        "Признак `j`, принимающий `s` значений, заменим на `s` признаков, принимащих значения `0` или `1`,\n",
        "в зависимости от того, чему равно значение исходного признака `j`.\n",
        "\n",
        "Например, в нашей задаче признак `race` принимает 5 различных значений: "
      ]
    },
    {
      "cell_type": "code",
      "metadata": {
        "id": "lQH8Bhens-lQ",
        "outputId": "c95ce16b-aa75-4f67-b015-e9a7eb448cbf"
      },
      "source": [
        "data['race'].unique()"
      ],
      "execution_count": null,
      "outputs": [
        {
          "output_type": "execute_result",
          "data": {
            "text/plain": [
              "array(['White', 'Black', 'Asian-Pac-Islander', 'Amer-Indian-Eskimo',\n",
              "       'Other'], dtype=object)"
            ]
          },
          "metadata": {
            "tags": []
          },
          "execution_count": 55
        }
      ]
    },
    {
      "cell_type": "markdown",
      "metadata": {
        "id": "_w_1Q_P3s-lU"
      },
      "source": [
        "Заменим признак `race` 5 признаками: `race_White`, `race_Black`, ..., `race_Other`.\n",
        "\n",
        " - Если признак `race` принимает значение `White`, то признак `race_White` равен `1`, а все остальные равны `0`.\n",
        " - Если признак `race` принимает значение `Black`, то признак `race_Black` равен `1`, а все остальные равны `0`.\n",
        " - и т.д.\n",
        "\n",
        "Такую векторизацию осуществляет в pandas метод `get_dummies`:"
      ]
    },
    {
      "cell_type": "code",
      "metadata": {
        "id": "w1w1buSis-lW",
        "outputId": "4a023ed5-ab26-44bb-b76e-96d02357356a"
      },
      "source": [
        "data[nonbinary_columns]"
      ],
      "execution_count": null,
      "outputs": [
        {
          "output_type": "execute_result",
          "data": {
            "text/html": [
              "<div>\n",
              "<style scoped>\n",
              "    .dataframe tbody tr th:only-of-type {\n",
              "        vertical-align: middle;\n",
              "    }\n",
              "\n",
              "    .dataframe tbody tr th {\n",
              "        vertical-align: top;\n",
              "    }\n",
              "\n",
              "    .dataframe thead th {\n",
              "        text-align: right;\n",
              "    }\n",
              "</style>\n",
              "<table border=\"1\" class=\"dataframe\">\n",
              "  <thead>\n",
              "    <tr style=\"text-align: right;\">\n",
              "      <th></th>\n",
              "      <th>workclass</th>\n",
              "      <th>marital-status</th>\n",
              "      <th>occupation</th>\n",
              "      <th>relationship</th>\n",
              "      <th>race</th>\n",
              "    </tr>\n",
              "  </thead>\n",
              "  <tbody>\n",
              "    <tr>\n",
              "      <th>0</th>\n",
              "      <td>State-gov</td>\n",
              "      <td>Never-married</td>\n",
              "      <td>Adm-clerical</td>\n",
              "      <td>Not-in-family</td>\n",
              "      <td>White</td>\n",
              "    </tr>\n",
              "    <tr>\n",
              "      <th>1</th>\n",
              "      <td>Self-emp-not-inc</td>\n",
              "      <td>Married-civ-spouse</td>\n",
              "      <td>Exec-managerial</td>\n",
              "      <td>Husband</td>\n",
              "      <td>White</td>\n",
              "    </tr>\n",
              "    <tr>\n",
              "      <th>2</th>\n",
              "      <td>Private</td>\n",
              "      <td>Divorced</td>\n",
              "      <td>Handlers-cleaners</td>\n",
              "      <td>Not-in-family</td>\n",
              "      <td>White</td>\n",
              "    </tr>\n",
              "    <tr>\n",
              "      <th>3</th>\n",
              "      <td>Private</td>\n",
              "      <td>Married-civ-spouse</td>\n",
              "      <td>Handlers-cleaners</td>\n",
              "      <td>Husband</td>\n",
              "      <td>Black</td>\n",
              "    </tr>\n",
              "    <tr>\n",
              "      <th>4</th>\n",
              "      <td>Private</td>\n",
              "      <td>Married-civ-spouse</td>\n",
              "      <td>Prof-specialty</td>\n",
              "      <td>Wife</td>\n",
              "      <td>Black</td>\n",
              "    </tr>\n",
              "    <tr>\n",
              "      <th>5</th>\n",
              "      <td>Private</td>\n",
              "      <td>Married-civ-spouse</td>\n",
              "      <td>Exec-managerial</td>\n",
              "      <td>Wife</td>\n",
              "      <td>White</td>\n",
              "    </tr>\n",
              "    <tr>\n",
              "      <th>6</th>\n",
              "      <td>Private</td>\n",
              "      <td>Married-spouse-absent</td>\n",
              "      <td>Other-service</td>\n",
              "      <td>Not-in-family</td>\n",
              "      <td>Black</td>\n",
              "    </tr>\n",
              "    <tr>\n",
              "      <th>7</th>\n",
              "      <td>Self-emp-not-inc</td>\n",
              "      <td>Married-civ-spouse</td>\n",
              "      <td>Exec-managerial</td>\n",
              "      <td>Husband</td>\n",
              "      <td>White</td>\n",
              "    </tr>\n",
              "    <tr>\n",
              "      <th>8</th>\n",
              "      <td>Private</td>\n",
              "      <td>Never-married</td>\n",
              "      <td>Prof-specialty</td>\n",
              "      <td>Not-in-family</td>\n",
              "      <td>White</td>\n",
              "    </tr>\n",
              "    <tr>\n",
              "      <th>9</th>\n",
              "      <td>Private</td>\n",
              "      <td>Married-civ-spouse</td>\n",
              "      <td>Exec-managerial</td>\n",
              "      <td>Husband</td>\n",
              "      <td>White</td>\n",
              "    </tr>\n",
              "    <tr>\n",
              "      <th>10</th>\n",
              "      <td>Private</td>\n",
              "      <td>Married-civ-spouse</td>\n",
              "      <td>Exec-managerial</td>\n",
              "      <td>Husband</td>\n",
              "      <td>Black</td>\n",
              "    </tr>\n",
              "    <tr>\n",
              "      <th>11</th>\n",
              "      <td>State-gov</td>\n",
              "      <td>Married-civ-spouse</td>\n",
              "      <td>Prof-specialty</td>\n",
              "      <td>Husband</td>\n",
              "      <td>Asian-Pac-Islander</td>\n",
              "    </tr>\n",
              "    <tr>\n",
              "      <th>12</th>\n",
              "      <td>Private</td>\n",
              "      <td>Never-married</td>\n",
              "      <td>Adm-clerical</td>\n",
              "      <td>Own-child</td>\n",
              "      <td>White</td>\n",
              "    </tr>\n",
              "    <tr>\n",
              "      <th>13</th>\n",
              "      <td>Private</td>\n",
              "      <td>Never-married</td>\n",
              "      <td>Sales</td>\n",
              "      <td>Not-in-family</td>\n",
              "      <td>Black</td>\n",
              "    </tr>\n",
              "    <tr>\n",
              "      <th>14</th>\n",
              "      <td>Private</td>\n",
              "      <td>Married-civ-spouse</td>\n",
              "      <td>Craft-repair</td>\n",
              "      <td>Husband</td>\n",
              "      <td>Asian-Pac-Islander</td>\n",
              "    </tr>\n",
              "    <tr>\n",
              "      <th>15</th>\n",
              "      <td>Private</td>\n",
              "      <td>Married-civ-spouse</td>\n",
              "      <td>Transport-moving</td>\n",
              "      <td>Husband</td>\n",
              "      <td>Amer-Indian-Eskimo</td>\n",
              "    </tr>\n",
              "    <tr>\n",
              "      <th>16</th>\n",
              "      <td>Self-emp-not-inc</td>\n",
              "      <td>Never-married</td>\n",
              "      <td>Farming-fishing</td>\n",
              "      <td>Own-child</td>\n",
              "      <td>White</td>\n",
              "    </tr>\n",
              "    <tr>\n",
              "      <th>17</th>\n",
              "      <td>Private</td>\n",
              "      <td>Never-married</td>\n",
              "      <td>Machine-op-inspct</td>\n",
              "      <td>Unmarried</td>\n",
              "      <td>White</td>\n",
              "    </tr>\n",
              "    <tr>\n",
              "      <th>18</th>\n",
              "      <td>Private</td>\n",
              "      <td>Married-civ-spouse</td>\n",
              "      <td>Sales</td>\n",
              "      <td>Husband</td>\n",
              "      <td>White</td>\n",
              "    </tr>\n",
              "    <tr>\n",
              "      <th>19</th>\n",
              "      <td>Self-emp-not-inc</td>\n",
              "      <td>Divorced</td>\n",
              "      <td>Exec-managerial</td>\n",
              "      <td>Unmarried</td>\n",
              "      <td>White</td>\n",
              "    </tr>\n",
              "    <tr>\n",
              "      <th>20</th>\n",
              "      <td>Private</td>\n",
              "      <td>Married-civ-spouse</td>\n",
              "      <td>Prof-specialty</td>\n",
              "      <td>Husband</td>\n",
              "      <td>White</td>\n",
              "    </tr>\n",
              "    <tr>\n",
              "      <th>21</th>\n",
              "      <td>Private</td>\n",
              "      <td>Separated</td>\n",
              "      <td>Other-service</td>\n",
              "      <td>Unmarried</td>\n",
              "      <td>Black</td>\n",
              "    </tr>\n",
              "    <tr>\n",
              "      <th>22</th>\n",
              "      <td>Federal-gov</td>\n",
              "      <td>Married-civ-spouse</td>\n",
              "      <td>Farming-fishing</td>\n",
              "      <td>Husband</td>\n",
              "      <td>Black</td>\n",
              "    </tr>\n",
              "    <tr>\n",
              "      <th>23</th>\n",
              "      <td>Private</td>\n",
              "      <td>Married-civ-spouse</td>\n",
              "      <td>Transport-moving</td>\n",
              "      <td>Husband</td>\n",
              "      <td>White</td>\n",
              "    </tr>\n",
              "    <tr>\n",
              "      <th>24</th>\n",
              "      <td>Private</td>\n",
              "      <td>Divorced</td>\n",
              "      <td>Tech-support</td>\n",
              "      <td>Unmarried</td>\n",
              "      <td>White</td>\n",
              "    </tr>\n",
              "    <tr>\n",
              "      <th>25</th>\n",
              "      <td>Local-gov</td>\n",
              "      <td>Married-civ-spouse</td>\n",
              "      <td>Tech-support</td>\n",
              "      <td>Husband</td>\n",
              "      <td>White</td>\n",
              "    </tr>\n",
              "    <tr>\n",
              "      <th>26</th>\n",
              "      <td>Private</td>\n",
              "      <td>Never-married</td>\n",
              "      <td>Craft-repair</td>\n",
              "      <td>Own-child</td>\n",
              "      <td>White</td>\n",
              "    </tr>\n",
              "    <tr>\n",
              "      <th>27</th>\n",
              "      <td>Private</td>\n",
              "      <td>Married-civ-spouse</td>\n",
              "      <td>?</td>\n",
              "      <td>Husband</td>\n",
              "      <td>Asian-Pac-Islander</td>\n",
              "    </tr>\n",
              "    <tr>\n",
              "      <th>28</th>\n",
              "      <td>Private</td>\n",
              "      <td>Divorced</td>\n",
              "      <td>Exec-managerial</td>\n",
              "      <td>Not-in-family</td>\n",
              "      <td>White</td>\n",
              "    </tr>\n",
              "    <tr>\n",
              "      <th>29</th>\n",
              "      <td>Private</td>\n",
              "      <td>Married-civ-spouse</td>\n",
              "      <td>Craft-repair</td>\n",
              "      <td>Husband</td>\n",
              "      <td>White</td>\n",
              "    </tr>\n",
              "    <tr>\n",
              "      <th>...</th>\n",
              "      <td>...</td>\n",
              "      <td>...</td>\n",
              "      <td>...</td>\n",
              "      <td>...</td>\n",
              "      <td>...</td>\n",
              "    </tr>\n",
              "    <tr>\n",
              "      <th>32531</th>\n",
              "      <td>Private</td>\n",
              "      <td>Never-married</td>\n",
              "      <td>?</td>\n",
              "      <td>Not-in-family</td>\n",
              "      <td>Asian-Pac-Islander</td>\n",
              "    </tr>\n",
              "    <tr>\n",
              "      <th>32532</th>\n",
              "      <td>Private</td>\n",
              "      <td>Married-civ-spouse</td>\n",
              "      <td>Prof-specialty</td>\n",
              "      <td>Husband</td>\n",
              "      <td>White</td>\n",
              "    </tr>\n",
              "    <tr>\n",
              "      <th>32533</th>\n",
              "      <td>Private</td>\n",
              "      <td>Married-civ-spouse</td>\n",
              "      <td>Exec-managerial</td>\n",
              "      <td>Husband</td>\n",
              "      <td>Asian-Pac-Islander</td>\n",
              "    </tr>\n",
              "    <tr>\n",
              "      <th>32534</th>\n",
              "      <td>Private</td>\n",
              "      <td>Divorced</td>\n",
              "      <td>Adm-clerical</td>\n",
              "      <td>Unmarried</td>\n",
              "      <td>White</td>\n",
              "    </tr>\n",
              "    <tr>\n",
              "      <th>32535</th>\n",
              "      <td>Private</td>\n",
              "      <td>Never-married</td>\n",
              "      <td>Protective-serv</td>\n",
              "      <td>Own-child</td>\n",
              "      <td>Black</td>\n",
              "    </tr>\n",
              "    <tr>\n",
              "      <th>32536</th>\n",
              "      <td>Private</td>\n",
              "      <td>Never-married</td>\n",
              "      <td>Exec-managerial</td>\n",
              "      <td>Not-in-family</td>\n",
              "      <td>White</td>\n",
              "    </tr>\n",
              "    <tr>\n",
              "      <th>32537</th>\n",
              "      <td>Private</td>\n",
              "      <td>Never-married</td>\n",
              "      <td>Craft-repair</td>\n",
              "      <td>Not-in-family</td>\n",
              "      <td>Black</td>\n",
              "    </tr>\n",
              "    <tr>\n",
              "      <th>32538</th>\n",
              "      <td>Private</td>\n",
              "      <td>Divorced</td>\n",
              "      <td>Prof-specialty</td>\n",
              "      <td>Unmarried</td>\n",
              "      <td>Black</td>\n",
              "    </tr>\n",
              "    <tr>\n",
              "      <th>32539</th>\n",
              "      <td>Private</td>\n",
              "      <td>Married-civ-spouse</td>\n",
              "      <td>?</td>\n",
              "      <td>Husband</td>\n",
              "      <td>White</td>\n",
              "    </tr>\n",
              "    <tr>\n",
              "      <th>32540</th>\n",
              "      <td>State-gov</td>\n",
              "      <td>Separated</td>\n",
              "      <td>Adm-clerical</td>\n",
              "      <td>Own-child</td>\n",
              "      <td>White</td>\n",
              "    </tr>\n",
              "    <tr>\n",
              "      <th>32541</th>\n",
              "      <td>Private</td>\n",
              "      <td>Separated</td>\n",
              "      <td>?</td>\n",
              "      <td>Not-in-family</td>\n",
              "      <td>Black</td>\n",
              "    </tr>\n",
              "    <tr>\n",
              "      <th>32542</th>\n",
              "      <td>Private</td>\n",
              "      <td>Married-civ-spouse</td>\n",
              "      <td>?</td>\n",
              "      <td>Husband</td>\n",
              "      <td>White</td>\n",
              "    </tr>\n",
              "    <tr>\n",
              "      <th>32543</th>\n",
              "      <td>Local-gov</td>\n",
              "      <td>Divorced</td>\n",
              "      <td>Prof-specialty</td>\n",
              "      <td>Unmarried</td>\n",
              "      <td>White</td>\n",
              "    </tr>\n",
              "    <tr>\n",
              "      <th>32544</th>\n",
              "      <td>Private</td>\n",
              "      <td>Divorced</td>\n",
              "      <td>Other-service</td>\n",
              "      <td>Not-in-family</td>\n",
              "      <td>Other</td>\n",
              "    </tr>\n",
              "    <tr>\n",
              "      <th>32545</th>\n",
              "      <td>Local-gov</td>\n",
              "      <td>Married-civ-spouse</td>\n",
              "      <td>Adm-clerical</td>\n",
              "      <td>Wife</td>\n",
              "      <td>White</td>\n",
              "    </tr>\n",
              "    <tr>\n",
              "      <th>32546</th>\n",
              "      <td>Private</td>\n",
              "      <td>Divorced</td>\n",
              "      <td>Tech-support</td>\n",
              "      <td>Not-in-family</td>\n",
              "      <td>White</td>\n",
              "    </tr>\n",
              "    <tr>\n",
              "      <th>32547</th>\n",
              "      <td>Private</td>\n",
              "      <td>Married-civ-spouse</td>\n",
              "      <td>Machine-op-inspct</td>\n",
              "      <td>Husband</td>\n",
              "      <td>White</td>\n",
              "    </tr>\n",
              "    <tr>\n",
              "      <th>32548</th>\n",
              "      <td>Self-emp-not-inc</td>\n",
              "      <td>Never-married</td>\n",
              "      <td>Prof-specialty</td>\n",
              "      <td>Not-in-family</td>\n",
              "      <td>White</td>\n",
              "    </tr>\n",
              "    <tr>\n",
              "      <th>32549</th>\n",
              "      <td>State-gov</td>\n",
              "      <td>Divorced</td>\n",
              "      <td>Adm-clerical</td>\n",
              "      <td>Other-relative</td>\n",
              "      <td>White</td>\n",
              "    </tr>\n",
              "    <tr>\n",
              "      <th>32550</th>\n",
              "      <td>Self-emp-not-inc</td>\n",
              "      <td>Married-civ-spouse</td>\n",
              "      <td>Craft-repair</td>\n",
              "      <td>Husband</td>\n",
              "      <td>White</td>\n",
              "    </tr>\n",
              "    <tr>\n",
              "      <th>32551</th>\n",
              "      <td>Private</td>\n",
              "      <td>Married-civ-spouse</td>\n",
              "      <td>Handlers-cleaners</td>\n",
              "      <td>Husband</td>\n",
              "      <td>Amer-Indian-Eskimo</td>\n",
              "    </tr>\n",
              "    <tr>\n",
              "      <th>32552</th>\n",
              "      <td>Private</td>\n",
              "      <td>Married-civ-spouse</td>\n",
              "      <td>Sales</td>\n",
              "      <td>Husband</td>\n",
              "      <td>White</td>\n",
              "    </tr>\n",
              "    <tr>\n",
              "      <th>32553</th>\n",
              "      <td>Private</td>\n",
              "      <td>Never-married</td>\n",
              "      <td>Tech-support</td>\n",
              "      <td>Not-in-family</td>\n",
              "      <td>Asian-Pac-Islander</td>\n",
              "    </tr>\n",
              "    <tr>\n",
              "      <th>32554</th>\n",
              "      <td>Private</td>\n",
              "      <td>Married-civ-spouse</td>\n",
              "      <td>Exec-managerial</td>\n",
              "      <td>Husband</td>\n",
              "      <td>White</td>\n",
              "    </tr>\n",
              "    <tr>\n",
              "      <th>32555</th>\n",
              "      <td>Private</td>\n",
              "      <td>Never-married</td>\n",
              "      <td>Protective-serv</td>\n",
              "      <td>Not-in-family</td>\n",
              "      <td>White</td>\n",
              "    </tr>\n",
              "    <tr>\n",
              "      <th>32556</th>\n",
              "      <td>Private</td>\n",
              "      <td>Married-civ-spouse</td>\n",
              "      <td>Tech-support</td>\n",
              "      <td>Wife</td>\n",
              "      <td>White</td>\n",
              "    </tr>\n",
              "    <tr>\n",
              "      <th>32557</th>\n",
              "      <td>Private</td>\n",
              "      <td>Married-civ-spouse</td>\n",
              "      <td>Machine-op-inspct</td>\n",
              "      <td>Husband</td>\n",
              "      <td>White</td>\n",
              "    </tr>\n",
              "    <tr>\n",
              "      <th>32558</th>\n",
              "      <td>Private</td>\n",
              "      <td>Widowed</td>\n",
              "      <td>Adm-clerical</td>\n",
              "      <td>Unmarried</td>\n",
              "      <td>White</td>\n",
              "    </tr>\n",
              "    <tr>\n",
              "      <th>32559</th>\n",
              "      <td>Private</td>\n",
              "      <td>Never-married</td>\n",
              "      <td>Adm-clerical</td>\n",
              "      <td>Own-child</td>\n",
              "      <td>White</td>\n",
              "    </tr>\n",
              "    <tr>\n",
              "      <th>32560</th>\n",
              "      <td>Self-emp-inc</td>\n",
              "      <td>Married-civ-spouse</td>\n",
              "      <td>Exec-managerial</td>\n",
              "      <td>Wife</td>\n",
              "      <td>White</td>\n",
              "    </tr>\n",
              "  </tbody>\n",
              "</table>\n",
              "<p>32561 rows × 5 columns</p>\n",
              "</div>"
            ],
            "text/plain": [
              "              workclass         marital-status         occupation  \\\n",
              "0             State-gov          Never-married       Adm-clerical   \n",
              "1      Self-emp-not-inc     Married-civ-spouse    Exec-managerial   \n",
              "2               Private               Divorced  Handlers-cleaners   \n",
              "3               Private     Married-civ-spouse  Handlers-cleaners   \n",
              "4               Private     Married-civ-spouse     Prof-specialty   \n",
              "5               Private     Married-civ-spouse    Exec-managerial   \n",
              "6               Private  Married-spouse-absent      Other-service   \n",
              "7      Self-emp-not-inc     Married-civ-spouse    Exec-managerial   \n",
              "8               Private          Never-married     Prof-specialty   \n",
              "9               Private     Married-civ-spouse    Exec-managerial   \n",
              "10              Private     Married-civ-spouse    Exec-managerial   \n",
              "11            State-gov     Married-civ-spouse     Prof-specialty   \n",
              "12              Private          Never-married       Adm-clerical   \n",
              "13              Private          Never-married              Sales   \n",
              "14              Private     Married-civ-spouse       Craft-repair   \n",
              "15              Private     Married-civ-spouse   Transport-moving   \n",
              "16     Self-emp-not-inc          Never-married    Farming-fishing   \n",
              "17              Private          Never-married  Machine-op-inspct   \n",
              "18              Private     Married-civ-spouse              Sales   \n",
              "19     Self-emp-not-inc               Divorced    Exec-managerial   \n",
              "20              Private     Married-civ-spouse     Prof-specialty   \n",
              "21              Private              Separated      Other-service   \n",
              "22          Federal-gov     Married-civ-spouse    Farming-fishing   \n",
              "23              Private     Married-civ-spouse   Transport-moving   \n",
              "24              Private               Divorced       Tech-support   \n",
              "25            Local-gov     Married-civ-spouse       Tech-support   \n",
              "26              Private          Never-married       Craft-repair   \n",
              "27              Private     Married-civ-spouse                  ?   \n",
              "28              Private               Divorced    Exec-managerial   \n",
              "29              Private     Married-civ-spouse       Craft-repair   \n",
              "...                 ...                    ...                ...   \n",
              "32531           Private          Never-married                  ?   \n",
              "32532           Private     Married-civ-spouse     Prof-specialty   \n",
              "32533           Private     Married-civ-spouse    Exec-managerial   \n",
              "32534           Private               Divorced       Adm-clerical   \n",
              "32535           Private          Never-married    Protective-serv   \n",
              "32536           Private          Never-married    Exec-managerial   \n",
              "32537           Private          Never-married       Craft-repair   \n",
              "32538           Private               Divorced     Prof-specialty   \n",
              "32539           Private     Married-civ-spouse                  ?   \n",
              "32540         State-gov              Separated       Adm-clerical   \n",
              "32541           Private              Separated                  ?   \n",
              "32542           Private     Married-civ-spouse                  ?   \n",
              "32543         Local-gov               Divorced     Prof-specialty   \n",
              "32544           Private               Divorced      Other-service   \n",
              "32545         Local-gov     Married-civ-spouse       Adm-clerical   \n",
              "32546           Private               Divorced       Tech-support   \n",
              "32547           Private     Married-civ-spouse  Machine-op-inspct   \n",
              "32548  Self-emp-not-inc          Never-married     Prof-specialty   \n",
              "32549         State-gov               Divorced       Adm-clerical   \n",
              "32550  Self-emp-not-inc     Married-civ-spouse       Craft-repair   \n",
              "32551           Private     Married-civ-spouse  Handlers-cleaners   \n",
              "32552           Private     Married-civ-spouse              Sales   \n",
              "32553           Private          Never-married       Tech-support   \n",
              "32554           Private     Married-civ-spouse    Exec-managerial   \n",
              "32555           Private          Never-married    Protective-serv   \n",
              "32556           Private     Married-civ-spouse       Tech-support   \n",
              "32557           Private     Married-civ-spouse  Machine-op-inspct   \n",
              "32558           Private                Widowed       Adm-clerical   \n",
              "32559           Private          Never-married       Adm-clerical   \n",
              "32560      Self-emp-inc     Married-civ-spouse    Exec-managerial   \n",
              "\n",
              "         relationship                race  \n",
              "0       Not-in-family               White  \n",
              "1             Husband               White  \n",
              "2       Not-in-family               White  \n",
              "3             Husband               Black  \n",
              "4                Wife               Black  \n",
              "5                Wife               White  \n",
              "6       Not-in-family               Black  \n",
              "7             Husband               White  \n",
              "8       Not-in-family               White  \n",
              "9             Husband               White  \n",
              "10            Husband               Black  \n",
              "11            Husband  Asian-Pac-Islander  \n",
              "12          Own-child               White  \n",
              "13      Not-in-family               Black  \n",
              "14            Husband  Asian-Pac-Islander  \n",
              "15            Husband  Amer-Indian-Eskimo  \n",
              "16          Own-child               White  \n",
              "17          Unmarried               White  \n",
              "18            Husband               White  \n",
              "19          Unmarried               White  \n",
              "20            Husband               White  \n",
              "21          Unmarried               Black  \n",
              "22            Husband               Black  \n",
              "23            Husband               White  \n",
              "24          Unmarried               White  \n",
              "25            Husband               White  \n",
              "26          Own-child               White  \n",
              "27            Husband  Asian-Pac-Islander  \n",
              "28      Not-in-family               White  \n",
              "29            Husband               White  \n",
              "...               ...                 ...  \n",
              "32531   Not-in-family  Asian-Pac-Islander  \n",
              "32532         Husband               White  \n",
              "32533         Husband  Asian-Pac-Islander  \n",
              "32534       Unmarried               White  \n",
              "32535       Own-child               Black  \n",
              "32536   Not-in-family               White  \n",
              "32537   Not-in-family               Black  \n",
              "32538       Unmarried               Black  \n",
              "32539         Husband               White  \n",
              "32540       Own-child               White  \n",
              "32541   Not-in-family               Black  \n",
              "32542         Husband               White  \n",
              "32543       Unmarried               White  \n",
              "32544   Not-in-family               Other  \n",
              "32545            Wife               White  \n",
              "32546   Not-in-family               White  \n",
              "32547         Husband               White  \n",
              "32548   Not-in-family               White  \n",
              "32549  Other-relative               White  \n",
              "32550         Husband               White  \n",
              "32551         Husband  Amer-Indian-Eskimo  \n",
              "32552         Husband               White  \n",
              "32553   Not-in-family  Asian-Pac-Islander  \n",
              "32554         Husband               White  \n",
              "32555   Not-in-family               White  \n",
              "32556            Wife               White  \n",
              "32557         Husband               White  \n",
              "32558       Unmarried               White  \n",
              "32559       Own-child               White  \n",
              "32560            Wife               White  \n",
              "\n",
              "[32561 rows x 5 columns]"
            ]
          },
          "metadata": {
            "tags": []
          },
          "execution_count": 56
        }
      ]
    },
    {
      "cell_type": "code",
      "metadata": {
        "id": "aGhwldvQs-lY",
        "outputId": "00c09ba0-6630-4d8c-ba34-76f56f80a534"
      },
      "source": [
        "data_nonbinary = pd.get_dummies(data[nonbinary_columns])\n",
        "print(data_nonbinary.columns)"
      ],
      "execution_count": null,
      "outputs": [
        {
          "output_type": "stream",
          "text": [
            "Index(['workclass_Federal-gov', 'workclass_Local-gov',\n",
            "       'workclass_Never-worked', 'workclass_Private', 'workclass_Self-emp-inc',\n",
            "       'workclass_Self-emp-not-inc', 'workclass_State-gov',\n",
            "       'workclass_Without-pay', 'marital-status_Divorced',\n",
            "       'marital-status_Married-AF-spouse', 'marital-status_Married-civ-spouse',\n",
            "       'marital-status_Married-spouse-absent', 'marital-status_Never-married',\n",
            "       'marital-status_Separated', 'marital-status_Widowed', 'occupation_?',\n",
            "       'occupation_Adm-clerical', 'occupation_Armed-Forces',\n",
            "       'occupation_Craft-repair', 'occupation_Exec-managerial',\n",
            "       'occupation_Farming-fishing', 'occupation_Handlers-cleaners',\n",
            "       'occupation_Machine-op-inspct', 'occupation_Other-service',\n",
            "       'occupation_Priv-house-serv', 'occupation_Prof-specialty',\n",
            "       'occupation_Protective-serv', 'occupation_Sales',\n",
            "       'occupation_Tech-support', 'occupation_Transport-moving',\n",
            "       'relationship_Husband', 'relationship_Not-in-family',\n",
            "       'relationship_Other-relative', 'relationship_Own-child',\n",
            "       'relationship_Unmarried', 'relationship_Wife',\n",
            "       'race_Amer-Indian-Eskimo', 'race_Asian-Pac-Islander', 'race_Black',\n",
            "       'race_Other', 'race_White'],\n",
            "      dtype='object')\n"
          ],
          "name": "stdout"
        }
      ]
    },
    {
      "cell_type": "code",
      "metadata": {
        "id": "0NiJ3Z1xs-lb",
        "outputId": "da18a91e-3704-417f-835e-09b9036c15dc"
      },
      "source": [
        "len(data_nonbinary.columns)"
      ],
      "execution_count": null,
      "outputs": [
        {
          "output_type": "execute_result",
          "data": {
            "text/plain": [
              "41"
            ]
          },
          "metadata": {
            "tags": []
          },
          "execution_count": 58
        }
      ]
    },
    {
      "cell_type": "markdown",
      "metadata": {
        "id": "_DTxWsNfs-lg"
      },
      "source": [
        "## Нормализация количественных признаков\n",
        "\n",
        "Многие алгоритмы машинного обучения чувствительны к масштабированию данных.\n",
        "К таким алгоритмам, например, относится метод ближайших соседей, машина опорных векторов и др.\n",
        "\n",
        "В этом случае количественные признаки полезно _нормализовать_.\n",
        "Это можно делать разными способами.\n",
        "Например, каждый количественный признак приведем к нулевому среднему и единичному среднеквадратичному отклонению:"
      ]
    },
    {
      "cell_type": "code",
      "metadata": {
        "id": "FqlCvyVWs-lh",
        "outputId": "408b327a-50e0-429f-b4af-db7bea356a28"
      },
      "source": [
        "data_numerical = data[numerical_columns]\n",
        "data_numerical.describe()"
      ],
      "execution_count": null,
      "outputs": [
        {
          "output_type": "execute_result",
          "data": {
            "text/html": [
              "<div>\n",
              "<style scoped>\n",
              "    .dataframe tbody tr th:only-of-type {\n",
              "        vertical-align: middle;\n",
              "    }\n",
              "\n",
              "    .dataframe tbody tr th {\n",
              "        vertical-align: top;\n",
              "    }\n",
              "\n",
              "    .dataframe thead th {\n",
              "        text-align: right;\n",
              "    }\n",
              "</style>\n",
              "<table border=\"1\" class=\"dataframe\">\n",
              "  <thead>\n",
              "    <tr style=\"text-align: right;\">\n",
              "      <th></th>\n",
              "      <th>age</th>\n",
              "      <th>education-num</th>\n",
              "      <th>hours-per-week</th>\n",
              "    </tr>\n",
              "  </thead>\n",
              "  <tbody>\n",
              "    <tr>\n",
              "      <th>count</th>\n",
              "      <td>32561.000000</td>\n",
              "      <td>32561.000000</td>\n",
              "      <td>32561.000000</td>\n",
              "    </tr>\n",
              "    <tr>\n",
              "      <th>mean</th>\n",
              "      <td>38.581647</td>\n",
              "      <td>10.080679</td>\n",
              "      <td>40.437456</td>\n",
              "    </tr>\n",
              "    <tr>\n",
              "      <th>std</th>\n",
              "      <td>13.640433</td>\n",
              "      <td>2.572720</td>\n",
              "      <td>12.347429</td>\n",
              "    </tr>\n",
              "    <tr>\n",
              "      <th>min</th>\n",
              "      <td>17.000000</td>\n",
              "      <td>1.000000</td>\n",
              "      <td>1.000000</td>\n",
              "    </tr>\n",
              "    <tr>\n",
              "      <th>25%</th>\n",
              "      <td>28.000000</td>\n",
              "      <td>9.000000</td>\n",
              "      <td>40.000000</td>\n",
              "    </tr>\n",
              "    <tr>\n",
              "      <th>50%</th>\n",
              "      <td>37.000000</td>\n",
              "      <td>10.000000</td>\n",
              "      <td>40.000000</td>\n",
              "    </tr>\n",
              "    <tr>\n",
              "      <th>75%</th>\n",
              "      <td>48.000000</td>\n",
              "      <td>12.000000</td>\n",
              "      <td>45.000000</td>\n",
              "    </tr>\n",
              "    <tr>\n",
              "      <th>max</th>\n",
              "      <td>90.000000</td>\n",
              "      <td>16.000000</td>\n",
              "      <td>99.000000</td>\n",
              "    </tr>\n",
              "  </tbody>\n",
              "</table>\n",
              "</div>"
            ],
            "text/plain": [
              "                age  education-num  hours-per-week\n",
              "count  32561.000000   32561.000000    32561.000000\n",
              "mean      38.581647      10.080679       40.437456\n",
              "std       13.640433       2.572720       12.347429\n",
              "min       17.000000       1.000000        1.000000\n",
              "25%       28.000000       9.000000       40.000000\n",
              "50%       37.000000      10.000000       40.000000\n",
              "75%       48.000000      12.000000       45.000000\n",
              "max       90.000000      16.000000       99.000000"
            ]
          },
          "metadata": {
            "tags": []
          },
          "execution_count": 59
        }
      ]
    },
    {
      "cell_type": "code",
      "metadata": {
        "id": "TTC1AJCIs-lk"
      },
      "source": [
        "data_numerical = (data_numerical - data_numerical.mean(axis = 0))/data_numerical.std(axis = 0)"
      ],
      "execution_count": null,
      "outputs": []
    },
    {
      "cell_type": "code",
      "metadata": {
        "id": "MoMfFe5is-lm",
        "outputId": "4c8ed522-e3ab-49f9-a8fa-a675e9b08b64"
      },
      "source": [
        "data_numerical.describe()"
      ],
      "execution_count": null,
      "outputs": [
        {
          "output_type": "execute_result",
          "data": {
            "text/html": [
              "<div>\n",
              "<style scoped>\n",
              "    .dataframe tbody tr th:only-of-type {\n",
              "        vertical-align: middle;\n",
              "    }\n",
              "\n",
              "    .dataframe tbody tr th {\n",
              "        vertical-align: top;\n",
              "    }\n",
              "\n",
              "    .dataframe thead th {\n",
              "        text-align: right;\n",
              "    }\n",
              "</style>\n",
              "<table border=\"1\" class=\"dataframe\">\n",
              "  <thead>\n",
              "    <tr style=\"text-align: right;\">\n",
              "      <th></th>\n",
              "      <th>age</th>\n",
              "      <th>education-num</th>\n",
              "      <th>hours-per-week</th>\n",
              "    </tr>\n",
              "  </thead>\n",
              "  <tbody>\n",
              "    <tr>\n",
              "      <th>count</th>\n",
              "      <td>3.256100e+04</td>\n",
              "      <td>3.256100e+04</td>\n",
              "      <td>3.256100e+04</td>\n",
              "    </tr>\n",
              "    <tr>\n",
              "      <th>mean</th>\n",
              "      <td>-2.549411e-17</td>\n",
              "      <td>2.539659e-16</td>\n",
              "      <td>-1.323354e-15</td>\n",
              "    </tr>\n",
              "    <tr>\n",
              "      <th>std</th>\n",
              "      <td>1.000000e+00</td>\n",
              "      <td>1.000000e+00</td>\n",
              "      <td>1.000000e+00</td>\n",
              "    </tr>\n",
              "    <tr>\n",
              "      <th>min</th>\n",
              "      <td>-1.582182e+00</td>\n",
              "      <td>-3.529602e+00</td>\n",
              "      <td>-3.193981e+00</td>\n",
              "    </tr>\n",
              "    <tr>\n",
              "      <th>25%</th>\n",
              "      <td>-7.757560e-01</td>\n",
              "      <td>-4.200532e-01</td>\n",
              "      <td>-3.542890e-02</td>\n",
              "    </tr>\n",
              "    <tr>\n",
              "      <th>50%</th>\n",
              "      <td>-1.159528e-01</td>\n",
              "      <td>-3.135955e-02</td>\n",
              "      <td>-3.542890e-02</td>\n",
              "    </tr>\n",
              "    <tr>\n",
              "      <th>75%</th>\n",
              "      <td>6.904732e-01</td>\n",
              "      <td>7.460277e-01</td>\n",
              "      <td>3.695137e-01</td>\n",
              "    </tr>\n",
              "    <tr>\n",
              "      <th>max</th>\n",
              "      <td>3.769554e+00</td>\n",
              "      <td>2.300802e+00</td>\n",
              "      <td>4.742894e+00</td>\n",
              "    </tr>\n",
              "  </tbody>\n",
              "</table>\n",
              "</div>"
            ],
            "text/plain": [
              "                age  education-num  hours-per-week\n",
              "count  3.256100e+04   3.256100e+04    3.256100e+04\n",
              "mean  -2.549411e-17   2.539659e-16   -1.323354e-15\n",
              "std    1.000000e+00   1.000000e+00    1.000000e+00\n",
              "min   -1.582182e+00  -3.529602e+00   -3.193981e+00\n",
              "25%   -7.757560e-01  -4.200532e-01   -3.542890e-02\n",
              "50%   -1.159528e-01  -3.135955e-02   -3.542890e-02\n",
              "75%    6.904732e-01   7.460277e-01    3.695137e-01\n",
              "max    3.769554e+00   2.300802e+00    4.742894e+00"
            ]
          },
          "metadata": {
            "tags": []
          },
          "execution_count": 61
        }
      ]
    },
    {
      "cell_type": "markdown",
      "metadata": {
        "id": "xeCpRm29s-lp"
      },
      "source": [
        "## Соединяем все в одну таблицу"
      ]
    },
    {
      "cell_type": "code",
      "metadata": {
        "id": "wclS82K0s-lr",
        "outputId": "b4b652bc-5f77-471e-a866-611fe0c1c254"
      },
      "source": [
        "data = pd.concat((data_numerical, data_nonbinary, data[binary_columns]), axis = 1)\n",
        "print(data.shape)\n",
        "#print data.columns"
      ],
      "execution_count": null,
      "outputs": [
        {
          "output_type": "stream",
          "text": [
            "(32561, 46)\n"
          ],
          "name": "stdout"
        }
      ]
    },
    {
      "cell_type": "code",
      "metadata": {
        "id": "6jv8-kM7s-lu",
        "outputId": "a20ef5bb-dc04-450f-f18b-03e08062a74a"
      },
      "source": [
        "data.describe()"
      ],
      "execution_count": null,
      "outputs": [
        {
          "output_type": "execute_result",
          "data": {
            "text/html": [
              "<div>\n",
              "<style scoped>\n",
              "    .dataframe tbody tr th:only-of-type {\n",
              "        vertical-align: middle;\n",
              "    }\n",
              "\n",
              "    .dataframe tbody tr th {\n",
              "        vertical-align: top;\n",
              "    }\n",
              "\n",
              "    .dataframe thead th {\n",
              "        text-align: right;\n",
              "    }\n",
              "</style>\n",
              "<table border=\"1\" class=\"dataframe\">\n",
              "  <thead>\n",
              "    <tr style=\"text-align: right;\">\n",
              "      <th></th>\n",
              "      <th>age</th>\n",
              "      <th>education-num</th>\n",
              "      <th>hours-per-week</th>\n",
              "      <th>workclass_Federal-gov</th>\n",
              "      <th>workclass_Local-gov</th>\n",
              "      <th>workclass_Never-worked</th>\n",
              "      <th>workclass_Private</th>\n",
              "      <th>workclass_Self-emp-inc</th>\n",
              "      <th>workclass_Self-emp-not-inc</th>\n",
              "      <th>workclass_State-gov</th>\n",
              "      <th>...</th>\n",
              "      <th>relationship_Other-relative</th>\n",
              "      <th>relationship_Own-child</th>\n",
              "      <th>relationship_Unmarried</th>\n",
              "      <th>relationship_Wife</th>\n",
              "      <th>race_Amer-Indian-Eskimo</th>\n",
              "      <th>race_Asian-Pac-Islander</th>\n",
              "      <th>race_Black</th>\n",
              "      <th>race_Other</th>\n",
              "      <th>race_White</th>\n",
              "      <th>sex</th>\n",
              "    </tr>\n",
              "  </thead>\n",
              "  <tbody>\n",
              "    <tr>\n",
              "      <th>count</th>\n",
              "      <td>3.256100e+04</td>\n",
              "      <td>3.256100e+04</td>\n",
              "      <td>3.256100e+04</td>\n",
              "      <td>32561.000000</td>\n",
              "      <td>32561.000000</td>\n",
              "      <td>32561.000000</td>\n",
              "      <td>32561.000000</td>\n",
              "      <td>32561.000000</td>\n",
              "      <td>32561.000000</td>\n",
              "      <td>32561.000000</td>\n",
              "      <td>...</td>\n",
              "      <td>32561.000000</td>\n",
              "      <td>32561.000000</td>\n",
              "      <td>32561.000000</td>\n",
              "      <td>32561.000000</td>\n",
              "      <td>32561.000000</td>\n",
              "      <td>32561.000000</td>\n",
              "      <td>32561.000000</td>\n",
              "      <td>32561.000000</td>\n",
              "      <td>32561.000000</td>\n",
              "      <td>32561.000000</td>\n",
              "    </tr>\n",
              "    <tr>\n",
              "      <th>mean</th>\n",
              "      <td>-2.549411e-17</td>\n",
              "      <td>2.539659e-16</td>\n",
              "      <td>-1.323354e-15</td>\n",
              "      <td>0.029483</td>\n",
              "      <td>0.064279</td>\n",
              "      <td>0.000215</td>\n",
              "      <td>0.753417</td>\n",
              "      <td>0.034274</td>\n",
              "      <td>0.078038</td>\n",
              "      <td>0.039864</td>\n",
              "      <td>...</td>\n",
              "      <td>0.030128</td>\n",
              "      <td>0.155646</td>\n",
              "      <td>0.105832</td>\n",
              "      <td>0.048156</td>\n",
              "      <td>0.009551</td>\n",
              "      <td>0.031909</td>\n",
              "      <td>0.095943</td>\n",
              "      <td>0.008323</td>\n",
              "      <td>0.854274</td>\n",
              "      <td>0.330795</td>\n",
              "    </tr>\n",
              "    <tr>\n",
              "      <th>std</th>\n",
              "      <td>1.000000e+00</td>\n",
              "      <td>1.000000e+00</td>\n",
              "      <td>1.000000e+00</td>\n",
              "      <td>0.169159</td>\n",
              "      <td>0.245254</td>\n",
              "      <td>0.014661</td>\n",
              "      <td>0.431029</td>\n",
              "      <td>0.181935</td>\n",
              "      <td>0.268236</td>\n",
              "      <td>0.195642</td>\n",
              "      <td>...</td>\n",
              "      <td>0.170942</td>\n",
              "      <td>0.362525</td>\n",
              "      <td>0.307627</td>\n",
              "      <td>0.214099</td>\n",
              "      <td>0.097264</td>\n",
              "      <td>0.175761</td>\n",
              "      <td>0.294518</td>\n",
              "      <td>0.090851</td>\n",
              "      <td>0.352837</td>\n",
              "      <td>0.470506</td>\n",
              "    </tr>\n",
              "    <tr>\n",
              "      <th>min</th>\n",
              "      <td>-1.582182e+00</td>\n",
              "      <td>-3.529602e+00</td>\n",
              "      <td>-3.193981e+00</td>\n",
              "      <td>0.000000</td>\n",
              "      <td>0.000000</td>\n",
              "      <td>0.000000</td>\n",
              "      <td>0.000000</td>\n",
              "      <td>0.000000</td>\n",
              "      <td>0.000000</td>\n",
              "      <td>0.000000</td>\n",
              "      <td>...</td>\n",
              "      <td>0.000000</td>\n",
              "      <td>0.000000</td>\n",
              "      <td>0.000000</td>\n",
              "      <td>0.000000</td>\n",
              "      <td>0.000000</td>\n",
              "      <td>0.000000</td>\n",
              "      <td>0.000000</td>\n",
              "      <td>0.000000</td>\n",
              "      <td>0.000000</td>\n",
              "      <td>0.000000</td>\n",
              "    </tr>\n",
              "    <tr>\n",
              "      <th>25%</th>\n",
              "      <td>-7.757560e-01</td>\n",
              "      <td>-4.200532e-01</td>\n",
              "      <td>-3.542890e-02</td>\n",
              "      <td>0.000000</td>\n",
              "      <td>0.000000</td>\n",
              "      <td>0.000000</td>\n",
              "      <td>1.000000</td>\n",
              "      <td>0.000000</td>\n",
              "      <td>0.000000</td>\n",
              "      <td>0.000000</td>\n",
              "      <td>...</td>\n",
              "      <td>0.000000</td>\n",
              "      <td>0.000000</td>\n",
              "      <td>0.000000</td>\n",
              "      <td>0.000000</td>\n",
              "      <td>0.000000</td>\n",
              "      <td>0.000000</td>\n",
              "      <td>0.000000</td>\n",
              "      <td>0.000000</td>\n",
              "      <td>1.000000</td>\n",
              "      <td>0.000000</td>\n",
              "    </tr>\n",
              "    <tr>\n",
              "      <th>50%</th>\n",
              "      <td>-1.159528e-01</td>\n",
              "      <td>-3.135955e-02</td>\n",
              "      <td>-3.542890e-02</td>\n",
              "      <td>0.000000</td>\n",
              "      <td>0.000000</td>\n",
              "      <td>0.000000</td>\n",
              "      <td>1.000000</td>\n",
              "      <td>0.000000</td>\n",
              "      <td>0.000000</td>\n",
              "      <td>0.000000</td>\n",
              "      <td>...</td>\n",
              "      <td>0.000000</td>\n",
              "      <td>0.000000</td>\n",
              "      <td>0.000000</td>\n",
              "      <td>0.000000</td>\n",
              "      <td>0.000000</td>\n",
              "      <td>0.000000</td>\n",
              "      <td>0.000000</td>\n",
              "      <td>0.000000</td>\n",
              "      <td>1.000000</td>\n",
              "      <td>0.000000</td>\n",
              "    </tr>\n",
              "    <tr>\n",
              "      <th>75%</th>\n",
              "      <td>6.904732e-01</td>\n",
              "      <td>7.460277e-01</td>\n",
              "      <td>3.695137e-01</td>\n",
              "      <td>0.000000</td>\n",
              "      <td>0.000000</td>\n",
              "      <td>0.000000</td>\n",
              "      <td>1.000000</td>\n",
              "      <td>0.000000</td>\n",
              "      <td>0.000000</td>\n",
              "      <td>0.000000</td>\n",
              "      <td>...</td>\n",
              "      <td>0.000000</td>\n",
              "      <td>0.000000</td>\n",
              "      <td>0.000000</td>\n",
              "      <td>0.000000</td>\n",
              "      <td>0.000000</td>\n",
              "      <td>0.000000</td>\n",
              "      <td>0.000000</td>\n",
              "      <td>0.000000</td>\n",
              "      <td>1.000000</td>\n",
              "      <td>1.000000</td>\n",
              "    </tr>\n",
              "    <tr>\n",
              "      <th>max</th>\n",
              "      <td>3.769554e+00</td>\n",
              "      <td>2.300802e+00</td>\n",
              "      <td>4.742894e+00</td>\n",
              "      <td>1.000000</td>\n",
              "      <td>1.000000</td>\n",
              "      <td>1.000000</td>\n",
              "      <td>1.000000</td>\n",
              "      <td>1.000000</td>\n",
              "      <td>1.000000</td>\n",
              "      <td>1.000000</td>\n",
              "      <td>...</td>\n",
              "      <td>1.000000</td>\n",
              "      <td>1.000000</td>\n",
              "      <td>1.000000</td>\n",
              "      <td>1.000000</td>\n",
              "      <td>1.000000</td>\n",
              "      <td>1.000000</td>\n",
              "      <td>1.000000</td>\n",
              "      <td>1.000000</td>\n",
              "      <td>1.000000</td>\n",
              "      <td>1.000000</td>\n",
              "    </tr>\n",
              "  </tbody>\n",
              "</table>\n",
              "<p>8 rows × 45 columns</p>\n",
              "</div>"
            ],
            "text/plain": [
              "                age  education-num  hours-per-week  workclass_Federal-gov  \\\n",
              "count  3.256100e+04   3.256100e+04    3.256100e+04           32561.000000   \n",
              "mean  -2.549411e-17   2.539659e-16   -1.323354e-15               0.029483   \n",
              "std    1.000000e+00   1.000000e+00    1.000000e+00               0.169159   \n",
              "min   -1.582182e+00  -3.529602e+00   -3.193981e+00               0.000000   \n",
              "25%   -7.757560e-01  -4.200532e-01   -3.542890e-02               0.000000   \n",
              "50%   -1.159528e-01  -3.135955e-02   -3.542890e-02               0.000000   \n",
              "75%    6.904732e-01   7.460277e-01    3.695137e-01               0.000000   \n",
              "max    3.769554e+00   2.300802e+00    4.742894e+00               1.000000   \n",
              "\n",
              "       workclass_Local-gov  workclass_Never-worked  workclass_Private  \\\n",
              "count         32561.000000            32561.000000       32561.000000   \n",
              "mean              0.064279                0.000215           0.753417   \n",
              "std               0.245254                0.014661           0.431029   \n",
              "min               0.000000                0.000000           0.000000   \n",
              "25%               0.000000                0.000000           1.000000   \n",
              "50%               0.000000                0.000000           1.000000   \n",
              "75%               0.000000                0.000000           1.000000   \n",
              "max               1.000000                1.000000           1.000000   \n",
              "\n",
              "       workclass_Self-emp-inc  workclass_Self-emp-not-inc  \\\n",
              "count            32561.000000                32561.000000   \n",
              "mean                 0.034274                    0.078038   \n",
              "std                  0.181935                    0.268236   \n",
              "min                  0.000000                    0.000000   \n",
              "25%                  0.000000                    0.000000   \n",
              "50%                  0.000000                    0.000000   \n",
              "75%                  0.000000                    0.000000   \n",
              "max                  1.000000                    1.000000   \n",
              "\n",
              "       workclass_State-gov  ...  relationship_Other-relative  \\\n",
              "count         32561.000000  ...                 32561.000000   \n",
              "mean              0.039864  ...                     0.030128   \n",
              "std               0.195642  ...                     0.170942   \n",
              "min               0.000000  ...                     0.000000   \n",
              "25%               0.000000  ...                     0.000000   \n",
              "50%               0.000000  ...                     0.000000   \n",
              "75%               0.000000  ...                     0.000000   \n",
              "max               1.000000  ...                     1.000000   \n",
              "\n",
              "       relationship_Own-child  relationship_Unmarried  relationship_Wife  \\\n",
              "count            32561.000000            32561.000000       32561.000000   \n",
              "mean                 0.155646                0.105832           0.048156   \n",
              "std                  0.362525                0.307627           0.214099   \n",
              "min                  0.000000                0.000000           0.000000   \n",
              "25%                  0.000000                0.000000           0.000000   \n",
              "50%                  0.000000                0.000000           0.000000   \n",
              "75%                  0.000000                0.000000           0.000000   \n",
              "max                  1.000000                1.000000           1.000000   \n",
              "\n",
              "       race_Amer-Indian-Eskimo  race_Asian-Pac-Islander    race_Black  \\\n",
              "count             32561.000000             32561.000000  32561.000000   \n",
              "mean                  0.009551                 0.031909      0.095943   \n",
              "std                   0.097264                 0.175761      0.294518   \n",
              "min                   0.000000                 0.000000      0.000000   \n",
              "25%                   0.000000                 0.000000      0.000000   \n",
              "50%                   0.000000                 0.000000      0.000000   \n",
              "75%                   0.000000                 0.000000      0.000000   \n",
              "max                   1.000000                 1.000000      1.000000   \n",
              "\n",
              "         race_Other    race_White           sex  \n",
              "count  32561.000000  32561.000000  32561.000000  \n",
              "mean       0.008323      0.854274      0.330795  \n",
              "std        0.090851      0.352837      0.470506  \n",
              "min        0.000000      0.000000      0.000000  \n",
              "25%        0.000000      1.000000      0.000000  \n",
              "50%        0.000000      1.000000      0.000000  \n",
              "75%        0.000000      1.000000      1.000000  \n",
              "max        1.000000      1.000000      1.000000  \n",
              "\n",
              "[8 rows x 45 columns]"
            ]
          },
          "metadata": {
            "tags": []
          },
          "execution_count": 63
        }
      ]
    },
    {
      "cell_type": "markdown",
      "metadata": {
        "id": "o-WV3jkDs-l0"
      },
      "source": [
        "# X и y"
      ]
    },
    {
      "cell_type": "code",
      "metadata": {
        "id": "h3F0nik3s-l1"
      },
      "source": [
        "X = data.drop('class', axis = 1) # выбрасываем столбец 'class'\n",
        "y = data['class']\n",
        "feature_names = X.columns"
      ],
      "execution_count": null,
      "outputs": []
    },
    {
      "cell_type": "code",
      "metadata": {
        "id": "i4gFbI62s-l3",
        "outputId": "37855a54-0c70-4ef6-9df5-9997b56c8fae"
      },
      "source": [
        "type(feature_names)"
      ],
      "execution_count": null,
      "outputs": [
        {
          "output_type": "execute_result",
          "data": {
            "text/plain": [
              "pandas.core.indexes.base.Index"
            ]
          },
          "metadata": {
            "tags": []
          },
          "execution_count": 65
        }
      ]
    },
    {
      "cell_type": "code",
      "metadata": {
        "id": "TuX8by3Bs-l5",
        "outputId": "6c7e9be0-edaa-4053-a5ad-70bd5eabd1e8"
      },
      "source": [
        "feature_names"
      ],
      "execution_count": null,
      "outputs": [
        {
          "output_type": "execute_result",
          "data": {
            "text/plain": [
              "Index(['age', 'education-num', 'hours-per-week', 'workclass_Federal-gov',\n",
              "       'workclass_Local-gov', 'workclass_Never-worked', 'workclass_Private',\n",
              "       'workclass_Self-emp-inc', 'workclass_Self-emp-not-inc',\n",
              "       'workclass_State-gov', 'workclass_Without-pay',\n",
              "       'marital-status_Divorced', 'marital-status_Married-AF-spouse',\n",
              "       'marital-status_Married-civ-spouse',\n",
              "       'marital-status_Married-spouse-absent', 'marital-status_Never-married',\n",
              "       'marital-status_Separated', 'marital-status_Widowed', 'occupation_?',\n",
              "       'occupation_Adm-clerical', 'occupation_Armed-Forces',\n",
              "       'occupation_Craft-repair', 'occupation_Exec-managerial',\n",
              "       'occupation_Farming-fishing', 'occupation_Handlers-cleaners',\n",
              "       'occupation_Machine-op-inspct', 'occupation_Other-service',\n",
              "       'occupation_Priv-house-serv', 'occupation_Prof-specialty',\n",
              "       'occupation_Protective-serv', 'occupation_Sales',\n",
              "       'occupation_Tech-support', 'occupation_Transport-moving',\n",
              "       'relationship_Husband', 'relationship_Not-in-family',\n",
              "       'relationship_Other-relative', 'relationship_Own-child',\n",
              "       'relationship_Unmarried', 'relationship_Wife',\n",
              "       'race_Amer-Indian-Eskimo', 'race_Asian-Pac-Islander', 'race_Black',\n",
              "       'race_Other', 'race_White', 'sex'],\n",
              "      dtype='object')"
            ]
          },
          "metadata": {
            "tags": []
          },
          "execution_count": 66
        }
      ]
    },
    {
      "cell_type": "code",
      "metadata": {
        "id": "3ajTk3trs-l-"
      },
      "source": [
        "X = X.to_numpy()"
      ],
      "execution_count": null,
      "outputs": []
    },
    {
      "cell_type": "code",
      "metadata": {
        "id": "l1aUFT0gs-mA"
      },
      "source": [
        "y = np.array(y != '<=50K', dtype='int')"
      ],
      "execution_count": null,
      "outputs": []
    },
    {
      "cell_type": "code",
      "metadata": {
        "id": "vNn2LAJ6s-mF",
        "outputId": "2319e59a-ff1c-4fba-a16a-fae75da41539"
      },
      "source": [
        "y"
      ],
      "execution_count": null,
      "outputs": [
        {
          "output_type": "execute_result",
          "data": {
            "text/plain": [
              "array([0, 0, 0, ..., 0, 0, 1])"
            ]
          },
          "metadata": {
            "tags": []
          },
          "execution_count": 69
        }
      ]
    },
    {
      "cell_type": "code",
      "metadata": {
        "id": "_s6wDKdNs-mH",
        "outputId": "610a5311-a77e-41b6-bc14-51712952f988"
      },
      "source": [
        "print(X.shape)\n",
        "print(y.shape)\n",
        "N, d = X.shape"
      ],
      "execution_count": null,
      "outputs": [
        {
          "output_type": "stream",
          "text": [
            "(32561, 45)\n",
            "(32561,)\n"
          ],
          "name": "stdout"
        }
      ]
    },
    {
      "cell_type": "code",
      "metadata": {
        "id": "3PMXsvw6s-mJ",
        "outputId": "5cb367ab-4f54-424d-dccc-dc6e87444224"
      },
      "source": [
        "type(X)"
      ],
      "execution_count": null,
      "outputs": [
        {
          "output_type": "execute_result",
          "data": {
            "text/plain": [
              "numpy.ndarray"
            ]
          },
          "metadata": {
            "tags": []
          },
          "execution_count": 71
        }
      ]
    },
    {
      "cell_type": "code",
      "metadata": {
        "id": "3JNGGG23s-mP",
        "outputId": "85eafdd8-48be-48de-8f23-23b65a0030cb"
      },
      "source": [
        "type(y)"
      ],
      "execution_count": null,
      "outputs": [
        {
          "output_type": "execute_result",
          "data": {
            "text/plain": [
              "numpy.ndarray"
            ]
          },
          "metadata": {
            "tags": []
          },
          "execution_count": 72
        }
      ]
    },
    {
      "cell_type": "code",
      "metadata": {
        "id": "HV9HmCjPs-mS",
        "outputId": "ee93ae84-bbec-4760-e891-e9428bd8f56c"
      },
      "source": [
        "from sklearn.model_selection import train_test_split\n",
        "X_train, X_test, y_train, y_test = train_test_split(X, y, test_size = 0.3, random_state = 42)\n",
        "\n",
        "N_train, _ = X_train.shape \n",
        "N_test,  _ = X_test.shape \n",
        "\n",
        "print(N_train, N_test)"
      ],
      "execution_count": null,
      "outputs": [
        {
          "output_type": "stream",
          "text": [
            "22792 9769\n"
          ],
          "name": "stdout"
        }
      ]
    },
    {
      "cell_type": "markdown",
      "metadata": {
        "id": "Y_7pQq_Ks-mV"
      },
      "source": [
        "В библиотеке scikit-learn реализована масса алгоритмов машинного обучения.\n",
        "\n",
        "#### Некоторые алгоритмы машинного обучения, реализованные в scikit-learn:\n",
        "\n",
        " Метод                                     |  Класс\n",
        "-------------------------------------------|--------------------------------------------         \n",
        " kNN – $k$ ближайших соседей               | `sklearn.neighbors.KNeighborsClassifier`\n",
        " LDA – линейный дискриминантный анализ     | `sklearn.discriminant_analysis.LinearDiscriminantAnalysis`\n",
        " QDA – квадратичный дискриминантный анализ | `sklearn.discriminant_analysis.QuadraticDiscriminantAnalysis`\n",
        " Logistic – логистическая регрессия        | `sklearn.linear_model.LogisticRegression`\n",
        " SVC – машина опорных векторов             | `sklearn.svm.SVC`\n",
        " Tree – деревья решений                    | `sklearn.tree.DecisionTreeClassifier`\n",
        " RF – случайный лес                        | `sklearn.ensemble.RandomForestClassifier`\n",
        " ExtrRF – экстремально случайный лес       | ` `\n",
        " AdaBoost – алгоритм AdaBoost              | `sklearn.ensemble.AdaBoostClassifier`\n",
        " GBT – градиентный бустинг деревьев решений| `sklearn.ensemble.GradientBoostingClassifier`\n",
        " Нейронные сети                            | ` `\n",
        " \n",
        "\n",
        "\n",
        "\n",
        "#### Основные методы классов, реализующих алгоритмы машинного обучения\n",
        "Все алгоритмы выполнены в виде классов, обладающих по крайней мере следующими методами:\n",
        "\n",
        "\n",
        "\n",
        "   Метод класса            |  Описание     \n",
        " --------------------------|-------------------------------------------------------------\n",
        "  `fit(X_train, y_train)`              |  обучение (тренировка) модели на обучающей выборке `X_train`, `y_train`\n",
        "  `predict(X)`             |  предсказание на данных `X`\n",
        "  `set_params(**params)`   |  установка параметров алгоритма\n",
        "  `get_params()`           |  чтение параметров алгоритма\n",
        " \n",
        " Заметим, что параметры алгоритмов обучения можно задавать как в конструкторе класса, так и с помощью метода `set_params(**params)`.\n",
        " \n",
        " #### Таблица наличия/отсутствия методов для основных алгоритмов машинного обучения:\n",
        " \n",
        "    \n",
        "   Методы класса               | kNN | LDA | QDA | Logistic | SVC | Tree | RF | AdaBoost | GBT     \n",
        " ------------------------------|-----|-----|-----|----------|-----|------|----|----------|------\n",
        "  `fit(X, y)`                  |  +  |  +  |  +  |    +     |  +  |  +   | +  |    +     |  +\n",
        "  `predict(X)`                 |  +  |  +  |  +  |    +     |  +  |  +   | +  |    +     |  +\n",
        "  `predict_proba(X)`           |  +  |  +  |  +  |    +     |     |  +   | +  |    +     |  +\n",
        "  `predict_log_proba(X)`       |     |  +  |  +  |    +     |     |  +   | +  |    +     |  +\n",
        "  `score(X, y)`                |  +  |  +  |  +  |    +     |  +  |  +   | +  |    +     |  +\n",
        "  `decision_function(X)`       |     |  +  |  +  |    +     |  +  |      |    |    +     |  +\n",
        "  `transform(X)`               |     |  +  |     |    +     |     |  +   | +  |          |  +\n",
        "  `staged_decision_function(X)`|     |     |     |          |     |      |    |    +     |  +    \n",
        "  `staged_predict(X)`          |     |     |     |          |     |      |    |    +     |  +\n",
        "  `staged_predict_proba(X)`    |     |     |     |          |     |      |    |    +     |  +\n",
        "  `staged_score(X, y)`         |     |     |     |          |     |      |    |    +     |  +\n",
        "  `set_params(**params)`       |  +  |  +  |  +  |    +     |  +  |  +   | +  |    +     |  +\n",
        "  `get_params()`               |  +  |  +  |  +  |    +     |  +  |  +   | +  |    +     |  +\n",
        "    \n",
        "    "
      ]
    },
    {
      "cell_type": "markdown",
      "metadata": {
        "id": "ZnFkJrlms-mV"
      },
      "source": [
        "# $k$NN"
      ]
    },
    {
      "cell_type": "code",
      "metadata": {
        "id": "U1Wnk41ts-mW",
        "outputId": "fe336f48-463d-4b75-b417-8a9be366005f"
      },
      "source": [
        "from sklearn.neighbors import KNeighborsClassifier\n",
        "\n",
        "knn = KNeighborsClassifier(n_neighbors = 10)\n",
        "#knn.set_params(n_neighbors=10)\n",
        "knn.fit(X_train, y_train)"
      ],
      "execution_count": null,
      "outputs": [
        {
          "output_type": "execute_result",
          "data": {
            "text/plain": [
              "KNeighborsClassifier(algorithm='auto', leaf_size=30, metric='minkowski',\n",
              "                     metric_params=None, n_jobs=None, n_neighbors=10, p=2,\n",
              "                     weights='uniform')"
            ]
          },
          "metadata": {
            "tags": []
          },
          "execution_count": 74
        }
      ]
    },
    {
      "cell_type": "code",
      "metadata": {
        "id": "iWcM7Ldws-mZ",
        "outputId": "12378abc-f10b-4d0a-9795-be6f4cda9165"
      },
      "source": [
        "knn"
      ],
      "execution_count": null,
      "outputs": [
        {
          "output_type": "execute_result",
          "data": {
            "text/plain": [
              "KNeighborsClassifier(algorithm='auto', leaf_size=30, metric='minkowski',\n",
              "                     metric_params=None, n_jobs=None, n_neighbors=10, p=2,\n",
              "                     weights='uniform')"
            ]
          },
          "metadata": {
            "tags": []
          },
          "execution_count": 75
        }
      ]
    },
    {
      "cell_type": "code",
      "metadata": {
        "id": "9Pb_96LIs-md"
      },
      "source": [
        "y_test_predict = knn.predict(X_test)\n",
        "err_test  = np.mean(y_test  != y_test_predict)"
      ],
      "execution_count": null,
      "outputs": []
    },
    {
      "cell_type": "code",
      "metadata": {
        "id": "41Bmbd2Xs-mf"
      },
      "source": [
        "err_test = 1 - knn.score(X_test, y_test) # Другой способ"
      ],
      "execution_count": null,
      "outputs": []
    },
    {
      "cell_type": "code",
      "metadata": {
        "id": "MS52qmcds-mh",
        "outputId": "c6bfc469-cd90-4ceb-fa34-86ad3c657eb6"
      },
      "source": [
        "err_test"
      ],
      "execution_count": null,
      "outputs": [
        {
          "output_type": "execute_result",
          "data": {
            "text/plain": [
              "0.17146074316716142"
            ]
          },
          "metadata": {
            "tags": []
          },
          "execution_count": 78
        }
      ]
    },
    {
      "cell_type": "code",
      "metadata": {
        "id": "R152zEc8s-mj",
        "outputId": "9cd3d46f-fd9a-4c9a-a726-b03d05abead0"
      },
      "source": [
        "from sklearn.metrics import confusion_matrix\n",
        "\n",
        "print(confusion_matrix(y_test, y_test_predict))"
      ],
      "execution_count": null,
      "outputs": [
        {
          "output_type": "stream",
          "text": [
            "[[6865  590]\n",
            " [1085 1229]]\n"
          ],
          "name": "stdout"
        }
      ]
    },
    {
      "cell_type": "code",
      "metadata": {
        "id": "67A_s1rMs-mo",
        "outputId": "d8e4b4a3-344f-4990-f32c-078d166efd3d"
      },
      "source": [
        "confusion_matrix([0,1,0,1,0], [0,1,0,0,0])"
      ],
      "execution_count": null,
      "outputs": [
        {
          "output_type": "execute_result",
          "data": {
            "text/plain": [
              "array([[3, 0],\n",
              "       [1, 1]])"
            ]
          },
          "metadata": {
            "tags": []
          },
          "execution_count": 80
        }
      ]
    },
    {
      "cell_type": "markdown",
      "metadata": {
        "id": "ia1DXV_qs-ms"
      },
      "source": [
        "### Подбор параметров"
      ]
    },
    {
      "cell_type": "code",
      "metadata": {
        "id": "3u44yhHQs-ms",
        "outputId": "a4a8ac87-b711-47ec-9f56-e6f733f516d5"
      },
      "source": [
        "# Долго!\n",
        "from sklearn.model_selection import GridSearchCV\n",
        "nnb = [1, 3, 5, 10, 15, 20, 25, 35, 45, 55]\n",
        "knn = KNeighborsClassifier()\n",
        "grid = GridSearchCV(knn, param_grid = {'n_neighbors': nnb}, cv=10)\n",
        "grid.fit(X_train, y_train)\n",
        "\n",
        "best_cv_err = 1 - grid.best_score_\n",
        "best_n_neighbors = grid.best_estimator_.n_neighbors\n",
        "print(best_cv_err, best_n_neighbors)"
      ],
      "execution_count": null,
      "outputs": [
        {
          "output_type": "stream",
          "text": [
            "0.1622060372060372 20\n"
          ],
          "name": "stdout"
        }
      ]
    },
    {
      "cell_type": "code",
      "metadata": {
        "id": "FtrL0U4ms-mu",
        "outputId": "abba7510-7477-430b-99a9-f2f8dc27cd1b"
      },
      "source": [
        "knn = KNeighborsClassifier(n_neighbors = best_n_neighbors).fit(X_train, y_train)\n",
        "\n",
        "err_train = np.mean(y_train != knn.predict(X_train))\n",
        "err_test  = np.mean(y_test  != knn.predict(X_test))\n",
        "\n",
        "print(err_train, err_test)"
      ],
      "execution_count": null,
      "outputs": [
        {
          "output_type": "stream",
          "text": [
            "0.1507985257985258 0.16531886579997954\n"
          ],
          "name": "stdout"
        }
      ]
    },
    {
      "cell_type": "markdown",
      "metadata": {
        "id": "4ZxiWMnCs-mx"
      },
      "source": [
        "# SVC"
      ]
    },
    {
      "cell_type": "code",
      "metadata": {
        "id": "BG_-0qu8s-mx",
        "outputId": "22eb45da-ff7b-41aa-ff67-a80d0027d6c5"
      },
      "source": [
        "from sklearn.svm import SVC\n",
        "svc = SVC(gamma='auto')\n",
        "svc.fit(X_train, y_train)\n",
        "\n",
        "err_train = np.mean(y_train != svc.predict(X_train))\n",
        "err_test  = np.mean(y_test  != svc.predict(X_test))\n",
        "\n",
        "print(err_train, err_test)"
      ],
      "execution_count": null,
      "outputs": [
        {
          "output_type": "stream",
          "text": [
            "0.1633029133029133 0.16296447947589313\n"
          ],
          "name": "stdout"
        }
      ]
    },
    {
      "cell_type": "markdown",
      "metadata": {
        "id": "YPQRxCBis-m0"
      },
      "source": [
        "### Подбор параметров"
      ]
    },
    {
      "cell_type": "code",
      "metadata": {
        "id": "htMWxlqss-m1",
        "outputId": "2ed8c608-6e0e-4287-a8e2-d361df7d40ab"
      },
      "source": [
        "from sklearn.model_selection import GridSearchCV\n",
        "Cs = 10.**np.arange(-5, 5)\n",
        "gamma_array = 10.**np.arange(-5, 5)\n",
        "svc = SVC(gamma='auto')\n",
        "grid = GridSearchCV(svc, cv=3, param_grid = {'C': Cs, 'gamma': gamma_array})\n",
        "grid.fit(X_train, y_train)\n",
        "\n",
        "best_cv_err = 1 - grid.best_score_\n",
        "best_C = grid.best_estimator_.C\n",
        "print(best_cv_err, best_C)"
      ],
      "execution_count": null,
      "outputs": [
        {
          "output_type": "error",
          "ename": "KeyboardInterrupt",
          "evalue": "",
          "traceback": [
            "\u001b[0;31m---------------------------------------------------------------------------\u001b[0m",
            "\u001b[0;31mKeyboardInterrupt\u001b[0m                         Traceback (most recent call last)",
            "\u001b[0;32m<ipython-input-84-0ea710071fd1>\u001b[0m in \u001b[0;36m<module>\u001b[0;34m\u001b[0m\n\u001b[1;32m      4\u001b[0m \u001b[0msvc\u001b[0m \u001b[0;34m=\u001b[0m \u001b[0mSVC\u001b[0m\u001b[0;34m(\u001b[0m\u001b[0mgamma\u001b[0m\u001b[0;34m=\u001b[0m\u001b[0;34m'auto'\u001b[0m\u001b[0;34m)\u001b[0m\u001b[0;34m\u001b[0m\u001b[0;34m\u001b[0m\u001b[0m\n\u001b[1;32m      5\u001b[0m \u001b[0mgrid\u001b[0m \u001b[0;34m=\u001b[0m \u001b[0mGridSearchCV\u001b[0m\u001b[0;34m(\u001b[0m\u001b[0msvc\u001b[0m\u001b[0;34m,\u001b[0m \u001b[0mcv\u001b[0m\u001b[0;34m=\u001b[0m\u001b[0;36m3\u001b[0m\u001b[0;34m,\u001b[0m \u001b[0mparam_grid\u001b[0m \u001b[0;34m=\u001b[0m \u001b[0;34m{\u001b[0m\u001b[0;34m'C'\u001b[0m\u001b[0;34m:\u001b[0m \u001b[0mCs\u001b[0m\u001b[0;34m,\u001b[0m \u001b[0;34m'gamma'\u001b[0m\u001b[0;34m:\u001b[0m \u001b[0mgamma_array\u001b[0m\u001b[0;34m}\u001b[0m\u001b[0;34m)\u001b[0m\u001b[0;34m\u001b[0m\u001b[0;34m\u001b[0m\u001b[0m\n\u001b[0;32m----> 6\u001b[0;31m \u001b[0mgrid\u001b[0m\u001b[0;34m.\u001b[0m\u001b[0mfit\u001b[0m\u001b[0;34m(\u001b[0m\u001b[0mX_train\u001b[0m\u001b[0;34m,\u001b[0m \u001b[0my_train\u001b[0m\u001b[0;34m)\u001b[0m\u001b[0;34m\u001b[0m\u001b[0;34m\u001b[0m\u001b[0m\n\u001b[0m\u001b[1;32m      7\u001b[0m \u001b[0;34m\u001b[0m\u001b[0m\n\u001b[1;32m      8\u001b[0m \u001b[0mbest_cv_err\u001b[0m \u001b[0;34m=\u001b[0m \u001b[0;36m1\u001b[0m \u001b[0;34m-\u001b[0m \u001b[0mgrid\u001b[0m\u001b[0;34m.\u001b[0m\u001b[0mbest_score_\u001b[0m\u001b[0;34m\u001b[0m\u001b[0;34m\u001b[0m\u001b[0m\n",
            "\u001b[0;32m~/anaconda3/lib/python3.7/site-packages/sklearn/model_selection/_search.py\u001b[0m in \u001b[0;36mfit\u001b[0;34m(self, X, y, groups, **fit_params)\u001b[0m\n\u001b[1;32m    685\u001b[0m                 \u001b[0;32mreturn\u001b[0m \u001b[0mresults\u001b[0m\u001b[0;34m\u001b[0m\u001b[0;34m\u001b[0m\u001b[0m\n\u001b[1;32m    686\u001b[0m \u001b[0;34m\u001b[0m\u001b[0m\n\u001b[0;32m--> 687\u001b[0;31m             \u001b[0mself\u001b[0m\u001b[0;34m.\u001b[0m\u001b[0m_run_search\u001b[0m\u001b[0;34m(\u001b[0m\u001b[0mevaluate_candidates\u001b[0m\u001b[0;34m)\u001b[0m\u001b[0;34m\u001b[0m\u001b[0;34m\u001b[0m\u001b[0m\n\u001b[0m\u001b[1;32m    688\u001b[0m \u001b[0;34m\u001b[0m\u001b[0m\n\u001b[1;32m    689\u001b[0m         \u001b[0;31m# For multi-metric evaluation, store the best_index_, best_params_ and\u001b[0m\u001b[0;34m\u001b[0m\u001b[0;34m\u001b[0m\u001b[0;34m\u001b[0m\u001b[0m\n",
            "\u001b[0;32m~/anaconda3/lib/python3.7/site-packages/sklearn/model_selection/_search.py\u001b[0m in \u001b[0;36m_run_search\u001b[0;34m(self, evaluate_candidates)\u001b[0m\n\u001b[1;32m   1146\u001b[0m     \u001b[0;32mdef\u001b[0m \u001b[0m_run_search\u001b[0m\u001b[0;34m(\u001b[0m\u001b[0mself\u001b[0m\u001b[0;34m,\u001b[0m \u001b[0mevaluate_candidates\u001b[0m\u001b[0;34m)\u001b[0m\u001b[0;34m:\u001b[0m\u001b[0;34m\u001b[0m\u001b[0;34m\u001b[0m\u001b[0m\n\u001b[1;32m   1147\u001b[0m         \u001b[0;34m\"\"\"Search all candidates in param_grid\"\"\"\u001b[0m\u001b[0;34m\u001b[0m\u001b[0;34m\u001b[0m\u001b[0m\n\u001b[0;32m-> 1148\u001b[0;31m         \u001b[0mevaluate_candidates\u001b[0m\u001b[0;34m(\u001b[0m\u001b[0mParameterGrid\u001b[0m\u001b[0;34m(\u001b[0m\u001b[0mself\u001b[0m\u001b[0;34m.\u001b[0m\u001b[0mparam_grid\u001b[0m\u001b[0;34m)\u001b[0m\u001b[0;34m)\u001b[0m\u001b[0;34m\u001b[0m\u001b[0;34m\u001b[0m\u001b[0m\n\u001b[0m\u001b[1;32m   1149\u001b[0m \u001b[0;34m\u001b[0m\u001b[0m\n\u001b[1;32m   1150\u001b[0m \u001b[0;34m\u001b[0m\u001b[0m\n",
            "\u001b[0;32m~/anaconda3/lib/python3.7/site-packages/sklearn/model_selection/_search.py\u001b[0m in \u001b[0;36mevaluate_candidates\u001b[0;34m(candidate_params)\u001b[0m\n\u001b[1;32m    664\u001b[0m                                \u001b[0;32mfor\u001b[0m \u001b[0mparameters\u001b[0m\u001b[0;34m,\u001b[0m \u001b[0;34m(\u001b[0m\u001b[0mtrain\u001b[0m\u001b[0;34m,\u001b[0m \u001b[0mtest\u001b[0m\u001b[0;34m)\u001b[0m\u001b[0;34m\u001b[0m\u001b[0;34m\u001b[0m\u001b[0m\n\u001b[1;32m    665\u001b[0m                                in product(candidate_params,\n\u001b[0;32m--> 666\u001b[0;31m                                           cv.split(X, y, groups)))\n\u001b[0m\u001b[1;32m    667\u001b[0m \u001b[0;34m\u001b[0m\u001b[0m\n\u001b[1;32m    668\u001b[0m                 \u001b[0;32mif\u001b[0m \u001b[0mlen\u001b[0m\u001b[0;34m(\u001b[0m\u001b[0mout\u001b[0m\u001b[0;34m)\u001b[0m \u001b[0;34m<\u001b[0m \u001b[0;36m1\u001b[0m\u001b[0;34m:\u001b[0m\u001b[0;34m\u001b[0m\u001b[0;34m\u001b[0m\u001b[0m\n",
            "\u001b[0;32m~/anaconda3/lib/python3.7/site-packages/joblib/parallel.py\u001b[0m in \u001b[0;36m__call__\u001b[0;34m(self, iterable)\u001b[0m\n\u001b[1;32m    922\u001b[0m                 \u001b[0mself\u001b[0m\u001b[0;34m.\u001b[0m\u001b[0m_iterating\u001b[0m \u001b[0;34m=\u001b[0m \u001b[0mself\u001b[0m\u001b[0;34m.\u001b[0m\u001b[0m_original_iterator\u001b[0m \u001b[0;32mis\u001b[0m \u001b[0;32mnot\u001b[0m \u001b[0;32mNone\u001b[0m\u001b[0;34m\u001b[0m\u001b[0;34m\u001b[0m\u001b[0m\n\u001b[1;32m    923\u001b[0m \u001b[0;34m\u001b[0m\u001b[0m\n\u001b[0;32m--> 924\u001b[0;31m             \u001b[0;32mwhile\u001b[0m \u001b[0mself\u001b[0m\u001b[0;34m.\u001b[0m\u001b[0mdispatch_one_batch\u001b[0m\u001b[0;34m(\u001b[0m\u001b[0miterator\u001b[0m\u001b[0;34m)\u001b[0m\u001b[0;34m:\u001b[0m\u001b[0;34m\u001b[0m\u001b[0;34m\u001b[0m\u001b[0m\n\u001b[0m\u001b[1;32m    925\u001b[0m                 \u001b[0;32mpass\u001b[0m\u001b[0;34m\u001b[0m\u001b[0;34m\u001b[0m\u001b[0m\n\u001b[1;32m    926\u001b[0m \u001b[0;34m\u001b[0m\u001b[0m\n",
            "\u001b[0;32m~/anaconda3/lib/python3.7/site-packages/joblib/parallel.py\u001b[0m in \u001b[0;36mdispatch_one_batch\u001b[0;34m(self, iterator)\u001b[0m\n\u001b[1;32m    757\u001b[0m                 \u001b[0;32mreturn\u001b[0m \u001b[0;32mFalse\u001b[0m\u001b[0;34m\u001b[0m\u001b[0;34m\u001b[0m\u001b[0m\n\u001b[1;32m    758\u001b[0m             \u001b[0;32melse\u001b[0m\u001b[0;34m:\u001b[0m\u001b[0;34m\u001b[0m\u001b[0;34m\u001b[0m\u001b[0m\n\u001b[0;32m--> 759\u001b[0;31m                 \u001b[0mself\u001b[0m\u001b[0;34m.\u001b[0m\u001b[0m_dispatch\u001b[0m\u001b[0;34m(\u001b[0m\u001b[0mtasks\u001b[0m\u001b[0;34m)\u001b[0m\u001b[0;34m\u001b[0m\u001b[0;34m\u001b[0m\u001b[0m\n\u001b[0m\u001b[1;32m    760\u001b[0m                 \u001b[0;32mreturn\u001b[0m \u001b[0;32mTrue\u001b[0m\u001b[0;34m\u001b[0m\u001b[0;34m\u001b[0m\u001b[0m\n\u001b[1;32m    761\u001b[0m \u001b[0;34m\u001b[0m\u001b[0m\n",
            "\u001b[0;32m~/anaconda3/lib/python3.7/site-packages/joblib/parallel.py\u001b[0m in \u001b[0;36m_dispatch\u001b[0;34m(self, batch)\u001b[0m\n\u001b[1;32m    714\u001b[0m         \u001b[0;32mwith\u001b[0m \u001b[0mself\u001b[0m\u001b[0;34m.\u001b[0m\u001b[0m_lock\u001b[0m\u001b[0;34m:\u001b[0m\u001b[0;34m\u001b[0m\u001b[0;34m\u001b[0m\u001b[0m\n\u001b[1;32m    715\u001b[0m             \u001b[0mjob_idx\u001b[0m \u001b[0;34m=\u001b[0m \u001b[0mlen\u001b[0m\u001b[0;34m(\u001b[0m\u001b[0mself\u001b[0m\u001b[0;34m.\u001b[0m\u001b[0m_jobs\u001b[0m\u001b[0;34m)\u001b[0m\u001b[0;34m\u001b[0m\u001b[0;34m\u001b[0m\u001b[0m\n\u001b[0;32m--> 716\u001b[0;31m             \u001b[0mjob\u001b[0m \u001b[0;34m=\u001b[0m \u001b[0mself\u001b[0m\u001b[0;34m.\u001b[0m\u001b[0m_backend\u001b[0m\u001b[0;34m.\u001b[0m\u001b[0mapply_async\u001b[0m\u001b[0;34m(\u001b[0m\u001b[0mbatch\u001b[0m\u001b[0;34m,\u001b[0m \u001b[0mcallback\u001b[0m\u001b[0;34m=\u001b[0m\u001b[0mcb\u001b[0m\u001b[0;34m)\u001b[0m\u001b[0;34m\u001b[0m\u001b[0;34m\u001b[0m\u001b[0m\n\u001b[0m\u001b[1;32m    717\u001b[0m             \u001b[0;31m# A job can complete so quickly than its callback is\u001b[0m\u001b[0;34m\u001b[0m\u001b[0;34m\u001b[0m\u001b[0;34m\u001b[0m\u001b[0m\n\u001b[1;32m    718\u001b[0m             \u001b[0;31m# called before we get here, causing self._jobs to\u001b[0m\u001b[0;34m\u001b[0m\u001b[0;34m\u001b[0m\u001b[0;34m\u001b[0m\u001b[0m\n",
            "\u001b[0;32m~/anaconda3/lib/python3.7/site-packages/joblib/_parallel_backends.py\u001b[0m in \u001b[0;36mapply_async\u001b[0;34m(self, func, callback)\u001b[0m\n\u001b[1;32m    180\u001b[0m     \u001b[0;32mdef\u001b[0m \u001b[0mapply_async\u001b[0m\u001b[0;34m(\u001b[0m\u001b[0mself\u001b[0m\u001b[0;34m,\u001b[0m \u001b[0mfunc\u001b[0m\u001b[0;34m,\u001b[0m \u001b[0mcallback\u001b[0m\u001b[0;34m=\u001b[0m\u001b[0;32mNone\u001b[0m\u001b[0;34m)\u001b[0m\u001b[0;34m:\u001b[0m\u001b[0;34m\u001b[0m\u001b[0;34m\u001b[0m\u001b[0m\n\u001b[1;32m    181\u001b[0m         \u001b[0;34m\"\"\"Schedule a func to be run\"\"\"\u001b[0m\u001b[0;34m\u001b[0m\u001b[0;34m\u001b[0m\u001b[0m\n\u001b[0;32m--> 182\u001b[0;31m         \u001b[0mresult\u001b[0m \u001b[0;34m=\u001b[0m \u001b[0mImmediateResult\u001b[0m\u001b[0;34m(\u001b[0m\u001b[0mfunc\u001b[0m\u001b[0;34m)\u001b[0m\u001b[0;34m\u001b[0m\u001b[0;34m\u001b[0m\u001b[0m\n\u001b[0m\u001b[1;32m    183\u001b[0m         \u001b[0;32mif\u001b[0m \u001b[0mcallback\u001b[0m\u001b[0;34m:\u001b[0m\u001b[0;34m\u001b[0m\u001b[0;34m\u001b[0m\u001b[0m\n\u001b[1;32m    184\u001b[0m             \u001b[0mcallback\u001b[0m\u001b[0;34m(\u001b[0m\u001b[0mresult\u001b[0m\u001b[0;34m)\u001b[0m\u001b[0;34m\u001b[0m\u001b[0;34m\u001b[0m\u001b[0m\n",
            "\u001b[0;32m~/anaconda3/lib/python3.7/site-packages/joblib/_parallel_backends.py\u001b[0m in \u001b[0;36m__init__\u001b[0;34m(self, batch)\u001b[0m\n\u001b[1;32m    547\u001b[0m         \u001b[0;31m# Don't delay the application, to avoid keeping the input\u001b[0m\u001b[0;34m\u001b[0m\u001b[0;34m\u001b[0m\u001b[0;34m\u001b[0m\u001b[0m\n\u001b[1;32m    548\u001b[0m         \u001b[0;31m# arguments in memory\u001b[0m\u001b[0;34m\u001b[0m\u001b[0;34m\u001b[0m\u001b[0;34m\u001b[0m\u001b[0m\n\u001b[0;32m--> 549\u001b[0;31m         \u001b[0mself\u001b[0m\u001b[0;34m.\u001b[0m\u001b[0mresults\u001b[0m \u001b[0;34m=\u001b[0m \u001b[0mbatch\u001b[0m\u001b[0;34m(\u001b[0m\u001b[0;34m)\u001b[0m\u001b[0;34m\u001b[0m\u001b[0;34m\u001b[0m\u001b[0m\n\u001b[0m\u001b[1;32m    550\u001b[0m \u001b[0;34m\u001b[0m\u001b[0m\n\u001b[1;32m    551\u001b[0m     \u001b[0;32mdef\u001b[0m \u001b[0mget\u001b[0m\u001b[0;34m(\u001b[0m\u001b[0mself\u001b[0m\u001b[0;34m)\u001b[0m\u001b[0;34m:\u001b[0m\u001b[0;34m\u001b[0m\u001b[0;34m\u001b[0m\u001b[0m\n",
            "\u001b[0;32m~/anaconda3/lib/python3.7/site-packages/joblib/parallel.py\u001b[0m in \u001b[0;36m__call__\u001b[0;34m(self)\u001b[0m\n\u001b[1;32m    223\u001b[0m         \u001b[0;32mwith\u001b[0m \u001b[0mparallel_backend\u001b[0m\u001b[0;34m(\u001b[0m\u001b[0mself\u001b[0m\u001b[0;34m.\u001b[0m\u001b[0m_backend\u001b[0m\u001b[0;34m,\u001b[0m \u001b[0mn_jobs\u001b[0m\u001b[0;34m=\u001b[0m\u001b[0mself\u001b[0m\u001b[0;34m.\u001b[0m\u001b[0m_n_jobs\u001b[0m\u001b[0;34m)\u001b[0m\u001b[0;34m:\u001b[0m\u001b[0;34m\u001b[0m\u001b[0;34m\u001b[0m\u001b[0m\n\u001b[1;32m    224\u001b[0m             return [func(*args, **kwargs)\n\u001b[0;32m--> 225\u001b[0;31m                     for func, args, kwargs in self.items]\n\u001b[0m\u001b[1;32m    226\u001b[0m \u001b[0;34m\u001b[0m\u001b[0m\n\u001b[1;32m    227\u001b[0m     \u001b[0;32mdef\u001b[0m \u001b[0m__len__\u001b[0m\u001b[0;34m(\u001b[0m\u001b[0mself\u001b[0m\u001b[0;34m)\u001b[0m\u001b[0;34m:\u001b[0m\u001b[0;34m\u001b[0m\u001b[0;34m\u001b[0m\u001b[0m\n",
            "\u001b[0;32m~/anaconda3/lib/python3.7/site-packages/joblib/parallel.py\u001b[0m in \u001b[0;36m<listcomp>\u001b[0;34m(.0)\u001b[0m\n\u001b[1;32m    223\u001b[0m         \u001b[0;32mwith\u001b[0m \u001b[0mparallel_backend\u001b[0m\u001b[0;34m(\u001b[0m\u001b[0mself\u001b[0m\u001b[0;34m.\u001b[0m\u001b[0m_backend\u001b[0m\u001b[0;34m,\u001b[0m \u001b[0mn_jobs\u001b[0m\u001b[0;34m=\u001b[0m\u001b[0mself\u001b[0m\u001b[0;34m.\u001b[0m\u001b[0m_n_jobs\u001b[0m\u001b[0;34m)\u001b[0m\u001b[0;34m:\u001b[0m\u001b[0;34m\u001b[0m\u001b[0;34m\u001b[0m\u001b[0m\n\u001b[1;32m    224\u001b[0m             return [func(*args, **kwargs)\n\u001b[0;32m--> 225\u001b[0;31m                     for func, args, kwargs in self.items]\n\u001b[0m\u001b[1;32m    226\u001b[0m \u001b[0;34m\u001b[0m\u001b[0m\n\u001b[1;32m    227\u001b[0m     \u001b[0;32mdef\u001b[0m \u001b[0m__len__\u001b[0m\u001b[0;34m(\u001b[0m\u001b[0mself\u001b[0m\u001b[0;34m)\u001b[0m\u001b[0;34m:\u001b[0m\u001b[0;34m\u001b[0m\u001b[0;34m\u001b[0m\u001b[0m\n",
            "\u001b[0;32m~/anaconda3/lib/python3.7/site-packages/sklearn/model_selection/_validation.py\u001b[0m in \u001b[0;36m_fit_and_score\u001b[0;34m(estimator, X, y, scorer, train, test, verbose, parameters, fit_params, return_train_score, return_parameters, return_n_test_samples, return_times, return_estimator, error_score)\u001b[0m\n\u001b[1;32m    512\u001b[0m             \u001b[0mestimator\u001b[0m\u001b[0;34m.\u001b[0m\u001b[0mfit\u001b[0m\u001b[0;34m(\u001b[0m\u001b[0mX_train\u001b[0m\u001b[0;34m,\u001b[0m \u001b[0;34m**\u001b[0m\u001b[0mfit_params\u001b[0m\u001b[0;34m)\u001b[0m\u001b[0;34m\u001b[0m\u001b[0;34m\u001b[0m\u001b[0m\n\u001b[1;32m    513\u001b[0m         \u001b[0;32melse\u001b[0m\u001b[0;34m:\u001b[0m\u001b[0;34m\u001b[0m\u001b[0;34m\u001b[0m\u001b[0m\n\u001b[0;32m--> 514\u001b[0;31m             \u001b[0mestimator\u001b[0m\u001b[0;34m.\u001b[0m\u001b[0mfit\u001b[0m\u001b[0;34m(\u001b[0m\u001b[0mX_train\u001b[0m\u001b[0;34m,\u001b[0m \u001b[0my_train\u001b[0m\u001b[0;34m,\u001b[0m \u001b[0;34m**\u001b[0m\u001b[0mfit_params\u001b[0m\u001b[0;34m)\u001b[0m\u001b[0;34m\u001b[0m\u001b[0;34m\u001b[0m\u001b[0m\n\u001b[0m\u001b[1;32m    515\u001b[0m \u001b[0;34m\u001b[0m\u001b[0m\n\u001b[1;32m    516\u001b[0m     \u001b[0;32mexcept\u001b[0m \u001b[0mException\u001b[0m \u001b[0;32mas\u001b[0m \u001b[0me\u001b[0m\u001b[0;34m:\u001b[0m\u001b[0;34m\u001b[0m\u001b[0;34m\u001b[0m\u001b[0m\n",
            "\u001b[0;32m~/anaconda3/lib/python3.7/site-packages/sklearn/svm/base.py\u001b[0m in \u001b[0;36mfit\u001b[0;34m(self, X, y, sample_weight)\u001b[0m\n\u001b[1;32m    207\u001b[0m \u001b[0;34m\u001b[0m\u001b[0m\n\u001b[1;32m    208\u001b[0m         \u001b[0mseed\u001b[0m \u001b[0;34m=\u001b[0m \u001b[0mrnd\u001b[0m\u001b[0;34m.\u001b[0m\u001b[0mrandint\u001b[0m\u001b[0;34m(\u001b[0m\u001b[0mnp\u001b[0m\u001b[0;34m.\u001b[0m\u001b[0miinfo\u001b[0m\u001b[0;34m(\u001b[0m\u001b[0;34m'i'\u001b[0m\u001b[0;34m)\u001b[0m\u001b[0;34m.\u001b[0m\u001b[0mmax\u001b[0m\u001b[0;34m)\u001b[0m\u001b[0;34m\u001b[0m\u001b[0;34m\u001b[0m\u001b[0m\n\u001b[0;32m--> 209\u001b[0;31m         \u001b[0mfit\u001b[0m\u001b[0;34m(\u001b[0m\u001b[0mX\u001b[0m\u001b[0;34m,\u001b[0m \u001b[0my\u001b[0m\u001b[0;34m,\u001b[0m \u001b[0msample_weight\u001b[0m\u001b[0;34m,\u001b[0m \u001b[0msolver_type\u001b[0m\u001b[0;34m,\u001b[0m \u001b[0mkernel\u001b[0m\u001b[0;34m,\u001b[0m \u001b[0mrandom_seed\u001b[0m\u001b[0;34m=\u001b[0m\u001b[0mseed\u001b[0m\u001b[0;34m)\u001b[0m\u001b[0;34m\u001b[0m\u001b[0;34m\u001b[0m\u001b[0m\n\u001b[0m\u001b[1;32m    210\u001b[0m         \u001b[0;31m# see comment on the other call to np.iinfo in this file\u001b[0m\u001b[0;34m\u001b[0m\u001b[0;34m\u001b[0m\u001b[0;34m\u001b[0m\u001b[0m\n\u001b[1;32m    211\u001b[0m \u001b[0;34m\u001b[0m\u001b[0m\n",
            "\u001b[0;32m~/anaconda3/lib/python3.7/site-packages/sklearn/svm/base.py\u001b[0m in \u001b[0;36m_dense_fit\u001b[0;34m(self, X, y, sample_weight, solver_type, kernel, random_seed)\u001b[0m\n\u001b[1;32m    266\u001b[0m                 \u001b[0mcache_size\u001b[0m\u001b[0;34m=\u001b[0m\u001b[0mself\u001b[0m\u001b[0;34m.\u001b[0m\u001b[0mcache_size\u001b[0m\u001b[0;34m,\u001b[0m \u001b[0mcoef0\u001b[0m\u001b[0;34m=\u001b[0m\u001b[0mself\u001b[0m\u001b[0;34m.\u001b[0m\u001b[0mcoef0\u001b[0m\u001b[0;34m,\u001b[0m\u001b[0;34m\u001b[0m\u001b[0;34m\u001b[0m\u001b[0m\n\u001b[1;32m    267\u001b[0m                 \u001b[0mgamma\u001b[0m\u001b[0;34m=\u001b[0m\u001b[0mself\u001b[0m\u001b[0;34m.\u001b[0m\u001b[0m_gamma\u001b[0m\u001b[0;34m,\u001b[0m \u001b[0mepsilon\u001b[0m\u001b[0;34m=\u001b[0m\u001b[0mself\u001b[0m\u001b[0;34m.\u001b[0m\u001b[0mepsilon\u001b[0m\u001b[0;34m,\u001b[0m\u001b[0;34m\u001b[0m\u001b[0;34m\u001b[0m\u001b[0m\n\u001b[0;32m--> 268\u001b[0;31m                 max_iter=self.max_iter, random_seed=random_seed)\n\u001b[0m\u001b[1;32m    269\u001b[0m \u001b[0;34m\u001b[0m\u001b[0m\n\u001b[1;32m    270\u001b[0m         \u001b[0mself\u001b[0m\u001b[0;34m.\u001b[0m\u001b[0m_warn_from_fit_status\u001b[0m\u001b[0;34m(\u001b[0m\u001b[0;34m)\u001b[0m\u001b[0;34m\u001b[0m\u001b[0;34m\u001b[0m\u001b[0m\n",
            "\u001b[0;31mKeyboardInterrupt\u001b[0m: "
          ]
        }
      ]
    },
    {
      "cell_type": "code",
      "metadata": {
        "id": "OBWSbB0gs-m3"
      },
      "source": [
        "svc = SVC(C = best_C, gamma='auto').fit(X_train, y_train)\n",
        "\n",
        "err_train = np.mean(y_train != knn.predict(X_train))\n",
        "err_test  = np.mean(y_test  != knn.predict(X_test))\n",
        "\n",
        "print(err_train, err_test)"
      ],
      "execution_count": null,
      "outputs": []
    },
    {
      "cell_type": "markdown",
      "metadata": {
        "id": "lwcFcYWys-m6"
      },
      "source": [
        "# Random Forest"
      ]
    },
    {
      "cell_type": "code",
      "metadata": {
        "id": "n7Sxx4Tys-m6"
      },
      "source": [
        "from sklearn import ensemble\n",
        "rf = ensemble.RandomForestClassifier(n_estimators = 1000)\n",
        "rf.fit(X_train, y_train)\n",
        "\n",
        "err_train = np.mean(y_train != rf.predict(X_train))\n",
        "err_test  = np.mean(y_test  != rf.predict(X_test))\n",
        "\n",
        "print(err_train, err_test)"
      ],
      "execution_count": null,
      "outputs": []
    },
    {
      "cell_type": "markdown",
      "metadata": {
        "id": "pIovDUxis-m9"
      },
      "source": [
        "### Значимость признаков"
      ]
    },
    {
      "cell_type": "code",
      "metadata": {
        "id": "R3LjfOF1s-m-"
      },
      "source": [
        "np.sum(rf.feature_importances_)"
      ],
      "execution_count": null,
      "outputs": []
    },
    {
      "cell_type": "code",
      "metadata": {
        "scrolled": true,
        "id": "VE_RU5Mss-nI"
      },
      "source": [
        "importances = rf.feature_importances_\n",
        "indices = np.argsort(importances)[::-1]\n",
        "\n",
        "print(\"Feature ranking:\")\n",
        "\n",
        "for f in range(d):\n",
        "    print(\"%2d. feature '%5s' (%f)\" % (f + 1, feature_names[indices[f]], importances[indices[f]]))   "
      ],
      "execution_count": null,
      "outputs": []
    },
    {
      "cell_type": "code",
      "metadata": {
        "id": "BOmqCjF0s-nJ"
      },
      "source": [
        "feature_names[[1, 0, 1]]"
      ],
      "execution_count": null,
      "outputs": []
    },
    {
      "cell_type": "code",
      "metadata": {
        "id": "CiuUUooSs-nL"
      },
      "source": [
        "d_first = 20\n",
        "plt.title(\"Feature importances\")\n",
        "plt.bar(range(d_first), importances[indices[:d_first]], align = 'center', color = 'r')\n",
        "plt.xticks(range(d_first), feature_names[indices[:d_first]], rotation = 90)\n",
        "plt.xlim([-1, d_first])"
      ],
      "execution_count": null,
      "outputs": []
    },
    {
      "cell_type": "markdown",
      "metadata": {
        "id": "4sSaB1s-s-nN"
      },
      "source": [
        "Использование только признаков\n",
        "`age`, `hourse-per-week`, `education-num`, `marital-status`, `relationship`, `occupation`\n",
        "существенно улучшает точность (понижает ошибку до 16-19%) на алгоритмах kNN и SVC.\n",
        "На самом деле, решающую роль играет удаление признака `fnlwgt`"
      ]
    },
    {
      "cell_type": "markdown",
      "metadata": {
        "id": "kZHShDLFs-nO"
      },
      "source": [
        "# Extremely Randomized Trees"
      ]
    },
    {
      "cell_type": "code",
      "metadata": {
        "id": "9IQ8L-3js-nO"
      },
      "source": [
        "ert = ensemble.ExtraTreesClassifier(n_estimators = 100).fit(X_train, y_train)\n",
        "\n",
        "err_train = np.mean(y_train != ert.predict(X_train))\n",
        "err_test  = np.mean(y_test  != ert.predict(X_test))\n",
        "\n",
        "print(err_train, err_test)"
      ],
      "execution_count": null,
      "outputs": []
    },
    {
      "cell_type": "markdown",
      "metadata": {
        "id": "BukWBKXFs-nQ"
      },
      "source": [
        "# AdaBoost"
      ]
    },
    {
      "cell_type": "code",
      "metadata": {
        "id": "u5VhZgaQs-nQ"
      },
      "source": [
        "ada = ensemble.AdaBoostClassifier(n_estimators = 1000)\n",
        "ada.fit(X_train, y_train)\n",
        "\n",
        "err_train = np.mean(y_train != ada.predict(X_train))\n",
        "err_test = np.mean(y_test != ada.predict(X_test))\n",
        "\n",
        "print(err_train, err_test)"
      ],
      "execution_count": null,
      "outputs": []
    },
    {
      "cell_type": "markdown",
      "metadata": {
        "id": "WdK2ZpiXs-nV"
      },
      "source": [
        "# GBT"
      ]
    },
    {
      "cell_type": "code",
      "metadata": {
        "id": "-gwrVU4Qs-nW"
      },
      "source": [
        "gbt = ensemble.GradientBoostingClassifier(n_estimators = 1000)\n",
        "gbt.fit(X_train, y_train)\n",
        "\n",
        "err_train = np.mean(y_train != gbt.predict(X_train))\n",
        "err_test = np.mean(y_test != gbt.predict(X_test))\n",
        "\n",
        "print(err_train, err_test)"
      ],
      "execution_count": null,
      "outputs": []
    },
    {
      "cell_type": "code",
      "metadata": {
        "id": "dEydRSJJs-nX"
      },
      "source": [],
      "execution_count": null,
      "outputs": []
    }
  ]
}