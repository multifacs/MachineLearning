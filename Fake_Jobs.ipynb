{
  "cells": [
    {
      "cell_type": "markdown",
      "metadata": {
        "id": "oM9eAQiuaSpV"
      },
      "source": [
        "## Постановка задачи:\n",
        "\n",
        "От нас требуется ознакомиться с выбранным dataset-ом, визуализировать эти данные, вычислить основные характеристики (среднее, разброс, корреляционную матрицу и т.д.), а также, осуществить \"препроцессинг\" данных и решить задачу классификации.\n",
        "\n",
        "Датасет содержит объявления о работе - настоящие и поддельные.\n",
        "Задача состоит в том, чтобы определить тип объявления."
      ]
    },
    {
      "cell_type": "markdown",
      "metadata": {
        "id": "0dtFvX8caSpX"
      },
      "source": [
        "Установливаем библиотеку Pandas:"
      ]
    },
    {
      "cell_type": "code",
      "execution_count": 39,
      "metadata": {
        "colab": {
          "base_uri": "https://localhost:8080/"
        },
        "id": "zG7Wa_pVaSpX",
        "outputId": "1b563256-9ff1-4998-95e3-0c9370c7f3ae"
      },
      "outputs": [
        {
          "name": "stdout",
          "output_type": "stream",
          "text": [
            "Defaulting to user installation because normal site-packages is not writeable\n",
            "Requirement already satisfied: pandas in c:\\program files\\python310\\lib\\site-packages (1.5.2)\n",
            "Requirement already satisfied: numpy>=1.21.0 in c:\\program files\\python310\\lib\\site-packages (from pandas) (1.24.0)\n",
            "Requirement already satisfied: pytz>=2020.1 in c:\\program files\\python310\\lib\\site-packages (from pandas) (2022.7)\n",
            "Requirement already satisfied: python-dateutil>=2.8.1 in c:\\users\\nick\\appdata\\roaming\\python\\python310\\site-packages (from pandas) (2.8.2)\n",
            "Requirement already satisfied: six>=1.5 in c:\\users\\nick\\appdata\\roaming\\python\\python310\\site-packages (from python-dateutil>=2.8.1->pandas) (1.16.0)\n"
          ]
        },
        {
          "name": "stderr",
          "output_type": "stream",
          "text": [
            "\n",
            "[notice] A new release of pip available: 22.2.1 -> 22.3.1\n",
            "[notice] To update, run: python.exe -m pip install --upgrade pip\n"
          ]
        }
      ],
      "source": [
        "! pip install pandas"
      ]
    },
    {
      "cell_type": "markdown",
      "metadata": {
        "id": "Ygwu7ri-aSpX"
      },
      "source": [
        "Импортируем необходимые модули:"
      ]
    },
    {
      "cell_type": "code",
      "execution_count": 40,
      "metadata": {
        "id": "p8EWx06KaSpY"
      },
      "outputs": [],
      "source": [
        "import numpy as np\n",
        "import matplotlib.pyplot as plt\n",
        "import pandas as pd\n",
        "%matplotlib inline"
      ]
    },
    {
      "cell_type": "markdown",
      "metadata": {
        "id": "MN93IG9WaSpY"
      },
      "source": [
        "## Знакомимся с dataset-ом"
      ]
    },
    {
      "cell_type": "markdown",
      "metadata": {
        "id": "JHTpZ-aQaSpY"
      },
      "source": [
        "Считываем dataset и выводим его содержимое, для наглядности, на экран:"
      ]
    },
    {
      "cell_type": "code",
      "execution_count": 41,
      "metadata": {
        "colab": {
          "base_uri": "https://localhost:8080/",
          "height": 974
        },
        "id": "9GnBqbhcaSpY",
        "outputId": "dec94cb3-5299-42b4-8572-fbf5f733e1be"
      },
      "outputs": [
        {
          "data": {
            "text/html": [
              "<div>\n",
              "<style scoped>\n",
              "    .dataframe tbody tr th:only-of-type {\n",
              "        vertical-align: middle;\n",
              "    }\n",
              "\n",
              "    .dataframe tbody tr th {\n",
              "        vertical-align: top;\n",
              "    }\n",
              "\n",
              "    .dataframe thead th {\n",
              "        text-align: right;\n",
              "    }\n",
              "</style>\n",
              "<table border=\"1\" class=\"dataframe\">\n",
              "  <thead>\n",
              "    <tr style=\"text-align: right;\">\n",
              "      <th></th>\n",
              "      <th>job_id</th>\n",
              "      <th>title</th>\n",
              "      <th>location</th>\n",
              "      <th>department</th>\n",
              "      <th>salary_range</th>\n",
              "      <th>company_profile</th>\n",
              "      <th>description</th>\n",
              "      <th>requirements</th>\n",
              "      <th>benefits</th>\n",
              "      <th>telecommuting</th>\n",
              "      <th>has_company_logo</th>\n",
              "      <th>has_questions</th>\n",
              "      <th>employment_type</th>\n",
              "      <th>required_experience</th>\n",
              "      <th>required_education</th>\n",
              "      <th>industry</th>\n",
              "      <th>function</th>\n",
              "      <th>fraudulent</th>\n",
              "    </tr>\n",
              "  </thead>\n",
              "  <tbody>\n",
              "    <tr>\n",
              "      <th>0</th>\n",
              "      <td>1</td>\n",
              "      <td>Marketing Intern</td>\n",
              "      <td>US, NY, New York</td>\n",
              "      <td>Marketing</td>\n",
              "      <td>NaN</td>\n",
              "      <td>We're Food52, and we've created a groundbreaki...</td>\n",
              "      <td>Food52, a fast-growing, James Beard Award-winn...</td>\n",
              "      <td>Experience with content management systems a m...</td>\n",
              "      <td>NaN</td>\n",
              "      <td>0</td>\n",
              "      <td>1</td>\n",
              "      <td>0</td>\n",
              "      <td>Other</td>\n",
              "      <td>Internship</td>\n",
              "      <td>NaN</td>\n",
              "      <td>NaN</td>\n",
              "      <td>Marketing</td>\n",
              "      <td>0</td>\n",
              "    </tr>\n",
              "    <tr>\n",
              "      <th>1</th>\n",
              "      <td>2</td>\n",
              "      <td>Customer Service - Cloud Video Production</td>\n",
              "      <td>NZ, , Auckland</td>\n",
              "      <td>Success</td>\n",
              "      <td>NaN</td>\n",
              "      <td>90 Seconds, the worlds Cloud Video Production ...</td>\n",
              "      <td>Organised - Focused - Vibrant - Awesome!Do you...</td>\n",
              "      <td>What we expect from you:Your key responsibilit...</td>\n",
              "      <td>What you will get from usThrough being part of...</td>\n",
              "      <td>0</td>\n",
              "      <td>1</td>\n",
              "      <td>0</td>\n",
              "      <td>Full-time</td>\n",
              "      <td>Not Applicable</td>\n",
              "      <td>NaN</td>\n",
              "      <td>Marketing and Advertising</td>\n",
              "      <td>Customer Service</td>\n",
              "      <td>0</td>\n",
              "    </tr>\n",
              "    <tr>\n",
              "      <th>2</th>\n",
              "      <td>3</td>\n",
              "      <td>Commissioning Machinery Assistant (CMA)</td>\n",
              "      <td>US, IA, Wever</td>\n",
              "      <td>NaN</td>\n",
              "      <td>NaN</td>\n",
              "      <td>Valor Services provides Workforce Solutions th...</td>\n",
              "      <td>Our client, located in Houston, is actively se...</td>\n",
              "      <td>Implement pre-commissioning and commissioning ...</td>\n",
              "      <td>NaN</td>\n",
              "      <td>0</td>\n",
              "      <td>1</td>\n",
              "      <td>0</td>\n",
              "      <td>NaN</td>\n",
              "      <td>NaN</td>\n",
              "      <td>NaN</td>\n",
              "      <td>NaN</td>\n",
              "      <td>NaN</td>\n",
              "      <td>0</td>\n",
              "    </tr>\n",
              "    <tr>\n",
              "      <th>3</th>\n",
              "      <td>4</td>\n",
              "      <td>Account Executive - Washington DC</td>\n",
              "      <td>US, DC, Washington</td>\n",
              "      <td>Sales</td>\n",
              "      <td>NaN</td>\n",
              "      <td>Our passion for improving quality of life thro...</td>\n",
              "      <td>THE COMPANY: ESRI – Environmental Systems Rese...</td>\n",
              "      <td>EDUCATION: Bachelor’s or Master’s in GIS, busi...</td>\n",
              "      <td>Our culture is anything but corporate—we have ...</td>\n",
              "      <td>0</td>\n",
              "      <td>1</td>\n",
              "      <td>0</td>\n",
              "      <td>Full-time</td>\n",
              "      <td>Mid-Senior level</td>\n",
              "      <td>Bachelor's Degree</td>\n",
              "      <td>Computer Software</td>\n",
              "      <td>Sales</td>\n",
              "      <td>0</td>\n",
              "    </tr>\n",
              "    <tr>\n",
              "      <th>4</th>\n",
              "      <td>5</td>\n",
              "      <td>Bill Review Manager</td>\n",
              "      <td>US, FL, Fort Worth</td>\n",
              "      <td>NaN</td>\n",
              "      <td>NaN</td>\n",
              "      <td>SpotSource Solutions LLC is a Global Human Cap...</td>\n",
              "      <td>JOB TITLE: Itemization Review ManagerLOCATION:...</td>\n",
              "      <td>QUALIFICATIONS:RN license in the State of Texa...</td>\n",
              "      <td>Full Benefits Offered</td>\n",
              "      <td>0</td>\n",
              "      <td>1</td>\n",
              "      <td>1</td>\n",
              "      <td>Full-time</td>\n",
              "      <td>Mid-Senior level</td>\n",
              "      <td>Bachelor's Degree</td>\n",
              "      <td>Hospital &amp; Health Care</td>\n",
              "      <td>Health Care Provider</td>\n",
              "      <td>0</td>\n",
              "    </tr>\n",
              "    <tr>\n",
              "      <th>...</th>\n",
              "      <td>...</td>\n",
              "      <td>...</td>\n",
              "      <td>...</td>\n",
              "      <td>...</td>\n",
              "      <td>...</td>\n",
              "      <td>...</td>\n",
              "      <td>...</td>\n",
              "      <td>...</td>\n",
              "      <td>...</td>\n",
              "      <td>...</td>\n",
              "      <td>...</td>\n",
              "      <td>...</td>\n",
              "      <td>...</td>\n",
              "      <td>...</td>\n",
              "      <td>...</td>\n",
              "      <td>...</td>\n",
              "      <td>...</td>\n",
              "      <td>...</td>\n",
              "    </tr>\n",
              "    <tr>\n",
              "      <th>17875</th>\n",
              "      <td>17876</td>\n",
              "      <td>Account Director - Distribution</td>\n",
              "      <td>CA, ON, Toronto</td>\n",
              "      <td>Sales</td>\n",
              "      <td>NaN</td>\n",
              "      <td>Vend is looking for some awesome new talent to...</td>\n",
              "      <td>Just in case this is the first time you’ve vis...</td>\n",
              "      <td>To ace this role you:Will eat comprehensive St...</td>\n",
              "      <td>What can you expect from us?We have an open cu...</td>\n",
              "      <td>0</td>\n",
              "      <td>1</td>\n",
              "      <td>1</td>\n",
              "      <td>Full-time</td>\n",
              "      <td>Mid-Senior level</td>\n",
              "      <td>NaN</td>\n",
              "      <td>Computer Software</td>\n",
              "      <td>Sales</td>\n",
              "      <td>0</td>\n",
              "    </tr>\n",
              "    <tr>\n",
              "      <th>17876</th>\n",
              "      <td>17877</td>\n",
              "      <td>Payroll Accountant</td>\n",
              "      <td>US, PA, Philadelphia</td>\n",
              "      <td>Accounting</td>\n",
              "      <td>NaN</td>\n",
              "      <td>WebLinc is the e-commerce platform and service...</td>\n",
              "      <td>The Payroll Accountant will focus primarily on...</td>\n",
              "      <td>- B.A. or B.S. in Accounting- Desire to have f...</td>\n",
              "      <td>Health &amp;amp; WellnessMedical planPrescription ...</td>\n",
              "      <td>0</td>\n",
              "      <td>1</td>\n",
              "      <td>1</td>\n",
              "      <td>Full-time</td>\n",
              "      <td>Mid-Senior level</td>\n",
              "      <td>Bachelor's Degree</td>\n",
              "      <td>Internet</td>\n",
              "      <td>Accounting/Auditing</td>\n",
              "      <td>0</td>\n",
              "    </tr>\n",
              "    <tr>\n",
              "      <th>17877</th>\n",
              "      <td>17878</td>\n",
              "      <td>Project Cost Control Staff Engineer - Cost Con...</td>\n",
              "      <td>US, TX, Houston</td>\n",
              "      <td>NaN</td>\n",
              "      <td>NaN</td>\n",
              "      <td>We Provide Full Time Permanent Positions for m...</td>\n",
              "      <td>Experienced Project Cost Control Staff Enginee...</td>\n",
              "      <td>At least 12 years professional experience.Abil...</td>\n",
              "      <td>NaN</td>\n",
              "      <td>0</td>\n",
              "      <td>0</td>\n",
              "      <td>0</td>\n",
              "      <td>Full-time</td>\n",
              "      <td>NaN</td>\n",
              "      <td>NaN</td>\n",
              "      <td>NaN</td>\n",
              "      <td>NaN</td>\n",
              "      <td>0</td>\n",
              "    </tr>\n",
              "    <tr>\n",
              "      <th>17878</th>\n",
              "      <td>17879</td>\n",
              "      <td>Graphic Designer</td>\n",
              "      <td>NG, LA, Lagos</td>\n",
              "      <td>NaN</td>\n",
              "      <td>NaN</td>\n",
              "      <td>NaN</td>\n",
              "      <td>Nemsia Studios is looking for an experienced v...</td>\n",
              "      <td>1. Must be fluent in the latest versions of Co...</td>\n",
              "      <td>Competitive salary (compensation will be based...</td>\n",
              "      <td>0</td>\n",
              "      <td>0</td>\n",
              "      <td>1</td>\n",
              "      <td>Contract</td>\n",
              "      <td>Not Applicable</td>\n",
              "      <td>Professional</td>\n",
              "      <td>Graphic Design</td>\n",
              "      <td>Design</td>\n",
              "      <td>0</td>\n",
              "    </tr>\n",
              "    <tr>\n",
              "      <th>17879</th>\n",
              "      <td>17880</td>\n",
              "      <td>Web Application Developers</td>\n",
              "      <td>NZ, N, Wellington</td>\n",
              "      <td>Engineering</td>\n",
              "      <td>NaN</td>\n",
              "      <td>Vend is looking for some awesome new talent to...</td>\n",
              "      <td>Who are we?Vend is an award winning web based ...</td>\n",
              "      <td>We want to hear from you if:You have an in-dep...</td>\n",
              "      <td>NaN</td>\n",
              "      <td>0</td>\n",
              "      <td>1</td>\n",
              "      <td>1</td>\n",
              "      <td>Full-time</td>\n",
              "      <td>Mid-Senior level</td>\n",
              "      <td>NaN</td>\n",
              "      <td>Computer Software</td>\n",
              "      <td>Engineering</td>\n",
              "      <td>0</td>\n",
              "    </tr>\n",
              "  </tbody>\n",
              "</table>\n",
              "<p>17880 rows × 18 columns</p>\n",
              "</div>"
            ],
            "text/plain": [
              "       job_id                                              title  \\\n",
              "0           1                                   Marketing Intern   \n",
              "1           2          Customer Service - Cloud Video Production   \n",
              "2           3            Commissioning Machinery Assistant (CMA)   \n",
              "3           4                  Account Executive - Washington DC   \n",
              "4           5                                Bill Review Manager   \n",
              "...       ...                                                ...   \n",
              "17875   17876                   Account Director - Distribution    \n",
              "17876   17877                                 Payroll Accountant   \n",
              "17877   17878  Project Cost Control Staff Engineer - Cost Con...   \n",
              "17878   17879                                   Graphic Designer   \n",
              "17879   17880                         Web Application Developers   \n",
              "\n",
              "                   location   department salary_range  \\\n",
              "0          US, NY, New York    Marketing          NaN   \n",
              "1            NZ, , Auckland      Success          NaN   \n",
              "2             US, IA, Wever          NaN          NaN   \n",
              "3        US, DC, Washington        Sales          NaN   \n",
              "4        US, FL, Fort Worth          NaN          NaN   \n",
              "...                     ...          ...          ...   \n",
              "17875       CA, ON, Toronto        Sales          NaN   \n",
              "17876  US, PA, Philadelphia   Accounting          NaN   \n",
              "17877       US, TX, Houston          NaN          NaN   \n",
              "17878         NG, LA, Lagos          NaN          NaN   \n",
              "17879     NZ, N, Wellington  Engineering          NaN   \n",
              "\n",
              "                                         company_profile  \\\n",
              "0      We're Food52, and we've created a groundbreaki...   \n",
              "1      90 Seconds, the worlds Cloud Video Production ...   \n",
              "2      Valor Services provides Workforce Solutions th...   \n",
              "3      Our passion for improving quality of life thro...   \n",
              "4      SpotSource Solutions LLC is a Global Human Cap...   \n",
              "...                                                  ...   \n",
              "17875  Vend is looking for some awesome new talent to...   \n",
              "17876  WebLinc is the e-commerce platform and service...   \n",
              "17877  We Provide Full Time Permanent Positions for m...   \n",
              "17878                                                NaN   \n",
              "17879  Vend is looking for some awesome new talent to...   \n",
              "\n",
              "                                             description  \\\n",
              "0      Food52, a fast-growing, James Beard Award-winn...   \n",
              "1      Organised - Focused - Vibrant - Awesome!Do you...   \n",
              "2      Our client, located in Houston, is actively se...   \n",
              "3      THE COMPANY: ESRI – Environmental Systems Rese...   \n",
              "4      JOB TITLE: Itemization Review ManagerLOCATION:...   \n",
              "...                                                  ...   \n",
              "17875  Just in case this is the first time you’ve vis...   \n",
              "17876  The Payroll Accountant will focus primarily on...   \n",
              "17877  Experienced Project Cost Control Staff Enginee...   \n",
              "17878  Nemsia Studios is looking for an experienced v...   \n",
              "17879  Who are we?Vend is an award winning web based ...   \n",
              "\n",
              "                                            requirements  \\\n",
              "0      Experience with content management systems a m...   \n",
              "1      What we expect from you:Your key responsibilit...   \n",
              "2      Implement pre-commissioning and commissioning ...   \n",
              "3      EDUCATION: Bachelor’s or Master’s in GIS, busi...   \n",
              "4      QUALIFICATIONS:RN license in the State of Texa...   \n",
              "...                                                  ...   \n",
              "17875  To ace this role you:Will eat comprehensive St...   \n",
              "17876  - B.A. or B.S. in Accounting- Desire to have f...   \n",
              "17877  At least 12 years professional experience.Abil...   \n",
              "17878  1. Must be fluent in the latest versions of Co...   \n",
              "17879  We want to hear from you if:You have an in-dep...   \n",
              "\n",
              "                                                benefits  telecommuting  \\\n",
              "0                                                    NaN              0   \n",
              "1      What you will get from usThrough being part of...              0   \n",
              "2                                                    NaN              0   \n",
              "3      Our culture is anything but corporate—we have ...              0   \n",
              "4                                  Full Benefits Offered              0   \n",
              "...                                                  ...            ...   \n",
              "17875  What can you expect from us?We have an open cu...              0   \n",
              "17876  Health &amp; WellnessMedical planPrescription ...              0   \n",
              "17877                                                NaN              0   \n",
              "17878  Competitive salary (compensation will be based...              0   \n",
              "17879                                                NaN              0   \n",
              "\n",
              "       has_company_logo  has_questions employment_type required_experience  \\\n",
              "0                     1              0           Other          Internship   \n",
              "1                     1              0       Full-time      Not Applicable   \n",
              "2                     1              0             NaN                 NaN   \n",
              "3                     1              0       Full-time    Mid-Senior level   \n",
              "4                     1              1       Full-time    Mid-Senior level   \n",
              "...                 ...            ...             ...                 ...   \n",
              "17875                 1              1       Full-time    Mid-Senior level   \n",
              "17876                 1              1       Full-time    Mid-Senior level   \n",
              "17877                 0              0       Full-time                 NaN   \n",
              "17878                 0              1        Contract      Not Applicable   \n",
              "17879                 1              1       Full-time    Mid-Senior level   \n",
              "\n",
              "      required_education                   industry              function  \\\n",
              "0                    NaN                        NaN             Marketing   \n",
              "1                    NaN  Marketing and Advertising      Customer Service   \n",
              "2                    NaN                        NaN                   NaN   \n",
              "3      Bachelor's Degree          Computer Software                 Sales   \n",
              "4      Bachelor's Degree     Hospital & Health Care  Health Care Provider   \n",
              "...                  ...                        ...                   ...   \n",
              "17875                NaN          Computer Software                 Sales   \n",
              "17876  Bachelor's Degree                   Internet   Accounting/Auditing   \n",
              "17877                NaN                        NaN                   NaN   \n",
              "17878       Professional             Graphic Design                Design   \n",
              "17879                NaN          Computer Software           Engineering   \n",
              "\n",
              "       fraudulent  \n",
              "0               0  \n",
              "1               0  \n",
              "2               0  \n",
              "3               0  \n",
              "4               0  \n",
              "...           ...  \n",
              "17875           0  \n",
              "17876           0  \n",
              "17877           0  \n",
              "17878           0  \n",
              "17879           0  \n",
              "\n",
              "[17880 rows x 18 columns]"
            ]
          },
          "execution_count": 41,
          "metadata": {},
          "output_type": "execute_result"
        }
      ],
      "source": [
        "data = pd.read_csv('fake_job_postings.csv')\n",
        "data"
      ]
    },
    {
      "cell_type": "markdown",
      "metadata": {
        "id": "Uz6_tL1FaSpZ"
      },
      "source": [
        "Выводим первые 10 строк dataset-а:"
      ]
    },
    {
      "cell_type": "code",
      "execution_count": 42,
      "metadata": {
        "colab": {
          "base_uri": "https://localhost:8080/",
          "height": 896
        },
        "id": "fpXcBH-4aSpZ",
        "outputId": "a5b4d272-869a-41c4-8b5b-5d5d272190ff"
      },
      "outputs": [
        {
          "data": {
            "text/html": [
              "<div>\n",
              "<style scoped>\n",
              "    .dataframe tbody tr th:only-of-type {\n",
              "        vertical-align: middle;\n",
              "    }\n",
              "\n",
              "    .dataframe tbody tr th {\n",
              "        vertical-align: top;\n",
              "    }\n",
              "\n",
              "    .dataframe thead th {\n",
              "        text-align: right;\n",
              "    }\n",
              "</style>\n",
              "<table border=\"1\" class=\"dataframe\">\n",
              "  <thead>\n",
              "    <tr style=\"text-align: right;\">\n",
              "      <th></th>\n",
              "      <th>job_id</th>\n",
              "      <th>title</th>\n",
              "      <th>location</th>\n",
              "      <th>department</th>\n",
              "      <th>salary_range</th>\n",
              "      <th>company_profile</th>\n",
              "      <th>description</th>\n",
              "      <th>requirements</th>\n",
              "      <th>benefits</th>\n",
              "      <th>telecommuting</th>\n",
              "      <th>has_company_logo</th>\n",
              "      <th>has_questions</th>\n",
              "      <th>employment_type</th>\n",
              "      <th>required_experience</th>\n",
              "      <th>required_education</th>\n",
              "      <th>industry</th>\n",
              "      <th>function</th>\n",
              "      <th>fraudulent</th>\n",
              "    </tr>\n",
              "  </thead>\n",
              "  <tbody>\n",
              "    <tr>\n",
              "      <th>0</th>\n",
              "      <td>1</td>\n",
              "      <td>Marketing Intern</td>\n",
              "      <td>US, NY, New York</td>\n",
              "      <td>Marketing</td>\n",
              "      <td>NaN</td>\n",
              "      <td>We're Food52, and we've created a groundbreaki...</td>\n",
              "      <td>Food52, a fast-growing, James Beard Award-winn...</td>\n",
              "      <td>Experience with content management systems a m...</td>\n",
              "      <td>NaN</td>\n",
              "      <td>0</td>\n",
              "      <td>1</td>\n",
              "      <td>0</td>\n",
              "      <td>Other</td>\n",
              "      <td>Internship</td>\n",
              "      <td>NaN</td>\n",
              "      <td>NaN</td>\n",
              "      <td>Marketing</td>\n",
              "      <td>0</td>\n",
              "    </tr>\n",
              "    <tr>\n",
              "      <th>1</th>\n",
              "      <td>2</td>\n",
              "      <td>Customer Service - Cloud Video Production</td>\n",
              "      <td>NZ, , Auckland</td>\n",
              "      <td>Success</td>\n",
              "      <td>NaN</td>\n",
              "      <td>90 Seconds, the worlds Cloud Video Production ...</td>\n",
              "      <td>Organised - Focused - Vibrant - Awesome!Do you...</td>\n",
              "      <td>What we expect from you:Your key responsibilit...</td>\n",
              "      <td>What you will get from usThrough being part of...</td>\n",
              "      <td>0</td>\n",
              "      <td>1</td>\n",
              "      <td>0</td>\n",
              "      <td>Full-time</td>\n",
              "      <td>Not Applicable</td>\n",
              "      <td>NaN</td>\n",
              "      <td>Marketing and Advertising</td>\n",
              "      <td>Customer Service</td>\n",
              "      <td>0</td>\n",
              "    </tr>\n",
              "    <tr>\n",
              "      <th>2</th>\n",
              "      <td>3</td>\n",
              "      <td>Commissioning Machinery Assistant (CMA)</td>\n",
              "      <td>US, IA, Wever</td>\n",
              "      <td>NaN</td>\n",
              "      <td>NaN</td>\n",
              "      <td>Valor Services provides Workforce Solutions th...</td>\n",
              "      <td>Our client, located in Houston, is actively se...</td>\n",
              "      <td>Implement pre-commissioning and commissioning ...</td>\n",
              "      <td>NaN</td>\n",
              "      <td>0</td>\n",
              "      <td>1</td>\n",
              "      <td>0</td>\n",
              "      <td>NaN</td>\n",
              "      <td>NaN</td>\n",
              "      <td>NaN</td>\n",
              "      <td>NaN</td>\n",
              "      <td>NaN</td>\n",
              "      <td>0</td>\n",
              "    </tr>\n",
              "    <tr>\n",
              "      <th>3</th>\n",
              "      <td>4</td>\n",
              "      <td>Account Executive - Washington DC</td>\n",
              "      <td>US, DC, Washington</td>\n",
              "      <td>Sales</td>\n",
              "      <td>NaN</td>\n",
              "      <td>Our passion for improving quality of life thro...</td>\n",
              "      <td>THE COMPANY: ESRI – Environmental Systems Rese...</td>\n",
              "      <td>EDUCATION: Bachelor’s or Master’s in GIS, busi...</td>\n",
              "      <td>Our culture is anything but corporate—we have ...</td>\n",
              "      <td>0</td>\n",
              "      <td>1</td>\n",
              "      <td>0</td>\n",
              "      <td>Full-time</td>\n",
              "      <td>Mid-Senior level</td>\n",
              "      <td>Bachelor's Degree</td>\n",
              "      <td>Computer Software</td>\n",
              "      <td>Sales</td>\n",
              "      <td>0</td>\n",
              "    </tr>\n",
              "    <tr>\n",
              "      <th>4</th>\n",
              "      <td>5</td>\n",
              "      <td>Bill Review Manager</td>\n",
              "      <td>US, FL, Fort Worth</td>\n",
              "      <td>NaN</td>\n",
              "      <td>NaN</td>\n",
              "      <td>SpotSource Solutions LLC is a Global Human Cap...</td>\n",
              "      <td>JOB TITLE: Itemization Review ManagerLOCATION:...</td>\n",
              "      <td>QUALIFICATIONS:RN license in the State of Texa...</td>\n",
              "      <td>Full Benefits Offered</td>\n",
              "      <td>0</td>\n",
              "      <td>1</td>\n",
              "      <td>1</td>\n",
              "      <td>Full-time</td>\n",
              "      <td>Mid-Senior level</td>\n",
              "      <td>Bachelor's Degree</td>\n",
              "      <td>Hospital &amp; Health Care</td>\n",
              "      <td>Health Care Provider</td>\n",
              "      <td>0</td>\n",
              "    </tr>\n",
              "    <tr>\n",
              "      <th>5</th>\n",
              "      <td>6</td>\n",
              "      <td>Accounting Clerk</td>\n",
              "      <td>US, MD,</td>\n",
              "      <td>NaN</td>\n",
              "      <td>NaN</td>\n",
              "      <td>NaN</td>\n",
              "      <td>Job OverviewApex is an environmental consultin...</td>\n",
              "      <td>NaN</td>\n",
              "      <td>NaN</td>\n",
              "      <td>0</td>\n",
              "      <td>0</td>\n",
              "      <td>0</td>\n",
              "      <td>NaN</td>\n",
              "      <td>NaN</td>\n",
              "      <td>NaN</td>\n",
              "      <td>NaN</td>\n",
              "      <td>NaN</td>\n",
              "      <td>0</td>\n",
              "    </tr>\n",
              "    <tr>\n",
              "      <th>6</th>\n",
              "      <td>7</td>\n",
              "      <td>Head of Content (m/f)</td>\n",
              "      <td>DE, BE, Berlin</td>\n",
              "      <td>ANDROIDPIT</td>\n",
              "      <td>20000-28000</td>\n",
              "      <td>Founded in 2009, the Fonpit AG rose with its i...</td>\n",
              "      <td>Your Responsibilities: Manage the English-spea...</td>\n",
              "      <td>Your Know-How:                                ...</td>\n",
              "      <td>Your Benefits: Being part of a fast-growing co...</td>\n",
              "      <td>0</td>\n",
              "      <td>1</td>\n",
              "      <td>1</td>\n",
              "      <td>Full-time</td>\n",
              "      <td>Mid-Senior level</td>\n",
              "      <td>Master's Degree</td>\n",
              "      <td>Online Media</td>\n",
              "      <td>Management</td>\n",
              "      <td>0</td>\n",
              "    </tr>\n",
              "    <tr>\n",
              "      <th>7</th>\n",
              "      <td>8</td>\n",
              "      <td>Lead Guest Service Specialist</td>\n",
              "      <td>US, CA, San Francisco</td>\n",
              "      <td>NaN</td>\n",
              "      <td>NaN</td>\n",
              "      <td>Airenvy’s mission is to provide lucrative yet ...</td>\n",
              "      <td>Who is Airenvy?Hey there! We are seasoned entr...</td>\n",
              "      <td>Experience with CRM software, live chat, and p...</td>\n",
              "      <td>Competitive Pay. You'll be able to eat steak e...</td>\n",
              "      <td>0</td>\n",
              "      <td>1</td>\n",
              "      <td>1</td>\n",
              "      <td>NaN</td>\n",
              "      <td>NaN</td>\n",
              "      <td>NaN</td>\n",
              "      <td>NaN</td>\n",
              "      <td>NaN</td>\n",
              "      <td>0</td>\n",
              "    </tr>\n",
              "    <tr>\n",
              "      <th>8</th>\n",
              "      <td>9</td>\n",
              "      <td>HP BSM SME</td>\n",
              "      <td>US, FL, Pensacola</td>\n",
              "      <td>NaN</td>\n",
              "      <td>NaN</td>\n",
              "      <td>Solutions3 is a woman-owned small business who...</td>\n",
              "      <td>Implementation/Configuration/Testing/Training ...</td>\n",
              "      <td>MUST BE A US CITIZEN.An active TS/SCI clearanc...</td>\n",
              "      <td>NaN</td>\n",
              "      <td>0</td>\n",
              "      <td>1</td>\n",
              "      <td>1</td>\n",
              "      <td>Full-time</td>\n",
              "      <td>Associate</td>\n",
              "      <td>NaN</td>\n",
              "      <td>Information Technology and Services</td>\n",
              "      <td>NaN</td>\n",
              "      <td>0</td>\n",
              "    </tr>\n",
              "    <tr>\n",
              "      <th>9</th>\n",
              "      <td>10</td>\n",
              "      <td>Customer Service Associate - Part Time</td>\n",
              "      <td>US, AZ, Phoenix</td>\n",
              "      <td>NaN</td>\n",
              "      <td>NaN</td>\n",
              "      <td>Novitex Enterprise Solutions, formerly Pitney ...</td>\n",
              "      <td>The Customer Service Associate will be based i...</td>\n",
              "      <td>Minimum Requirements:Minimum of 6 months custo...</td>\n",
              "      <td>NaN</td>\n",
              "      <td>0</td>\n",
              "      <td>1</td>\n",
              "      <td>0</td>\n",
              "      <td>Part-time</td>\n",
              "      <td>Entry level</td>\n",
              "      <td>High School or equivalent</td>\n",
              "      <td>Financial Services</td>\n",
              "      <td>Customer Service</td>\n",
              "      <td>0</td>\n",
              "    </tr>\n",
              "  </tbody>\n",
              "</table>\n",
              "</div>"
            ],
            "text/plain": [
              "   job_id                                      title               location  \\\n",
              "0       1                           Marketing Intern       US, NY, New York   \n",
              "1       2  Customer Service - Cloud Video Production         NZ, , Auckland   \n",
              "2       3    Commissioning Machinery Assistant (CMA)          US, IA, Wever   \n",
              "3       4          Account Executive - Washington DC     US, DC, Washington   \n",
              "4       5                        Bill Review Manager     US, FL, Fort Worth   \n",
              "5       6                           Accounting Clerk               US, MD,    \n",
              "6       7                      Head of Content (m/f)         DE, BE, Berlin   \n",
              "7       8           Lead Guest Service Specialist     US, CA, San Francisco   \n",
              "8       9                                 HP BSM SME      US, FL, Pensacola   \n",
              "9      10    Customer Service Associate - Part Time         US, AZ, Phoenix   \n",
              "\n",
              "   department salary_range                                    company_profile  \\\n",
              "0   Marketing          NaN  We're Food52, and we've created a groundbreaki...   \n",
              "1     Success          NaN  90 Seconds, the worlds Cloud Video Production ...   \n",
              "2         NaN          NaN  Valor Services provides Workforce Solutions th...   \n",
              "3       Sales          NaN  Our passion for improving quality of life thro...   \n",
              "4         NaN          NaN  SpotSource Solutions LLC is a Global Human Cap...   \n",
              "5         NaN          NaN                                                NaN   \n",
              "6  ANDROIDPIT  20000-28000  Founded in 2009, the Fonpit AG rose with its i...   \n",
              "7         NaN          NaN  Airenvy’s mission is to provide lucrative yet ...   \n",
              "8         NaN          NaN  Solutions3 is a woman-owned small business who...   \n",
              "9         NaN          NaN  Novitex Enterprise Solutions, formerly Pitney ...   \n",
              "\n",
              "                                         description  \\\n",
              "0  Food52, a fast-growing, James Beard Award-winn...   \n",
              "1  Organised - Focused - Vibrant - Awesome!Do you...   \n",
              "2  Our client, located in Houston, is actively se...   \n",
              "3  THE COMPANY: ESRI – Environmental Systems Rese...   \n",
              "4  JOB TITLE: Itemization Review ManagerLOCATION:...   \n",
              "5  Job OverviewApex is an environmental consultin...   \n",
              "6  Your Responsibilities: Manage the English-spea...   \n",
              "7  Who is Airenvy?Hey there! We are seasoned entr...   \n",
              "8  Implementation/Configuration/Testing/Training ...   \n",
              "9  The Customer Service Associate will be based i...   \n",
              "\n",
              "                                        requirements  \\\n",
              "0  Experience with content management systems a m...   \n",
              "1  What we expect from you:Your key responsibilit...   \n",
              "2  Implement pre-commissioning and commissioning ...   \n",
              "3  EDUCATION: Bachelor’s or Master’s in GIS, busi...   \n",
              "4  QUALIFICATIONS:RN license in the State of Texa...   \n",
              "5                                                NaN   \n",
              "6  Your Know-How:                                ...   \n",
              "7  Experience with CRM software, live chat, and p...   \n",
              "8  MUST BE A US CITIZEN.An active TS/SCI clearanc...   \n",
              "9  Minimum Requirements:Minimum of 6 months custo...   \n",
              "\n",
              "                                            benefits  telecommuting  \\\n",
              "0                                                NaN              0   \n",
              "1  What you will get from usThrough being part of...              0   \n",
              "2                                                NaN              0   \n",
              "3  Our culture is anything but corporate—we have ...              0   \n",
              "4                              Full Benefits Offered              0   \n",
              "5                                                NaN              0   \n",
              "6  Your Benefits: Being part of a fast-growing co...              0   \n",
              "7  Competitive Pay. You'll be able to eat steak e...              0   \n",
              "8                                                NaN              0   \n",
              "9                                                NaN              0   \n",
              "\n",
              "   has_company_logo  has_questions employment_type required_experience  \\\n",
              "0                 1              0           Other          Internship   \n",
              "1                 1              0       Full-time      Not Applicable   \n",
              "2                 1              0             NaN                 NaN   \n",
              "3                 1              0       Full-time    Mid-Senior level   \n",
              "4                 1              1       Full-time    Mid-Senior level   \n",
              "5                 0              0             NaN                 NaN   \n",
              "6                 1              1       Full-time    Mid-Senior level   \n",
              "7                 1              1             NaN                 NaN   \n",
              "8                 1              1       Full-time           Associate   \n",
              "9                 1              0       Part-time         Entry level   \n",
              "\n",
              "          required_education                             industry  \\\n",
              "0                        NaN                                  NaN   \n",
              "1                        NaN            Marketing and Advertising   \n",
              "2                        NaN                                  NaN   \n",
              "3          Bachelor's Degree                    Computer Software   \n",
              "4          Bachelor's Degree               Hospital & Health Care   \n",
              "5                        NaN                                  NaN   \n",
              "6            Master's Degree                         Online Media   \n",
              "7                        NaN                                  NaN   \n",
              "8                        NaN  Information Technology and Services   \n",
              "9  High School or equivalent                   Financial Services   \n",
              "\n",
              "               function  fraudulent  \n",
              "0             Marketing           0  \n",
              "1      Customer Service           0  \n",
              "2                   NaN           0  \n",
              "3                 Sales           0  \n",
              "4  Health Care Provider           0  \n",
              "5                   NaN           0  \n",
              "6            Management           0  \n",
              "7                   NaN           0  \n",
              "8                   NaN           0  \n",
              "9      Customer Service           0  "
            ]
          },
          "execution_count": 42,
          "metadata": {},
          "output_type": "execute_result"
        }
      ],
      "source": [
        "data.head(10)"
      ]
    },
    {
      "cell_type": "markdown",
      "metadata": {
        "id": "hVjUmrzbaSpZ"
      },
      "source": [
        "Выводим последние 10 строк dataset-а:"
      ]
    },
    {
      "cell_type": "code",
      "execution_count": 43,
      "metadata": {
        "colab": {
          "base_uri": "https://localhost:8080/",
          "height": 913
        },
        "id": "9tn98hvjaSpZ",
        "outputId": "534c631d-5fa0-43c5-980f-70bc1a4da55a"
      },
      "outputs": [
        {
          "data": {
            "text/html": [
              "<div>\n",
              "<style scoped>\n",
              "    .dataframe tbody tr th:only-of-type {\n",
              "        vertical-align: middle;\n",
              "    }\n",
              "\n",
              "    .dataframe tbody tr th {\n",
              "        vertical-align: top;\n",
              "    }\n",
              "\n",
              "    .dataframe thead th {\n",
              "        text-align: right;\n",
              "    }\n",
              "</style>\n",
              "<table border=\"1\" class=\"dataframe\">\n",
              "  <thead>\n",
              "    <tr style=\"text-align: right;\">\n",
              "      <th></th>\n",
              "      <th>job_id</th>\n",
              "      <th>title</th>\n",
              "      <th>location</th>\n",
              "      <th>department</th>\n",
              "      <th>salary_range</th>\n",
              "      <th>company_profile</th>\n",
              "      <th>description</th>\n",
              "      <th>requirements</th>\n",
              "      <th>benefits</th>\n",
              "      <th>telecommuting</th>\n",
              "      <th>has_company_logo</th>\n",
              "      <th>has_questions</th>\n",
              "      <th>employment_type</th>\n",
              "      <th>required_experience</th>\n",
              "      <th>required_education</th>\n",
              "      <th>industry</th>\n",
              "      <th>function</th>\n",
              "      <th>fraudulent</th>\n",
              "    </tr>\n",
              "  </thead>\n",
              "  <tbody>\n",
              "    <tr>\n",
              "      <th>17870</th>\n",
              "      <td>17871</td>\n",
              "      <td>Senior Financial Analyst (Retail)</td>\n",
              "      <td>US, CA, Gardena</td>\n",
              "      <td>NaN</td>\n",
              "      <td>NaN</td>\n",
              "      <td>PROSULTING IS PEOPLE The ProSulting difference...</td>\n",
              "      <td>We are activity searching for a Senior Financi...</td>\n",
              "      <td>Must have a minimum of 3 + years in Financial ...</td>\n",
              "      <td>NaN</td>\n",
              "      <td>0</td>\n",
              "      <td>1</td>\n",
              "      <td>1</td>\n",
              "      <td>Full-time</td>\n",
              "      <td>Mid-Senior level</td>\n",
              "      <td>Bachelor's Degree</td>\n",
              "      <td>Retail</td>\n",
              "      <td>Financial Analyst</td>\n",
              "      <td>0</td>\n",
              "    </tr>\n",
              "    <tr>\n",
              "      <th>17871</th>\n",
              "      <td>17872</td>\n",
              "      <td>Water Truck Driver</td>\n",
              "      <td>US, PA, Waynesburg</td>\n",
              "      <td>NaN</td>\n",
              "      <td>NaN</td>\n",
              "      <td>Valor Services provides Workforce Solutions th...</td>\n",
              "      <td>Requires skilled work in operating commercial ...</td>\n",
              "      <td>GED or diploma required.Requires minimum of on...</td>\n",
              "      <td>NaN</td>\n",
              "      <td>0</td>\n",
              "      <td>1</td>\n",
              "      <td>1</td>\n",
              "      <td>Full-time</td>\n",
              "      <td>NaN</td>\n",
              "      <td>NaN</td>\n",
              "      <td>Oil &amp; Energy</td>\n",
              "      <td>NaN</td>\n",
              "      <td>0</td>\n",
              "    </tr>\n",
              "    <tr>\n",
              "      <th>17872</th>\n",
              "      <td>17873</td>\n",
              "      <td>Product Manager</td>\n",
              "      <td>US, CA, San Francisco</td>\n",
              "      <td>Product Development</td>\n",
              "      <td>NaN</td>\n",
              "      <td>Flite delivers ad innovation at scale to the w...</td>\n",
              "      <td>Flite's SaaS display ad platform fuels the wor...</td>\n",
              "      <td>BA/BS in Computer Science or a related technic...</td>\n",
              "      <td>Competitive baseAttractive stock option planMe...</td>\n",
              "      <td>0</td>\n",
              "      <td>1</td>\n",
              "      <td>0</td>\n",
              "      <td>Full-time</td>\n",
              "      <td>NaN</td>\n",
              "      <td>NaN</td>\n",
              "      <td>Internet</td>\n",
              "      <td>Product Management</td>\n",
              "      <td>0</td>\n",
              "    </tr>\n",
              "    <tr>\n",
              "      <th>17873</th>\n",
              "      <td>17874</td>\n",
              "      <td>Recruiting Coordinator</td>\n",
              "      <td>US, NC, Charlotte</td>\n",
              "      <td>NaN</td>\n",
              "      <td>NaN</td>\n",
              "      <td>NaN</td>\n",
              "      <td>RESPONSIBILITIES:Will facilitate the recruitin...</td>\n",
              "      <td>REQUIRED SKILLS:Associates Degree or a combina...</td>\n",
              "      <td>NaN</td>\n",
              "      <td>0</td>\n",
              "      <td>1</td>\n",
              "      <td>0</td>\n",
              "      <td>Contract</td>\n",
              "      <td>NaN</td>\n",
              "      <td>NaN</td>\n",
              "      <td>Utilities</td>\n",
              "      <td>NaN</td>\n",
              "      <td>0</td>\n",
              "    </tr>\n",
              "    <tr>\n",
              "      <th>17874</th>\n",
              "      <td>17875</td>\n",
              "      <td>JavaScript Developer</td>\n",
              "      <td>US, ,</td>\n",
              "      <td>NaN</td>\n",
              "      <td>80000-100000</td>\n",
              "      <td>NaN</td>\n",
              "      <td>Sr, JavaScript Developer Experience : 4-10 yea...</td>\n",
              "      <td>NaN</td>\n",
              "      <td>NaN</td>\n",
              "      <td>0</td>\n",
              "      <td>0</td>\n",
              "      <td>0</td>\n",
              "      <td>Full-time</td>\n",
              "      <td>Mid-Senior level</td>\n",
              "      <td>Bachelor's Degree</td>\n",
              "      <td>Computer Software</td>\n",
              "      <td>Information Technology</td>\n",
              "      <td>0</td>\n",
              "    </tr>\n",
              "    <tr>\n",
              "      <th>17875</th>\n",
              "      <td>17876</td>\n",
              "      <td>Account Director - Distribution</td>\n",
              "      <td>CA, ON, Toronto</td>\n",
              "      <td>Sales</td>\n",
              "      <td>NaN</td>\n",
              "      <td>Vend is looking for some awesome new talent to...</td>\n",
              "      <td>Just in case this is the first time you’ve vis...</td>\n",
              "      <td>To ace this role you:Will eat comprehensive St...</td>\n",
              "      <td>What can you expect from us?We have an open cu...</td>\n",
              "      <td>0</td>\n",
              "      <td>1</td>\n",
              "      <td>1</td>\n",
              "      <td>Full-time</td>\n",
              "      <td>Mid-Senior level</td>\n",
              "      <td>NaN</td>\n",
              "      <td>Computer Software</td>\n",
              "      <td>Sales</td>\n",
              "      <td>0</td>\n",
              "    </tr>\n",
              "    <tr>\n",
              "      <th>17876</th>\n",
              "      <td>17877</td>\n",
              "      <td>Payroll Accountant</td>\n",
              "      <td>US, PA, Philadelphia</td>\n",
              "      <td>Accounting</td>\n",
              "      <td>NaN</td>\n",
              "      <td>WebLinc is the e-commerce platform and service...</td>\n",
              "      <td>The Payroll Accountant will focus primarily on...</td>\n",
              "      <td>- B.A. or B.S. in Accounting- Desire to have f...</td>\n",
              "      <td>Health &amp;amp; WellnessMedical planPrescription ...</td>\n",
              "      <td>0</td>\n",
              "      <td>1</td>\n",
              "      <td>1</td>\n",
              "      <td>Full-time</td>\n",
              "      <td>Mid-Senior level</td>\n",
              "      <td>Bachelor's Degree</td>\n",
              "      <td>Internet</td>\n",
              "      <td>Accounting/Auditing</td>\n",
              "      <td>0</td>\n",
              "    </tr>\n",
              "    <tr>\n",
              "      <th>17877</th>\n",
              "      <td>17878</td>\n",
              "      <td>Project Cost Control Staff Engineer - Cost Con...</td>\n",
              "      <td>US, TX, Houston</td>\n",
              "      <td>NaN</td>\n",
              "      <td>NaN</td>\n",
              "      <td>We Provide Full Time Permanent Positions for m...</td>\n",
              "      <td>Experienced Project Cost Control Staff Enginee...</td>\n",
              "      <td>At least 12 years professional experience.Abil...</td>\n",
              "      <td>NaN</td>\n",
              "      <td>0</td>\n",
              "      <td>0</td>\n",
              "      <td>0</td>\n",
              "      <td>Full-time</td>\n",
              "      <td>NaN</td>\n",
              "      <td>NaN</td>\n",
              "      <td>NaN</td>\n",
              "      <td>NaN</td>\n",
              "      <td>0</td>\n",
              "    </tr>\n",
              "    <tr>\n",
              "      <th>17878</th>\n",
              "      <td>17879</td>\n",
              "      <td>Graphic Designer</td>\n",
              "      <td>NG, LA, Lagos</td>\n",
              "      <td>NaN</td>\n",
              "      <td>NaN</td>\n",
              "      <td>NaN</td>\n",
              "      <td>Nemsia Studios is looking for an experienced v...</td>\n",
              "      <td>1. Must be fluent in the latest versions of Co...</td>\n",
              "      <td>Competitive salary (compensation will be based...</td>\n",
              "      <td>0</td>\n",
              "      <td>0</td>\n",
              "      <td>1</td>\n",
              "      <td>Contract</td>\n",
              "      <td>Not Applicable</td>\n",
              "      <td>Professional</td>\n",
              "      <td>Graphic Design</td>\n",
              "      <td>Design</td>\n",
              "      <td>0</td>\n",
              "    </tr>\n",
              "    <tr>\n",
              "      <th>17879</th>\n",
              "      <td>17880</td>\n",
              "      <td>Web Application Developers</td>\n",
              "      <td>NZ, N, Wellington</td>\n",
              "      <td>Engineering</td>\n",
              "      <td>NaN</td>\n",
              "      <td>Vend is looking for some awesome new talent to...</td>\n",
              "      <td>Who are we?Vend is an award winning web based ...</td>\n",
              "      <td>We want to hear from you if:You have an in-dep...</td>\n",
              "      <td>NaN</td>\n",
              "      <td>0</td>\n",
              "      <td>1</td>\n",
              "      <td>1</td>\n",
              "      <td>Full-time</td>\n",
              "      <td>Mid-Senior level</td>\n",
              "      <td>NaN</td>\n",
              "      <td>Computer Software</td>\n",
              "      <td>Engineering</td>\n",
              "      <td>0</td>\n",
              "    </tr>\n",
              "  </tbody>\n",
              "</table>\n",
              "</div>"
            ],
            "text/plain": [
              "       job_id                                              title  \\\n",
              "17870   17871                 Senior Financial Analyst (Retail)    \n",
              "17871   17872                                 Water Truck Driver   \n",
              "17872   17873                                    Product Manager   \n",
              "17873   17874                             Recruiting Coordinator   \n",
              "17874   17875                               JavaScript Developer   \n",
              "17875   17876                   Account Director - Distribution    \n",
              "17876   17877                                 Payroll Accountant   \n",
              "17877   17878  Project Cost Control Staff Engineer - Cost Con...   \n",
              "17878   17879                                   Graphic Designer   \n",
              "17879   17880                         Web Application Developers   \n",
              "\n",
              "                    location           department  salary_range  \\\n",
              "17870        US, CA, Gardena                  NaN           NaN   \n",
              "17871     US, PA, Waynesburg                  NaN           NaN   \n",
              "17872  US, CA, San Francisco  Product Development           NaN   \n",
              "17873      US, NC, Charlotte                  NaN           NaN   \n",
              "17874                 US, ,                   NaN  80000-100000   \n",
              "17875        CA, ON, Toronto                Sales           NaN   \n",
              "17876   US, PA, Philadelphia           Accounting           NaN   \n",
              "17877        US, TX, Houston                  NaN           NaN   \n",
              "17878          NG, LA, Lagos                  NaN           NaN   \n",
              "17879      NZ, N, Wellington          Engineering           NaN   \n",
              "\n",
              "                                         company_profile  \\\n",
              "17870  PROSULTING IS PEOPLE The ProSulting difference...   \n",
              "17871  Valor Services provides Workforce Solutions th...   \n",
              "17872  Flite delivers ad innovation at scale to the w...   \n",
              "17873                                                NaN   \n",
              "17874                                                NaN   \n",
              "17875  Vend is looking for some awesome new talent to...   \n",
              "17876  WebLinc is the e-commerce platform and service...   \n",
              "17877  We Provide Full Time Permanent Positions for m...   \n",
              "17878                                                NaN   \n",
              "17879  Vend is looking for some awesome new talent to...   \n",
              "\n",
              "                                             description  \\\n",
              "17870  We are activity searching for a Senior Financi...   \n",
              "17871  Requires skilled work in operating commercial ...   \n",
              "17872  Flite's SaaS display ad platform fuels the wor...   \n",
              "17873  RESPONSIBILITIES:Will facilitate the recruitin...   \n",
              "17874  Sr, JavaScript Developer Experience : 4-10 yea...   \n",
              "17875  Just in case this is the first time you’ve vis...   \n",
              "17876  The Payroll Accountant will focus primarily on...   \n",
              "17877  Experienced Project Cost Control Staff Enginee...   \n",
              "17878  Nemsia Studios is looking for an experienced v...   \n",
              "17879  Who are we?Vend is an award winning web based ...   \n",
              "\n",
              "                                            requirements  \\\n",
              "17870  Must have a minimum of 3 + years in Financial ...   \n",
              "17871  GED or diploma required.Requires minimum of on...   \n",
              "17872  BA/BS in Computer Science or a related technic...   \n",
              "17873  REQUIRED SKILLS:Associates Degree or a combina...   \n",
              "17874                                                NaN   \n",
              "17875  To ace this role you:Will eat comprehensive St...   \n",
              "17876  - B.A. or B.S. in Accounting- Desire to have f...   \n",
              "17877  At least 12 years professional experience.Abil...   \n",
              "17878  1. Must be fluent in the latest versions of Co...   \n",
              "17879  We want to hear from you if:You have an in-dep...   \n",
              "\n",
              "                                                benefits  telecommuting  \\\n",
              "17870                                                NaN              0   \n",
              "17871                                                NaN              0   \n",
              "17872  Competitive baseAttractive stock option planMe...              0   \n",
              "17873                                                NaN              0   \n",
              "17874                                                NaN              0   \n",
              "17875  What can you expect from us?We have an open cu...              0   \n",
              "17876  Health &amp; WellnessMedical planPrescription ...              0   \n",
              "17877                                                NaN              0   \n",
              "17878  Competitive salary (compensation will be based...              0   \n",
              "17879                                                NaN              0   \n",
              "\n",
              "       has_company_logo  has_questions employment_type required_experience  \\\n",
              "17870                 1              1       Full-time    Mid-Senior level   \n",
              "17871                 1              1       Full-time                 NaN   \n",
              "17872                 1              0       Full-time                 NaN   \n",
              "17873                 1              0        Contract                 NaN   \n",
              "17874                 0              0       Full-time    Mid-Senior level   \n",
              "17875                 1              1       Full-time    Mid-Senior level   \n",
              "17876                 1              1       Full-time    Mid-Senior level   \n",
              "17877                 0              0       Full-time                 NaN   \n",
              "17878                 0              1        Contract      Not Applicable   \n",
              "17879                 1              1       Full-time    Mid-Senior level   \n",
              "\n",
              "      required_education           industry                function  \\\n",
              "17870  Bachelor's Degree             Retail       Financial Analyst   \n",
              "17871                NaN       Oil & Energy                     NaN   \n",
              "17872                NaN           Internet      Product Management   \n",
              "17873                NaN          Utilities                     NaN   \n",
              "17874  Bachelor's Degree  Computer Software  Information Technology   \n",
              "17875                NaN  Computer Software                   Sales   \n",
              "17876  Bachelor's Degree           Internet     Accounting/Auditing   \n",
              "17877                NaN                NaN                     NaN   \n",
              "17878       Professional     Graphic Design                  Design   \n",
              "17879                NaN  Computer Software             Engineering   \n",
              "\n",
              "       fraudulent  \n",
              "17870           0  \n",
              "17871           0  \n",
              "17872           0  \n",
              "17873           0  \n",
              "17874           0  \n",
              "17875           0  \n",
              "17876           0  \n",
              "17877           0  \n",
              "17878           0  \n",
              "17879           0  "
            ]
          },
          "execution_count": 43,
          "metadata": {},
          "output_type": "execute_result"
        }
      ],
      "source": [
        "data.tail(10)"
      ]
    },
    {
      "cell_type": "markdown",
      "metadata": {
        "id": "3RK_F-SFaSpZ"
      },
      "source": [
        "### О наборе данных:\n",
        "\n",
        "[Real or Fake] : Fake Job Description Prediction\n",
        "This dataset contains 18K job descriptions out of which about 800 are fake. The data consists of both textual information and meta-information about the jobs. The dataset can be used to create classification models which can learn the job descriptions which are fraudulent."
      ]
    },
    {
      "cell_type": "markdown",
      "metadata": {
        "id": "Rnvh6NNLaSpa"
      },
      "source": [
        "Ознакомимся с некоторыми свойствами Pandas.DataFrame на примере нашего dataset-а:"
      ]
    },
    {
      "cell_type": "code",
      "execution_count": 44,
      "metadata": {
        "colab": {
          "base_uri": "https://localhost:8080/"
        },
        "id": "ILVkG4GMaSpa",
        "outputId": "d621e803-3f0c-4e43-d66d-8ea598bc48a3"
      },
      "outputs": [
        {
          "name": "stdout",
          "output_type": "stream",
          "text": [
            "(17880, 18)\n",
            "\n",
            "Index(['job_id', 'title', 'location', 'department', 'salary_range',\n",
            "       'company_profile', 'description', 'requirements', 'benefits',\n",
            "       'telecommuting', 'has_company_logo', 'has_questions', 'employment_type',\n",
            "       'required_experience', 'required_education', 'industry', 'function',\n",
            "       'fraudulent'],\n",
            "      dtype='object')\n",
            "\n",
            "RangeIndex(start=0, stop=17880, step=1)\n",
            "\n",
            "Commissioning Machinery Assistant (CMA)\n",
            "\n",
            "Commissioning Machinery Assistant (CMA)\n",
            "\n",
            "object\n",
            "\n",
            "<class 'pandas.core.series.Series'>\n",
            "\n",
            "<class 'str'>\n",
            "\n"
          ]
        }
      ],
      "source": [
        "print(data.shape, end=\"\\n\\n\")\n",
        "print(data.columns, end=\"\\n\\n\")\n",
        "print(data.index, end=\"\\n\\n\")\n",
        "print(data.at[2, 'title'], end=\"\\n\\n\")\n",
        "print(data[\"title\"][2], end=\"\\n\\n\")\n",
        "print(data[\"title\"].dtype, end=\"\\n\\n\")\n",
        "print(type(data[\"title\"]), end=\"\\n\\n\")\n",
        "print(type(data[\"title\"][2]), end=\"\\n\\n\")"
      ]
    },
    {
      "cell_type": "markdown",
      "metadata": {
        "id": "_RK_if5yaSpa"
      },
      "source": [
        "Выведем описательную статистику по нашему dataset-у:"
      ]
    },
    {
      "cell_type": "code",
      "execution_count": 45,
      "metadata": {
        "colab": {
          "base_uri": "https://localhost:8080/",
          "height": 300
        },
        "id": "TfLhu5QXaSpa",
        "outputId": "af36bbeb-0710-4db2-a6c6-ecbfe2e9d34c"
      },
      "outputs": [
        {
          "data": {
            "text/html": [
              "<div>\n",
              "<style scoped>\n",
              "    .dataframe tbody tr th:only-of-type {\n",
              "        vertical-align: middle;\n",
              "    }\n",
              "\n",
              "    .dataframe tbody tr th {\n",
              "        vertical-align: top;\n",
              "    }\n",
              "\n",
              "    .dataframe thead th {\n",
              "        text-align: right;\n",
              "    }\n",
              "</style>\n",
              "<table border=\"1\" class=\"dataframe\">\n",
              "  <thead>\n",
              "    <tr style=\"text-align: right;\">\n",
              "      <th></th>\n",
              "      <th>job_id</th>\n",
              "      <th>telecommuting</th>\n",
              "      <th>has_company_logo</th>\n",
              "      <th>has_questions</th>\n",
              "      <th>fraudulent</th>\n",
              "    </tr>\n",
              "  </thead>\n",
              "  <tbody>\n",
              "    <tr>\n",
              "      <th>count</th>\n",
              "      <td>17880.000000</td>\n",
              "      <td>17880.000000</td>\n",
              "      <td>17880.000000</td>\n",
              "      <td>17880.000000</td>\n",
              "      <td>17880.000000</td>\n",
              "    </tr>\n",
              "    <tr>\n",
              "      <th>mean</th>\n",
              "      <td>8940.500000</td>\n",
              "      <td>0.042897</td>\n",
              "      <td>0.795302</td>\n",
              "      <td>0.491723</td>\n",
              "      <td>0.048434</td>\n",
              "    </tr>\n",
              "    <tr>\n",
              "      <th>std</th>\n",
              "      <td>5161.655742</td>\n",
              "      <td>0.202631</td>\n",
              "      <td>0.403492</td>\n",
              "      <td>0.499945</td>\n",
              "      <td>0.214688</td>\n",
              "    </tr>\n",
              "    <tr>\n",
              "      <th>min</th>\n",
              "      <td>1.000000</td>\n",
              "      <td>0.000000</td>\n",
              "      <td>0.000000</td>\n",
              "      <td>0.000000</td>\n",
              "      <td>0.000000</td>\n",
              "    </tr>\n",
              "    <tr>\n",
              "      <th>25%</th>\n",
              "      <td>4470.750000</td>\n",
              "      <td>0.000000</td>\n",
              "      <td>1.000000</td>\n",
              "      <td>0.000000</td>\n",
              "      <td>0.000000</td>\n",
              "    </tr>\n",
              "    <tr>\n",
              "      <th>50%</th>\n",
              "      <td>8940.500000</td>\n",
              "      <td>0.000000</td>\n",
              "      <td>1.000000</td>\n",
              "      <td>0.000000</td>\n",
              "      <td>0.000000</td>\n",
              "    </tr>\n",
              "    <tr>\n",
              "      <th>75%</th>\n",
              "      <td>13410.250000</td>\n",
              "      <td>0.000000</td>\n",
              "      <td>1.000000</td>\n",
              "      <td>1.000000</td>\n",
              "      <td>0.000000</td>\n",
              "    </tr>\n",
              "    <tr>\n",
              "      <th>max</th>\n",
              "      <td>17880.000000</td>\n",
              "      <td>1.000000</td>\n",
              "      <td>1.000000</td>\n",
              "      <td>1.000000</td>\n",
              "      <td>1.000000</td>\n",
              "    </tr>\n",
              "  </tbody>\n",
              "</table>\n",
              "</div>"
            ],
            "text/plain": [
              "             job_id  telecommuting  has_company_logo  has_questions  \\\n",
              "count  17880.000000   17880.000000      17880.000000   17880.000000   \n",
              "mean    8940.500000       0.042897          0.795302       0.491723   \n",
              "std     5161.655742       0.202631          0.403492       0.499945   \n",
              "min        1.000000       0.000000          0.000000       0.000000   \n",
              "25%     4470.750000       0.000000          1.000000       0.000000   \n",
              "50%     8940.500000       0.000000          1.000000       0.000000   \n",
              "75%    13410.250000       0.000000          1.000000       1.000000   \n",
              "max    17880.000000       1.000000          1.000000       1.000000   \n",
              "\n",
              "         fraudulent  \n",
              "count  17880.000000  \n",
              "mean       0.048434  \n",
              "std        0.214688  \n",
              "min        0.000000  \n",
              "25%        0.000000  \n",
              "50%        0.000000  \n",
              "75%        0.000000  \n",
              "max        1.000000  "
            ]
          },
          "execution_count": 45,
          "metadata": {},
          "output_type": "execute_result"
        }
      ],
      "source": [
        "data.describe()"
      ]
    },
    {
      "cell_type": "code",
      "execution_count": 46,
      "metadata": {
        "colab": {
          "base_uri": "https://localhost:8080/",
          "height": 271
        },
        "id": "AA2LovoQaSpb",
        "outputId": "15f89941-80fd-4f64-e0b9-0357db645246"
      },
      "outputs": [
        {
          "data": {
            "text/html": [
              "<div>\n",
              "<style scoped>\n",
              "    .dataframe tbody tr th:only-of-type {\n",
              "        vertical-align: middle;\n",
              "    }\n",
              "\n",
              "    .dataframe tbody tr th {\n",
              "        vertical-align: top;\n",
              "    }\n",
              "\n",
              "    .dataframe thead th {\n",
              "        text-align: right;\n",
              "    }\n",
              "</style>\n",
              "<table border=\"1\" class=\"dataframe\">\n",
              "  <thead>\n",
              "    <tr style=\"text-align: right;\">\n",
              "      <th></th>\n",
              "      <th>title</th>\n",
              "      <th>location</th>\n",
              "      <th>department</th>\n",
              "      <th>salary_range</th>\n",
              "      <th>company_profile</th>\n",
              "      <th>description</th>\n",
              "      <th>requirements</th>\n",
              "      <th>benefits</th>\n",
              "      <th>employment_type</th>\n",
              "      <th>required_experience</th>\n",
              "      <th>required_education</th>\n",
              "      <th>industry</th>\n",
              "      <th>function</th>\n",
              "    </tr>\n",
              "  </thead>\n",
              "  <tbody>\n",
              "    <tr>\n",
              "      <th>count</th>\n",
              "      <td>17880</td>\n",
              "      <td>17534</td>\n",
              "      <td>6333</td>\n",
              "      <td>2868</td>\n",
              "      <td>14572</td>\n",
              "      <td>17879</td>\n",
              "      <td>15185</td>\n",
              "      <td>10670</td>\n",
              "      <td>14409</td>\n",
              "      <td>10830</td>\n",
              "      <td>9775</td>\n",
              "      <td>12977</td>\n",
              "      <td>11425</td>\n",
              "    </tr>\n",
              "    <tr>\n",
              "      <th>unique</th>\n",
              "      <td>11231</td>\n",
              "      <td>3105</td>\n",
              "      <td>1337</td>\n",
              "      <td>874</td>\n",
              "      <td>1709</td>\n",
              "      <td>14801</td>\n",
              "      <td>11968</td>\n",
              "      <td>6205</td>\n",
              "      <td>5</td>\n",
              "      <td>7</td>\n",
              "      <td>13</td>\n",
              "      <td>131</td>\n",
              "      <td>37</td>\n",
              "    </tr>\n",
              "    <tr>\n",
              "      <th>top</th>\n",
              "      <td>English Teacher Abroad</td>\n",
              "      <td>GB, LND, London</td>\n",
              "      <td>Sales</td>\n",
              "      <td>0-0</td>\n",
              "      <td>We help teachers get safe &amp;amp; secure jobs ab...</td>\n",
              "      <td>Play with kids, get paid for it Love travel? J...</td>\n",
              "      <td>University degree required. TEFL / TESOL / CEL...</td>\n",
              "      <td>See job description</td>\n",
              "      <td>Full-time</td>\n",
              "      <td>Mid-Senior level</td>\n",
              "      <td>Bachelor's Degree</td>\n",
              "      <td>Information Technology and Services</td>\n",
              "      <td>Information Technology</td>\n",
              "    </tr>\n",
              "    <tr>\n",
              "      <th>freq</th>\n",
              "      <td>311</td>\n",
              "      <td>718</td>\n",
              "      <td>551</td>\n",
              "      <td>142</td>\n",
              "      <td>726</td>\n",
              "      <td>379</td>\n",
              "      <td>410</td>\n",
              "      <td>726</td>\n",
              "      <td>11620</td>\n",
              "      <td>3809</td>\n",
              "      <td>5145</td>\n",
              "      <td>1734</td>\n",
              "      <td>1749</td>\n",
              "    </tr>\n",
              "  </tbody>\n",
              "</table>\n",
              "</div>"
            ],
            "text/plain": [
              "                          title         location department salary_range  \\\n",
              "count                     17880            17534       6333         2868   \n",
              "unique                    11231             3105       1337          874   \n",
              "top     English Teacher Abroad   GB, LND, London      Sales          0-0   \n",
              "freq                        311              718        551          142   \n",
              "\n",
              "                                          company_profile  \\\n",
              "count                                               14572   \n",
              "unique                                               1709   \n",
              "top     We help teachers get safe &amp; secure jobs ab...   \n",
              "freq                                                  726   \n",
              "\n",
              "                                              description  \\\n",
              "count                                               17879   \n",
              "unique                                              14801   \n",
              "top     Play with kids, get paid for it Love travel? J...   \n",
              "freq                                                  379   \n",
              "\n",
              "                                             requirements  \\\n",
              "count                                               15185   \n",
              "unique                                              11968   \n",
              "top     University degree required. TEFL / TESOL / CEL...   \n",
              "freq                                                  410   \n",
              "\n",
              "                   benefits employment_type required_experience  \\\n",
              "count                 10670           14409               10830   \n",
              "unique                 6205               5                   7   \n",
              "top     See job description       Full-time    Mid-Senior level   \n",
              "freq                    726           11620                3809   \n",
              "\n",
              "       required_education                             industry  \\\n",
              "count                9775                                12977   \n",
              "unique                 13                                  131   \n",
              "top     Bachelor's Degree  Information Technology and Services   \n",
              "freq                 5145                                 1734   \n",
              "\n",
              "                      function  \n",
              "count                    11425  \n",
              "unique                      37  \n",
              "top     Information Technology  \n",
              "freq                      1749  "
            ]
          },
          "execution_count": 46,
          "metadata": {},
          "output_type": "execute_result"
        }
      ],
      "source": [
        "data.describe(include = ['object'])"
      ]
    },
    {
      "cell_type": "code",
      "execution_count": 47,
      "metadata": {
        "colab": {
          "base_uri": "https://localhost:8080/",
          "height": 528
        },
        "id": "k2qhFJAtaSpb",
        "outputId": "2d6aa8d3-0a81-4b43-c66b-bc0ce6a4a3d9"
      },
      "outputs": [
        {
          "data": {
            "text/html": [
              "<div>\n",
              "<style scoped>\n",
              "    .dataframe tbody tr th:only-of-type {\n",
              "        vertical-align: middle;\n",
              "    }\n",
              "\n",
              "    .dataframe tbody tr th {\n",
              "        vertical-align: top;\n",
              "    }\n",
              "\n",
              "    .dataframe thead th {\n",
              "        text-align: right;\n",
              "    }\n",
              "</style>\n",
              "<table border=\"1\" class=\"dataframe\">\n",
              "  <thead>\n",
              "    <tr style=\"text-align: right;\">\n",
              "      <th></th>\n",
              "      <th>job_id</th>\n",
              "      <th>title</th>\n",
              "      <th>location</th>\n",
              "      <th>department</th>\n",
              "      <th>salary_range</th>\n",
              "      <th>company_profile</th>\n",
              "      <th>description</th>\n",
              "      <th>requirements</th>\n",
              "      <th>benefits</th>\n",
              "      <th>telecommuting</th>\n",
              "      <th>has_company_logo</th>\n",
              "      <th>has_questions</th>\n",
              "      <th>employment_type</th>\n",
              "      <th>required_experience</th>\n",
              "      <th>required_education</th>\n",
              "      <th>industry</th>\n",
              "      <th>function</th>\n",
              "      <th>fraudulent</th>\n",
              "    </tr>\n",
              "  </thead>\n",
              "  <tbody>\n",
              "    <tr>\n",
              "      <th>count</th>\n",
              "      <td>17880.000000</td>\n",
              "      <td>17880</td>\n",
              "      <td>17534</td>\n",
              "      <td>6333</td>\n",
              "      <td>2868</td>\n",
              "      <td>14572</td>\n",
              "      <td>17879</td>\n",
              "      <td>15185</td>\n",
              "      <td>10670</td>\n",
              "      <td>17880.000000</td>\n",
              "      <td>17880.000000</td>\n",
              "      <td>17880.000000</td>\n",
              "      <td>14409</td>\n",
              "      <td>10830</td>\n",
              "      <td>9775</td>\n",
              "      <td>12977</td>\n",
              "      <td>11425</td>\n",
              "      <td>17880.000000</td>\n",
              "    </tr>\n",
              "    <tr>\n",
              "      <th>unique</th>\n",
              "      <td>NaN</td>\n",
              "      <td>11231</td>\n",
              "      <td>3105</td>\n",
              "      <td>1337</td>\n",
              "      <td>874</td>\n",
              "      <td>1709</td>\n",
              "      <td>14801</td>\n",
              "      <td>11968</td>\n",
              "      <td>6205</td>\n",
              "      <td>NaN</td>\n",
              "      <td>NaN</td>\n",
              "      <td>NaN</td>\n",
              "      <td>5</td>\n",
              "      <td>7</td>\n",
              "      <td>13</td>\n",
              "      <td>131</td>\n",
              "      <td>37</td>\n",
              "      <td>NaN</td>\n",
              "    </tr>\n",
              "    <tr>\n",
              "      <th>top</th>\n",
              "      <td>NaN</td>\n",
              "      <td>English Teacher Abroad</td>\n",
              "      <td>GB, LND, London</td>\n",
              "      <td>Sales</td>\n",
              "      <td>0-0</td>\n",
              "      <td>We help teachers get safe &amp;amp; secure jobs ab...</td>\n",
              "      <td>Play with kids, get paid for it Love travel? J...</td>\n",
              "      <td>University degree required. TEFL / TESOL / CEL...</td>\n",
              "      <td>See job description</td>\n",
              "      <td>NaN</td>\n",
              "      <td>NaN</td>\n",
              "      <td>NaN</td>\n",
              "      <td>Full-time</td>\n",
              "      <td>Mid-Senior level</td>\n",
              "      <td>Bachelor's Degree</td>\n",
              "      <td>Information Technology and Services</td>\n",
              "      <td>Information Technology</td>\n",
              "      <td>NaN</td>\n",
              "    </tr>\n",
              "    <tr>\n",
              "      <th>freq</th>\n",
              "      <td>NaN</td>\n",
              "      <td>311</td>\n",
              "      <td>718</td>\n",
              "      <td>551</td>\n",
              "      <td>142</td>\n",
              "      <td>726</td>\n",
              "      <td>379</td>\n",
              "      <td>410</td>\n",
              "      <td>726</td>\n",
              "      <td>NaN</td>\n",
              "      <td>NaN</td>\n",
              "      <td>NaN</td>\n",
              "      <td>11620</td>\n",
              "      <td>3809</td>\n",
              "      <td>5145</td>\n",
              "      <td>1734</td>\n",
              "      <td>1749</td>\n",
              "      <td>NaN</td>\n",
              "    </tr>\n",
              "    <tr>\n",
              "      <th>mean</th>\n",
              "      <td>8940.500000</td>\n",
              "      <td>NaN</td>\n",
              "      <td>NaN</td>\n",
              "      <td>NaN</td>\n",
              "      <td>NaN</td>\n",
              "      <td>NaN</td>\n",
              "      <td>NaN</td>\n",
              "      <td>NaN</td>\n",
              "      <td>NaN</td>\n",
              "      <td>0.042897</td>\n",
              "      <td>0.795302</td>\n",
              "      <td>0.491723</td>\n",
              "      <td>NaN</td>\n",
              "      <td>NaN</td>\n",
              "      <td>NaN</td>\n",
              "      <td>NaN</td>\n",
              "      <td>NaN</td>\n",
              "      <td>0.048434</td>\n",
              "    </tr>\n",
              "    <tr>\n",
              "      <th>std</th>\n",
              "      <td>5161.655742</td>\n",
              "      <td>NaN</td>\n",
              "      <td>NaN</td>\n",
              "      <td>NaN</td>\n",
              "      <td>NaN</td>\n",
              "      <td>NaN</td>\n",
              "      <td>NaN</td>\n",
              "      <td>NaN</td>\n",
              "      <td>NaN</td>\n",
              "      <td>0.202631</td>\n",
              "      <td>0.403492</td>\n",
              "      <td>0.499945</td>\n",
              "      <td>NaN</td>\n",
              "      <td>NaN</td>\n",
              "      <td>NaN</td>\n",
              "      <td>NaN</td>\n",
              "      <td>NaN</td>\n",
              "      <td>0.214688</td>\n",
              "    </tr>\n",
              "    <tr>\n",
              "      <th>min</th>\n",
              "      <td>1.000000</td>\n",
              "      <td>NaN</td>\n",
              "      <td>NaN</td>\n",
              "      <td>NaN</td>\n",
              "      <td>NaN</td>\n",
              "      <td>NaN</td>\n",
              "      <td>NaN</td>\n",
              "      <td>NaN</td>\n",
              "      <td>NaN</td>\n",
              "      <td>0.000000</td>\n",
              "      <td>0.000000</td>\n",
              "      <td>0.000000</td>\n",
              "      <td>NaN</td>\n",
              "      <td>NaN</td>\n",
              "      <td>NaN</td>\n",
              "      <td>NaN</td>\n",
              "      <td>NaN</td>\n",
              "      <td>0.000000</td>\n",
              "    </tr>\n",
              "    <tr>\n",
              "      <th>25%</th>\n",
              "      <td>4470.750000</td>\n",
              "      <td>NaN</td>\n",
              "      <td>NaN</td>\n",
              "      <td>NaN</td>\n",
              "      <td>NaN</td>\n",
              "      <td>NaN</td>\n",
              "      <td>NaN</td>\n",
              "      <td>NaN</td>\n",
              "      <td>NaN</td>\n",
              "      <td>0.000000</td>\n",
              "      <td>1.000000</td>\n",
              "      <td>0.000000</td>\n",
              "      <td>NaN</td>\n",
              "      <td>NaN</td>\n",
              "      <td>NaN</td>\n",
              "      <td>NaN</td>\n",
              "      <td>NaN</td>\n",
              "      <td>0.000000</td>\n",
              "    </tr>\n",
              "    <tr>\n",
              "      <th>50%</th>\n",
              "      <td>8940.500000</td>\n",
              "      <td>NaN</td>\n",
              "      <td>NaN</td>\n",
              "      <td>NaN</td>\n",
              "      <td>NaN</td>\n",
              "      <td>NaN</td>\n",
              "      <td>NaN</td>\n",
              "      <td>NaN</td>\n",
              "      <td>NaN</td>\n",
              "      <td>0.000000</td>\n",
              "      <td>1.000000</td>\n",
              "      <td>0.000000</td>\n",
              "      <td>NaN</td>\n",
              "      <td>NaN</td>\n",
              "      <td>NaN</td>\n",
              "      <td>NaN</td>\n",
              "      <td>NaN</td>\n",
              "      <td>0.000000</td>\n",
              "    </tr>\n",
              "    <tr>\n",
              "      <th>75%</th>\n",
              "      <td>13410.250000</td>\n",
              "      <td>NaN</td>\n",
              "      <td>NaN</td>\n",
              "      <td>NaN</td>\n",
              "      <td>NaN</td>\n",
              "      <td>NaN</td>\n",
              "      <td>NaN</td>\n",
              "      <td>NaN</td>\n",
              "      <td>NaN</td>\n",
              "      <td>0.000000</td>\n",
              "      <td>1.000000</td>\n",
              "      <td>1.000000</td>\n",
              "      <td>NaN</td>\n",
              "      <td>NaN</td>\n",
              "      <td>NaN</td>\n",
              "      <td>NaN</td>\n",
              "      <td>NaN</td>\n",
              "      <td>0.000000</td>\n",
              "    </tr>\n",
              "    <tr>\n",
              "      <th>max</th>\n",
              "      <td>17880.000000</td>\n",
              "      <td>NaN</td>\n",
              "      <td>NaN</td>\n",
              "      <td>NaN</td>\n",
              "      <td>NaN</td>\n",
              "      <td>NaN</td>\n",
              "      <td>NaN</td>\n",
              "      <td>NaN</td>\n",
              "      <td>NaN</td>\n",
              "      <td>1.000000</td>\n",
              "      <td>1.000000</td>\n",
              "      <td>1.000000</td>\n",
              "      <td>NaN</td>\n",
              "      <td>NaN</td>\n",
              "      <td>NaN</td>\n",
              "      <td>NaN</td>\n",
              "      <td>NaN</td>\n",
              "      <td>1.000000</td>\n",
              "    </tr>\n",
              "  </tbody>\n",
              "</table>\n",
              "</div>"
            ],
            "text/plain": [
              "              job_id                    title         location department  \\\n",
              "count   17880.000000                    17880            17534       6333   \n",
              "unique           NaN                    11231             3105       1337   \n",
              "top              NaN  English Teacher Abroad   GB, LND, London      Sales   \n",
              "freq             NaN                      311              718        551   \n",
              "mean     8940.500000                      NaN              NaN        NaN   \n",
              "std      5161.655742                      NaN              NaN        NaN   \n",
              "min         1.000000                      NaN              NaN        NaN   \n",
              "25%      4470.750000                      NaN              NaN        NaN   \n",
              "50%      8940.500000                      NaN              NaN        NaN   \n",
              "75%     13410.250000                      NaN              NaN        NaN   \n",
              "max     17880.000000                      NaN              NaN        NaN   \n",
              "\n",
              "       salary_range                                    company_profile  \\\n",
              "count          2868                                              14572   \n",
              "unique          874                                               1709   \n",
              "top             0-0  We help teachers get safe &amp; secure jobs ab...   \n",
              "freq            142                                                726   \n",
              "mean            NaN                                                NaN   \n",
              "std             NaN                                                NaN   \n",
              "min             NaN                                                NaN   \n",
              "25%             NaN                                                NaN   \n",
              "50%             NaN                                                NaN   \n",
              "75%             NaN                                                NaN   \n",
              "max             NaN                                                NaN   \n",
              "\n",
              "                                              description  \\\n",
              "count                                               17879   \n",
              "unique                                              14801   \n",
              "top     Play with kids, get paid for it Love travel? J...   \n",
              "freq                                                  379   \n",
              "mean                                                  NaN   \n",
              "std                                                   NaN   \n",
              "min                                                   NaN   \n",
              "25%                                                   NaN   \n",
              "50%                                                   NaN   \n",
              "75%                                                   NaN   \n",
              "max                                                   NaN   \n",
              "\n",
              "                                             requirements  \\\n",
              "count                                               15185   \n",
              "unique                                              11968   \n",
              "top     University degree required. TEFL / TESOL / CEL...   \n",
              "freq                                                  410   \n",
              "mean                                                  NaN   \n",
              "std                                                   NaN   \n",
              "min                                                   NaN   \n",
              "25%                                                   NaN   \n",
              "50%                                                   NaN   \n",
              "75%                                                   NaN   \n",
              "max                                                   NaN   \n",
              "\n",
              "                   benefits  telecommuting  has_company_logo  has_questions  \\\n",
              "count                 10670   17880.000000      17880.000000   17880.000000   \n",
              "unique                 6205            NaN               NaN            NaN   \n",
              "top     See job description            NaN               NaN            NaN   \n",
              "freq                    726            NaN               NaN            NaN   \n",
              "mean                    NaN       0.042897          0.795302       0.491723   \n",
              "std                     NaN       0.202631          0.403492       0.499945   \n",
              "min                     NaN       0.000000          0.000000       0.000000   \n",
              "25%                     NaN       0.000000          1.000000       0.000000   \n",
              "50%                     NaN       0.000000          1.000000       0.000000   \n",
              "75%                     NaN       0.000000          1.000000       1.000000   \n",
              "max                     NaN       1.000000          1.000000       1.000000   \n",
              "\n",
              "       employment_type required_experience required_education  \\\n",
              "count            14409               10830               9775   \n",
              "unique               5                   7                 13   \n",
              "top          Full-time    Mid-Senior level  Bachelor's Degree   \n",
              "freq             11620                3809               5145   \n",
              "mean               NaN                 NaN                NaN   \n",
              "std                NaN                 NaN                NaN   \n",
              "min                NaN                 NaN                NaN   \n",
              "25%                NaN                 NaN                NaN   \n",
              "50%                NaN                 NaN                NaN   \n",
              "75%                NaN                 NaN                NaN   \n",
              "max                NaN                 NaN                NaN   \n",
              "\n",
              "                                   industry                function  \\\n",
              "count                                 12977                   11425   \n",
              "unique                                  131                      37   \n",
              "top     Information Technology and Services  Information Technology   \n",
              "freq                                   1734                    1749   \n",
              "mean                                    NaN                     NaN   \n",
              "std                                     NaN                     NaN   \n",
              "min                                     NaN                     NaN   \n",
              "25%                                     NaN                     NaN   \n",
              "50%                                     NaN                     NaN   \n",
              "75%                                     NaN                     NaN   \n",
              "max                                     NaN                     NaN   \n",
              "\n",
              "          fraudulent  \n",
              "count   17880.000000  \n",
              "unique           NaN  \n",
              "top              NaN  \n",
              "freq             NaN  \n",
              "mean        0.048434  \n",
              "std         0.214688  \n",
              "min         0.000000  \n",
              "25%         0.000000  \n",
              "50%         0.000000  \n",
              "75%         0.000000  \n",
              "max         1.000000  "
            ]
          },
          "execution_count": 47,
          "metadata": {},
          "output_type": "execute_result"
        }
      ],
      "source": [
        "data.describe(include = 'all')"
      ]
    },
    {
      "cell_type": "markdown",
      "metadata": {
        "id": "P5hX0518aSpb"
      },
      "source": [
        "Выведем матрицу графиков рессеивания (запускать на свой стах и риск):"
      ]
    },
    {
      "cell_type": "code",
      "execution_count": 48,
      "metadata": {
        "id": "UvL19cWAaSpb"
      },
      "outputs": [],
      "source": [
        "#from pandas.plotting import scatter_matrix\n",
        "#scatter_matrix(data, alpha = .01, figsize = (10, 10))\n",
        "#pass"
      ]
    },
    {
      "cell_type": "markdown",
      "metadata": {
        "id": "nllCbzzraSpb"
      },
      "source": [
        "Выведем матрицу корреляции наших численных признаков:"
      ]
    },
    {
      "cell_type": "code",
      "execution_count": 49,
      "metadata": {
        "colab": {
          "base_uri": "https://localhost:8080/",
          "height": 332
        },
        "id": "rnYqF3ZlaSpb",
        "outputId": "723c5a59-e13e-4b7a-8e9d-48435cf35829"
      },
      "outputs": [
        {
          "name": "stderr",
          "output_type": "stream",
          "text": [
            "C:\\Users\\Nick\\AppData\\Local\\Temp\\ipykernel_15384\\2627137660.py:1: FutureWarning: The default value of numeric_only in DataFrame.corr is deprecated. In a future version, it will default to False. Select only valid columns or specify the value of numeric_only to silence this warning.\n",
            "  data.corr()\n"
          ]
        },
        {
          "data": {
            "text/html": [
              "<div>\n",
              "<style scoped>\n",
              "    .dataframe tbody tr th:only-of-type {\n",
              "        vertical-align: middle;\n",
              "    }\n",
              "\n",
              "    .dataframe tbody tr th {\n",
              "        vertical-align: top;\n",
              "    }\n",
              "\n",
              "    .dataframe thead th {\n",
              "        text-align: right;\n",
              "    }\n",
              "</style>\n",
              "<table border=\"1\" class=\"dataframe\">\n",
              "  <thead>\n",
              "    <tr style=\"text-align: right;\">\n",
              "      <th></th>\n",
              "      <th>job_id</th>\n",
              "      <th>telecommuting</th>\n",
              "      <th>has_company_logo</th>\n",
              "      <th>has_questions</th>\n",
              "      <th>fraudulent</th>\n",
              "    </tr>\n",
              "  </thead>\n",
              "  <tbody>\n",
              "    <tr>\n",
              "      <th>job_id</th>\n",
              "      <td>1.000000</td>\n",
              "      <td>-0.004559</td>\n",
              "      <td>-0.014539</td>\n",
              "      <td>-0.087025</td>\n",
              "      <td>0.079872</td>\n",
              "    </tr>\n",
              "    <tr>\n",
              "      <th>telecommuting</th>\n",
              "      <td>-0.004559</td>\n",
              "      <td>1.000000</td>\n",
              "      <td>-0.019836</td>\n",
              "      <td>0.020345</td>\n",
              "      <td>0.034523</td>\n",
              "    </tr>\n",
              "    <tr>\n",
              "      <th>has_company_logo</th>\n",
              "      <td>-0.014539</td>\n",
              "      <td>-0.019836</td>\n",
              "      <td>1.000000</td>\n",
              "      <td>0.233932</td>\n",
              "      <td>-0.261971</td>\n",
              "    </tr>\n",
              "    <tr>\n",
              "      <th>has_questions</th>\n",
              "      <td>-0.087025</td>\n",
              "      <td>0.020345</td>\n",
              "      <td>0.233932</td>\n",
              "      <td>1.000000</td>\n",
              "      <td>-0.091627</td>\n",
              "    </tr>\n",
              "    <tr>\n",
              "      <th>fraudulent</th>\n",
              "      <td>0.079872</td>\n",
              "      <td>0.034523</td>\n",
              "      <td>-0.261971</td>\n",
              "      <td>-0.091627</td>\n",
              "      <td>1.000000</td>\n",
              "    </tr>\n",
              "  </tbody>\n",
              "</table>\n",
              "</div>"
            ],
            "text/plain": [
              "                    job_id  telecommuting  has_company_logo  has_questions  \\\n",
              "job_id            1.000000      -0.004559         -0.014539      -0.087025   \n",
              "telecommuting    -0.004559       1.000000         -0.019836       0.020345   \n",
              "has_company_logo -0.014539      -0.019836          1.000000       0.233932   \n",
              "has_questions    -0.087025       0.020345          0.233932       1.000000   \n",
              "fraudulent        0.079872       0.034523         -0.261971      -0.091627   \n",
              "\n",
              "                  fraudulent  \n",
              "job_id              0.079872  \n",
              "telecommuting       0.034523  \n",
              "has_company_logo   -0.261971  \n",
              "has_questions      -0.091627  \n",
              "fraudulent          1.000000  "
            ]
          },
          "execution_count": 49,
          "metadata": {},
          "output_type": "execute_result"
        }
      ],
      "source": [
        "data.corr()"
      ]
    },
    {
      "cell_type": "markdown",
      "metadata": {
        "id": "Piyq938vaSpc"
      },
      "source": [
        "Визуализируем данную матрицу корреляции:"
      ]
    },
    {
      "cell_type": "code",
      "execution_count": 50,
      "metadata": {
        "colab": {
          "base_uri": "https://localhost:8080/"
        },
        "id": "XxoDxZ0zaSpc",
        "outputId": "6344faf6-4623-4221-b470-c4ee8e8e39f6"
      },
      "outputs": [
        {
          "name": "stdout",
          "output_type": "stream",
          "text": [
            "Defaulting to user installation because normal site-packages is not writeable\n",
            "Requirement already satisfied: seaborn in c:\\users\\nick\\appdata\\roaming\\python\\python310\\site-packages (0.12.1)\n",
            "Requirement already satisfied: numpy>=1.17 in c:\\program files\\python310\\lib\\site-packages (from seaborn) (1.24.0)\n",
            "Requirement already satisfied: pandas>=0.25 in c:\\program files\\python310\\lib\\site-packages (from seaborn) (1.5.2)\n",
            "Requirement already satisfied: matplotlib!=3.6.1,>=3.1 in c:\\program files\\python310\\lib\\site-packages (from seaborn) (3.6.2)\n",
            "Requirement already satisfied: contourpy>=1.0.1 in c:\\program files\\python310\\lib\\site-packages (from matplotlib!=3.6.1,>=3.1->seaborn) (1.0.6)\n",
            "Requirement already satisfied: packaging>=20.0 in c:\\users\\nick\\appdata\\roaming\\python\\python310\\site-packages (from matplotlib!=3.6.1,>=3.1->seaborn) (22.0)\n",
            "Requirement already satisfied: python-dateutil>=2.7 in c:\\users\\nick\\appdata\\roaming\\python\\python310\\site-packages (from matplotlib!=3.6.1,>=3.1->seaborn) (2.8.2)\n",
            "Requirement already satisfied: fonttools>=4.22.0 in c:\\program files\\python310\\lib\\site-packages (from matplotlib!=3.6.1,>=3.1->seaborn) (4.38.0)\n",
            "Requirement already satisfied: kiwisolver>=1.0.1 in c:\\program files\\python310\\lib\\site-packages (from matplotlib!=3.6.1,>=3.1->seaborn) (1.4.4)\n",
            "Requirement already satisfied: pillow>=6.2.0 in c:\\program files\\python310\\lib\\site-packages (from matplotlib!=3.6.1,>=3.1->seaborn) (9.3.0)\n",
            "Requirement already satisfied: cycler>=0.10 in c:\\program files\\python310\\lib\\site-packages (from matplotlib!=3.6.1,>=3.1->seaborn) (0.11.0)\n",
            "Requirement already satisfied: pyparsing>=2.2.1 in c:\\program files\\python310\\lib\\site-packages (from matplotlib!=3.6.1,>=3.1->seaborn) (3.0.9)\n",
            "Requirement already satisfied: pytz>=2020.1 in c:\\program files\\python310\\lib\\site-packages (from pandas>=0.25->seaborn) (2022.7)\n",
            "Requirement already satisfied: six>=1.5 in c:\\users\\nick\\appdata\\roaming\\python\\python310\\site-packages (from python-dateutil>=2.7->matplotlib!=3.6.1,>=3.1->seaborn) (1.16.0)\n"
          ]
        },
        {
          "name": "stderr",
          "output_type": "stream",
          "text": [
            "\n",
            "[notice] A new release of pip available: 22.2.1 -> 22.3.1\n",
            "[notice] To update, run: python.exe -m pip install --upgrade pip\n"
          ]
        }
      ],
      "source": [
        "import sys\n",
        "! pip install seaborn\n",
        "import seaborn as sns"
      ]
    },
    {
      "cell_type": "code",
      "execution_count": 51,
      "metadata": {
        "colab": {
          "base_uri": "https://localhost:8080/",
          "height": 371
        },
        "id": "k_svuV81aSpc",
        "outputId": "e5f96be2-e09c-4626-a5c6-3b33118ff069"
      },
      "outputs": [
        {
          "name": "stderr",
          "output_type": "stream",
          "text": [
            "C:\\Users\\Nick\\AppData\\Local\\Temp\\ipykernel_15384\\4293635737.py:1: FutureWarning: The default value of numeric_only in DataFrame.corr is deprecated. In a future version, it will default to False. Select only valid columns or specify the value of numeric_only to silence this warning.\n",
            "  corr_mat = data.corr()\n"
          ]
        },
        {
          "data": {
            "text/plain": [
              "<AxesSubplot: >"
            ]
          },
          "execution_count": 51,
          "metadata": {},
          "output_type": "execute_result"
        },
        {
          "data": {
            "image/png": "[encoded data removed]",
            "text/plain": [
              "<Figure size 640x480 with 2 Axes>"
            ]
          },
          "metadata": {},
          "output_type": "display_data"
        }
      ],
      "source": [
        "corr_mat = data.corr()\n",
        "sns.heatmap(corr_mat, square=True, fmt='.2f', vmin=-1, vmax=1, cmap='coolwarm')"
      ]
    },
    {
      "cell_type": "markdown",
      "metadata": {},
      "source": [
        "Наблюдается слабая корреляция признаков."
      ]
    },
    {
      "cell_type": "code",
      "execution_count": 52,
      "metadata": {},
      "outputs": [
        {
          "data": {
            "image/png": "[encoded data removed]",
            "text/plain": [
              "<Figure size 640x480 with 1 Axes>"
            ]
          },
          "metadata": {},
          "output_type": "display_data"
        }
      ],
      "source": [
        "data['fraudulent'].value_counts() / data['fraudulent'].value_counts().sum()*100\n",
        "sns.countplot(x='fraudulent', data=data)\n",
        "pass"
      ]
    },
    {
      "cell_type": "markdown",
      "metadata": {},
      "source": [
        "Значительная неравномерность распределения классов"
      ]
    },
    {
      "cell_type": "code",
      "execution_count": 53,
      "metadata": {},
      "outputs": [
        {
          "data": {
            "image/png": "[encoded data removed]",
            "text/plain": [
              "<Figure size 1250x1250 with 30 Axes>"
            ]
          },
          "metadata": {},
          "output_type": "display_data"
        }
      ],
      "source": [
        "random_subset = np.random.choice(np.arange(data.shape[0]), size=500, replace=False)\n",
        "sns.pairplot(data.iloc[random_subset], diag_kind=\"hist\")\n",
        "pass"
      ]
    },
    {
      "cell_type": "markdown",
      "metadata": {
        "id": "mJY4pC4ZaSpd"
      },
      "source": [
        "Выведем уникальные значения для некоторых нечисловых признаков:"
      ]
    },
    {
      "cell_type": "code",
      "execution_count": 54,
      "metadata": {
        "colab": {
          "base_uri": "https://localhost:8080/"
        },
        "id": "tps1JJXzaSpd",
        "outputId": "4731efaa-7fa0-458c-e82f-03dc5f6ca3a0"
      },
      "outputs": [
        {
          "data": {
            "text/plain": [
              "array(['US, NY, New York', 'NZ, , Auckland', 'US, IA, Wever', ...,\n",
              "       'US, CA, los Angeles', 'CA, , Ottawa', 'GB, WSX, Chichester'],\n",
              "      dtype=object)"
            ]
          },
          "execution_count": 54,
          "metadata": {},
          "output_type": "execute_result"
        }
      ],
      "source": [
        "data['location'].unique()"
      ]
    },
    {
      "cell_type": "code",
      "execution_count": 55,
      "metadata": {
        "colab": {
          "base_uri": "https://localhost:8080/"
        },
        "id": "ly3g_S8xaSpd",
        "outputId": "6c019a3c-4c70-4f74-fb77-55d3e5dac670"
      },
      "outputs": [
        {
          "data": {
            "text/plain": [
              "array(['Marketing', 'Success', nan, ..., 'Admin - Clerical',\n",
              "       'Administrative Dept', 'Hospitality'], dtype=object)"
            ]
          },
          "execution_count": 55,
          "metadata": {},
          "output_type": "execute_result"
        }
      ],
      "source": [
        "data['department'].unique()"
      ]
    },
    {
      "cell_type": "markdown",
      "metadata": {
        "id": "EzcGtCEvaSpe"
      },
      "source": [
        "## Готовим данные"
      ]
    },
    {
      "cell_type": "markdown",
      "metadata": {
        "id": "J9e0-61kdD2f"
      },
      "source": [
        "Для предсказания оригинальности вакансии будем использовать все признаки, кроме: job_id, location, department, salary_range, description, title, company_profile, benefits, requirements."
      ]
    },
    {
      "cell_type": "code",
      "execution_count": 56,
      "metadata": {
        "id": "KY2AwhjGdCAX"
      },
      "outputs": [],
      "source": [
        "data=data.drop(['job_id','location','department','salary_range','description','title','company_profile','benefits','requirements'],axis=1)"
      ]
    },
    {
      "cell_type": "markdown",
      "metadata": {
        "id": "ixBYc43naSpe"
      },
      "source": [
        "Рассортируем категориальные и численные признаки:"
      ]
    },
    {
      "cell_type": "code",
      "execution_count": 57,
      "metadata": {
        "colab": {
          "base_uri": "https://localhost:8080/"
        },
        "id": "Kub29byEaSpe",
        "outputId": "d06acece-e635-4f3c-fa8d-b08433036a70"
      },
      "outputs": [
        {
          "name": "stdout",
          "output_type": "stream",
          "text": [
            "['employment_type', 'required_experience', 'required_education', 'industry', 'function']\n",
            "['telecommuting', 'has_company_logo', 'has_questions', 'fraudulent']\n"
          ]
        }
      ],
      "source": [
        "categorical_columns = [c for c in data.columns if data[c].dtype.name == 'object']\n",
        "numerical_columns   = [c for c in data.columns if data[c].dtype.name != 'object']\n",
        "print(categorical_columns)\n",
        "print(numerical_columns)"
      ]
    },
    {
      "cell_type": "markdown",
      "metadata": {
        "id": "__ioJeNIaSpe"
      },
      "source": [
        "Выведем все уникальные значения для каждого категориального признака:"
      ]
    },
    {
      "cell_type": "code",
      "execution_count": 58,
      "metadata": {
        "colab": {
          "base_uri": "https://localhost:8080/"
        },
        "id": "0uhFzRV0aSpe",
        "outputId": "810d55cd-30ff-489f-fbc1-460419f365b4"
      },
      "outputs": [
        {
          "name": "stdout",
          "output_type": "stream",
          "text": [
            "employment_type: ['Other' 'Full-time' nan 'Part-time' 'Contract' 'Temporary']\n",
            "required_experience: ['Internship' 'Not Applicable' nan 'Mid-Senior level' 'Associate'\n",
            " 'Entry level' 'Executive' 'Director']\n",
            "required_education: [nan \"Bachelor's Degree\" \"Master's Degree\" 'High School or equivalent'\n",
            " 'Unspecified' 'Some College Coursework Completed' 'Vocational'\n",
            " 'Certification' 'Associate Degree' 'Professional' 'Doctorate'\n",
            " 'Some High School Coursework' 'Vocational - Degree'\n",
            " 'Vocational - HS Diploma']\n",
            "industry: [nan 'Marketing and Advertising' 'Computer Software'\n",
            " 'Hospital & Health Care' 'Online Media'\n",
            " 'Information Technology and Services' 'Financial Services'\n",
            " 'Management Consulting' 'Events Services' 'Internet'\n",
            " 'Facilities Services' 'Consumer Electronics' 'Telecommunications'\n",
            " 'Consumer Services' 'Construction' 'Oil & Energy' 'Education Management'\n",
            " 'Building Materials' 'Banking' 'Food & Beverages' 'Food Production'\n",
            " 'Health, Wellness and Fitness' 'Insurance' 'E-Learning' 'Cosmetics'\n",
            " 'Staffing and Recruiting' 'Venture Capital & Private Equity'\n",
            " 'Leisure, Travel & Tourism' 'Human Resources' 'Pharmaceuticals' 'Farming'\n",
            " 'Legal Services' 'Luxury Goods & Jewelry' 'Machinery' 'Real Estate'\n",
            " 'Mechanical or Industrial Engineering'\n",
            " 'Public Relations and Communications' 'Consumer Goods' 'Medical Practice'\n",
            " 'Electrical/Electronic Manufacturing' 'Hospitality' 'Music'\n",
            " 'Market Research' 'Automotive' 'Philanthropy' 'Utilities'\n",
            " 'Primary/Secondary Education' 'Logistics and Supply Chain' 'Design'\n",
            " 'Gambling & Casinos' 'Accounting' 'Environmental Services'\n",
            " 'Mental Health Care' 'Investment Management' 'Apparel & Fashion'\n",
            " 'Media Production' 'Publishing' 'Medical Devices' 'Information Services'\n",
            " 'Retail' 'Sports' 'Computer Games' 'Chemicals' 'Aviation & Aerospace'\n",
            " 'Business Supplies and Equipment' 'Program Development'\n",
            " 'Computer Networking' 'Biotechnology' 'Civic & Social Organization'\n",
            " 'Religious Institutions' 'Warehousing' 'Airlines/Aviation'\n",
            " 'Writing and Editing' 'Restaurants' 'Outsourcing/Offshoring'\n",
            " 'Transportation/Trucking/Railroad' 'Wireless' 'Investment Banking'\n",
            " 'Nonprofit Organization Management' 'Libraries' 'Computer Hardware'\n",
            " 'Broadcast Media' 'Printing' 'Graphic Design' 'Entertainment' 'Wholesale'\n",
            " 'Research' 'Animation' 'Government Administration' 'Capital Markets'\n",
            " 'Computer & Network Security' 'Semiconductors'\n",
            " 'Security and Investigations' 'Architecture & Planning' 'Maritime'\n",
            " 'Fund-Raising' 'Higher Education' 'Renewables & Environment'\n",
            " 'Motion Pictures and Film' 'Law Practice' 'Government Relations'\n",
            " 'Packaging and Containers' 'Sporting Goods' 'Mining & Metals'\n",
            " 'Import and Export' 'International Trade and Development'\n",
            " 'Professional Training & Coaching' 'Textiles' 'Commercial Real Estate'\n",
            " 'Law Enforcement' 'Package/Freight Delivery'\n",
            " 'Translation and Localization' 'Photography' 'Industrial Automation'\n",
            " 'Wine and Spirits' 'Public Safety' 'Civil Engineering' 'Military'\n",
            " 'Defense & Space' 'Veterinary' 'Executive Office' 'Performing Arts'\n",
            " 'Individual & Family Services' 'Public Policy' 'Nanotechnology'\n",
            " 'Museums and Institutions' 'Fishery' 'Plastics' 'Furniture'\n",
            " 'Shipbuilding' 'Alternative Dispute Resolution' 'Ranching']\n",
            "function: ['Marketing' 'Customer Service' nan 'Sales' 'Health Care Provider'\n",
            " 'Management' 'Information Technology' 'Other' 'Engineering'\n",
            " 'Administrative' 'Design' 'Production' 'Education' 'Supply Chain'\n",
            " 'Business Development' 'Product Management' 'Financial Analyst'\n",
            " 'Consulting' 'Human Resources' 'Project Management' 'Manufacturing'\n",
            " 'Public Relations' 'Strategy/Planning' 'Advertising' 'Finance'\n",
            " 'General Business' 'Research' 'Accounting/Auditing' 'Art/Creative'\n",
            " 'Quality Assurance' 'Data Analyst' 'Business Analyst' 'Writing/Editing'\n",
            " 'Distribution' 'Science' 'Training' 'Purchasing' 'Legal']\n"
          ]
        }
      ],
      "source": [
        "for c in categorical_columns:\n",
        "    print(f\"{c}: {data[c].unique()}\")"
      ]
    },
    {
      "cell_type": "code",
      "execution_count": 59,
      "metadata": {
        "colab": {
          "base_uri": "https://localhost:8080/"
        },
        "id": "ocdwKL2MdQF5",
        "outputId": "c10be49d-4304-4ddd-e66b-3230aecb4fb4"
      },
      "outputs": [
        {
          "data": {
            "text/plain": [
              "telecommuting             0\n",
              "has_company_logo          0\n",
              "has_questions             0\n",
              "employment_type        3471\n",
              "required_experience    7050\n",
              "required_education     8105\n",
              "industry               4903\n",
              "function               6455\n",
              "fraudulent                0\n",
              "dtype: int64"
            ]
          },
          "execution_count": 59,
          "metadata": {},
          "output_type": "execute_result"
        }
      ],
      "source": [
        "data.isnull().sum()"
      ]
    },
    {
      "cell_type": "markdown",
      "metadata": {},
      "source": [
        "Заполним пропущенные значения модой"
      ]
    },
    {
      "cell_type": "code",
      "execution_count": 60,
      "metadata": {
        "colab": {
          "base_uri": "https://localhost:8080/"
        },
        "id": "MrxDpWVWdR3m",
        "outputId": "d4deb092-9f62-4c21-85ac-875ba6b0dbb8"
      },
      "outputs": [
        {
          "data": {
            "text/plain": [
              "telecommuting          0\n",
              "has_company_logo       0\n",
              "has_questions          0\n",
              "employment_type        0\n",
              "required_experience    0\n",
              "required_education     0\n",
              "industry               0\n",
              "function               0\n",
              "fraudulent             0\n",
              "dtype: int64"
            ]
          },
          "execution_count": 60,
          "metadata": {},
          "output_type": "execute_result"
        }
      ],
      "source": [
        "columns_list=list(data.columns)\n",
        "\n",
        "for i in columns_list:\n",
        "    if data[i].dtype=='object':\n",
        "        data[i]=data[i].replace(np.nan,data[i].mode()[0],regex=True)\n",
        "\n",
        "data.isnull().sum()"
      ]
    },
    {
      "cell_type": "code",
      "execution_count": 61,
      "metadata": {},
      "outputs": [
        {
          "name": "stdout",
          "output_type": "stream",
          "text": [
            "Defaulting to user installation because normal site-packages is not writeable\n",
            "Requirement already satisfied: scikit-learn in c:\\users\\nick\\appdata\\roaming\\python\\python310\\site-packages (1.2.0)\n",
            "Requirement already satisfied: scipy in c:\\users\\nick\\appdata\\roaming\\python\\python310\\site-packages (1.9.3)\n",
            "Requirement already satisfied: threadpoolctl>=2.0.0 in c:\\users\\nick\\appdata\\roaming\\python\\python310\\site-packages (from scikit-learn) (3.1.0)\n",
            "Requirement already satisfied: numpy>=1.17.3 in c:\\program files\\python310\\lib\\site-packages (from scikit-learn) (1.24.0)\n",
            "Requirement already satisfied: joblib>=1.1.1 in c:\\users\\nick\\appdata\\roaming\\python\\python310\\site-packages (from scikit-learn) (1.2.0)\n"
          ]
        },
        {
          "name": "stderr",
          "output_type": "stream",
          "text": [
            "\n",
            "[notice] A new release of pip available: 22.2.1 -> 22.3.1\n",
            "[notice] To update, run: python.exe -m pip install --upgrade pip\n"
          ]
        }
      ],
      "source": [
        "! pip install scikit-learn scipy"
      ]
    },
    {
      "cell_type": "code",
      "execution_count": 129,
      "metadata": {
        "id": "Hr-eu7LXeOR6"
      },
      "outputs": [],
      "source": [
        "from sklearn.preprocessing import LabelEncoder\n",
        "le=LabelEncoder()\n",
        "\n",
        "#Присваивание меток объектам типа 'object'\n",
        "for i in columns_list:\n",
        "    if data[i].dtype=='object':\n",
        "        data[i]=le.fit_transform(data[i])\n",
        "        \n",
        "x=data.drop(['fraudulent'],axis=1)\n",
        "y=data['fraudulent']\n",
        "from sklearn.model_selection import train_test_split\n",
        "x_train, x_test, y_train, y_test=train_test_split(x,y,random_state=0,test_size=0.2)"
      ]
    },
    {
      "cell_type": "code",
      "execution_count": 130,
      "metadata": {},
      "outputs": [
        {
          "name": "stdout",
          "output_type": "stream",
          "text": [
            "n_neighbors: 1\n",
            "train error:  0.14446002805049088\n",
            "test error:  0.15715883668903805\n",
            "--------------\n",
            "n_neighbors: 2\n",
            "train error:  0.19915848527349228\n",
            "test error:  0.09703579418344518\n",
            "--------------\n",
            "n_neighbors: 5\n",
            "train error:  0.22230014025245443\n",
            "test error:  0.18484340044742728\n",
            "--------------\n",
            "n_neighbors: 10\n",
            "train error:  0.25666199158485276\n",
            "test error:  0.1977069351230425\n",
            "--------------\n",
            "n_neighbors: 15\n",
            "train error:  0.27489481065918653\n",
            "test error:  0.24272930648769575\n",
            "--------------\n",
            "n_neighbors: 20\n",
            "train error:  0.2903225806451613\n",
            "test error:  0.21364653243847875\n",
            "--------------\n",
            "n_neighbors: 1\n",
            "train error:  0.14446002805049088\n",
            "test error:  0.15715883668903805\n",
            "--------------\n",
            "n_neighbors: 2\n",
            "train error:  0.19915848527349228\n",
            "test error:  0.09703579418344518\n",
            "--------------\n",
            "n_neighbors: 5\n",
            "train error:  0.22230014025245443\n",
            "test error:  0.18484340044742728\n",
            "--------------\n",
            "n_neighbors: 10\n",
            "train error:  0.25666199158485276\n",
            "test error:  0.1977069351230425\n",
            "--------------\n",
            "n_neighbors: 15\n",
            "train error:  0.27489481065918653\n",
            "test error:  0.24272930648769575\n",
            "--------------\n",
            "n_neighbors: 20\n",
            "train error:  0.2903225806451613\n",
            "test error:  0.21364653243847875\n",
            "--------------\n"
          ]
        }
      ],
      "source": [
        "from imblearn.under_sampling import RandomUnderSampler\n",
        "from imblearn.over_sampling import RandomOverSampler\n",
        "from sklearn.neighbors import KNeighborsClassifier\n",
        "\n",
        "rus = RandomUnderSampler()\n",
        "x_train, y_train = rus.fit_resample(x_train, y_train)\n",
        "\n",
        "for i in [1, 2, 5, 10, 15, 20]:\n",
        "    knn = KNeighborsClassifier(n_neighbors = i)\n",
        "    knn.fit(x_train, y_train)\n",
        "    print(\"n_neighbors:\", i)\n",
        "    print(\"train error: \", np.mean(knn.predict(x_train) != y_train))\n",
        "    print(\"test error: \",np.mean(knn.predict(x_test) != y_test))\n",
        "    print(\"--------------\")\n",
        "    \n",
        "rus = RandomOverSampler()\n",
        "x_train, y_train = rus.fit_resample(x_train, y_train)\n",
        "\n",
        "for i in [1, 2, 5, 10, 15, 20]:\n",
        "    knn = KNeighborsClassifier(n_neighbors = i)\n",
        "    knn.fit(x_train, y_train)\n",
        "    print(\"n_neighbors:\", i)\n",
        "    print(\"train error: \", np.mean(knn.predict(x_train) != y_train))\n",
        "    print(\"test error: \",np.mean(knn.predict(x_test) != y_test))\n",
        "    print(\"--------------\")"
      ]
    },
    {
      "cell_type": "markdown",
      "metadata": {
        "id": "oxm7t8WgaSpi"
      },
      "source": [
        "## Обучение"
      ]
    },
    {
      "cell_type": "markdown",
      "metadata": {
        "id": "9ryCP_xlaSpi"
      },
      "source": [
        "Попробуем обучить нашу модель с помощью метода `kNN`:"
      ]
    },
    {
      "cell_type": "code",
      "execution_count": 131,
      "metadata": {
        "colab": {
          "base_uri": "https://localhost:8080/"
        },
        "id": "xVfDJVjKaSpj",
        "outputId": "771b53d0-ed10-43a6-bcb6-a80b2d7a4e30"
      },
      "outputs": [
        {
          "data": {
            "text/html": [
              "<style>#sk-container-id-7 {color: black;background-color: white;}#sk-container-id-7 pre{padding: 0;}#sk-container-id-7 div.sk-toggleable {background-color: white;}#sk-container-id-7 label.sk-toggleable__label {cursor: pointer;display: block;width: 100%;margin-bottom: 0;padding: 0.3em;box-sizing: border-box;text-align: center;}#sk-container-id-7 label.sk-toggleable__label-arrow:before {content: \"▸\";float: left;margin-right: 0.25em;color: #696969;}#sk-container-id-7 label.sk-toggleable__label-arrow:hover:before {color: black;}#sk-container-id-7 div.sk-estimator:hover label.sk-toggleable__label-arrow:before {color: black;}#sk-container-id-7 div.sk-toggleable__content {max-height: 0;max-width: 0;overflow: hidden;text-align: left;background-color: #f0f8ff;}#sk-container-id-7 div.sk-toggleable__content pre {margin: 0.2em;color: black;border-radius: 0.25em;background-color: #f0f8ff;}#sk-container-id-7 input.sk-toggleable__control:checked~div.sk-toggleable__content {max-height: 200px;max-width: 100%;overflow: auto;}#sk-container-id-7 input.sk-toggleable__control:checked~label.sk-toggleable__label-arrow:before {content: \"▾\";}#sk-container-id-7 div.sk-estimator input.sk-toggleable__control:checked~label.sk-toggleable__label {background-color: #d4ebff;}#sk-container-id-7 div.sk-label input.sk-toggleable__control:checked~label.sk-toggleable__label {background-color: #d4ebff;}#sk-container-id-7 input.sk-hidden--visually {border: 0;clip: rect(1px 1px 1px 1px);clip: rect(1px, 1px, 1px, 1px);height: 1px;margin: -1px;overflow: hidden;padding: 0;position: absolute;width: 1px;}#sk-container-id-7 div.sk-estimator {font-family: monospace;background-color: #f0f8ff;border: 1px dotted black;border-radius: 0.25em;box-sizing: border-box;margin-bottom: 0.5em;}#sk-container-id-7 div.sk-estimator:hover {background-color: #d4ebff;}#sk-container-id-7 div.sk-parallel-item::after {content: \"\";width: 100%;border-bottom: 1px solid gray;flex-grow: 1;}#sk-container-id-7 div.sk-label:hover label.sk-toggleable__label {background-color: #d4ebff;}#sk-container-id-7 div.sk-serial::before {content: \"\";position: absolute;border-left: 1px solid gray;box-sizing: border-box;top: 0;bottom: 0;left: 50%;z-index: 0;}#sk-container-id-7 div.sk-serial {display: flex;flex-direction: column;align-items: center;background-color: white;padding-right: 0.2em;padding-left: 0.2em;position: relative;}#sk-container-id-7 div.sk-item {position: relative;z-index: 1;}#sk-container-id-7 div.sk-parallel {display: flex;align-items: stretch;justify-content: center;background-color: white;position: relative;}#sk-container-id-7 div.sk-item::before, #sk-container-id-7 div.sk-parallel-item::before {content: \"\";position: absolute;border-left: 1px solid gray;box-sizing: border-box;top: 0;bottom: 0;left: 50%;z-index: -1;}#sk-container-id-7 div.sk-parallel-item {display: flex;flex-direction: column;z-index: 1;position: relative;background-color: white;}#sk-container-id-7 div.sk-parallel-item:first-child::after {align-self: flex-end;width: 50%;}#sk-container-id-7 div.sk-parallel-item:last-child::after {align-self: flex-start;width: 50%;}#sk-container-id-7 div.sk-parallel-item:only-child::after {width: 0;}#sk-container-id-7 div.sk-dashed-wrapped {border: 1px dashed gray;margin: 0 0.4em 0.5em 0.4em;box-sizing: border-box;padding-bottom: 0.4em;background-color: white;}#sk-container-id-7 div.sk-label label {font-family: monospace;font-weight: bold;display: inline-block;line-height: 1.2em;}#sk-container-id-7 div.sk-label-container {text-align: center;}#sk-container-id-7 div.sk-container {/* jupyter's `normalize.less` sets `[hidden] { display: none; }` but bootstrap.min.css set `[hidden] { display: none !important; }` so we also need the `!important` here to be able to override the default hidden behavior on the sphinx rendered scikit-learn.org. See: https://github.com/scikit-learn/scikit-learn/issues/21755 */display: inline-block !important;position: relative;}#sk-container-id-7 div.sk-text-repr-fallback {display: none;}</style><div id=\"sk-container-id-7\" class=\"sk-top-container\"><div class=\"sk-text-repr-fallback\"><pre>KNeighborsClassifier(n_neighbors=10)</pre><b>In a Jupyter environment, please rerun this cell to show the HTML representation or trust the notebook. <br />On GitHub, the HTML representation is unable to render, please try loading this page with nbviewer.org.</b></div><div class=\"sk-container\" hidden><div class=\"sk-item\"><div class=\"sk-estimator sk-toggleable\"><input class=\"sk-toggleable__control sk-hidden--visually\" id=\"sk-estimator-id-7\" type=\"checkbox\" checked><label for=\"sk-estimator-id-7\" class=\"sk-toggleable__label sk-toggleable__label-arrow\">KNeighborsClassifier</label><div class=\"sk-toggleable__content\"><pre>KNeighborsClassifier(n_neighbors=10)</pre></div></div></div></div></div>"
            ],
            "text/plain": [
              "KNeighborsClassifier(n_neighbors=10)"
            ]
          },
          "execution_count": 131,
          "metadata": {},
          "output_type": "execute_result"
        }
      ],
      "source": [
        "from sklearn.neighbors import KNeighborsClassifier\n",
        "\n",
        "knn = KNeighborsClassifier(n_neighbors = 10)\n",
        "knn.fit(x_train, y_train)"
      ]
    },
    {
      "cell_type": "code",
      "execution_count": 132,
      "metadata": {
        "id": "og8WzHXUaSpl"
      },
      "outputs": [],
      "source": [
        "y_test_predict = knn.predict(x_test)\n",
        "y_train_predict = knn.predict(x_train)\n",
        "err_test  = np.mean(y_test != y_test_predict)\n",
        "err_train  = np.mean(y_train != y_train_predict)"
      ]
    },
    {
      "cell_type": "code",
      "execution_count": 133,
      "metadata": {
        "colab": {
          "base_uri": "https://localhost:8080/"
        },
        "id": "9FBRqUPDaSpl",
        "outputId": "c2915c19-e32a-40bd-ecfa-215fc89c7a1b"
      },
      "outputs": [
        {
          "name": "stdout",
          "output_type": "stream",
          "text": [
            "0.25666199158485276\n",
            "0.1977069351230425\n"
          ]
        }
      ],
      "source": [
        "print(err_train)\n",
        "print(err_test)"
      ]
    },
    {
      "cell_type": "code",
      "execution_count": 134,
      "metadata": {
        "colab": {
          "base_uri": "https://localhost:8080/"
        },
        "id": "n1dHgJpFaSpl",
        "outputId": "25e6e41d-b814-4386-c6d0-5d84dac05a3a"
      },
      "outputs": [
        {
          "name": "stdout",
          "output_type": "stream",
          "text": [
            "[[625  88]\n",
            " [278 435]]\n",
            "\n",
            "[[2776  647]\n",
            " [  60   93]]\n",
            "\n"
          ]
        }
      ],
      "source": [
        "from sklearn.metrics import confusion_matrix\n",
        "\n",
        "print(confusion_matrix(y_train, y_train_predict), end=\"\\n\\n\")\n",
        "print(confusion_matrix(y_test, y_test_predict), end=\"\\n\\n\")"
      ]
    },
    {
      "cell_type": "code",
      "execution_count": 135,
      "metadata": {
        "colab": {
          "base_uri": "https://localhost:8080/",
          "height": 351
        },
        "id": "nnob2_ejfyXr",
        "outputId": "84e4daf5-103f-4d67-fc1c-8dd4559110ff"
      },
      "outputs": [
        {
          "data": {
            "image/png": "[encoded data removed]",
            "text/plain": [
              "<Figure size 640x480 with 2 Axes>"
            ]
          },
          "metadata": {},
          "output_type": "display_data"
        }
      ],
      "source": [
        "from sklearn.metrics import ConfusionMatrixDisplay\n",
        "\n",
        "cm = confusion_matrix(y_test, y_test_predict)\n",
        "disp = ConfusionMatrixDisplay(confusion_matrix=cm)\n",
        "disp.plot()\n",
        "plt.show()"
      ]
    },
    {
      "cell_type": "markdown",
      "metadata": {
        "id": "dPAPcPcLaSpl"
      },
      "source": [
        "Попробуем теперь подобрать параметры так, чтобы еще сильнее уменьшить ошибку (работает очень медленно):"
      ]
    },
    {
      "cell_type": "code",
      "execution_count": 68,
      "metadata": {
        "id": "SJsJgRTyaSpl"
      },
      "outputs": [],
      "source": [
        "#from sklearn.model_selection import GridSearchCV\n",
        "#nnb = [1, 3, 5, 10, 15, 20, 25, 35, 45, 55]\n",
        "#knn = KNeighborsClassifier()\n",
        "#grid = GridSearchCV(knn, param_grid = {'n_neighbors': nnb}, cv=10)\n",
        "#grid.fit(X_train, y_train)\n",
        "\n",
        "#best_cv_err = 1 - grid.best_score_\n",
        "#best_n_neighbors = grid.best_estimator_.n_neighbors\n",
        "#print(best_cv_err, best_n_neighbors)"
      ]
    },
    {
      "attachments": {},
      "cell_type": "markdown",
      "metadata": {
        "id": "oQj9CSkSaSpl"
      },
      "source": [
        "Лучший результат достигается при n=2:"
      ]
    },
    {
      "cell_type": "code",
      "execution_count": 137,
      "metadata": {
        "colab": {
          "base_uri": "https://localhost:8080/"
        },
        "id": "fYV6wruZaSpl",
        "outputId": "80f37c7f-67b0-4b63-c661-5af5ea3f1f71"
      },
      "outputs": [
        {
          "name": "stdout",
          "output_type": "stream",
          "text": [
            "0.19915848527349228\n",
            "0.09703579418344518\n"
          ]
        }
      ],
      "source": [
        "knn = KNeighborsClassifier(n_neighbors = 2).fit(x_train, y_train)\n",
        "\n",
        "err_train = np.mean(y_train != knn.predict(x_train))\n",
        "err_test  = np.mean(y_test  != knn.predict(x_test))\n",
        "\n",
        "print(err_train)\n",
        "print(err_test)"
      ]
    },
    {
      "cell_type": "markdown",
      "metadata": {
        "id": "tz8oeWLDaSpl"
      },
      "source": [
        "## Другие алгоритмы обучения:"
      ]
    },
    {
      "cell_type": "markdown",
      "metadata": {
        "id": "9ULlgTFyaSpl"
      },
      "source": [
        "### SVC:"
      ]
    },
    {
      "cell_type": "code",
      "execution_count": 138,
      "metadata": {
        "colab": {
          "base_uri": "https://localhost:8080/"
        },
        "id": "2AX54bofaSpm",
        "outputId": "517d213b-f775-43f5-f986-075cc38bf0bc"
      },
      "outputs": [
        {
          "name": "stdout",
          "output_type": "stream",
          "text": [
            "0.10308555399719495\n",
            "0.1761744966442953\n"
          ]
        }
      ],
      "source": [
        "from sklearn.svm import SVC\n",
        "svc = SVC(gamma='auto')\n",
        "svc.fit(x_train, y_train)\n",
        "\n",
        "err_train = np.mean(y_train != svc.predict(x_train))\n",
        "err_test  = np.mean(y_test  != svc.predict(x_test))\n",
        "\n",
        "print(f\"{err_train}\")\n",
        "print(f\"{err_test}\")"
      ]
    },
    {
      "cell_type": "markdown",
      "metadata": {
        "id": "lSYaqY4uaSpm"
      },
      "source": [
        "### Random Forest:"
      ]
    },
    {
      "cell_type": "code",
      "execution_count": 139,
      "metadata": {
        "colab": {
          "base_uri": "https://localhost:8080/"
        },
        "id": "HJyAffxQaSpm",
        "outputId": "378d106c-e082-4525-86ad-3fa6356b4c46"
      },
      "outputs": [
        {
          "name": "stdout",
          "output_type": "stream",
          "text": [
            "0.07082748948106592\n",
            "0.16666666666666666\n"
          ]
        }
      ],
      "source": [
        "from sklearn import ensemble\n",
        "rf = ensemble.RandomForestClassifier(n_estimators = 1000)\n",
        "rf.fit(x_train, y_train)\n",
        "\n",
        "err_train = np.mean(y_train != rf.predict(x_train))\n",
        "err_test  = np.mean(y_test  != rf.predict(x_test))\n",
        "\n",
        "print(f\"{err_train}\")\n",
        "print(f\"{err_test}\")"
      ]
    },
    {
      "cell_type": "markdown",
      "metadata": {
        "id": "cbD2QZ4faSpm"
      },
      "source": [
        "### Extremely Randomized Trees:"
      ]
    },
    {
      "cell_type": "code",
      "execution_count": 140,
      "metadata": {
        "colab": {
          "base_uri": "https://localhost:8080/"
        },
        "id": "uiUa7gwoaSpm",
        "outputId": "56916a94-de41-418b-913e-3fb9e5370737"
      },
      "outputs": [
        {
          "name": "stdout",
          "output_type": "stream",
          "text": [
            "0.07082748948106592\n",
            "0.171420581655481\n"
          ]
        }
      ],
      "source": [
        "ert = ensemble.ExtraTreesClassifier(n_estimators = 100).fit(x_train, y_train)\n",
        "\n",
        "err_train = np.mean(y_train != ert.predict(x_train))\n",
        "err_test  = np.mean(y_test  != ert.predict(x_test))\n",
        "\n",
        "print(f\"{err_train}\")\n",
        "print(f\"{err_test}\")"
      ]
    },
    {
      "cell_type": "markdown",
      "metadata": {
        "id": "m3kBAFQoaSpm"
      },
      "source": [
        "### AdaBoost:"
      ]
    },
    {
      "cell_type": "code",
      "execution_count": 141,
      "metadata": {
        "colab": {
          "base_uri": "https://localhost:8080/"
        },
        "id": "z1BFNE7YaSpm",
        "outputId": "187a853c-00bb-4d0a-80e3-336f50c2190a"
      },
      "outputs": [
        {
          "name": "stdout",
          "output_type": "stream",
          "text": [
            "0.17461430575035064\n",
            "0.22930648769574943\n"
          ]
        }
      ],
      "source": [
        "ada = ensemble.AdaBoostClassifier(n_estimators = 1000)\n",
        "ada.fit(x_train, y_train)\n",
        "\n",
        "err_train = np.mean(y_train != ada.predict(x_train))\n",
        "err_test = np.mean(y_test != ada.predict(x_test))\n",
        "\n",
        "print(f\"{err_train}\")\n",
        "print(f\"{err_test}\")"
      ]
    },
    {
      "cell_type": "markdown",
      "metadata": {
        "id": "jGWGB040aSpm"
      },
      "source": [
        "### GBT:"
      ]
    },
    {
      "cell_type": "code",
      "execution_count": 142,
      "metadata": {
        "colab": {
          "base_uri": "https://localhost:8080/"
        },
        "id": "QznMbWJKaSpm",
        "outputId": "610def33-3fc9-4020-de2a-57a3feaad556"
      },
      "outputs": [
        {
          "name": "stdout",
          "output_type": "stream",
          "text": [
            "0.07503506311360449\n",
            "0.1708612975391499\n"
          ]
        }
      ],
      "source": [
        "gbt = ensemble.GradientBoostingClassifier(n_estimators = 1000)\n",
        "gbt.fit(x_train, y_train)\n",
        "\n",
        "err_train = np.mean(y_train != gbt.predict(x_train))\n",
        "err_test = np.mean(y_test != gbt.predict(x_test))\n",
        "\n",
        "print(f\"{err_train}\")\n",
        "print(f\"{err_test}\")"
      ]
    },
    {
      "cell_type": "markdown",
      "metadata": {
        "id": "j8dp-wFYaSpn"
      },
      "source": [
        "Наилуший результат показывает Random Forest и GBT. Ошибка на тестовой выборке состовляет ~ 0.024. При этом, на обучение алгоритмом Random Forest затрачивается намного меньше вермени.\n",
        "\n",
        "Во всех случаях ошибка на тестовой выборке оказывалась больше, чем на тренировочной, что может свидетельствовать о некотором переобучении модели.\n",
        "\n",
        "Подводя итог, можно сделать вывод, что \"предобработка\" данных была выполнена успешно и задача классификации решена.\n"
      ]
    },
    {
      "attachments": {},
      "cell_type": "markdown",
      "id": "b0eead75",
      "metadata": {
        "id": "b0eead75"
      },
      "source": [
        "## Домашнее задание 5"
      ]
    },
    {
      "cell_type": "code",
      "execution_count": 105,
      "metadata": {},
      "outputs": [
        {
          "name": "stdout",
          "output_type": "stream",
          "text": [
            "Defaulting to user installation because normal site-packages is not writeable\n",
            "Collecting imblearn\n",
            "  Downloading imblearn-0.0-py2.py3-none-any.whl (1.9 kB)\n",
            "Collecting imbalanced-learn\n",
            "  Downloading imbalanced_learn-0.10.0-py3-none-any.whl (225 kB)\n",
            "     -------------------------------------- 225.4/225.4 kB 1.5 MB/s eta 0:00:00\n",
            "Requirement already satisfied: scipy>=1.3.2 in c:\\users\\nick\\appdata\\roaming\\python\\python310\\site-packages (from imbalanced-learn->imblearn) (1.9.3)\n",
            "Requirement already satisfied: scikit-learn>=1.0.2 in c:\\users\\nick\\appdata\\roaming\\python\\python310\\site-packages (from imbalanced-learn->imblearn) (1.2.0)\n",
            "Requirement already satisfied: joblib>=1.1.1 in c:\\users\\nick\\appdata\\roaming\\python\\python310\\site-packages (from imbalanced-learn->imblearn) (1.2.0)\n",
            "Requirement already satisfied: threadpoolctl>=2.0.0 in c:\\users\\nick\\appdata\\roaming\\python\\python310\\site-packages (from imbalanced-learn->imblearn) (3.1.0)\n",
            "Requirement already satisfied: numpy>=1.17.3 in c:\\program files\\python310\\lib\\site-packages (from imbalanced-learn->imblearn) (1.24.0)\n",
            "Installing collected packages: imbalanced-learn, imblearn\n",
            "Successfully installed imbalanced-learn-0.10.0 imblearn-0.0\n"
          ]
        },
        {
          "name": "stderr",
          "output_type": "stream",
          "text": [
            "\n",
            "[notice] A new release of pip available: 22.2.1 -> 22.3.1\n",
            "[notice] To update, run: python.exe -m pip install --upgrade pip\n"
          ]
        }
      ],
      "source": [
        "! pip install imblearn"
      ]
    },
    {
      "cell_type": "code",
      "execution_count": 143,
      "id": "e8dc83c7",
      "metadata": {
        "id": "e8dc83c7"
      },
      "outputs": [],
      "source": [
        "from sklearn.neural_network import MLPClassifier"
      ]
    },
    {
      "cell_type": "code",
      "execution_count": 144,
      "id": "f84137b7",
      "metadata": {
        "id": "f84137b7"
      },
      "outputs": [],
      "source": [
        "mlp_model = MLPClassifier(hidden_layer_sizes = (100,),\n",
        "                          solver = 'sgd',\n",
        "                          activation = 'logistic',\n",
        "                          random_state = 78,\n",
        "                          max_iter=1000)"
      ]
    },
    {
      "cell_type": "code",
      "execution_count": 145,
      "id": "b9856b5c",
      "metadata": {
        "colab": {
          "base_uri": "https://localhost:8080/"
        },
        "id": "b9856b5c",
        "outputId": "cfecbf7e-884f-4038-efc2-6ac09caf03f8"
      },
      "outputs": [
        {
          "name": "stdout",
          "output_type": "stream",
          "text": [
            "CPU times: total: 12.5 s\n",
            "Wall time: 12.4 s\n"
          ]
        },
        {
          "data": {
            "text/html": [
              "<style>#sk-container-id-8 {color: black;background-color: white;}#sk-container-id-8 pre{padding: 0;}#sk-container-id-8 div.sk-toggleable {background-color: white;}#sk-container-id-8 label.sk-toggleable__label {cursor: pointer;display: block;width: 100%;margin-bottom: 0;padding: 0.3em;box-sizing: border-box;text-align: center;}#sk-container-id-8 label.sk-toggleable__label-arrow:before {content: \"▸\";float: left;margin-right: 0.25em;color: #696969;}#sk-container-id-8 label.sk-toggleable__label-arrow:hover:before {color: black;}#sk-container-id-8 div.sk-estimator:hover label.sk-toggleable__label-arrow:before {color: black;}#sk-container-id-8 div.sk-toggleable__content {max-height: 0;max-width: 0;overflow: hidden;text-align: left;background-color: #f0f8ff;}#sk-container-id-8 div.sk-toggleable__content pre {margin: 0.2em;color: black;border-radius: 0.25em;background-color: #f0f8ff;}#sk-container-id-8 input.sk-toggleable__control:checked~div.sk-toggleable__content {max-height: 200px;max-width: 100%;overflow: auto;}#sk-container-id-8 input.sk-toggleable__control:checked~label.sk-toggleable__label-arrow:before {content: \"▾\";}#sk-container-id-8 div.sk-estimator input.sk-toggleable__control:checked~label.sk-toggleable__label {background-color: #d4ebff;}#sk-container-id-8 div.sk-label input.sk-toggleable__control:checked~label.sk-toggleable__label {background-color: #d4ebff;}#sk-container-id-8 input.sk-hidden--visually {border: 0;clip: rect(1px 1px 1px 1px);clip: rect(1px, 1px, 1px, 1px);height: 1px;margin: -1px;overflow: hidden;padding: 0;position: absolute;width: 1px;}#sk-container-id-8 div.sk-estimator {font-family: monospace;background-color: #f0f8ff;border: 1px dotted black;border-radius: 0.25em;box-sizing: border-box;margin-bottom: 0.5em;}#sk-container-id-8 div.sk-estimator:hover {background-color: #d4ebff;}#sk-container-id-8 div.sk-parallel-item::after {content: \"\";width: 100%;border-bottom: 1px solid gray;flex-grow: 1;}#sk-container-id-8 div.sk-label:hover label.sk-toggleable__label {background-color: #d4ebff;}#sk-container-id-8 div.sk-serial::before {content: \"\";position: absolute;border-left: 1px solid gray;box-sizing: border-box;top: 0;bottom: 0;left: 50%;z-index: 0;}#sk-container-id-8 div.sk-serial {display: flex;flex-direction: column;align-items: center;background-color: white;padding-right: 0.2em;padding-left: 0.2em;position: relative;}#sk-container-id-8 div.sk-item {position: relative;z-index: 1;}#sk-container-id-8 div.sk-parallel {display: flex;align-items: stretch;justify-content: center;background-color: white;position: relative;}#sk-container-id-8 div.sk-item::before, #sk-container-id-8 div.sk-parallel-item::before {content: \"\";position: absolute;border-left: 1px solid gray;box-sizing: border-box;top: 0;bottom: 0;left: 50%;z-index: -1;}#sk-container-id-8 div.sk-parallel-item {display: flex;flex-direction: column;z-index: 1;position: relative;background-color: white;}#sk-container-id-8 div.sk-parallel-item:first-child::after {align-self: flex-end;width: 50%;}#sk-container-id-8 div.sk-parallel-item:last-child::after {align-self: flex-start;width: 50%;}#sk-container-id-8 div.sk-parallel-item:only-child::after {width: 0;}#sk-container-id-8 div.sk-dashed-wrapped {border: 1px dashed gray;margin: 0 0.4em 0.5em 0.4em;box-sizing: border-box;padding-bottom: 0.4em;background-color: white;}#sk-container-id-8 div.sk-label label {font-family: monospace;font-weight: bold;display: inline-block;line-height: 1.2em;}#sk-container-id-8 div.sk-label-container {text-align: center;}#sk-container-id-8 div.sk-container {/* jupyter's `normalize.less` sets `[hidden] { display: none; }` but bootstrap.min.css set `[hidden] { display: none !important; }` so we also need the `!important` here to be able to override the default hidden behavior on the sphinx rendered scikit-learn.org. See: https://github.com/scikit-learn/scikit-learn/issues/21755 */display: inline-block !important;position: relative;}#sk-container-id-8 div.sk-text-repr-fallback {display: none;}</style><div id=\"sk-container-id-8\" class=\"sk-top-container\"><div class=\"sk-text-repr-fallback\"><pre>MLPClassifier(activation=&#x27;logistic&#x27;, max_iter=1000, random_state=78,\n",
              "              solver=&#x27;sgd&#x27;)</pre><b>In a Jupyter environment, please rerun this cell to show the HTML representation or trust the notebook. <br />On GitHub, the HTML representation is unable to render, please try loading this page with nbviewer.org.</b></div><div class=\"sk-container\" hidden><div class=\"sk-item\"><div class=\"sk-estimator sk-toggleable\"><input class=\"sk-toggleable__control sk-hidden--visually\" id=\"sk-estimator-id-8\" type=\"checkbox\" checked><label for=\"sk-estimator-id-8\" class=\"sk-toggleable__label sk-toggleable__label-arrow\">MLPClassifier</label><div class=\"sk-toggleable__content\"><pre>MLPClassifier(activation=&#x27;logistic&#x27;, max_iter=1000, random_state=78,\n",
              "              solver=&#x27;sgd&#x27;)</pre></div></div></div></div></div>"
            ],
            "text/plain": [
              "MLPClassifier(activation='logistic', max_iter=1000, random_state=78,\n",
              "              solver='sgd')"
            ]
          },
          "execution_count": 145,
          "metadata": {},
          "output_type": "execute_result"
        }
      ],
      "source": [
        "%%time\n",
        "mlp_model.fit(x_train, y_train)"
      ]
    },
    {
      "cell_type": "code",
      "execution_count": 146,
      "id": "7f794c91",
      "metadata": {
        "id": "7f794c91",
        "outputId": "61e6d5d0-bcb9-48f4-fdff-901e8c466ad7"
      },
      "outputs": [
        {
          "data": {
            "text/plain": [
              "array([0, 0, 0, ..., 0, 0, 0], dtype=int64)"
            ]
          },
          "execution_count": 146,
          "metadata": {},
          "output_type": "execute_result"
        }
      ],
      "source": [
        "mlp_model.predict(x_test)"
      ]
    },
    {
      "cell_type": "code",
      "execution_count": 147,
      "id": "ec3062fb",
      "metadata": {
        "id": "ec3062fb"
      },
      "outputs": [],
      "source": [
        "y_train_pred = mlp_model.predict(x_train)\n",
        "y_test_pred = mlp_model.predict(x_test)\n"
      ]
    },
    {
      "cell_type": "code",
      "execution_count": 148,
      "id": "a6a4b5c5",
      "metadata": {
        "id": "a6a4b5c5",
        "outputId": "74d3a010-fafd-4dde-f61a-950eecb8f1e6"
      },
      "outputs": [
        {
          "name": "stdout",
          "output_type": "stream",
          "text": [
            "0.2503506311360449 0.2815995525727069\n"
          ]
        }
      ],
      "source": [
        "print(np.mean(y_train != y_train_pred), np.mean(y_test != y_test_pred))"
      ]
    },
    {
      "cell_type": "code",
      "execution_count": 149,
      "id": "1b2d3a6a",
      "metadata": {
        "id": "1b2d3a6a"
      },
      "outputs": [],
      "source": [
        "from sklearn.metrics import accuracy_score"
      ]
    },
    {
      "cell_type": "markdown",
      "id": "a76ec57c",
      "metadata": {
        "id": "a76ec57c"
      },
      "source": [
        "### Нейронная сеть с одним скрытым слоем на 100 элементов, подбор параметра alpha"
      ]
    },
    {
      "cell_type": "code",
      "execution_count": 150,
      "id": "44eb2f25",
      "metadata": {
        "id": "44eb2f25"
      },
      "outputs": [],
      "source": [
        "alpha_arr = np.logspace(-3, 2, 21)\n",
        "test_err = []\n",
        "train_err = []\n",
        "train_acc = []\n",
        "test_acc = []\n",
        "\n",
        "for alpha in alpha_arr:\n",
        "    mlp_model = MLPClassifier(alpha = alpha, hidden_layer_sizes = (100,), \n",
        "                              solver = 'sgd', activation = 'logistic', max_iter=1000, random_state = 42)\n",
        "    mlp_model.fit(x_train, y_train)\n",
        "\n",
        "    y_train_pred = mlp_model.predict(x_train)\n",
        "    y_test_pred = mlp_model.predict(x_test)\n",
        "    \n",
        "    train_err.append(np.mean(y_train != y_train_pred))\n",
        "    test_err.append(np.mean(y_test != y_test_pred))\n",
        "    train_acc.append(accuracy_score(y_train, y_train_pred))\n",
        "    test_acc.append(accuracy_score(y_test, y_test_pred))"
      ]
    },
    {
      "cell_type": "code",
      "execution_count": 151,
      "id": "1d163689",
      "metadata": {
        "id": "1d163689",
        "outputId": "6d7c0b44-e5f3-4db7-cacb-f3daf5779552"
      },
      "outputs": [
        {
          "data": {
            "text/plain": [
              "<matplotlib.legend.Legend at 0x18660a698d0>"
            ]
          },
          "execution_count": 151,
          "metadata": {},
          "output_type": "execute_result"
        },
        {
          "data": {
            "image/png": "[encoded data removed]",
            "text/plain": [
              "<Figure size 640x480 with 1 Axes>"
            ]
          },
          "metadata": {},
          "output_type": "display_data"
        }
      ],
      "source": [
        "plt.semilogx(alpha_arr, train_err, 'b-o', label = 'train')\n",
        "plt.semilogx(alpha_arr, test_err, 'r-o', label = 'test')\n",
        "plt.xlim([np.min(alpha_arr), np.max(alpha_arr)])\n",
        "plt.title('Error vs. alpha')\n",
        "plt.xlabel('alpha')\n",
        "plt.ylabel('error')\n",
        "plt.legend()"
      ]
    },
    {
      "cell_type": "code",
      "execution_count": 152,
      "id": "32928308",
      "metadata": {
        "id": "32928308",
        "outputId": "59fe7c7e-1fa2-477b-ae9c-79806e9d3a59"
      },
      "outputs": [
        {
          "data": {
            "text/plain": [
              "<matplotlib.legend.Legend at 0x1866075f760>"
            ]
          },
          "execution_count": 152,
          "metadata": {},
          "output_type": "execute_result"
        },
        {
          "data": {
            "image/png": "[encoded data removed]",
            "text/plain": [
              "<Figure size 640x480 with 1 Axes>"
            ]
          },
          "metadata": {},
          "output_type": "display_data"
        }
      ],
      "source": [
        "plt.semilogx(alpha_arr, train_acc, 'r-o', label = 'train')\n",
        "plt.semilogx(alpha_arr, test_acc, 'b-o', label = 'test')\n",
        "plt.xlim([np.min(alpha_arr), np.max(alpha_arr)])\n",
        "plt.title('Accuracy vs. alpha')\n",
        "plt.xlabel('alpha')\n",
        "plt.ylabel('Accuracy')\n",
        "plt.legend()"
      ]
    },
    {
      "cell_type": "code",
      "execution_count": 153,
      "id": "7d1b0fcb",
      "metadata": {
        "id": "7d1b0fcb",
        "outputId": "cf4075a2-9292-4fce-ce15-442466628e04"
      },
      "outputs": [
        {
          "name": "stdout",
          "output_type": "stream",
          "text": [
            "0.29453015427769985 0.04278523489932886\n"
          ]
        }
      ],
      "source": [
        "min_train_err = np.min(train_err)\n",
        "min_test_err = np.min(test_err)\n",
        "print(min_train_err, min_test_err)"
      ]
    },
    {
      "cell_type": "code",
      "execution_count": 154,
      "id": "aaabcfdf",
      "metadata": {
        "id": "aaabcfdf",
        "outputId": "394f6e1e-0ef9-4095-8219-1068ba7ff3ea"
      },
      "outputs": [
        {
          "name": "stdout",
          "output_type": "stream",
          "text": [
            "[100.]\n"
          ]
        }
      ],
      "source": [
        "alpha_opt = alpha_arr[test_err == min_test_err]\n",
        "print(alpha_opt)"
      ]
    },
    {
      "cell_type": "code",
      "execution_count": 155,
      "id": "3c1ea6e0",
      "metadata": {
        "id": "3c1ea6e0",
        "outputId": "24c90dbb-0fd1-4ffd-9004-2387c1a7cf5e"
      },
      "outputs": [
        {
          "name": "stdout",
          "output_type": "stream",
          "text": [
            "0.5\n",
            "0.04278523489932886\n"
          ]
        }
      ],
      "source": [
        "mlp_model = MLPClassifier(alpha = alpha_opt.min(), hidden_layer_sizes = (100,),\n",
        "                          solver = 'sgd', activation = 'logistic', random_state = 42)\n",
        "mlp_model.fit(x_train, y_train)\n",
        "\n",
        "y_train_pred = mlp_model.predict(x_train)\n",
        "y_test_pred = mlp_model.predict(x_test)\n",
        "print(np.mean(y_train != y_train_pred))\n",
        "print(np.mean(y_test != y_test_pred))"
      ]
    },
    {
      "cell_type": "markdown",
      "id": "679a161e",
      "metadata": {
        "id": "679a161e"
      },
      "source": [
        "*Выводы:* Наилучший результат достигается при alpha = 3.16227766. Ошибка на тестовых данных равна ~0.23-0.24, ошибка на тренировочных данных - ~0.23. При меньшем alpha наблюдается понижение ошибки на тренировочных данных и повышение на тестовых, что свидетельствует о переобучении."
      ]
    },
    {
      "cell_type": "code",
      "execution_count": 156,
      "id": "bdd99306",
      "metadata": {
        "id": "bdd99306",
        "outputId": "8cada8ba-4bcf-4dd3-824f-cd0f6cf730c6"
      },
      "outputs": [
        {
          "name": "stdout",
          "output_type": "stream",
          "text": [
            "[[3423  153]\n",
            " [   0    0]]\n"
          ]
        }
      ],
      "source": [
        "from sklearn.metrics import confusion_matrix\n",
        "print(confusion_matrix(y_test_pred, y_test))"
      ]
    },
    {
      "cell_type": "code",
      "execution_count": 157,
      "id": "ffc6d8b0",
      "metadata": {
        "id": "ffc6d8b0",
        "outputId": "b90783c1-3bec-4a23-b93d-17118d9e8e06"
      },
      "outputs": [
        {
          "data": {
            "image/png": "[encoded data removed]",
            "text/plain": [
              "<Figure size 640x480 with 2 Axes>"
            ]
          },
          "metadata": {},
          "output_type": "display_data"
        }
      ],
      "source": [
        "M = confusion_matrix(y_test_pred, y_test)\n",
        "M = np.sqrt(M)\n",
        "plt.imshow(M, interpolation = 'nearest')\n",
        "plt.set_cmap('binary')\n",
        "plt.xticks(range(4))\n",
        "plt.yticks(range(4))\n",
        "plt.xlabel(\"true label\")\n",
        "plt.ylabel(\"predicted label\")\n",
        "plt.colorbar()\n",
        "pass"
      ]
    },
    {
      "cell_type": "code",
      "execution_count": 158,
      "id": "55da2e80",
      "metadata": {
        "id": "55da2e80"
      },
      "outputs": [],
      "source": [
        "# from sklearn.metrics import plot_confusion_matrix\n",
        "from sklearn.metrics import classification_report"
      ]
    },
    {
      "cell_type": "code",
      "execution_count": 159,
      "id": "2be4415c",
      "metadata": {
        "id": "2be4415c",
        "outputId": "dd097398-7efd-4a6a-df2f-6162eed474bd"
      },
      "outputs": [],
      "source": [
        "# plot_confusion_matrix(mlp_model, x_test, y_test) "
      ]
    },
    {
      "cell_type": "code",
      "execution_count": 160,
      "id": "1a409a8a",
      "metadata": {
        "id": "1a409a8a",
        "outputId": "68367cf7-9235-4171-f921-bed566810ef5"
      },
      "outputs": [
        {
          "name": "stdout",
          "output_type": "stream",
          "text": [
            "              precision    recall  f1-score   support\n",
            "\n",
            "           0       0.96      1.00      0.98      3423\n",
            "           1       0.00      0.00      0.00       153\n",
            "\n",
            "    accuracy                           0.96      3576\n",
            "   macro avg       0.48      0.50      0.49      3576\n",
            "weighted avg       0.92      0.96      0.94      3576\n",
            "\n"
          ]
        },
        {
          "name": "stderr",
          "output_type": "stream",
          "text": [
            "C:\\Users\\Nick\\AppData\\Roaming\\Python\\Python310\\site-packages\\sklearn\\metrics\\_classification.py:1344: UndefinedMetricWarning: Precision and F-score are ill-defined and being set to 0.0 in labels with no predicted samples. Use `zero_division` parameter to control this behavior.\n",
            "  _warn_prf(average, modifier, msg_start, len(result))\n",
            "C:\\Users\\Nick\\AppData\\Roaming\\Python\\Python310\\site-packages\\sklearn\\metrics\\_classification.py:1344: UndefinedMetricWarning: Precision and F-score are ill-defined and being set to 0.0 in labels with no predicted samples. Use `zero_division` parameter to control this behavior.\n",
            "  _warn_prf(average, modifier, msg_start, len(result))\n",
            "C:\\Users\\Nick\\AppData\\Roaming\\Python\\Python310\\site-packages\\sklearn\\metrics\\_classification.py:1344: UndefinedMetricWarning: Precision and F-score are ill-defined and being set to 0.0 in labels with no predicted samples. Use `zero_division` parameter to control this behavior.\n",
            "  _warn_prf(average, modifier, msg_start, len(result))\n"
          ]
        }
      ],
      "source": [
        "print(classification_report(y_test, y_test_pred))"
      ]
    },
    {
      "cell_type": "markdown",
      "id": "7c6d79f5",
      "metadata": {
        "id": "7c6d79f5"
      },
      "source": [
        "### Нейронная сеть с двумя скрытыми слоями на 50 элементов каждый"
      ]
    },
    {
      "cell_type": "code",
      "execution_count": 164,
      "id": "378f00d3",
      "metadata": {
        "id": "378f00d3",
        "outputId": "b00a8263-82d0-4e76-861e-93198a624b6d"
      },
      "outputs": [
        {
          "name": "stdout",
          "output_type": "stream",
          "text": [
            "0.4165497896213184\n",
            "0.2625838926174497\n"
          ]
        }
      ],
      "source": [
        "mlp_model = MLPClassifier(hidden_layer_sizes = (50, 50), \n",
        "                          solver = 'sgd', activation = 'logistic', max_iter=1000, random_state = 42)\n",
        "mlp_model.fit(x_train, y_train)\n",
        "\n",
        "y_train_pred = mlp_model.predict(x_train)\n",
        "y_test_pred = mlp_model.predict(x_test)\n",
        "\n",
        "print(np.mean(y_train != y_train_pred))\n",
        "print(np.mean(y_test != y_test_pred))"
      ]
    },
    {
      "cell_type": "markdown",
      "id": "db4f0f31",
      "metadata": {
        "id": "db4f0f31"
      },
      "source": [
        "*Выводы:* наблюдается маленькая ошибка (\\~0.04) на тренировочных данных и большая ошибка на тестовых данных (\\~0.3), что свидетельствует о переобучении. Попробуем подобрать меньшее количество нейронов на каждом слое:"
      ]
    },
    {
      "cell_type": "code",
      "execution_count": 165,
      "id": "6485e9ea",
      "metadata": {
        "id": "6485e9ea",
        "outputId": "445c39c5-59f0-4e73-92e5-2376e89fe7de"
      },
      "outputs": [
        {
          "name": "stdout",
          "output_type": "stream",
          "text": [
            "5 5 :\n",
            "0.5\n",
            "0.9572147651006712\n",
            "------\n",
            "5 10 :\n",
            "0.5\n",
            "0.9572147651006712\n",
            "------\n",
            "5 15 :\n",
            "0.4908835904628331\n",
            "0.053691275167785234\n",
            "------\n",
            "5 20 :\n",
            "0.5\n",
            "0.04278523489932886\n",
            "------\n",
            "5 25 :\n",
            "0.5\n",
            "0.04278523489932886\n",
            "------\n",
            "10 5 :\n",
            "0.49719495091164095\n",
            "0.051733780760626395\n",
            "------\n",
            "10 10 :\n",
            "0.5063113604488079\n",
            "0.16275167785234898\n",
            "------\n",
            "10 15 :\n",
            "0.42496493688639553\n",
            "0.6733780760626398\n",
            "------\n",
            "10 20 :\n",
            "0.49228611500701264\n",
            "0.10626398210290827\n",
            "------\n",
            "10 25 :\n",
            "0.5462833099579243\n",
            "0.33808724832214765\n",
            "------\n",
            "15 5 :\n",
            "0.5\n",
            "0.9572147651006712\n",
            "------\n",
            "15 10 :\n",
            "0.46143057503506313\n",
            "0.8031319910514542\n",
            "------\n",
            "15 15 :\n",
            "0.4438990182328191\n",
            "0.4272930648769575\n",
            "------\n",
            "15 20 :\n",
            "0.4796633941093969\n",
            "0.4899328859060403\n",
            "------\n",
            "15 25 :\n",
            "0.42917251051893407\n",
            "0.31291946308724833\n",
            "------\n",
            "20 5 :\n",
            "0.5\n",
            "0.04278523489932886\n",
            "------\n",
            "20 10 :\n",
            "0.5084151472650772\n",
            "0.9398769574944071\n",
            "------\n",
            "20 15 :\n",
            "0.5\n",
            "0.9572147651006712\n",
            "------\n",
            "20 20 :\n",
            "0.4270687237026648\n",
            "0.2505592841163311\n",
            "------\n",
            "20 25 :\n",
            "0.3225806451612903\n",
            "0.3540268456375839\n",
            "------\n",
            "25 5 :\n",
            "0.44530154277699857\n",
            "0.11269574944071588\n",
            "------\n",
            "25 10 :\n",
            "0.4305750350631136\n",
            "0.33501118568232663\n",
            "------\n",
            "25 15 :\n",
            "0.45652173913043476\n",
            "0.14261744966442952\n",
            "------\n",
            "25 20 :\n",
            "0.4074333800841515\n",
            "0.7013422818791947\n",
            "------\n",
            "25 25 :\n",
            "0.4074333800841515\n",
            "0.31152125279642057\n",
            "------\n",
            "best: 5 20 0.5 0.04278523489932886\n"
          ]
        }
      ],
      "source": [
        "i_ans = -1\n",
        "j_ans = -1\n",
        "y_train_ans = 100500\n",
        "y_test_ans = 100500\n",
        "\n",
        "for i in [5, 10, 15, 20, 25]:\n",
        "    for j in [5, 10, 15, 20, 25]:\n",
        "        mlp_model = MLPClassifier(hidden_layer_sizes = (i, j), \n",
        "                                  solver = 'sgd', activation = 'logistic', max_iter=1000, random_state = 42)\n",
        "        mlp_model.fit(x_train, y_train)\n",
        "\n",
        "        y_train_pred = mlp_model.predict(x_train)\n",
        "        y_test_pred = mlp_model.predict(x_test)\n",
        "        print(i, j, ':')\n",
        "        print(np.mean(y_train != y_train_pred))\n",
        "        print(np.mean(y_test != y_test_pred))\n",
        "        if np.mean(y_test != y_test_pred) < y_test_ans:\n",
        "            i_ans       = i\n",
        "            j_ans       = j\n",
        "            y_train_ans = np.mean(y_train != y_train_pred)\n",
        "            y_test_ans  = np.mean(y_test != y_test_pred)\n",
        "        print('------')\n",
        "print(\"best:\", i_ans, j_ans, y_train_ans, y_test_ans)"
      ]
    },
    {
      "cell_type": "markdown",
      "id": "f6d81732",
      "metadata": {
        "id": "f6d81732"
      },
      "source": [
        "Наилучшие результаты на двухслойной нейронной сети по ошибке на тестовой выборке получились при двух слоях на 10 нейронов каждый. Ошибка на тренировочной выборке ~= 0.21, на тестовой выборке ~0.24. Попробуем для такой нейронной сети подобрать оптимальное значение alpha."
      ]
    },
    {
      "cell_type": "code",
      "execution_count": 166,
      "id": "ff78bff0",
      "metadata": {
        "id": "ff78bff0"
      },
      "outputs": [],
      "source": [
        "alpha_arr = np.logspace(-3, 2, 21)\n",
        "test_err = []\n",
        "train_err = []\n",
        "train_acc = []\n",
        "test_acc = []\n",
        "\n",
        "for alpha in alpha_arr:\n",
        "    mlp_model = MLPClassifier(alpha = alpha, hidden_layer_sizes = (10, 10), \n",
        "                              solver = 'sgd', activation = 'logistic', max_iter=1000, random_state = 42)\n",
        "    mlp_model.fit(x_train, y_train)\n",
        "\n",
        "    y_train_pred = mlp_model.predict(x_train)\n",
        "    y_test_pred = mlp_model.predict(x_test)\n",
        "    \n",
        "    train_err.append(np.mean(y_train != y_train_pred))\n",
        "    test_err.append(np.mean(y_test != y_test_pred))\n",
        "    train_acc.append(accuracy_score(y_train, y_train_pred))\n",
        "    test_acc.append(accuracy_score(y_test, y_test_pred))"
      ]
    },
    {
      "cell_type": "code",
      "execution_count": 167,
      "id": "9b765aeb",
      "metadata": {
        "id": "9b765aeb",
        "outputId": "63c286d5-e6b3-4ae2-bb8d-6290a525cdb3"
      },
      "outputs": [
        {
          "data": {
            "text/plain": [
              "<matplotlib.legend.Legend at 0x18654541f90>"
            ]
          },
          "execution_count": 167,
          "metadata": {},
          "output_type": "execute_result"
        },
        {
          "data": {
            "image/png": "[encoded data removed]",
            "text/plain": [
              "<Figure size 640x480 with 1 Axes>"
            ]
          },
          "metadata": {},
          "output_type": "display_data"
        }
      ],
      "source": [
        "plt.semilogx(alpha_arr, train_err, 'b-o', label = 'train')\n",
        "plt.semilogx(alpha_arr, test_err, 'r-o', label = 'test')\n",
        "plt.xlim([np.min(alpha_arr), np.max(alpha_arr)])\n",
        "plt.title('Error vs. alpha')\n",
        "plt.xlabel('alpha')\n",
        "plt.ylabel('error')\n",
        "plt.legend()"
      ]
    },
    {
      "cell_type": "code",
      "execution_count": 168,
      "id": "0281d175",
      "metadata": {
        "id": "0281d175",
        "outputId": "4c5cab68-4b34-4ae2-ff1a-346e8f01c53f"
      },
      "outputs": [
        {
          "data": {
            "text/plain": [
              "<matplotlib.legend.Legend at 0x1865521cf70>"
            ]
          },
          "execution_count": 168,
          "metadata": {},
          "output_type": "execute_result"
        },
        {
          "data": {
            "image/png": "[encoded data removed]",
            "text/plain": [
              "<Figure size 640x480 with 1 Axes>"
            ]
          },
          "metadata": {},
          "output_type": "display_data"
        }
      ],
      "source": [
        "plt.semilogx(alpha_arr, train_acc, 'r-o', label = 'train')\n",
        "plt.semilogx(alpha_arr, test_acc, 'b-o', label = 'test')\n",
        "plt.xlim([np.min(alpha_arr), np.max(alpha_arr)])\n",
        "plt.title('Accuracy vs. alpha')\n",
        "plt.xlabel('alpha')\n",
        "plt.ylabel('Accuracy')\n",
        "plt.legend()"
      ]
    },
    {
      "cell_type": "code",
      "execution_count": 169,
      "id": "651ba24a",
      "metadata": {
        "id": "651ba24a"
      },
      "outputs": [
        {
          "name": "stdout",
          "output_type": "stream",
          "text": [
            "0.5 0.16275167785234898\n"
          ]
        }
      ],
      "source": [
        "min_train_err = np.min(train_err)\n",
        "min_test_err = np.min(test_err)\n",
        "print(min_train_err, min_test_err)"
      ]
    },
    {
      "cell_type": "markdown",
      "id": "7b387e41",
      "metadata": {
        "id": "7b387e41"
      },
      "source": [
        "В самом лучшем случае ошибка на тестовой выборке не снижается ниже 0.24, а значение accuracy не поднимается выше 0.79."
      ]
    },
    {
      "cell_type": "markdown",
      "id": "3bccc81f",
      "metadata": {
        "id": "3bccc81f"
      },
      "source": [
        "### Нейронная сеть с одним скрытым слоем, подбор числа нейронов и оптимального alpha"
      ]
    },
    {
      "cell_type": "code",
      "execution_count": 171,
      "id": "4599a0cd",
      "metadata": {
        "id": "4599a0cd"
      },
      "outputs": [
        {
          "name": "stderr",
          "output_type": "stream",
          "text": [
            "C:\\Users\\Nick\\AppData\\Roaming\\Python\\Python310\\site-packages\\sklearn\\neural_network\\_multilayer_perceptron.py:679: ConvergenceWarning: Stochastic Optimizer: Maximum iterations (1000) reached and the optimization hasn't converged yet.\n",
            "  warnings.warn(\n",
            "C:\\Users\\Nick\\AppData\\Roaming\\Python\\Python310\\site-packages\\sklearn\\neural_network\\_multilayer_perceptron.py:679: ConvergenceWarning: Stochastic Optimizer: Maximum iterations (1000) reached and the optimization hasn't converged yet.\n",
            "  warnings.warn(\n",
            "C:\\Users\\Nick\\AppData\\Roaming\\Python\\Python310\\site-packages\\sklearn\\neural_network\\_multilayer_perceptron.py:679: ConvergenceWarning: Stochastic Optimizer: Maximum iterations (1000) reached and the optimization hasn't converged yet.\n",
            "  warnings.warn(\n",
            "C:\\Users\\Nick\\AppData\\Roaming\\Python\\Python310\\site-packages\\sklearn\\neural_network\\_multilayer_perceptron.py:679: ConvergenceWarning: Stochastic Optimizer: Maximum iterations (1000) reached and the optimization hasn't converged yet.\n",
            "  warnings.warn(\n",
            "C:\\Users\\Nick\\AppData\\Roaming\\Python\\Python310\\site-packages\\sklearn\\neural_network\\_multilayer_perceptron.py:679: ConvergenceWarning: Stochastic Optimizer: Maximum iterations (1000) reached and the optimization hasn't converged yet.\n",
            "  warnings.warn(\n",
            "C:\\Users\\Nick\\AppData\\Roaming\\Python\\Python310\\site-packages\\sklearn\\neural_network\\_multilayer_perceptron.py:679: ConvergenceWarning: Stochastic Optimizer: Maximum iterations (1000) reached and the optimization hasn't converged yet.\n",
            "  warnings.warn(\n",
            "C:\\Users\\Nick\\AppData\\Roaming\\Python\\Python310\\site-packages\\sklearn\\neural_network\\_multilayer_perceptron.py:679: ConvergenceWarning: Stochastic Optimizer: Maximum iterations (1000) reached and the optimization hasn't converged yet.\n",
            "  warnings.warn(\n",
            "C:\\Users\\Nick\\AppData\\Roaming\\Python\\Python310\\site-packages\\sklearn\\neural_network\\_multilayer_perceptron.py:679: ConvergenceWarning: Stochastic Optimizer: Maximum iterations (1000) reached and the optimization hasn't converged yet.\n",
            "  warnings.warn(\n",
            "C:\\Users\\Nick\\AppData\\Roaming\\Python\\Python310\\site-packages\\sklearn\\neural_network\\_multilayer_perceptron.py:679: ConvergenceWarning: Stochastic Optimizer: Maximum iterations (1000) reached and the optimization hasn't converged yet.\n",
            "  warnings.warn(\n",
            "C:\\Users\\Nick\\AppData\\Roaming\\Python\\Python310\\site-packages\\sklearn\\neural_network\\_multilayer_perceptron.py:679: ConvergenceWarning: Stochastic Optimizer: Maximum iterations (1000) reached and the optimization hasn't converged yet.\n",
            "  warnings.warn(\n",
            "C:\\Users\\Nick\\AppData\\Roaming\\Python\\Python310\\site-packages\\sklearn\\neural_network\\_multilayer_perceptron.py:679: ConvergenceWarning: Stochastic Optimizer: Maximum iterations (1000) reached and the optimization hasn't converged yet.\n",
            "  warnings.warn(\n",
            "C:\\Users\\Nick\\AppData\\Roaming\\Python\\Python310\\site-packages\\sklearn\\neural_network\\_multilayer_perceptron.py:679: ConvergenceWarning: Stochastic Optimizer: Maximum iterations (1000) reached and the optimization hasn't converged yet.\n",
            "  warnings.warn(\n",
            "C:\\Users\\Nick\\AppData\\Roaming\\Python\\Python310\\site-packages\\sklearn\\neural_network\\_multilayer_perceptron.py:679: ConvergenceWarning: Stochastic Optimizer: Maximum iterations (1000) reached and the optimization hasn't converged yet.\n",
            "  warnings.warn(\n",
            "C:\\Users\\Nick\\AppData\\Roaming\\Python\\Python310\\site-packages\\sklearn\\neural_network\\_multilayer_perceptron.py:679: ConvergenceWarning: Stochastic Optimizer: Maximum iterations (1000) reached and the optimization hasn't converged yet.\n",
            "  warnings.warn(\n",
            "C:\\Users\\Nick\\AppData\\Roaming\\Python\\Python310\\site-packages\\sklearn\\neural_network\\_multilayer_perceptron.py:679: ConvergenceWarning: Stochastic Optimizer: Maximum iterations (1000) reached and the optimization hasn't converged yet.\n",
            "  warnings.warn(\n",
            "C:\\Users\\Nick\\AppData\\Roaming\\Python\\Python310\\site-packages\\sklearn\\neural_network\\_multilayer_perceptron.py:679: ConvergenceWarning: Stochastic Optimizer: Maximum iterations (1000) reached and the optimization hasn't converged yet.\n",
            "  warnings.warn(\n",
            "C:\\Users\\Nick\\AppData\\Roaming\\Python\\Python310\\site-packages\\sklearn\\neural_network\\_multilayer_perceptron.py:679: ConvergenceWarning: Stochastic Optimizer: Maximum iterations (1000) reached and the optimization hasn't converged yet.\n",
            "  warnings.warn(\n"
          ]
        }
      ],
      "source": [
        "num_elems_arr = [x for x in range(10, 101, 10)]\n",
        "alpha_arr = np.logspace(-3, 2, 11)\n",
        "test_err = []\n",
        "train_err = []\n",
        "train_acc = []\n",
        "test_acc = []\n",
        "\n",
        "alpha_opts = []\n",
        "min_test_errors = []\n",
        "min_train_errors = []\n",
        "min_test_accuracy = []\n",
        "min_train_accuracy = []\n",
        "\n",
        "for index, num_elems in enumerate(num_elems_arr):\n",
        "    test_err.append(np.array([]))\n",
        "    train_err.append(np.array([]))\n",
        "    train_acc.append(np.array([]))\n",
        "    test_acc.append(np.array([]))\n",
        "    for alpha in alpha_arr:\n",
        "        mlp_model = MLPClassifier(alpha = alpha, hidden_layer_sizes = (num_elems,), \n",
        "                              solver = 'sgd', activation = 'logistic', max_iter=1000, random_state = 42)\n",
        "        mlp_model.fit(x_train, y_train)\n",
        "        y_train_pred = mlp_model.predict(x_train)\n",
        "        y_test_pred = mlp_model.predict(x_test)\n",
        "        train_err[index] = np.append(train_err[index], np.mean(y_train != y_train_pred))\n",
        "        test_err[index] = np.append(test_err[index], np.mean(y_test != y_test_pred))\n",
        "        train_acc[index] = np.append(train_acc[index], accuracy_score(y_train, y_train_pred))\n",
        "        test_acc[index] = np.append(test_acc[index], accuracy_score(y_test, y_test_pred))\n",
        "    min_test_err = np.min(test_err[index])\n",
        "    alpha_opts.append(alpha_arr[test_err[index] == min_test_err])\n",
        "    min_test_errors.append(min_test_err)\n",
        "    tmp = test_err[index] == min_test_err\n",
        "    min_train_errors.append(train_err[index][test_err[index] == min_test_err][0])\n",
        "    min_test_accuracy.append(test_acc[index][test_err[index] == min_test_err][0])\n",
        "    min_train_accuracy.append(train_acc[index][test_err[index] == min_test_err][0])"
      ]
    },
    {
      "cell_type": "code",
      "execution_count": 172,
      "id": "002a6d42",
      "metadata": {
        "id": "002a6d42",
        "outputId": "faf0d573-5da5-4559-a06c-ce798cd56327"
      },
      "outputs": [
        {
          "data": {
            "text/plain": [
              "<matplotlib.legend.Legend at 0x186540d0040>"
            ]
          },
          "execution_count": 172,
          "metadata": {},
          "output_type": "execute_result"
        },
        {
          "data": {
            "image/png": "[encoded data removed]",
            "text/plain": [
              "<Figure size 640x480 with 1 Axes>"
            ]
          },
          "metadata": {},
          "output_type": "display_data"
        }
      ],
      "source": [
        "plt.semilogx(num_elems_arr, min_train_errors, 'b-o', label = 'train')\n",
        "plt.semilogx(num_elems_arr, min_test_errors, 'r-o', label = 'test')\n",
        "plt.xlim([np.min(num_elems_arr), np.max(num_elems_arr)])\n",
        "plt.title('Error vs. number_of_elements')\n",
        "plt.xlabel('num_elems')\n",
        "plt.ylabel('error')\n",
        "plt.legend()"
      ]
    },
    {
      "cell_type": "code",
      "execution_count": 173,
      "id": "ced569d7",
      "metadata": {
        "id": "ced569d7",
        "outputId": "81ad2a2e-f5ff-4e14-c03d-98a17993921f"
      },
      "outputs": [
        {
          "data": {
            "text/plain": [
              "<matplotlib.legend.Legend at 0x1865e32d690>"
            ]
          },
          "execution_count": 173,
          "metadata": {},
          "output_type": "execute_result"
        },
        {
          "data": {
            "image/png": "[encoded data removed]",
            "text/plain": [
              "<Figure size 640x480 with 1 Axes>"
            ]
          },
          "metadata": {},
          "output_type": "display_data"
        }
      ],
      "source": [
        "plt.semilogx(num_elems_arr, min_train_accuracy, 'r-o', label = 'train')\n",
        "plt.semilogx(num_elems_arr, min_test_accuracy, 'b-o', label = 'test')\n",
        "plt.xlim([np.min(num_elems_arr), np.max(num_elems_arr)])\n",
        "plt.title('Accuracy vs. number_of_elements')\n",
        "plt.xlabel('number_of_elements')\n",
        "plt.ylabel('Accuracy')\n",
        "plt.legend()"
      ]
    },
    {
      "cell_type": "code",
      "execution_count": 174,
      "id": "83b811b7",
      "metadata": {
        "id": "83b811b7",
        "outputId": "649dd17f-7492-4f52-e76a-5a3eb8e27dad"
      },
      "outputs": [
        {
          "name": "stdout",
          "output_type": "stream",
          "text": [
            "0.04278523489932886\n",
            "[100.]\n"
          ]
        }
      ],
      "source": [
        "print(min_test_errors[5])\n",
        "print(alpha_opts[5])"
      ]
    },
    {
      "cell_type": "markdown",
      "id": "796b632a",
      "metadata": {
        "id": "796b632a"
      },
      "source": [
        "Выводы: наименьшая ошибка, равная ~0.2313 наблюдается при количестве нейронов, равным 60."
      ]
    },
    {
      "cell_type": "markdown",
      "id": "fb02e419",
      "metadata": {
        "id": "fb02e419"
      },
      "source": [
        "## **Заключение**"
      ]
    },
    {
      "cell_type": "markdown",
      "id": "3ec12733",
      "metadata": {
        "id": "3ec12733"
      },
      "source": [
        "Можно сделать следующие выводы\n",
        "* Был проведён ряд запусков нейронной сети с различным количеством нейронов и подбором параметра alpha;\n",
        "* Наилучшие результаты были получены при использовании нейронной сети с одним скрытым слоем с 60 нейронами при параметре alpha = 3.16227766. Ошибка на тестовой выборке составила 23.1%;\n",
        "* При использовании 2 слоёв нейронной сети самый лучший результат получился при использовании слоёв по 10 нейронов каждый. Ошибка на тестовой выборке составила 24.8%;\n",
        "* При использовании алгоритма KNN в наилучшем случае удалось добиться ошибки в 26.6% на тестовой выборке. Таким образом, нейронная сеть дала результат лучше на 3.5%. "
      ]
    },
    {
      "cell_type": "markdown",
      "id": "b484a778",
      "metadata": {
        "id": "b484a778"
      },
      "source": [
        "Запустим ряд других классификаторов."
      ]
    },
    {
      "cell_type": "markdown",
      "id": "80f4e176",
      "metadata": {
        "id": "80f4e176"
      },
      "source": [
        "## Gradient boosting"
      ]
    },
    {
      "cell_type": "code",
      "execution_count": 175,
      "id": "8ccda9d4",
      "metadata": {
        "id": "8ccda9d4",
        "outputId": "a16d7102-d568-41d2-d418-c68ce6f2d394"
      },
      "outputs": [
        {
          "name": "stdout",
          "output_type": "stream",
          "text": [
            "n_estimators =  50\n",
            "err_train: 0.15568022440392706\n",
            "err_test: 0.21085011185682326\n",
            "---------\n",
            "n_estimators =  100\n",
            "err_train: 0.13394109396914447\n",
            "err_test: 0.1929530201342282\n",
            "---------\n",
            "n_estimators =  150\n",
            "err_train: 0.12061711079943899\n",
            "err_test: 0.18400447427293065\n",
            "---------\n",
            "n_estimators =  200\n",
            "err_train: 0.1093969144460028\n",
            "err_test: 0.18260626398210292\n",
            "---------\n",
            "n_estimators =  250\n",
            "err_train: 0.1002805049088359\n",
            "err_test: 0.17589485458612975\n",
            "---------\n",
            "n_estimators =  300\n",
            "err_train: 0.09747545582047686\n",
            "err_test: 0.1756152125279642\n",
            "---------\n",
            "n_estimators =  350\n",
            "err_train: 0.09747545582047686\n",
            "err_test: 0.1767337807606264\n",
            "---------\n",
            "n_estimators =  400\n",
            "err_train: 0.09326788218793829\n",
            "err_test: 0.17253914988814317\n",
            "---------\n",
            "n_estimators =  450\n",
            "err_train: 0.09046283309957924\n",
            "err_test: 0.17421700223713646\n",
            "---------\n",
            "n_estimators =  500\n",
            "err_train: 0.08695652173913043\n",
            "err_test: 0.17309843400447428\n",
            "---------\n",
            "best: 0.09326788218793829 0.17253914988814317\n"
          ]
        }
      ],
      "source": [
        "from sklearn.ensemble import GradientBoostingClassifier\n",
        "\n",
        "err_train_best = 100500\n",
        "err_test_best = 100500\n",
        "y_predict_best = []\n",
        "\n",
        "train_errors = []\n",
        "test_errors = []\n",
        "\n",
        "\n",
        "est_vals = [x for x in range(50,501,50)]\n",
        "\n",
        "for i in est_vals:\n",
        "    boost = GradientBoostingClassifier(n_estimators = i)\n",
        "    boost.fit(x_train, y_train)\n",
        "\n",
        "    y_test_predict = boost.predict(x_test)\n",
        "    err_train = np.mean(y_train != boost.predict(x_train))\n",
        "    err_test = np.mean(y_test != y_test_predict)\n",
        "    if err_test < err_test_best:\n",
        "        err_test_best = err_test\n",
        "        err_train_best = err_train\n",
        "        y_predict_best = y_test_predict\n",
        "    \n",
        "    train_errors.append(err_train)\n",
        "    test_errors.append(err_test)\n",
        "    print(\"n_estimators = \", i)\n",
        "    print(\"err_train:\", err_train)\n",
        "    print(\"err_test:\", err_test)\n",
        "    print(\"---------\")\n",
        "print(\"best:\", err_train_best, err_test_best)"
      ]
    },
    {
      "cell_type": "code",
      "execution_count": 176,
      "id": "596b7e02",
      "metadata": {
        "id": "596b7e02",
        "outputId": "1bcf85e6-e8c6-4242-a313-c87f86c56e3c"
      },
      "outputs": [
        {
          "data": {
            "text/plain": [
              "Text(0, 0.5, 'error')"
            ]
          },
          "execution_count": 176,
          "metadata": {},
          "output_type": "execute_result"
        },
        {
          "data": {
            "image/png": "[encoded data removed]",
            "text/plain": [
              "<Figure size 640x480 with 1 Axes>"
            ]
          },
          "metadata": {},
          "output_type": "display_data"
        }
      ],
      "source": [
        "plt.semilogx(est_vals, train_errors, 'b-o', label = 'train')\n",
        "plt.semilogx(est_vals, test_errors, 'r-o', label = 'test')\n",
        "plt.title('n_estimators vs. error')\n",
        "plt.xlabel('n_estimators')\n",
        "plt.ylabel('error')"
      ]
    },
    {
      "cell_type": "code",
      "execution_count": 177,
      "id": "ac5d9cf1",
      "metadata": {
        "id": "ac5d9cf1",
        "outputId": "f72cbb14-5a27-4058-9026-0f634e27c86f"
      },
      "outputs": [
        {
          "name": "stdout",
          "output_type": "stream",
          "text": [
            "[[2823   24]\n",
            " [ 600  129]]\n",
            "              precision    recall  f1-score   support\n",
            "\n",
            "           0       0.96      1.00      0.98      3423\n",
            "           1       0.00      0.00      0.00       153\n",
            "\n",
            "    accuracy                           0.96      3576\n",
            "   macro avg       0.48      0.50      0.49      3576\n",
            "weighted avg       0.92      0.96      0.94      3576\n",
            "\n"
          ]
        },
        {
          "name": "stderr",
          "output_type": "stream",
          "text": [
            "C:\\Users\\Nick\\AppData\\Roaming\\Python\\Python310\\site-packages\\sklearn\\metrics\\_classification.py:1344: UndefinedMetricWarning: Precision and F-score are ill-defined and being set to 0.0 in labels with no predicted samples. Use `zero_division` parameter to control this behavior.\n",
            "  _warn_prf(average, modifier, msg_start, len(result))\n",
            "C:\\Users\\Nick\\AppData\\Roaming\\Python\\Python310\\site-packages\\sklearn\\metrics\\_classification.py:1344: UndefinedMetricWarning: Precision and F-score are ill-defined and being set to 0.0 in labels with no predicted samples. Use `zero_division` parameter to control this behavior.\n",
            "  _warn_prf(average, modifier, msg_start, len(result))\n",
            "C:\\Users\\Nick\\AppData\\Roaming\\Python\\Python310\\site-packages\\sklearn\\metrics\\_classification.py:1344: UndefinedMetricWarning: Precision and F-score are ill-defined and being set to 0.0 in labels with no predicted samples. Use `zero_division` parameter to control this behavior.\n",
            "  _warn_prf(average, modifier, msg_start, len(result))\n"
          ]
        }
      ],
      "source": [
        "boost = GradientBoostingClassifier(n_estimators = 450)\n",
        "boost.fit(x_train, y_train)\n",
        "\n",
        "y_test_predict = boost.predict(x_test)\n",
        "err_train = np.mean(y_train != boost.predict(x_train))\n",
        "err_test = np.mean(y_test != y_test_predict)\n",
        "print(confusion_matrix(y_test_predict, y_test))\n",
        "print(classification_report(y_test, y_test_pred))"
      ]
    },
    {
      "cell_type": "markdown",
      "id": "8b320755",
      "metadata": {
        "id": "8b320755"
      },
      "source": [
        "Самый лучший результат для метода Gradient Boost по ошибке на тесте достигает 21.2%."
      ]
    },
    {
      "cell_type": "markdown",
      "id": "f2170ce9",
      "metadata": {
        "id": "f2170ce9"
      },
      "source": [
        "## Random forest classifier"
      ]
    },
    {
      "cell_type": "code",
      "execution_count": 178,
      "id": "1532f8d2",
      "metadata": {
        "id": "1532f8d2",
        "outputId": "aeb3a0e3-e9c1-48ff-ff42-d4d37d0f765b"
      },
      "outputs": [
        {
          "name": "stdout",
          "output_type": "stream",
          "text": [
            "n_estimators =  25\n",
            "err_train: 0.0729312762973352\n",
            "err_test: 0.1767337807606264\n",
            "---------\n",
            "n_estimators =  50\n",
            "err_train: 0.07082748948106592\n",
            "err_test: 0.16722595078299776\n",
            "---------\n",
            "n_estimators =  75\n",
            "err_train: 0.07082748948106592\n",
            "err_test: 0.17058165548098433\n",
            "---------\n",
            "n_estimators =  100\n",
            "err_train: 0.07082748948106592\n",
            "err_test: 0.16750559284116331\n",
            "---------\n",
            "n_estimators =  125\n",
            "err_train: 0.07082748948106592\n",
            "err_test: 0.17197986577181207\n",
            "---------\n",
            "n_estimators =  150\n",
            "err_train: 0.07082748948106592\n",
            "err_test: 0.16750559284116331\n",
            "---------\n",
            "n_estimators =  175\n",
            "err_train: 0.07082748948106592\n",
            "err_test: 0.16890380313199105\n",
            "---------\n",
            "n_estimators =  200\n",
            "err_train: 0.07082748948106592\n",
            "err_test: 0.16554809843400448\n",
            "---------\n",
            "best: 0.07082748948106592 0.16554809843400448\n"
          ]
        }
      ],
      "source": [
        "from sklearn.ensemble import RandomForestClassifier\n",
        "\n",
        "from sklearn.ensemble import GradientBoostingClassifier\n",
        "\n",
        "err_train_best = 100500\n",
        "err_test_best = 100500\n",
        "y_predict_best = []\n",
        "\n",
        "train_errors = []\n",
        "test_errors = []\n",
        "\n",
        "\n",
        "est_vals = [x for x in range(25,201,25)]\n",
        "\n",
        "for i in est_vals:\n",
        "    rfc = RandomForestClassifier(n_estimators=i)\n",
        "    rfc.fit(x_train, y_train)\n",
        "\n",
        "    y_test_predict = rfc.predict(x_test)\n",
        "    err_train = np.mean(y_train != rfc.predict(x_train))\n",
        "    err_test  = np.mean(y_test  != y_test_predict)\n",
        "    if err_test < err_test_best:\n",
        "        err_test_best = err_test\n",
        "        err_train_best = err_train\n",
        "        y_predict_best = y_test_predict\n",
        "    \n",
        "    train_errors.append(err_train)\n",
        "    test_errors.append(err_test)\n",
        "    print(\"n_estimators = \", i)\n",
        "    print(\"err_train:\", err_train)\n",
        "    print(\"err_test:\", err_test)\n",
        "    print(\"---------\")\n",
        "print(\"best:\", err_train_best, err_test_best)"
      ]
    },
    {
      "cell_type": "code",
      "execution_count": 179,
      "id": "af27b1df",
      "metadata": {
        "id": "af27b1df",
        "outputId": "2e84e64c-a64e-4c35-84c6-6ed652098a95"
      },
      "outputs": [
        {
          "data": {
            "text/plain": [
              "Text(0, 0.5, 'error')"
            ]
          },
          "execution_count": 179,
          "metadata": {},
          "output_type": "execute_result"
        },
        {
          "data": {
            "image/png": "[encoded data removed]",
            "text/plain": [
              "<Figure size 640x480 with 1 Axes>"
            ]
          },
          "metadata": {},
          "output_type": "display_data"
        }
      ],
      "source": [
        "plt.semilogx(est_vals, train_errors, 'b-o', label = 'train')\n",
        "plt.semilogx(est_vals, test_errors, 'r-o', label = 'test')\n",
        "plt.title('n_estimators vs. error')\n",
        "plt.xlabel('n_estimators')\n",
        "plt.ylabel('error')"
      ]
    },
    {
      "cell_type": "code",
      "execution_count": 180,
      "id": "75c145ac",
      "metadata": {
        "id": "75c145ac",
        "outputId": "2e714c5d-1357-478b-f730-5439484877ef"
      },
      "outputs": [
        {
          "name": "stdout",
          "output_type": "stream",
          "text": [
            "[[2850   21]\n",
            " [ 573  132]]\n",
            "              precision    recall  f1-score   support\n",
            "\n",
            "           0       0.96      1.00      0.98      3423\n",
            "           1       0.00      0.00      0.00       153\n",
            "\n",
            "    accuracy                           0.96      3576\n",
            "   macro avg       0.48      0.50      0.49      3576\n",
            "weighted avg       0.92      0.96      0.94      3576\n",
            "\n"
          ]
        },
        {
          "name": "stderr",
          "output_type": "stream",
          "text": [
            "C:\\Users\\Nick\\AppData\\Roaming\\Python\\Python310\\site-packages\\sklearn\\metrics\\_classification.py:1344: UndefinedMetricWarning: Precision and F-score are ill-defined and being set to 0.0 in labels with no predicted samples. Use `zero_division` parameter to control this behavior.\n",
            "  _warn_prf(average, modifier, msg_start, len(result))\n",
            "C:\\Users\\Nick\\AppData\\Roaming\\Python\\Python310\\site-packages\\sklearn\\metrics\\_classification.py:1344: UndefinedMetricWarning: Precision and F-score are ill-defined and being set to 0.0 in labels with no predicted samples. Use `zero_division` parameter to control this behavior.\n",
            "  _warn_prf(average, modifier, msg_start, len(result))\n",
            "C:\\Users\\Nick\\AppData\\Roaming\\Python\\Python310\\site-packages\\sklearn\\metrics\\_classification.py:1344: UndefinedMetricWarning: Precision and F-score are ill-defined and being set to 0.0 in labels with no predicted samples. Use `zero_division` parameter to control this behavior.\n",
            "  _warn_prf(average, modifier, msg_start, len(result))\n"
          ]
        }
      ],
      "source": [
        "rfc = RandomForestClassifier(n_estimators=175)\n",
        "rfc.fit(x_train, y_train)\n",
        "\n",
        "y_test_predict = rfc.predict(x_test)\n",
        "err_train = np.mean(y_train != rfc.predict(x_train))\n",
        "err_test  = np.mean(y_test  != y_test_predict)\n",
        "\n",
        "print(confusion_matrix(y_test_predict, y_test))\n",
        "print(classification_report(y_test, y_test_pred))"
      ]
    },
    {
      "cell_type": "markdown",
      "id": "147583f5",
      "metadata": {
        "id": "147583f5"
      },
      "source": [
        "Самый лучший результат для Random forest classifier - 18.3% ошибки на тестовой выборке."
      ]
    },
    {
      "cell_type": "markdown",
      "id": "f8bec59e",
      "metadata": {
        "id": "f8bec59e"
      },
      "source": [
        "## Decision Tree Classifier"
      ]
    },
    {
      "cell_type": "code",
      "execution_count": 181,
      "id": "5dc8b314",
      "metadata": {
        "id": "5dc8b314",
        "outputId": "17f96e75-6438-44e3-bfea-f598faa4aa56"
      },
      "outputs": [
        {
          "name": "stdout",
          "output_type": "stream",
          "text": [
            "max_depth =  2\n",
            "err_train: 0.23281907433380084\n",
            "err_test: 0.311241610738255\n",
            "---------\n",
            "max_depth =  4\n",
            "err_train: 0.18863955119214587\n",
            "err_test: 0.20553691275167785\n",
            "---------\n",
            "max_depth =  6\n",
            "err_train: 0.1514726507713885\n",
            "err_test: 0.2203579418344519\n",
            "---------\n",
            "max_depth =  8\n",
            "err_train: 0.12482468443197756\n",
            "err_test: 0.2332214765100671\n",
            "---------\n",
            "max_depth =  10\n",
            "err_train: 0.10168302945301542\n",
            "err_test: 0.22483221476510068\n",
            "---------\n",
            "max_depth =  12\n",
            "err_train: 0.09046283309957924\n",
            "err_test: 0.20441834451901567\n",
            "---------\n",
            "max_depth =  14\n",
            "err_train: 0.07994389901823282\n",
            "err_test: 0.20385906040268456\n",
            "---------\n",
            "best: 0.07994389901823282 0.20385906040268456\n"
          ]
        }
      ],
      "source": [
        "from sklearn.tree import DecisionTreeClassifier\n",
        "\n",
        "\n",
        "err_train_best = 100500\n",
        "err_test_best = 100500\n",
        "y_predict_best = []\n",
        "\n",
        "train_errors = []\n",
        "test_errors = []\n",
        "\n",
        "\n",
        "max_depths = [x for x in range(2, 16, 2)]\n",
        "\n",
        "for i in max_depths:\n",
        "    dtc = DecisionTreeClassifier(max_depth=i)\n",
        "    dtc.fit(x_train,y_train)\n",
        "\n",
        "    y_test_predict = dtc.predict(x_test)\n",
        "    err_train = np.mean(y_train != dtc.predict(x_train))\n",
        "    err_test = np.mean(y_test != y_test_predict)\n",
        "    if err_test < err_test_best:\n",
        "        err_test_best = err_test\n",
        "        err_train_best = err_train\n",
        "        y_predict_best = y_test_predict\n",
        "    \n",
        "    train_errors.append(err_train)\n",
        "    test_errors.append(err_test)\n",
        "    print(\"max_depth = \", i)\n",
        "    print(\"err_train:\", err_train)\n",
        "    print(\"err_test:\", err_test)\n",
        "    print(\"---------\")\n",
        "print(\"best:\", err_train_best, err_test_best)"
      ]
    },
    {
      "cell_type": "code",
      "execution_count": 182,
      "id": "eb820907",
      "metadata": {
        "id": "eb820907",
        "outputId": "2cf70aae-ba3e-4c22-e48f-6a842476289a"
      },
      "outputs": [
        {
          "data": {
            "text/plain": [
              "Text(0, 0.5, 'error')"
            ]
          },
          "execution_count": 182,
          "metadata": {},
          "output_type": "execute_result"
        },
        {
          "data": {
            "image/png": "[encoded data removed]",
            "text/plain": [
              "<Figure size 640x480 with 1 Axes>"
            ]
          },
          "metadata": {},
          "output_type": "display_data"
        }
      ],
      "source": [
        "plt.semilogx(max_depths, train_errors, 'b-o', label = 'train')\n",
        "plt.semilogx(max_depths, test_errors, 'r-o', label = 'test')\n",
        "plt.title('max_depth vs. error')\n",
        "plt.xlabel('max_depth')\n",
        "plt.ylabel('error')"
      ]
    },
    {
      "cell_type": "code",
      "execution_count": 183,
      "id": "c3cf14ab",
      "metadata": {
        "id": "c3cf14ab",
        "outputId": "0c31222b-22e8-4cd1-84d8-e8be2804b210"
      },
      "outputs": [
        {
          "name": "stdout",
          "output_type": "stream",
          "text": [
            "[[2719  704]\n",
            " [  25  128]]\n",
            "              precision    recall  f1-score   support\n",
            "\n",
            "           0       0.99      0.79      0.88      3423\n",
            "           1       0.15      0.84      0.26       153\n",
            "\n",
            "    accuracy                           0.80      3576\n",
            "   macro avg       0.57      0.82      0.57      3576\n",
            "weighted avg       0.96      0.80      0.86      3576\n",
            "\n"
          ]
        }
      ],
      "source": [
        "print(confusion_matrix(y_test, y_test_predict))\n",
        "print(classification_report(y_test, y_test_predict))"
      ]
    },
    {
      "cell_type": "markdown",
      "id": "e01e63b4",
      "metadata": {
        "id": "e01e63b4"
      },
      "source": [
        "Лучший результат для данного метода - 24.1% на тестовой выборке."
      ]
    },
    {
      "cell_type": "markdown",
      "id": "h6PletC73Tbv",
      "metadata": {
        "id": "h6PletC73Tbv"
      },
      "source": [
        "# Логистическая регрессия"
      ]
    },
    {
      "cell_type": "code",
      "execution_count": 184,
      "id": "zYh-UnSK3dNx",
      "metadata": {
        "colab": {
          "base_uri": "https://localhost:8080/"
        },
        "id": "zYh-UnSK3dNx",
        "outputId": "52df1d5b-6e53-438a-a988-a31a87cbe533"
      },
      "outputs": [
        {
          "name": "stdout",
          "output_type": "stream",
          "text": [
            "err_train=0.24544179523141654\n",
            "err_test=0.22175615212527963\n",
            "\n",
            "[[2682   52]\n",
            " [ 741  101]]\n",
            "              precision    recall  f1-score   support\n",
            "\n",
            "           0       0.98      0.78      0.87      3423\n",
            "           1       0.12      0.66      0.20       153\n",
            "\n",
            "    accuracy                           0.78      3576\n",
            "   macro avg       0.55      0.72      0.54      3576\n",
            "weighted avg       0.94      0.78      0.84      3576\n",
            "\n"
          ]
        }
      ],
      "source": [
        "from sklearn.metrics import confusion_matrix\n",
        "from sklearn.metrics import classification_report\n",
        "from sklearn.linear_model import LogisticRegression\n",
        "\n",
        "clf = LogisticRegression(solver=\"liblinear\")\n",
        "clf.fit(x_train, y_train)\n",
        "\n",
        "y_test_predict = clf.predict(x_test)\n",
        "y_train_predict = clf.predict(x_train)\n",
        "\n",
        "err_test  = np.mean(y_test  != y_test_predict)\n",
        "err_train  = np.mean(y_train != y_train_predict)\n",
        "\n",
        "print(f\"{err_train=}\")\n",
        "print(f\"{err_test=}\", end=\"\\n\\n\")\n",
        "\n",
        "print(confusion_matrix(y_test_predict, y_test))\n",
        "print(classification_report(y_test, y_test_predict))"
      ]
    },
    {
      "cell_type": "markdown",
      "id": "a91490dc",
      "metadata": {
        "id": "a91490dc"
      },
      "source": [
        "## Общие выводы"
      ]
    },
    {
      "cell_type": "markdown",
      "id": "500aa027",
      "metadata": {
        "id": "500aa027"
      },
      "source": [
        "* Самый лучший результат показал метод Random forest classifier с ошибкой в 18.3%.\n",
        "* Самый худший результат показал метод KNN с ошибкой на тестовой выборке в 26.6%.\n",
        "* Decision Tree Classifier показал результат в 24.1% ошибки на тестовой выборке, Gradient Boosting - 21.2%\n",
        "* Методы oversampling и undersampling не подходят для борьбы с несбалансированностью классов в данном случае."
      ]
    }
  ],
  "metadata": {
    "colab": {
      "provenance": []
    },
    "kernelspec": {
      "display_name": "Python 3.10.6 64-bit",
      "language": "python",
      "name": "python3"
    },
    "language_info": {
      "codemirror_mode": {
        "name": "ipython",
        "version": 3
      },
      "file_extension": ".py",
      "mimetype": "text/x-python",
      "name": "python",
      "nbconvert_exporter": "python",
      "pygments_lexer": "ipython3",
      "version": "3.10.6 (tags/v3.10.6:9c7b4bd, Aug  1 2022, 21:53:49) [MSC v.1932 64 bit (AMD64)]"
    },
    "orig_nbformat": 4,
    "vscode": {
      "interpreter": {
        "hash": "26de051ba29f2982a8de78e945f0abaf191376122a1563185a90213a26c5da77"
      }
    }
  },
  "nbformat": 4,
  "nbformat_minor": 0
}
