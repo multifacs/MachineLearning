{
  "cells": [
    {
      "cell_type": "markdown",
      "metadata": {
        "id": "oM9eAQiuaSpV"
      },
      "source": [
        "## Постановка задачи:\n",
        "\n",
        "От нас требуется ознакомиться с выбранным dataset-ом, визуализировать эти данные, вычислить основные характеристики (среднее, разброс, корреляционную матрицу и т.д.), а также, осуществить \"препроцессинг\" данных и решить задачу классификации.\n",
        "\n",
        "Датасет содержит объявления о работе - настоящие и поддельные.\n",
        "Задача состоит в том, чтобы определить тип объявления."
      ]
    },
    {
      "cell_type": "markdown",
      "metadata": {
        "id": "0dtFvX8caSpX"
      },
      "source": [
        "Установливаем библиотеку Pandas:"
      ]
    },
    {
      "cell_type": "code",
      "execution_count": 1,
      "metadata": {
        "colab": {
          "base_uri": "https://localhost:8080/"
        },
        "id": "zG7Wa_pVaSpX",
        "outputId": "1b563256-9ff1-4998-95e3-0c9370c7f3ae"
      },
      "outputs": [
        {
          "name": "stdout",
          "output_type": "stream",
          "text": [
            "Defaulting to user installation because normal site-packages is not writeable\n",
            "Requirement already satisfied: pandas in c:\\users\\nick\\appdata\\roaming\\python\\python310\\site-packages (1.5.1)\n",
            "Requirement already satisfied: pytz>=2020.1 in c:\\users\\nick\\appdata\\roaming\\python\\python310\\site-packages (from pandas) (2022.5)\n",
            "Requirement already satisfied: numpy>=1.21.0 in c:\\users\\nick\\appdata\\roaming\\python\\python310\\site-packages (from pandas) (1.23.4)\n",
            "Requirement already satisfied: python-dateutil>=2.8.1 in c:\\users\\nick\\appdata\\roaming\\python\\python310\\site-packages (from pandas) (2.8.2)\n",
            "Requirement already satisfied: six>=1.5 in c:\\users\\nick\\appdata\\roaming\\python\\python310\\site-packages (from python-dateutil>=2.8.1->pandas) (1.16.0)\n"
          ]
        },
        {
          "name": "stderr",
          "output_type": "stream",
          "text": [
            "\n",
            "[notice] A new release of pip available: 22.2.1 -> 22.3\n",
            "[notice] To update, run: python.exe -m pip install --upgrade pip\n"
          ]
        }
      ],
      "source": [
        "! pip install pandas"
      ]
    },
    {
      "cell_type": "markdown",
      "metadata": {
        "id": "Ygwu7ri-aSpX"
      },
      "source": [
        "Импортируем необходимые модули:"
      ]
    },
    {
      "cell_type": "code",
      "execution_count": 2,
      "metadata": {
        "id": "p8EWx06KaSpY"
      },
      "outputs": [],
      "source": [
        "import numpy as np\n",
        "import matplotlib.pyplot as plt\n",
        "import pandas as pd\n",
        "%matplotlib inline"
      ]
    },
    {
      "cell_type": "markdown",
      "metadata": {
        "id": "MN93IG9WaSpY"
      },
      "source": [
        "## Знакомимся с dataset-ом"
      ]
    },
    {
      "cell_type": "markdown",
      "metadata": {
        "id": "JHTpZ-aQaSpY"
      },
      "source": [
        "Считываем dataset и выводим его содержимое, для наглядности, на экран:"
      ]
    },
    {
      "cell_type": "code",
      "execution_count": 3,
      "metadata": {
        "colab": {
          "base_uri": "https://localhost:8080/",
          "height": 974
        },
        "id": "9GnBqbhcaSpY",
        "outputId": "dec94cb3-5299-42b4-8572-fbf5f733e1be"
      },
      "outputs": [
        {
          "data": {
            "text/html": [
              "<div>\n",
              "<style scoped>\n",
              "    .dataframe tbody tr th:only-of-type {\n",
              "        vertical-align: middle;\n",
              "    }\n",
              "\n",
              "    .dataframe tbody tr th {\n",
              "        vertical-align: top;\n",
              "    }\n",
              "\n",
              "    .dataframe thead th {\n",
              "        text-align: right;\n",
              "    }\n",
              "</style>\n",
              "<table border=\"1\" class=\"dataframe\">\n",
              "  <thead>\n",
              "    <tr style=\"text-align: right;\">\n",
              "      <th></th>\n",
              "      <th>job_id</th>\n",
              "      <th>title</th>\n",
              "      <th>location</th>\n",
              "      <th>department</th>\n",
              "      <th>salary_range</th>\n",
              "      <th>company_profile</th>\n",
              "      <th>description</th>\n",
              "      <th>requirements</th>\n",
              "      <th>benefits</th>\n",
              "      <th>telecommuting</th>\n",
              "      <th>has_company_logo</th>\n",
              "      <th>has_questions</th>\n",
              "      <th>employment_type</th>\n",
              "      <th>required_experience</th>\n",
              "      <th>required_education</th>\n",
              "      <th>industry</th>\n",
              "      <th>function</th>\n",
              "      <th>fraudulent</th>\n",
              "    </tr>\n",
              "  </thead>\n",
              "  <tbody>\n",
              "    <tr>\n",
              "      <th>0</th>\n",
              "      <td>1</td>\n",
              "      <td>Marketing Intern</td>\n",
              "      <td>US, NY, New York</td>\n",
              "      <td>Marketing</td>\n",
              "      <td>NaN</td>\n",
              "      <td>We're Food52, and we've created a groundbreaki...</td>\n",
              "      <td>Food52, a fast-growing, James Beard Award-winn...</td>\n",
              "      <td>Experience with content management systems a m...</td>\n",
              "      <td>NaN</td>\n",
              "      <td>0</td>\n",
              "      <td>1</td>\n",
              "      <td>0</td>\n",
              "      <td>Other</td>\n",
              "      <td>Internship</td>\n",
              "      <td>NaN</td>\n",
              "      <td>NaN</td>\n",
              "      <td>Marketing</td>\n",
              "      <td>0</td>\n",
              "    </tr>\n",
              "    <tr>\n",
              "      <th>1</th>\n",
              "      <td>2</td>\n",
              "      <td>Customer Service - Cloud Video Production</td>\n",
              "      <td>NZ, , Auckland</td>\n",
              "      <td>Success</td>\n",
              "      <td>NaN</td>\n",
              "      <td>90 Seconds, the worlds Cloud Video Production ...</td>\n",
              "      <td>Organised - Focused - Vibrant - Awesome!Do you...</td>\n",
              "      <td>What we expect from you:Your key responsibilit...</td>\n",
              "      <td>What you will get from usThrough being part of...</td>\n",
              "      <td>0</td>\n",
              "      <td>1</td>\n",
              "      <td>0</td>\n",
              "      <td>Full-time</td>\n",
              "      <td>Not Applicable</td>\n",
              "      <td>NaN</td>\n",
              "      <td>Marketing and Advertising</td>\n",
              "      <td>Customer Service</td>\n",
              "      <td>0</td>\n",
              "    </tr>\n",
              "    <tr>\n",
              "      <th>2</th>\n",
              "      <td>3</td>\n",
              "      <td>Commissioning Machinery Assistant (CMA)</td>\n",
              "      <td>US, IA, Wever</td>\n",
              "      <td>NaN</td>\n",
              "      <td>NaN</td>\n",
              "      <td>Valor Services provides Workforce Solutions th...</td>\n",
              "      <td>Our client, located in Houston, is actively se...</td>\n",
              "      <td>Implement pre-commissioning and commissioning ...</td>\n",
              "      <td>NaN</td>\n",
              "      <td>0</td>\n",
              "      <td>1</td>\n",
              "      <td>0</td>\n",
              "      <td>NaN</td>\n",
              "      <td>NaN</td>\n",
              "      <td>NaN</td>\n",
              "      <td>NaN</td>\n",
              "      <td>NaN</td>\n",
              "      <td>0</td>\n",
              "    </tr>\n",
              "    <tr>\n",
              "      <th>3</th>\n",
              "      <td>4</td>\n",
              "      <td>Account Executive - Washington DC</td>\n",
              "      <td>US, DC, Washington</td>\n",
              "      <td>Sales</td>\n",
              "      <td>NaN</td>\n",
              "      <td>Our passion for improving quality of life thro...</td>\n",
              "      <td>THE COMPANY: ESRI – Environmental Systems Rese...</td>\n",
              "      <td>EDUCATION: Bachelor’s or Master’s in GIS, busi...</td>\n",
              "      <td>Our culture is anything but corporate—we have ...</td>\n",
              "      <td>0</td>\n",
              "      <td>1</td>\n",
              "      <td>0</td>\n",
              "      <td>Full-time</td>\n",
              "      <td>Mid-Senior level</td>\n",
              "      <td>Bachelor's Degree</td>\n",
              "      <td>Computer Software</td>\n",
              "      <td>Sales</td>\n",
              "      <td>0</td>\n",
              "    </tr>\n",
              "    <tr>\n",
              "      <th>4</th>\n",
              "      <td>5</td>\n",
              "      <td>Bill Review Manager</td>\n",
              "      <td>US, FL, Fort Worth</td>\n",
              "      <td>NaN</td>\n",
              "      <td>NaN</td>\n",
              "      <td>SpotSource Solutions LLC is a Global Human Cap...</td>\n",
              "      <td>JOB TITLE: Itemization Review ManagerLOCATION:...</td>\n",
              "      <td>QUALIFICATIONS:RN license in the State of Texa...</td>\n",
              "      <td>Full Benefits Offered</td>\n",
              "      <td>0</td>\n",
              "      <td>1</td>\n",
              "      <td>1</td>\n",
              "      <td>Full-time</td>\n",
              "      <td>Mid-Senior level</td>\n",
              "      <td>Bachelor's Degree</td>\n",
              "      <td>Hospital &amp; Health Care</td>\n",
              "      <td>Health Care Provider</td>\n",
              "      <td>0</td>\n",
              "    </tr>\n",
              "    <tr>\n",
              "      <th>...</th>\n",
              "      <td>...</td>\n",
              "      <td>...</td>\n",
              "      <td>...</td>\n",
              "      <td>...</td>\n",
              "      <td>...</td>\n",
              "      <td>...</td>\n",
              "      <td>...</td>\n",
              "      <td>...</td>\n",
              "      <td>...</td>\n",
              "      <td>...</td>\n",
              "      <td>...</td>\n",
              "      <td>...</td>\n",
              "      <td>...</td>\n",
              "      <td>...</td>\n",
              "      <td>...</td>\n",
              "      <td>...</td>\n",
              "      <td>...</td>\n",
              "      <td>...</td>\n",
              "    </tr>\n",
              "    <tr>\n",
              "      <th>17875</th>\n",
              "      <td>17876</td>\n",
              "      <td>Account Director - Distribution</td>\n",
              "      <td>CA, ON, Toronto</td>\n",
              "      <td>Sales</td>\n",
              "      <td>NaN</td>\n",
              "      <td>Vend is looking for some awesome new talent to...</td>\n",
              "      <td>Just in case this is the first time you’ve vis...</td>\n",
              "      <td>To ace this role you:Will eat comprehensive St...</td>\n",
              "      <td>What can you expect from us?We have an open cu...</td>\n",
              "      <td>0</td>\n",
              "      <td>1</td>\n",
              "      <td>1</td>\n",
              "      <td>Full-time</td>\n",
              "      <td>Mid-Senior level</td>\n",
              "      <td>NaN</td>\n",
              "      <td>Computer Software</td>\n",
              "      <td>Sales</td>\n",
              "      <td>0</td>\n",
              "    </tr>\n",
              "    <tr>\n",
              "      <th>17876</th>\n",
              "      <td>17877</td>\n",
              "      <td>Payroll Accountant</td>\n",
              "      <td>US, PA, Philadelphia</td>\n",
              "      <td>Accounting</td>\n",
              "      <td>NaN</td>\n",
              "      <td>WebLinc is the e-commerce platform and service...</td>\n",
              "      <td>The Payroll Accountant will focus primarily on...</td>\n",
              "      <td>- B.A. or B.S. in Accounting- Desire to have f...</td>\n",
              "      <td>Health &amp;amp; WellnessMedical planPrescription ...</td>\n",
              "      <td>0</td>\n",
              "      <td>1</td>\n",
              "      <td>1</td>\n",
              "      <td>Full-time</td>\n",
              "      <td>Mid-Senior level</td>\n",
              "      <td>Bachelor's Degree</td>\n",
              "      <td>Internet</td>\n",
              "      <td>Accounting/Auditing</td>\n",
              "      <td>0</td>\n",
              "    </tr>\n",
              "    <tr>\n",
              "      <th>17877</th>\n",
              "      <td>17878</td>\n",
              "      <td>Project Cost Control Staff Engineer - Cost Con...</td>\n",
              "      <td>US, TX, Houston</td>\n",
              "      <td>NaN</td>\n",
              "      <td>NaN</td>\n",
              "      <td>We Provide Full Time Permanent Positions for m...</td>\n",
              "      <td>Experienced Project Cost Control Staff Enginee...</td>\n",
              "      <td>At least 12 years professional experience.Abil...</td>\n",
              "      <td>NaN</td>\n",
              "      <td>0</td>\n",
              "      <td>0</td>\n",
              "      <td>0</td>\n",
              "      <td>Full-time</td>\n",
              "      <td>NaN</td>\n",
              "      <td>NaN</td>\n",
              "      <td>NaN</td>\n",
              "      <td>NaN</td>\n",
              "      <td>0</td>\n",
              "    </tr>\n",
              "    <tr>\n",
              "      <th>17878</th>\n",
              "      <td>17879</td>\n",
              "      <td>Graphic Designer</td>\n",
              "      <td>NG, LA, Lagos</td>\n",
              "      <td>NaN</td>\n",
              "      <td>NaN</td>\n",
              "      <td>NaN</td>\n",
              "      <td>Nemsia Studios is looking for an experienced v...</td>\n",
              "      <td>1. Must be fluent in the latest versions of Co...</td>\n",
              "      <td>Competitive salary (compensation will be based...</td>\n",
              "      <td>0</td>\n",
              "      <td>0</td>\n",
              "      <td>1</td>\n",
              "      <td>Contract</td>\n",
              "      <td>Not Applicable</td>\n",
              "      <td>Professional</td>\n",
              "      <td>Graphic Design</td>\n",
              "      <td>Design</td>\n",
              "      <td>0</td>\n",
              "    </tr>\n",
              "    <tr>\n",
              "      <th>17879</th>\n",
              "      <td>17880</td>\n",
              "      <td>Web Application Developers</td>\n",
              "      <td>NZ, N, Wellington</td>\n",
              "      <td>Engineering</td>\n",
              "      <td>NaN</td>\n",
              "      <td>Vend is looking for some awesome new talent to...</td>\n",
              "      <td>Who are we?Vend is an award winning web based ...</td>\n",
              "      <td>We want to hear from you if:You have an in-dep...</td>\n",
              "      <td>NaN</td>\n",
              "      <td>0</td>\n",
              "      <td>1</td>\n",
              "      <td>1</td>\n",
              "      <td>Full-time</td>\n",
              "      <td>Mid-Senior level</td>\n",
              "      <td>NaN</td>\n",
              "      <td>Computer Software</td>\n",
              "      <td>Engineering</td>\n",
              "      <td>0</td>\n",
              "    </tr>\n",
              "  </tbody>\n",
              "</table>\n",
              "<p>17880 rows × 18 columns</p>\n",
              "</div>"
            ],
            "text/plain": [
              "       job_id                                              title  \\\n",
              "0           1                                   Marketing Intern   \n",
              "1           2          Customer Service - Cloud Video Production   \n",
              "2           3            Commissioning Machinery Assistant (CMA)   \n",
              "3           4                  Account Executive - Washington DC   \n",
              "4           5                                Bill Review Manager   \n",
              "...       ...                                                ...   \n",
              "17875   17876                   Account Director - Distribution    \n",
              "17876   17877                                 Payroll Accountant   \n",
              "17877   17878  Project Cost Control Staff Engineer - Cost Con...   \n",
              "17878   17879                                   Graphic Designer   \n",
              "17879   17880                         Web Application Developers   \n",
              "\n",
              "                   location   department salary_range  \\\n",
              "0          US, NY, New York    Marketing          NaN   \n",
              "1            NZ, , Auckland      Success          NaN   \n",
              "2             US, IA, Wever          NaN          NaN   \n",
              "3        US, DC, Washington        Sales          NaN   \n",
              "4        US, FL, Fort Worth          NaN          NaN   \n",
              "...                     ...          ...          ...   \n",
              "17875       CA, ON, Toronto        Sales          NaN   \n",
              "17876  US, PA, Philadelphia   Accounting          NaN   \n",
              "17877       US, TX, Houston          NaN          NaN   \n",
              "17878         NG, LA, Lagos          NaN          NaN   \n",
              "17879     NZ, N, Wellington  Engineering          NaN   \n",
              "\n",
              "                                         company_profile  \\\n",
              "0      We're Food52, and we've created a groundbreaki...   \n",
              "1      90 Seconds, the worlds Cloud Video Production ...   \n",
              "2      Valor Services provides Workforce Solutions th...   \n",
              "3      Our passion for improving quality of life thro...   \n",
              "4      SpotSource Solutions LLC is a Global Human Cap...   \n",
              "...                                                  ...   \n",
              "17875  Vend is looking for some awesome new talent to...   \n",
              "17876  WebLinc is the e-commerce platform and service...   \n",
              "17877  We Provide Full Time Permanent Positions for m...   \n",
              "17878                                                NaN   \n",
              "17879  Vend is looking for some awesome new talent to...   \n",
              "\n",
              "                                             description  \\\n",
              "0      Food52, a fast-growing, James Beard Award-winn...   \n",
              "1      Organised - Focused - Vibrant - Awesome!Do you...   \n",
              "2      Our client, located in Houston, is actively se...   \n",
              "3      THE COMPANY: ESRI – Environmental Systems Rese...   \n",
              "4      JOB TITLE: Itemization Review ManagerLOCATION:...   \n",
              "...                                                  ...   \n",
              "17875  Just in case this is the first time you’ve vis...   \n",
              "17876  The Payroll Accountant will focus primarily on...   \n",
              "17877  Experienced Project Cost Control Staff Enginee...   \n",
              "17878  Nemsia Studios is looking for an experienced v...   \n",
              "17879  Who are we?Vend is an award winning web based ...   \n",
              "\n",
              "                                            requirements  \\\n",
              "0      Experience with content management systems a m...   \n",
              "1      What we expect from you:Your key responsibilit...   \n",
              "2      Implement pre-commissioning and commissioning ...   \n",
              "3      EDUCATION: Bachelor’s or Master’s in GIS, busi...   \n",
              "4      QUALIFICATIONS:RN license in the State of Texa...   \n",
              "...                                                  ...   \n",
              "17875  To ace this role you:Will eat comprehensive St...   \n",
              "17876  - B.A. or B.S. in Accounting- Desire to have f...   \n",
              "17877  At least 12 years professional experience.Abil...   \n",
              "17878  1. Must be fluent in the latest versions of Co...   \n",
              "17879  We want to hear from you if:You have an in-dep...   \n",
              "\n",
              "                                                benefits  telecommuting  \\\n",
              "0                                                    NaN              0   \n",
              "1      What you will get from usThrough being part of...              0   \n",
              "2                                                    NaN              0   \n",
              "3      Our culture is anything but corporate—we have ...              0   \n",
              "4                                  Full Benefits Offered              0   \n",
              "...                                                  ...            ...   \n",
              "17875  What can you expect from us?We have an open cu...              0   \n",
              "17876  Health &amp; WellnessMedical planPrescription ...              0   \n",
              "17877                                                NaN              0   \n",
              "17878  Competitive salary (compensation will be based...              0   \n",
              "17879                                                NaN              0   \n",
              "\n",
              "       has_company_logo  has_questions employment_type required_experience  \\\n",
              "0                     1              0           Other          Internship   \n",
              "1                     1              0       Full-time      Not Applicable   \n",
              "2                     1              0             NaN                 NaN   \n",
              "3                     1              0       Full-time    Mid-Senior level   \n",
              "4                     1              1       Full-time    Mid-Senior level   \n",
              "...                 ...            ...             ...                 ...   \n",
              "17875                 1              1       Full-time    Mid-Senior level   \n",
              "17876                 1              1       Full-time    Mid-Senior level   \n",
              "17877                 0              0       Full-time                 NaN   \n",
              "17878                 0              1        Contract      Not Applicable   \n",
              "17879                 1              1       Full-time    Mid-Senior level   \n",
              "\n",
              "      required_education                   industry              function  \\\n",
              "0                    NaN                        NaN             Marketing   \n",
              "1                    NaN  Marketing and Advertising      Customer Service   \n",
              "2                    NaN                        NaN                   NaN   \n",
              "3      Bachelor's Degree          Computer Software                 Sales   \n",
              "4      Bachelor's Degree     Hospital & Health Care  Health Care Provider   \n",
              "...                  ...                        ...                   ...   \n",
              "17875                NaN          Computer Software                 Sales   \n",
              "17876  Bachelor's Degree                   Internet   Accounting/Auditing   \n",
              "17877                NaN                        NaN                   NaN   \n",
              "17878       Professional             Graphic Design                Design   \n",
              "17879                NaN          Computer Software           Engineering   \n",
              "\n",
              "       fraudulent  \n",
              "0               0  \n",
              "1               0  \n",
              "2               0  \n",
              "3               0  \n",
              "4               0  \n",
              "...           ...  \n",
              "17875           0  \n",
              "17876           0  \n",
              "17877           0  \n",
              "17878           0  \n",
              "17879           0  \n",
              "\n",
              "[17880 rows x 18 columns]"
            ]
          },
          "execution_count": 3,
          "metadata": {},
          "output_type": "execute_result"
        }
      ],
      "source": [
        "data = pd.read_csv('fake_job_postings.csv')\n",
        "data"
      ]
    },
    {
      "cell_type": "markdown",
      "metadata": {
        "id": "Uz6_tL1FaSpZ"
      },
      "source": [
        "Выводим первые 10 строк dataset-а:"
      ]
    },
    {
      "cell_type": "code",
      "execution_count": 4,
      "metadata": {
        "colab": {
          "base_uri": "https://localhost:8080/",
          "height": 896
        },
        "id": "fpXcBH-4aSpZ",
        "outputId": "a5b4d272-869a-41c4-8b5b-5d5d272190ff"
      },
      "outputs": [
        {
          "data": {
            "text/html": [
              "<div>\n",
              "<style scoped>\n",
              "    .dataframe tbody tr th:only-of-type {\n",
              "        vertical-align: middle;\n",
              "    }\n",
              "\n",
              "    .dataframe tbody tr th {\n",
              "        vertical-align: top;\n",
              "    }\n",
              "\n",
              "    .dataframe thead th {\n",
              "        text-align: right;\n",
              "    }\n",
              "</style>\n",
              "<table border=\"1\" class=\"dataframe\">\n",
              "  <thead>\n",
              "    <tr style=\"text-align: right;\">\n",
              "      <th></th>\n",
              "      <th>job_id</th>\n",
              "      <th>title</th>\n",
              "      <th>location</th>\n",
              "      <th>department</th>\n",
              "      <th>salary_range</th>\n",
              "      <th>company_profile</th>\n",
              "      <th>description</th>\n",
              "      <th>requirements</th>\n",
              "      <th>benefits</th>\n",
              "      <th>telecommuting</th>\n",
              "      <th>has_company_logo</th>\n",
              "      <th>has_questions</th>\n",
              "      <th>employment_type</th>\n",
              "      <th>required_experience</th>\n",
              "      <th>required_education</th>\n",
              "      <th>industry</th>\n",
              "      <th>function</th>\n",
              "      <th>fraudulent</th>\n",
              "    </tr>\n",
              "  </thead>\n",
              "  <tbody>\n",
              "    <tr>\n",
              "      <th>0</th>\n",
              "      <td>1</td>\n",
              "      <td>Marketing Intern</td>\n",
              "      <td>US, NY, New York</td>\n",
              "      <td>Marketing</td>\n",
              "      <td>NaN</td>\n",
              "      <td>We're Food52, and we've created a groundbreaki...</td>\n",
              "      <td>Food52, a fast-growing, James Beard Award-winn...</td>\n",
              "      <td>Experience with content management systems a m...</td>\n",
              "      <td>NaN</td>\n",
              "      <td>0</td>\n",
              "      <td>1</td>\n",
              "      <td>0</td>\n",
              "      <td>Other</td>\n",
              "      <td>Internship</td>\n",
              "      <td>NaN</td>\n",
              "      <td>NaN</td>\n",
              "      <td>Marketing</td>\n",
              "      <td>0</td>\n",
              "    </tr>\n",
              "    <tr>\n",
              "      <th>1</th>\n",
              "      <td>2</td>\n",
              "      <td>Customer Service - Cloud Video Production</td>\n",
              "      <td>NZ, , Auckland</td>\n",
              "      <td>Success</td>\n",
              "      <td>NaN</td>\n",
              "      <td>90 Seconds, the worlds Cloud Video Production ...</td>\n",
              "      <td>Organised - Focused - Vibrant - Awesome!Do you...</td>\n",
              "      <td>What we expect from you:Your key responsibilit...</td>\n",
              "      <td>What you will get from usThrough being part of...</td>\n",
              "      <td>0</td>\n",
              "      <td>1</td>\n",
              "      <td>0</td>\n",
              "      <td>Full-time</td>\n",
              "      <td>Not Applicable</td>\n",
              "      <td>NaN</td>\n",
              "      <td>Marketing and Advertising</td>\n",
              "      <td>Customer Service</td>\n",
              "      <td>0</td>\n",
              "    </tr>\n",
              "    <tr>\n",
              "      <th>2</th>\n",
              "      <td>3</td>\n",
              "      <td>Commissioning Machinery Assistant (CMA)</td>\n",
              "      <td>US, IA, Wever</td>\n",
              "      <td>NaN</td>\n",
              "      <td>NaN</td>\n",
              "      <td>Valor Services provides Workforce Solutions th...</td>\n",
              "      <td>Our client, located in Houston, is actively se...</td>\n",
              "      <td>Implement pre-commissioning and commissioning ...</td>\n",
              "      <td>NaN</td>\n",
              "      <td>0</td>\n",
              "      <td>1</td>\n",
              "      <td>0</td>\n",
              "      <td>NaN</td>\n",
              "      <td>NaN</td>\n",
              "      <td>NaN</td>\n",
              "      <td>NaN</td>\n",
              "      <td>NaN</td>\n",
              "      <td>0</td>\n",
              "    </tr>\n",
              "    <tr>\n",
              "      <th>3</th>\n",
              "      <td>4</td>\n",
              "      <td>Account Executive - Washington DC</td>\n",
              "      <td>US, DC, Washington</td>\n",
              "      <td>Sales</td>\n",
              "      <td>NaN</td>\n",
              "      <td>Our passion for improving quality of life thro...</td>\n",
              "      <td>THE COMPANY: ESRI – Environmental Systems Rese...</td>\n",
              "      <td>EDUCATION: Bachelor’s or Master’s in GIS, busi...</td>\n",
              "      <td>Our culture is anything but corporate—we have ...</td>\n",
              "      <td>0</td>\n",
              "      <td>1</td>\n",
              "      <td>0</td>\n",
              "      <td>Full-time</td>\n",
              "      <td>Mid-Senior level</td>\n",
              "      <td>Bachelor's Degree</td>\n",
              "      <td>Computer Software</td>\n",
              "      <td>Sales</td>\n",
              "      <td>0</td>\n",
              "    </tr>\n",
              "    <tr>\n",
              "      <th>4</th>\n",
              "      <td>5</td>\n",
              "      <td>Bill Review Manager</td>\n",
              "      <td>US, FL, Fort Worth</td>\n",
              "      <td>NaN</td>\n",
              "      <td>NaN</td>\n",
              "      <td>SpotSource Solutions LLC is a Global Human Cap...</td>\n",
              "      <td>JOB TITLE: Itemization Review ManagerLOCATION:...</td>\n",
              "      <td>QUALIFICATIONS:RN license in the State of Texa...</td>\n",
              "      <td>Full Benefits Offered</td>\n",
              "      <td>0</td>\n",
              "      <td>1</td>\n",
              "      <td>1</td>\n",
              "      <td>Full-time</td>\n",
              "      <td>Mid-Senior level</td>\n",
              "      <td>Bachelor's Degree</td>\n",
              "      <td>Hospital &amp; Health Care</td>\n",
              "      <td>Health Care Provider</td>\n",
              "      <td>0</td>\n",
              "    </tr>\n",
              "    <tr>\n",
              "      <th>5</th>\n",
              "      <td>6</td>\n",
              "      <td>Accounting Clerk</td>\n",
              "      <td>US, MD,</td>\n",
              "      <td>NaN</td>\n",
              "      <td>NaN</td>\n",
              "      <td>NaN</td>\n",
              "      <td>Job OverviewApex is an environmental consultin...</td>\n",
              "      <td>NaN</td>\n",
              "      <td>NaN</td>\n",
              "      <td>0</td>\n",
              "      <td>0</td>\n",
              "      <td>0</td>\n",
              "      <td>NaN</td>\n",
              "      <td>NaN</td>\n",
              "      <td>NaN</td>\n",
              "      <td>NaN</td>\n",
              "      <td>NaN</td>\n",
              "      <td>0</td>\n",
              "    </tr>\n",
              "    <tr>\n",
              "      <th>6</th>\n",
              "      <td>7</td>\n",
              "      <td>Head of Content (m/f)</td>\n",
              "      <td>DE, BE, Berlin</td>\n",
              "      <td>ANDROIDPIT</td>\n",
              "      <td>20000-28000</td>\n",
              "      <td>Founded in 2009, the Fonpit AG rose with its i...</td>\n",
              "      <td>Your Responsibilities: Manage the English-spea...</td>\n",
              "      <td>Your Know-How:                                ...</td>\n",
              "      <td>Your Benefits: Being part of a fast-growing co...</td>\n",
              "      <td>0</td>\n",
              "      <td>1</td>\n",
              "      <td>1</td>\n",
              "      <td>Full-time</td>\n",
              "      <td>Mid-Senior level</td>\n",
              "      <td>Master's Degree</td>\n",
              "      <td>Online Media</td>\n",
              "      <td>Management</td>\n",
              "      <td>0</td>\n",
              "    </tr>\n",
              "    <tr>\n",
              "      <th>7</th>\n",
              "      <td>8</td>\n",
              "      <td>Lead Guest Service Specialist</td>\n",
              "      <td>US, CA, San Francisco</td>\n",
              "      <td>NaN</td>\n",
              "      <td>NaN</td>\n",
              "      <td>Airenvy’s mission is to provide lucrative yet ...</td>\n",
              "      <td>Who is Airenvy?Hey there! We are seasoned entr...</td>\n",
              "      <td>Experience with CRM software, live chat, and p...</td>\n",
              "      <td>Competitive Pay. You'll be able to eat steak e...</td>\n",
              "      <td>0</td>\n",
              "      <td>1</td>\n",
              "      <td>1</td>\n",
              "      <td>NaN</td>\n",
              "      <td>NaN</td>\n",
              "      <td>NaN</td>\n",
              "      <td>NaN</td>\n",
              "      <td>NaN</td>\n",
              "      <td>0</td>\n",
              "    </tr>\n",
              "    <tr>\n",
              "      <th>8</th>\n",
              "      <td>9</td>\n",
              "      <td>HP BSM SME</td>\n",
              "      <td>US, FL, Pensacola</td>\n",
              "      <td>NaN</td>\n",
              "      <td>NaN</td>\n",
              "      <td>Solutions3 is a woman-owned small business who...</td>\n",
              "      <td>Implementation/Configuration/Testing/Training ...</td>\n",
              "      <td>MUST BE A US CITIZEN.An active TS/SCI clearanc...</td>\n",
              "      <td>NaN</td>\n",
              "      <td>0</td>\n",
              "      <td>1</td>\n",
              "      <td>1</td>\n",
              "      <td>Full-time</td>\n",
              "      <td>Associate</td>\n",
              "      <td>NaN</td>\n",
              "      <td>Information Technology and Services</td>\n",
              "      <td>NaN</td>\n",
              "      <td>0</td>\n",
              "    </tr>\n",
              "    <tr>\n",
              "      <th>9</th>\n",
              "      <td>10</td>\n",
              "      <td>Customer Service Associate - Part Time</td>\n",
              "      <td>US, AZ, Phoenix</td>\n",
              "      <td>NaN</td>\n",
              "      <td>NaN</td>\n",
              "      <td>Novitex Enterprise Solutions, formerly Pitney ...</td>\n",
              "      <td>The Customer Service Associate will be based i...</td>\n",
              "      <td>Minimum Requirements:Minimum of 6 months custo...</td>\n",
              "      <td>NaN</td>\n",
              "      <td>0</td>\n",
              "      <td>1</td>\n",
              "      <td>0</td>\n",
              "      <td>Part-time</td>\n",
              "      <td>Entry level</td>\n",
              "      <td>High School or equivalent</td>\n",
              "      <td>Financial Services</td>\n",
              "      <td>Customer Service</td>\n",
              "      <td>0</td>\n",
              "    </tr>\n",
              "  </tbody>\n",
              "</table>\n",
              "</div>"
            ],
            "text/plain": [
              "   job_id                                      title               location  \\\n",
              "0       1                           Marketing Intern       US, NY, New York   \n",
              "1       2  Customer Service - Cloud Video Production         NZ, , Auckland   \n",
              "2       3    Commissioning Machinery Assistant (CMA)          US, IA, Wever   \n",
              "3       4          Account Executive - Washington DC     US, DC, Washington   \n",
              "4       5                        Bill Review Manager     US, FL, Fort Worth   \n",
              "5       6                           Accounting Clerk               US, MD,    \n",
              "6       7                      Head of Content (m/f)         DE, BE, Berlin   \n",
              "7       8           Lead Guest Service Specialist     US, CA, San Francisco   \n",
              "8       9                                 HP BSM SME      US, FL, Pensacola   \n",
              "9      10    Customer Service Associate - Part Time         US, AZ, Phoenix   \n",
              "\n",
              "   department salary_range                                    company_profile  \\\n",
              "0   Marketing          NaN  We're Food52, and we've created a groundbreaki...   \n",
              "1     Success          NaN  90 Seconds, the worlds Cloud Video Production ...   \n",
              "2         NaN          NaN  Valor Services provides Workforce Solutions th...   \n",
              "3       Sales          NaN  Our passion for improving quality of life thro...   \n",
              "4         NaN          NaN  SpotSource Solutions LLC is a Global Human Cap...   \n",
              "5         NaN          NaN                                                NaN   \n",
              "6  ANDROIDPIT  20000-28000  Founded in 2009, the Fonpit AG rose with its i...   \n",
              "7         NaN          NaN  Airenvy’s mission is to provide lucrative yet ...   \n",
              "8         NaN          NaN  Solutions3 is a woman-owned small business who...   \n",
              "9         NaN          NaN  Novitex Enterprise Solutions, formerly Pitney ...   \n",
              "\n",
              "                                         description  \\\n",
              "0  Food52, a fast-growing, James Beard Award-winn...   \n",
              "1  Organised - Focused - Vibrant - Awesome!Do you...   \n",
              "2  Our client, located in Houston, is actively se...   \n",
              "3  THE COMPANY: ESRI – Environmental Systems Rese...   \n",
              "4  JOB TITLE: Itemization Review ManagerLOCATION:...   \n",
              "5  Job OverviewApex is an environmental consultin...   \n",
              "6  Your Responsibilities: Manage the English-spea...   \n",
              "7  Who is Airenvy?Hey there! We are seasoned entr...   \n",
              "8  Implementation/Configuration/Testing/Training ...   \n",
              "9  The Customer Service Associate will be based i...   \n",
              "\n",
              "                                        requirements  \\\n",
              "0  Experience with content management systems a m...   \n",
              "1  What we expect from you:Your key responsibilit...   \n",
              "2  Implement pre-commissioning and commissioning ...   \n",
              "3  EDUCATION: Bachelor’s or Master’s in GIS, busi...   \n",
              "4  QUALIFICATIONS:RN license in the State of Texa...   \n",
              "5                                                NaN   \n",
              "6  Your Know-How:                                ...   \n",
              "7  Experience with CRM software, live chat, and p...   \n",
              "8  MUST BE A US CITIZEN.An active TS/SCI clearanc...   \n",
              "9  Minimum Requirements:Minimum of 6 months custo...   \n",
              "\n",
              "                                            benefits  telecommuting  \\\n",
              "0                                                NaN              0   \n",
              "1  What you will get from usThrough being part of...              0   \n",
              "2                                                NaN              0   \n",
              "3  Our culture is anything but corporate—we have ...              0   \n",
              "4                              Full Benefits Offered              0   \n",
              "5                                                NaN              0   \n",
              "6  Your Benefits: Being part of a fast-growing co...              0   \n",
              "7  Competitive Pay. You'll be able to eat steak e...              0   \n",
              "8                                                NaN              0   \n",
              "9                                                NaN              0   \n",
              "\n",
              "   has_company_logo  has_questions employment_type required_experience  \\\n",
              "0                 1              0           Other          Internship   \n",
              "1                 1              0       Full-time      Not Applicable   \n",
              "2                 1              0             NaN                 NaN   \n",
              "3                 1              0       Full-time    Mid-Senior level   \n",
              "4                 1              1       Full-time    Mid-Senior level   \n",
              "5                 0              0             NaN                 NaN   \n",
              "6                 1              1       Full-time    Mid-Senior level   \n",
              "7                 1              1             NaN                 NaN   \n",
              "8                 1              1       Full-time           Associate   \n",
              "9                 1              0       Part-time         Entry level   \n",
              "\n",
              "          required_education                             industry  \\\n",
              "0                        NaN                                  NaN   \n",
              "1                        NaN            Marketing and Advertising   \n",
              "2                        NaN                                  NaN   \n",
              "3          Bachelor's Degree                    Computer Software   \n",
              "4          Bachelor's Degree               Hospital & Health Care   \n",
              "5                        NaN                                  NaN   \n",
              "6            Master's Degree                         Online Media   \n",
              "7                        NaN                                  NaN   \n",
              "8                        NaN  Information Technology and Services   \n",
              "9  High School or equivalent                   Financial Services   \n",
              "\n",
              "               function  fraudulent  \n",
              "0             Marketing           0  \n",
              "1      Customer Service           0  \n",
              "2                   NaN           0  \n",
              "3                 Sales           0  \n",
              "4  Health Care Provider           0  \n",
              "5                   NaN           0  \n",
              "6            Management           0  \n",
              "7                   NaN           0  \n",
              "8                   NaN           0  \n",
              "9      Customer Service           0  "
            ]
          },
          "execution_count": 4,
          "metadata": {},
          "output_type": "execute_result"
        }
      ],
      "source": [
        "data.head(10)"
      ]
    },
    {
      "cell_type": "markdown",
      "metadata": {
        "id": "hVjUmrzbaSpZ"
      },
      "source": [
        "Выводим последние 10 строк dataset-а:"
      ]
    },
    {
      "cell_type": "code",
      "execution_count": 5,
      "metadata": {
        "colab": {
          "base_uri": "https://localhost:8080/",
          "height": 913
        },
        "id": "9tn98hvjaSpZ",
        "outputId": "534c631d-5fa0-43c5-980f-70bc1a4da55a"
      },
      "outputs": [
        {
          "data": {
            "text/html": [
              "<div>\n",
              "<style scoped>\n",
              "    .dataframe tbody tr th:only-of-type {\n",
              "        vertical-align: middle;\n",
              "    }\n",
              "\n",
              "    .dataframe tbody tr th {\n",
              "        vertical-align: top;\n",
              "    }\n",
              "\n",
              "    .dataframe thead th {\n",
              "        text-align: right;\n",
              "    }\n",
              "</style>\n",
              "<table border=\"1\" class=\"dataframe\">\n",
              "  <thead>\n",
              "    <tr style=\"text-align: right;\">\n",
              "      <th></th>\n",
              "      <th>job_id</th>\n",
              "      <th>title</th>\n",
              "      <th>location</th>\n",
              "      <th>department</th>\n",
              "      <th>salary_range</th>\n",
              "      <th>company_profile</th>\n",
              "      <th>description</th>\n",
              "      <th>requirements</th>\n",
              "      <th>benefits</th>\n",
              "      <th>telecommuting</th>\n",
              "      <th>has_company_logo</th>\n",
              "      <th>has_questions</th>\n",
              "      <th>employment_type</th>\n",
              "      <th>required_experience</th>\n",
              "      <th>required_education</th>\n",
              "      <th>industry</th>\n",
              "      <th>function</th>\n",
              "      <th>fraudulent</th>\n",
              "    </tr>\n",
              "  </thead>\n",
              "  <tbody>\n",
              "    <tr>\n",
              "      <th>17870</th>\n",
              "      <td>17871</td>\n",
              "      <td>Senior Financial Analyst (Retail)</td>\n",
              "      <td>US, CA, Gardena</td>\n",
              "      <td>NaN</td>\n",
              "      <td>NaN</td>\n",
              "      <td>PROSULTING IS PEOPLE The ProSulting difference...</td>\n",
              "      <td>We are activity searching for a Senior Financi...</td>\n",
              "      <td>Must have a minimum of 3 + years in Financial ...</td>\n",
              "      <td>NaN</td>\n",
              "      <td>0</td>\n",
              "      <td>1</td>\n",
              "      <td>1</td>\n",
              "      <td>Full-time</td>\n",
              "      <td>Mid-Senior level</td>\n",
              "      <td>Bachelor's Degree</td>\n",
              "      <td>Retail</td>\n",
              "      <td>Financial Analyst</td>\n",
              "      <td>0</td>\n",
              "    </tr>\n",
              "    <tr>\n",
              "      <th>17871</th>\n",
              "      <td>17872</td>\n",
              "      <td>Water Truck Driver</td>\n",
              "      <td>US, PA, Waynesburg</td>\n",
              "      <td>NaN</td>\n",
              "      <td>NaN</td>\n",
              "      <td>Valor Services provides Workforce Solutions th...</td>\n",
              "      <td>Requires skilled work in operating commercial ...</td>\n",
              "      <td>GED or diploma required.Requires minimum of on...</td>\n",
              "      <td>NaN</td>\n",
              "      <td>0</td>\n",
              "      <td>1</td>\n",
              "      <td>1</td>\n",
              "      <td>Full-time</td>\n",
              "      <td>NaN</td>\n",
              "      <td>NaN</td>\n",
              "      <td>Oil &amp; Energy</td>\n",
              "      <td>NaN</td>\n",
              "      <td>0</td>\n",
              "    </tr>\n",
              "    <tr>\n",
              "      <th>17872</th>\n",
              "      <td>17873</td>\n",
              "      <td>Product Manager</td>\n",
              "      <td>US, CA, San Francisco</td>\n",
              "      <td>Product Development</td>\n",
              "      <td>NaN</td>\n",
              "      <td>Flite delivers ad innovation at scale to the w...</td>\n",
              "      <td>Flite's SaaS display ad platform fuels the wor...</td>\n",
              "      <td>BA/BS in Computer Science or a related technic...</td>\n",
              "      <td>Competitive baseAttractive stock option planMe...</td>\n",
              "      <td>0</td>\n",
              "      <td>1</td>\n",
              "      <td>0</td>\n",
              "      <td>Full-time</td>\n",
              "      <td>NaN</td>\n",
              "      <td>NaN</td>\n",
              "      <td>Internet</td>\n",
              "      <td>Product Management</td>\n",
              "      <td>0</td>\n",
              "    </tr>\n",
              "    <tr>\n",
              "      <th>17873</th>\n",
              "      <td>17874</td>\n",
              "      <td>Recruiting Coordinator</td>\n",
              "      <td>US, NC, Charlotte</td>\n",
              "      <td>NaN</td>\n",
              "      <td>NaN</td>\n",
              "      <td>NaN</td>\n",
              "      <td>RESPONSIBILITIES:Will facilitate the recruitin...</td>\n",
              "      <td>REQUIRED SKILLS:Associates Degree or a combina...</td>\n",
              "      <td>NaN</td>\n",
              "      <td>0</td>\n",
              "      <td>1</td>\n",
              "      <td>0</td>\n",
              "      <td>Contract</td>\n",
              "      <td>NaN</td>\n",
              "      <td>NaN</td>\n",
              "      <td>Utilities</td>\n",
              "      <td>NaN</td>\n",
              "      <td>0</td>\n",
              "    </tr>\n",
              "    <tr>\n",
              "      <th>17874</th>\n",
              "      <td>17875</td>\n",
              "      <td>JavaScript Developer</td>\n",
              "      <td>US, ,</td>\n",
              "      <td>NaN</td>\n",
              "      <td>80000-100000</td>\n",
              "      <td>NaN</td>\n",
              "      <td>Sr, JavaScript Developer Experience : 4-10 yea...</td>\n",
              "      <td>NaN</td>\n",
              "      <td>NaN</td>\n",
              "      <td>0</td>\n",
              "      <td>0</td>\n",
              "      <td>0</td>\n",
              "      <td>Full-time</td>\n",
              "      <td>Mid-Senior level</td>\n",
              "      <td>Bachelor's Degree</td>\n",
              "      <td>Computer Software</td>\n",
              "      <td>Information Technology</td>\n",
              "      <td>0</td>\n",
              "    </tr>\n",
              "    <tr>\n",
              "      <th>17875</th>\n",
              "      <td>17876</td>\n",
              "      <td>Account Director - Distribution</td>\n",
              "      <td>CA, ON, Toronto</td>\n",
              "      <td>Sales</td>\n",
              "      <td>NaN</td>\n",
              "      <td>Vend is looking for some awesome new talent to...</td>\n",
              "      <td>Just in case this is the first time you’ve vis...</td>\n",
              "      <td>To ace this role you:Will eat comprehensive St...</td>\n",
              "      <td>What can you expect from us?We have an open cu...</td>\n",
              "      <td>0</td>\n",
              "      <td>1</td>\n",
              "      <td>1</td>\n",
              "      <td>Full-time</td>\n",
              "      <td>Mid-Senior level</td>\n",
              "      <td>NaN</td>\n",
              "      <td>Computer Software</td>\n",
              "      <td>Sales</td>\n",
              "      <td>0</td>\n",
              "    </tr>\n",
              "    <tr>\n",
              "      <th>17876</th>\n",
              "      <td>17877</td>\n",
              "      <td>Payroll Accountant</td>\n",
              "      <td>US, PA, Philadelphia</td>\n",
              "      <td>Accounting</td>\n",
              "      <td>NaN</td>\n",
              "      <td>WebLinc is the e-commerce platform and service...</td>\n",
              "      <td>The Payroll Accountant will focus primarily on...</td>\n",
              "      <td>- B.A. or B.S. in Accounting- Desire to have f...</td>\n",
              "      <td>Health &amp;amp; WellnessMedical planPrescription ...</td>\n",
              "      <td>0</td>\n",
              "      <td>1</td>\n",
              "      <td>1</td>\n",
              "      <td>Full-time</td>\n",
              "      <td>Mid-Senior level</td>\n",
              "      <td>Bachelor's Degree</td>\n",
              "      <td>Internet</td>\n",
              "      <td>Accounting/Auditing</td>\n",
              "      <td>0</td>\n",
              "    </tr>\n",
              "    <tr>\n",
              "      <th>17877</th>\n",
              "      <td>17878</td>\n",
              "      <td>Project Cost Control Staff Engineer - Cost Con...</td>\n",
              "      <td>US, TX, Houston</td>\n",
              "      <td>NaN</td>\n",
              "      <td>NaN</td>\n",
              "      <td>We Provide Full Time Permanent Positions for m...</td>\n",
              "      <td>Experienced Project Cost Control Staff Enginee...</td>\n",
              "      <td>At least 12 years professional experience.Abil...</td>\n",
              "      <td>NaN</td>\n",
              "      <td>0</td>\n",
              "      <td>0</td>\n",
              "      <td>0</td>\n",
              "      <td>Full-time</td>\n",
              "      <td>NaN</td>\n",
              "      <td>NaN</td>\n",
              "      <td>NaN</td>\n",
              "      <td>NaN</td>\n",
              "      <td>0</td>\n",
              "    </tr>\n",
              "    <tr>\n",
              "      <th>17878</th>\n",
              "      <td>17879</td>\n",
              "      <td>Graphic Designer</td>\n",
              "      <td>NG, LA, Lagos</td>\n",
              "      <td>NaN</td>\n",
              "      <td>NaN</td>\n",
              "      <td>NaN</td>\n",
              "      <td>Nemsia Studios is looking for an experienced v...</td>\n",
              "      <td>1. Must be fluent in the latest versions of Co...</td>\n",
              "      <td>Competitive salary (compensation will be based...</td>\n",
              "      <td>0</td>\n",
              "      <td>0</td>\n",
              "      <td>1</td>\n",
              "      <td>Contract</td>\n",
              "      <td>Not Applicable</td>\n",
              "      <td>Professional</td>\n",
              "      <td>Graphic Design</td>\n",
              "      <td>Design</td>\n",
              "      <td>0</td>\n",
              "    </tr>\n",
              "    <tr>\n",
              "      <th>17879</th>\n",
              "      <td>17880</td>\n",
              "      <td>Web Application Developers</td>\n",
              "      <td>NZ, N, Wellington</td>\n",
              "      <td>Engineering</td>\n",
              "      <td>NaN</td>\n",
              "      <td>Vend is looking for some awesome new talent to...</td>\n",
              "      <td>Who are we?Vend is an award winning web based ...</td>\n",
              "      <td>We want to hear from you if:You have an in-dep...</td>\n",
              "      <td>NaN</td>\n",
              "      <td>0</td>\n",
              "      <td>1</td>\n",
              "      <td>1</td>\n",
              "      <td>Full-time</td>\n",
              "      <td>Mid-Senior level</td>\n",
              "      <td>NaN</td>\n",
              "      <td>Computer Software</td>\n",
              "      <td>Engineering</td>\n",
              "      <td>0</td>\n",
              "    </tr>\n",
              "  </tbody>\n",
              "</table>\n",
              "</div>"
            ],
            "text/plain": [
              "       job_id                                              title  \\\n",
              "17870   17871                 Senior Financial Analyst (Retail)    \n",
              "17871   17872                                 Water Truck Driver   \n",
              "17872   17873                                    Product Manager   \n",
              "17873   17874                             Recruiting Coordinator   \n",
              "17874   17875                               JavaScript Developer   \n",
              "17875   17876                   Account Director - Distribution    \n",
              "17876   17877                                 Payroll Accountant   \n",
              "17877   17878  Project Cost Control Staff Engineer - Cost Con...   \n",
              "17878   17879                                   Graphic Designer   \n",
              "17879   17880                         Web Application Developers   \n",
              "\n",
              "                    location           department  salary_range  \\\n",
              "17870        US, CA, Gardena                  NaN           NaN   \n",
              "17871     US, PA, Waynesburg                  NaN           NaN   \n",
              "17872  US, CA, San Francisco  Product Development           NaN   \n",
              "17873      US, NC, Charlotte                  NaN           NaN   \n",
              "17874                 US, ,                   NaN  80000-100000   \n",
              "17875        CA, ON, Toronto                Sales           NaN   \n",
              "17876   US, PA, Philadelphia           Accounting           NaN   \n",
              "17877        US, TX, Houston                  NaN           NaN   \n",
              "17878          NG, LA, Lagos                  NaN           NaN   \n",
              "17879      NZ, N, Wellington          Engineering           NaN   \n",
              "\n",
              "                                         company_profile  \\\n",
              "17870  PROSULTING IS PEOPLE The ProSulting difference...   \n",
              "17871  Valor Services provides Workforce Solutions th...   \n",
              "17872  Flite delivers ad innovation at scale to the w...   \n",
              "17873                                                NaN   \n",
              "17874                                                NaN   \n",
              "17875  Vend is looking for some awesome new talent to...   \n",
              "17876  WebLinc is the e-commerce platform and service...   \n",
              "17877  We Provide Full Time Permanent Positions for m...   \n",
              "17878                                                NaN   \n",
              "17879  Vend is looking for some awesome new talent to...   \n",
              "\n",
              "                                             description  \\\n",
              "17870  We are activity searching for a Senior Financi...   \n",
              "17871  Requires skilled work in operating commercial ...   \n",
              "17872  Flite's SaaS display ad platform fuels the wor...   \n",
              "17873  RESPONSIBILITIES:Will facilitate the recruitin...   \n",
              "17874  Sr, JavaScript Developer Experience : 4-10 yea...   \n",
              "17875  Just in case this is the first time you’ve vis...   \n",
              "17876  The Payroll Accountant will focus primarily on...   \n",
              "17877  Experienced Project Cost Control Staff Enginee...   \n",
              "17878  Nemsia Studios is looking for an experienced v...   \n",
              "17879  Who are we?Vend is an award winning web based ...   \n",
              "\n",
              "                                            requirements  \\\n",
              "17870  Must have a minimum of 3 + years in Financial ...   \n",
              "17871  GED or diploma required.Requires minimum of on...   \n",
              "17872  BA/BS in Computer Science or a related technic...   \n",
              "17873  REQUIRED SKILLS:Associates Degree or a combina...   \n",
              "17874                                                NaN   \n",
              "17875  To ace this role you:Will eat comprehensive St...   \n",
              "17876  - B.A. or B.S. in Accounting- Desire to have f...   \n",
              "17877  At least 12 years professional experience.Abil...   \n",
              "17878  1. Must be fluent in the latest versions of Co...   \n",
              "17879  We want to hear from you if:You have an in-dep...   \n",
              "\n",
              "                                                benefits  telecommuting  \\\n",
              "17870                                                NaN              0   \n",
              "17871                                                NaN              0   \n",
              "17872  Competitive baseAttractive stock option planMe...              0   \n",
              "17873                                                NaN              0   \n",
              "17874                                                NaN              0   \n",
              "17875  What can you expect from us?We have an open cu...              0   \n",
              "17876  Health &amp; WellnessMedical planPrescription ...              0   \n",
              "17877                                                NaN              0   \n",
              "17878  Competitive salary (compensation will be based...              0   \n",
              "17879                                                NaN              0   \n",
              "\n",
              "       has_company_logo  has_questions employment_type required_experience  \\\n",
              "17870                 1              1       Full-time    Mid-Senior level   \n",
              "17871                 1              1       Full-time                 NaN   \n",
              "17872                 1              0       Full-time                 NaN   \n",
              "17873                 1              0        Contract                 NaN   \n",
              "17874                 0              0       Full-time    Mid-Senior level   \n",
              "17875                 1              1       Full-time    Mid-Senior level   \n",
              "17876                 1              1       Full-time    Mid-Senior level   \n",
              "17877                 0              0       Full-time                 NaN   \n",
              "17878                 0              1        Contract      Not Applicable   \n",
              "17879                 1              1       Full-time    Mid-Senior level   \n",
              "\n",
              "      required_education           industry                function  \\\n",
              "17870  Bachelor's Degree             Retail       Financial Analyst   \n",
              "17871                NaN       Oil & Energy                     NaN   \n",
              "17872                NaN           Internet      Product Management   \n",
              "17873                NaN          Utilities                     NaN   \n",
              "17874  Bachelor's Degree  Computer Software  Information Technology   \n",
              "17875                NaN  Computer Software                   Sales   \n",
              "17876  Bachelor's Degree           Internet     Accounting/Auditing   \n",
              "17877                NaN                NaN                     NaN   \n",
              "17878       Professional     Graphic Design                  Design   \n",
              "17879                NaN  Computer Software             Engineering   \n",
              "\n",
              "       fraudulent  \n",
              "17870           0  \n",
              "17871           0  \n",
              "17872           0  \n",
              "17873           0  \n",
              "17874           0  \n",
              "17875           0  \n",
              "17876           0  \n",
              "17877           0  \n",
              "17878           0  \n",
              "17879           0  "
            ]
          },
          "execution_count": 5,
          "metadata": {},
          "output_type": "execute_result"
        }
      ],
      "source": [
        "data.tail(10)"
      ]
    },
    {
      "cell_type": "markdown",
      "metadata": {
        "id": "3RK_F-SFaSpZ"
      },
      "source": [
        "### О наборе данных:\n",
        "\n",
        "[Real or Fake] : Fake Job Description Prediction\n",
        "This dataset contains 18K job descriptions out of which about 800 are fake. The data consists of both textual information and meta-information about the jobs. The dataset can be used to create classification models which can learn the job descriptions which are fraudulent."
      ]
    },
    {
      "cell_type": "markdown",
      "metadata": {
        "id": "Rnvh6NNLaSpa"
      },
      "source": [
        "Ознакомимся с некоторыми свойствами Pandas.DataFrame на примере нашего dataset-а:"
      ]
    },
    {
      "cell_type": "code",
      "execution_count": 6,
      "metadata": {
        "colab": {
          "base_uri": "https://localhost:8080/"
        },
        "id": "ILVkG4GMaSpa",
        "outputId": "d621e803-3f0c-4e43-d66d-8ea598bc48a3"
      },
      "outputs": [
        {
          "name": "stdout",
          "output_type": "stream",
          "text": [
            "(17880, 18)\n",
            "\n",
            "Index(['job_id', 'title', 'location', 'department', 'salary_range',\n",
            "       'company_profile', 'description', 'requirements', 'benefits',\n",
            "       'telecommuting', 'has_company_logo', 'has_questions', 'employment_type',\n",
            "       'required_experience', 'required_education', 'industry', 'function',\n",
            "       'fraudulent'],\n",
            "      dtype='object')\n",
            "\n",
            "RangeIndex(start=0, stop=17880, step=1)\n",
            "\n",
            "Commissioning Machinery Assistant (CMA)\n",
            "\n",
            "Commissioning Machinery Assistant (CMA)\n",
            "\n",
            "object\n",
            "\n",
            "<class 'pandas.core.series.Series'>\n",
            "\n",
            "<class 'str'>\n",
            "\n"
          ]
        }
      ],
      "source": [
        "print(data.shape, end=\"\\n\\n\")\n",
        "print(data.columns, end=\"\\n\\n\")\n",
        "print(data.index, end=\"\\n\\n\")\n",
        "print(data.at[2, 'title'], end=\"\\n\\n\")\n",
        "print(data[\"title\"][2], end=\"\\n\\n\")\n",
        "print(data[\"title\"].dtype, end=\"\\n\\n\")\n",
        "print(type(data[\"title\"]), end=\"\\n\\n\")\n",
        "print(type(data[\"title\"][2]), end=\"\\n\\n\")"
      ]
    },
    {
      "cell_type": "markdown",
      "metadata": {
        "id": "_RK_if5yaSpa"
      },
      "source": [
        "Выведем описательную статистику по нашему dataset-у:"
      ]
    },
    {
      "cell_type": "code",
      "execution_count": 7,
      "metadata": {
        "colab": {
          "base_uri": "https://localhost:8080/",
          "height": 300
        },
        "id": "TfLhu5QXaSpa",
        "outputId": "af36bbeb-0710-4db2-a6c6-ecbfe2e9d34c"
      },
      "outputs": [
        {
          "data": {
            "text/html": [
              "<div>\n",
              "<style scoped>\n",
              "    .dataframe tbody tr th:only-of-type {\n",
              "        vertical-align: middle;\n",
              "    }\n",
              "\n",
              "    .dataframe tbody tr th {\n",
              "        vertical-align: top;\n",
              "    }\n",
              "\n",
              "    .dataframe thead th {\n",
              "        text-align: right;\n",
              "    }\n",
              "</style>\n",
              "<table border=\"1\" class=\"dataframe\">\n",
              "  <thead>\n",
              "    <tr style=\"text-align: right;\">\n",
              "      <th></th>\n",
              "      <th>job_id</th>\n",
              "      <th>telecommuting</th>\n",
              "      <th>has_company_logo</th>\n",
              "      <th>has_questions</th>\n",
              "      <th>fraudulent</th>\n",
              "    </tr>\n",
              "  </thead>\n",
              "  <tbody>\n",
              "    <tr>\n",
              "      <th>count</th>\n",
              "      <td>17880.000000</td>\n",
              "      <td>17880.000000</td>\n",
              "      <td>17880.000000</td>\n",
              "      <td>17880.000000</td>\n",
              "      <td>17880.000000</td>\n",
              "    </tr>\n",
              "    <tr>\n",
              "      <th>mean</th>\n",
              "      <td>8940.500000</td>\n",
              "      <td>0.042897</td>\n",
              "      <td>0.795302</td>\n",
              "      <td>0.491723</td>\n",
              "      <td>0.048434</td>\n",
              "    </tr>\n",
              "    <tr>\n",
              "      <th>std</th>\n",
              "      <td>5161.655742</td>\n",
              "      <td>0.202631</td>\n",
              "      <td>0.403492</td>\n",
              "      <td>0.499945</td>\n",
              "      <td>0.214688</td>\n",
              "    </tr>\n",
              "    <tr>\n",
              "      <th>min</th>\n",
              "      <td>1.000000</td>\n",
              "      <td>0.000000</td>\n",
              "      <td>0.000000</td>\n",
              "      <td>0.000000</td>\n",
              "      <td>0.000000</td>\n",
              "    </tr>\n",
              "    <tr>\n",
              "      <th>25%</th>\n",
              "      <td>4470.750000</td>\n",
              "      <td>0.000000</td>\n",
              "      <td>1.000000</td>\n",
              "      <td>0.000000</td>\n",
              "      <td>0.000000</td>\n",
              "    </tr>\n",
              "    <tr>\n",
              "      <th>50%</th>\n",
              "      <td>8940.500000</td>\n",
              "      <td>0.000000</td>\n",
              "      <td>1.000000</td>\n",
              "      <td>0.000000</td>\n",
              "      <td>0.000000</td>\n",
              "    </tr>\n",
              "    <tr>\n",
              "      <th>75%</th>\n",
              "      <td>13410.250000</td>\n",
              "      <td>0.000000</td>\n",
              "      <td>1.000000</td>\n",
              "      <td>1.000000</td>\n",
              "      <td>0.000000</td>\n",
              "    </tr>\n",
              "    <tr>\n",
              "      <th>max</th>\n",
              "      <td>17880.000000</td>\n",
              "      <td>1.000000</td>\n",
              "      <td>1.000000</td>\n",
              "      <td>1.000000</td>\n",
              "      <td>1.000000</td>\n",
              "    </tr>\n",
              "  </tbody>\n",
              "</table>\n",
              "</div>"
            ],
            "text/plain": [
              "             job_id  telecommuting  has_company_logo  has_questions  \\\n",
              "count  17880.000000   17880.000000      17880.000000   17880.000000   \n",
              "mean    8940.500000       0.042897          0.795302       0.491723   \n",
              "std     5161.655742       0.202631          0.403492       0.499945   \n",
              "min        1.000000       0.000000          0.000000       0.000000   \n",
              "25%     4470.750000       0.000000          1.000000       0.000000   \n",
              "50%     8940.500000       0.000000          1.000000       0.000000   \n",
              "75%    13410.250000       0.000000          1.000000       1.000000   \n",
              "max    17880.000000       1.000000          1.000000       1.000000   \n",
              "\n",
              "         fraudulent  \n",
              "count  17880.000000  \n",
              "mean       0.048434  \n",
              "std        0.214688  \n",
              "min        0.000000  \n",
              "25%        0.000000  \n",
              "50%        0.000000  \n",
              "75%        0.000000  \n",
              "max        1.000000  "
            ]
          },
          "execution_count": 7,
          "metadata": {},
          "output_type": "execute_result"
        }
      ],
      "source": [
        "data.describe()"
      ]
    },
    {
      "cell_type": "code",
      "execution_count": 8,
      "metadata": {
        "colab": {
          "base_uri": "https://localhost:8080/",
          "height": 271
        },
        "id": "AA2LovoQaSpb",
        "outputId": "15f89941-80fd-4f64-e0b9-0357db645246"
      },
      "outputs": [
        {
          "data": {
            "text/html": [
              "<div>\n",
              "<style scoped>\n",
              "    .dataframe tbody tr th:only-of-type {\n",
              "        vertical-align: middle;\n",
              "    }\n",
              "\n",
              "    .dataframe tbody tr th {\n",
              "        vertical-align: top;\n",
              "    }\n",
              "\n",
              "    .dataframe thead th {\n",
              "        text-align: right;\n",
              "    }\n",
              "</style>\n",
              "<table border=\"1\" class=\"dataframe\">\n",
              "  <thead>\n",
              "    <tr style=\"text-align: right;\">\n",
              "      <th></th>\n",
              "      <th>title</th>\n",
              "      <th>location</th>\n",
              "      <th>department</th>\n",
              "      <th>salary_range</th>\n",
              "      <th>company_profile</th>\n",
              "      <th>description</th>\n",
              "      <th>requirements</th>\n",
              "      <th>benefits</th>\n",
              "      <th>employment_type</th>\n",
              "      <th>required_experience</th>\n",
              "      <th>required_education</th>\n",
              "      <th>industry</th>\n",
              "      <th>function</th>\n",
              "    </tr>\n",
              "  </thead>\n",
              "  <tbody>\n",
              "    <tr>\n",
              "      <th>count</th>\n",
              "      <td>17880</td>\n",
              "      <td>17534</td>\n",
              "      <td>6333</td>\n",
              "      <td>2868</td>\n",
              "      <td>14572</td>\n",
              "      <td>17879</td>\n",
              "      <td>15185</td>\n",
              "      <td>10670</td>\n",
              "      <td>14409</td>\n",
              "      <td>10830</td>\n",
              "      <td>9775</td>\n",
              "      <td>12977</td>\n",
              "      <td>11425</td>\n",
              "    </tr>\n",
              "    <tr>\n",
              "      <th>unique</th>\n",
              "      <td>11231</td>\n",
              "      <td>3105</td>\n",
              "      <td>1337</td>\n",
              "      <td>874</td>\n",
              "      <td>1709</td>\n",
              "      <td>14801</td>\n",
              "      <td>11968</td>\n",
              "      <td>6205</td>\n",
              "      <td>5</td>\n",
              "      <td>7</td>\n",
              "      <td>13</td>\n",
              "      <td>131</td>\n",
              "      <td>37</td>\n",
              "    </tr>\n",
              "    <tr>\n",
              "      <th>top</th>\n",
              "      <td>English Teacher Abroad</td>\n",
              "      <td>GB, LND, London</td>\n",
              "      <td>Sales</td>\n",
              "      <td>0-0</td>\n",
              "      <td>We help teachers get safe &amp;amp; secure jobs ab...</td>\n",
              "      <td>Play with kids, get paid for it Love travel? J...</td>\n",
              "      <td>University degree required. TEFL / TESOL / CEL...</td>\n",
              "      <td>See job description</td>\n",
              "      <td>Full-time</td>\n",
              "      <td>Mid-Senior level</td>\n",
              "      <td>Bachelor's Degree</td>\n",
              "      <td>Information Technology and Services</td>\n",
              "      <td>Information Technology</td>\n",
              "    </tr>\n",
              "    <tr>\n",
              "      <th>freq</th>\n",
              "      <td>311</td>\n",
              "      <td>718</td>\n",
              "      <td>551</td>\n",
              "      <td>142</td>\n",
              "      <td>726</td>\n",
              "      <td>379</td>\n",
              "      <td>410</td>\n",
              "      <td>726</td>\n",
              "      <td>11620</td>\n",
              "      <td>3809</td>\n",
              "      <td>5145</td>\n",
              "      <td>1734</td>\n",
              "      <td>1749</td>\n",
              "    </tr>\n",
              "  </tbody>\n",
              "</table>\n",
              "</div>"
            ],
            "text/plain": [
              "                          title         location department salary_range  \\\n",
              "count                     17880            17534       6333         2868   \n",
              "unique                    11231             3105       1337          874   \n",
              "top     English Teacher Abroad   GB, LND, London      Sales          0-0   \n",
              "freq                        311              718        551          142   \n",
              "\n",
              "                                          company_profile  \\\n",
              "count                                               14572   \n",
              "unique                                               1709   \n",
              "top     We help teachers get safe &amp; secure jobs ab...   \n",
              "freq                                                  726   \n",
              "\n",
              "                                              description  \\\n",
              "count                                               17879   \n",
              "unique                                              14801   \n",
              "top     Play with kids, get paid for it Love travel? J...   \n",
              "freq                                                  379   \n",
              "\n",
              "                                             requirements  \\\n",
              "count                                               15185   \n",
              "unique                                              11968   \n",
              "top     University degree required. TEFL / TESOL / CEL...   \n",
              "freq                                                  410   \n",
              "\n",
              "                   benefits employment_type required_experience  \\\n",
              "count                 10670           14409               10830   \n",
              "unique                 6205               5                   7   \n",
              "top     See job description       Full-time    Mid-Senior level   \n",
              "freq                    726           11620                3809   \n",
              "\n",
              "       required_education                             industry  \\\n",
              "count                9775                                12977   \n",
              "unique                 13                                  131   \n",
              "top     Bachelor's Degree  Information Technology and Services   \n",
              "freq                 5145                                 1734   \n",
              "\n",
              "                      function  \n",
              "count                    11425  \n",
              "unique                      37  \n",
              "top     Information Technology  \n",
              "freq                      1749  "
            ]
          },
          "execution_count": 8,
          "metadata": {},
          "output_type": "execute_result"
        }
      ],
      "source": [
        "data.describe(include = ['object'])"
      ]
    },
    {
      "cell_type": "code",
      "execution_count": 9,
      "metadata": {
        "colab": {
          "base_uri": "https://localhost:8080/",
          "height": 528
        },
        "id": "k2qhFJAtaSpb",
        "outputId": "2d6aa8d3-0a81-4b43-c66b-bc0ce6a4a3d9"
      },
      "outputs": [
        {
          "data": {
            "text/html": [
              "<div>\n",
              "<style scoped>\n",
              "    .dataframe tbody tr th:only-of-type {\n",
              "        vertical-align: middle;\n",
              "    }\n",
              "\n",
              "    .dataframe tbody tr th {\n",
              "        vertical-align: top;\n",
              "    }\n",
              "\n",
              "    .dataframe thead th {\n",
              "        text-align: right;\n",
              "    }\n",
              "</style>\n",
              "<table border=\"1\" class=\"dataframe\">\n",
              "  <thead>\n",
              "    <tr style=\"text-align: right;\">\n",
              "      <th></th>\n",
              "      <th>job_id</th>\n",
              "      <th>title</th>\n",
              "      <th>location</th>\n",
              "      <th>department</th>\n",
              "      <th>salary_range</th>\n",
              "      <th>company_profile</th>\n",
              "      <th>description</th>\n",
              "      <th>requirements</th>\n",
              "      <th>benefits</th>\n",
              "      <th>telecommuting</th>\n",
              "      <th>has_company_logo</th>\n",
              "      <th>has_questions</th>\n",
              "      <th>employment_type</th>\n",
              "      <th>required_experience</th>\n",
              "      <th>required_education</th>\n",
              "      <th>industry</th>\n",
              "      <th>function</th>\n",
              "      <th>fraudulent</th>\n",
              "    </tr>\n",
              "  </thead>\n",
              "  <tbody>\n",
              "    <tr>\n",
              "      <th>count</th>\n",
              "      <td>17880.000000</td>\n",
              "      <td>17880</td>\n",
              "      <td>17534</td>\n",
              "      <td>6333</td>\n",
              "      <td>2868</td>\n",
              "      <td>14572</td>\n",
              "      <td>17879</td>\n",
              "      <td>15185</td>\n",
              "      <td>10670</td>\n",
              "      <td>17880.000000</td>\n",
              "      <td>17880.000000</td>\n",
              "      <td>17880.000000</td>\n",
              "      <td>14409</td>\n",
              "      <td>10830</td>\n",
              "      <td>9775</td>\n",
              "      <td>12977</td>\n",
              "      <td>11425</td>\n",
              "      <td>17880.000000</td>\n",
              "    </tr>\n",
              "    <tr>\n",
              "      <th>unique</th>\n",
              "      <td>NaN</td>\n",
              "      <td>11231</td>\n",
              "      <td>3105</td>\n",
              "      <td>1337</td>\n",
              "      <td>874</td>\n",
              "      <td>1709</td>\n",
              "      <td>14801</td>\n",
              "      <td>11968</td>\n",
              "      <td>6205</td>\n",
              "      <td>NaN</td>\n",
              "      <td>NaN</td>\n",
              "      <td>NaN</td>\n",
              "      <td>5</td>\n",
              "      <td>7</td>\n",
              "      <td>13</td>\n",
              "      <td>131</td>\n",
              "      <td>37</td>\n",
              "      <td>NaN</td>\n",
              "    </tr>\n",
              "    <tr>\n",
              "      <th>top</th>\n",
              "      <td>NaN</td>\n",
              "      <td>English Teacher Abroad</td>\n",
              "      <td>GB, LND, London</td>\n",
              "      <td>Sales</td>\n",
              "      <td>0-0</td>\n",
              "      <td>We help teachers get safe &amp;amp; secure jobs ab...</td>\n",
              "      <td>Play with kids, get paid for it Love travel? J...</td>\n",
              "      <td>University degree required. TEFL / TESOL / CEL...</td>\n",
              "      <td>See job description</td>\n",
              "      <td>NaN</td>\n",
              "      <td>NaN</td>\n",
              "      <td>NaN</td>\n",
              "      <td>Full-time</td>\n",
              "      <td>Mid-Senior level</td>\n",
              "      <td>Bachelor's Degree</td>\n",
              "      <td>Information Technology and Services</td>\n",
              "      <td>Information Technology</td>\n",
              "      <td>NaN</td>\n",
              "    </tr>\n",
              "    <tr>\n",
              "      <th>freq</th>\n",
              "      <td>NaN</td>\n",
              "      <td>311</td>\n",
              "      <td>718</td>\n",
              "      <td>551</td>\n",
              "      <td>142</td>\n",
              "      <td>726</td>\n",
              "      <td>379</td>\n",
              "      <td>410</td>\n",
              "      <td>726</td>\n",
              "      <td>NaN</td>\n",
              "      <td>NaN</td>\n",
              "      <td>NaN</td>\n",
              "      <td>11620</td>\n",
              "      <td>3809</td>\n",
              "      <td>5145</td>\n",
              "      <td>1734</td>\n",
              "      <td>1749</td>\n",
              "      <td>NaN</td>\n",
              "    </tr>\n",
              "    <tr>\n",
              "      <th>mean</th>\n",
              "      <td>8940.500000</td>\n",
              "      <td>NaN</td>\n",
              "      <td>NaN</td>\n",
              "      <td>NaN</td>\n",
              "      <td>NaN</td>\n",
              "      <td>NaN</td>\n",
              "      <td>NaN</td>\n",
              "      <td>NaN</td>\n",
              "      <td>NaN</td>\n",
              "      <td>0.042897</td>\n",
              "      <td>0.795302</td>\n",
              "      <td>0.491723</td>\n",
              "      <td>NaN</td>\n",
              "      <td>NaN</td>\n",
              "      <td>NaN</td>\n",
              "      <td>NaN</td>\n",
              "      <td>NaN</td>\n",
              "      <td>0.048434</td>\n",
              "    </tr>\n",
              "    <tr>\n",
              "      <th>std</th>\n",
              "      <td>5161.655742</td>\n",
              "      <td>NaN</td>\n",
              "      <td>NaN</td>\n",
              "      <td>NaN</td>\n",
              "      <td>NaN</td>\n",
              "      <td>NaN</td>\n",
              "      <td>NaN</td>\n",
              "      <td>NaN</td>\n",
              "      <td>NaN</td>\n",
              "      <td>0.202631</td>\n",
              "      <td>0.403492</td>\n",
              "      <td>0.499945</td>\n",
              "      <td>NaN</td>\n",
              "      <td>NaN</td>\n",
              "      <td>NaN</td>\n",
              "      <td>NaN</td>\n",
              "      <td>NaN</td>\n",
              "      <td>0.214688</td>\n",
              "    </tr>\n",
              "    <tr>\n",
              "      <th>min</th>\n",
              "      <td>1.000000</td>\n",
              "      <td>NaN</td>\n",
              "      <td>NaN</td>\n",
              "      <td>NaN</td>\n",
              "      <td>NaN</td>\n",
              "      <td>NaN</td>\n",
              "      <td>NaN</td>\n",
              "      <td>NaN</td>\n",
              "      <td>NaN</td>\n",
              "      <td>0.000000</td>\n",
              "      <td>0.000000</td>\n",
              "      <td>0.000000</td>\n",
              "      <td>NaN</td>\n",
              "      <td>NaN</td>\n",
              "      <td>NaN</td>\n",
              "      <td>NaN</td>\n",
              "      <td>NaN</td>\n",
              "      <td>0.000000</td>\n",
              "    </tr>\n",
              "    <tr>\n",
              "      <th>25%</th>\n",
              "      <td>4470.750000</td>\n",
              "      <td>NaN</td>\n",
              "      <td>NaN</td>\n",
              "      <td>NaN</td>\n",
              "      <td>NaN</td>\n",
              "      <td>NaN</td>\n",
              "      <td>NaN</td>\n",
              "      <td>NaN</td>\n",
              "      <td>NaN</td>\n",
              "      <td>0.000000</td>\n",
              "      <td>1.000000</td>\n",
              "      <td>0.000000</td>\n",
              "      <td>NaN</td>\n",
              "      <td>NaN</td>\n",
              "      <td>NaN</td>\n",
              "      <td>NaN</td>\n",
              "      <td>NaN</td>\n",
              "      <td>0.000000</td>\n",
              "    </tr>\n",
              "    <tr>\n",
              "      <th>50%</th>\n",
              "      <td>8940.500000</td>\n",
              "      <td>NaN</td>\n",
              "      <td>NaN</td>\n",
              "      <td>NaN</td>\n",
              "      <td>NaN</td>\n",
              "      <td>NaN</td>\n",
              "      <td>NaN</td>\n",
              "      <td>NaN</td>\n",
              "      <td>NaN</td>\n",
              "      <td>0.000000</td>\n",
              "      <td>1.000000</td>\n",
              "      <td>0.000000</td>\n",
              "      <td>NaN</td>\n",
              "      <td>NaN</td>\n",
              "      <td>NaN</td>\n",
              "      <td>NaN</td>\n",
              "      <td>NaN</td>\n",
              "      <td>0.000000</td>\n",
              "    </tr>\n",
              "    <tr>\n",
              "      <th>75%</th>\n",
              "      <td>13410.250000</td>\n",
              "      <td>NaN</td>\n",
              "      <td>NaN</td>\n",
              "      <td>NaN</td>\n",
              "      <td>NaN</td>\n",
              "      <td>NaN</td>\n",
              "      <td>NaN</td>\n",
              "      <td>NaN</td>\n",
              "      <td>NaN</td>\n",
              "      <td>0.000000</td>\n",
              "      <td>1.000000</td>\n",
              "      <td>1.000000</td>\n",
              "      <td>NaN</td>\n",
              "      <td>NaN</td>\n",
              "      <td>NaN</td>\n",
              "      <td>NaN</td>\n",
              "      <td>NaN</td>\n",
              "      <td>0.000000</td>\n",
              "    </tr>\n",
              "    <tr>\n",
              "      <th>max</th>\n",
              "      <td>17880.000000</td>\n",
              "      <td>NaN</td>\n",
              "      <td>NaN</td>\n",
              "      <td>NaN</td>\n",
              "      <td>NaN</td>\n",
              "      <td>NaN</td>\n",
              "      <td>NaN</td>\n",
              "      <td>NaN</td>\n",
              "      <td>NaN</td>\n",
              "      <td>1.000000</td>\n",
              "      <td>1.000000</td>\n",
              "      <td>1.000000</td>\n",
              "      <td>NaN</td>\n",
              "      <td>NaN</td>\n",
              "      <td>NaN</td>\n",
              "      <td>NaN</td>\n",
              "      <td>NaN</td>\n",
              "      <td>1.000000</td>\n",
              "    </tr>\n",
              "  </tbody>\n",
              "</table>\n",
              "</div>"
            ],
            "text/plain": [
              "              job_id                    title         location department  \\\n",
              "count   17880.000000                    17880            17534       6333   \n",
              "unique           NaN                    11231             3105       1337   \n",
              "top              NaN  English Teacher Abroad   GB, LND, London      Sales   \n",
              "freq             NaN                      311              718        551   \n",
              "mean     8940.500000                      NaN              NaN        NaN   \n",
              "std      5161.655742                      NaN              NaN        NaN   \n",
              "min         1.000000                      NaN              NaN        NaN   \n",
              "25%      4470.750000                      NaN              NaN        NaN   \n",
              "50%      8940.500000                      NaN              NaN        NaN   \n",
              "75%     13410.250000                      NaN              NaN        NaN   \n",
              "max     17880.000000                      NaN              NaN        NaN   \n",
              "\n",
              "       salary_range                                    company_profile  \\\n",
              "count          2868                                              14572   \n",
              "unique          874                                               1709   \n",
              "top             0-0  We help teachers get safe &amp; secure jobs ab...   \n",
              "freq            142                                                726   \n",
              "mean            NaN                                                NaN   \n",
              "std             NaN                                                NaN   \n",
              "min             NaN                                                NaN   \n",
              "25%             NaN                                                NaN   \n",
              "50%             NaN                                                NaN   \n",
              "75%             NaN                                                NaN   \n",
              "max             NaN                                                NaN   \n",
              "\n",
              "                                              description  \\\n",
              "count                                               17879   \n",
              "unique                                              14801   \n",
              "top     Play with kids, get paid for it Love travel? J...   \n",
              "freq                                                  379   \n",
              "mean                                                  NaN   \n",
              "std                                                   NaN   \n",
              "min                                                   NaN   \n",
              "25%                                                   NaN   \n",
              "50%                                                   NaN   \n",
              "75%                                                   NaN   \n",
              "max                                                   NaN   \n",
              "\n",
              "                                             requirements  \\\n",
              "count                                               15185   \n",
              "unique                                              11968   \n",
              "top     University degree required. TEFL / TESOL / CEL...   \n",
              "freq                                                  410   \n",
              "mean                                                  NaN   \n",
              "std                                                   NaN   \n",
              "min                                                   NaN   \n",
              "25%                                                   NaN   \n",
              "50%                                                   NaN   \n",
              "75%                                                   NaN   \n",
              "max                                                   NaN   \n",
              "\n",
              "                   benefits  telecommuting  has_company_logo  has_questions  \\\n",
              "count                 10670   17880.000000      17880.000000   17880.000000   \n",
              "unique                 6205            NaN               NaN            NaN   \n",
              "top     See job description            NaN               NaN            NaN   \n",
              "freq                    726            NaN               NaN            NaN   \n",
              "mean                    NaN       0.042897          0.795302       0.491723   \n",
              "std                     NaN       0.202631          0.403492       0.499945   \n",
              "min                     NaN       0.000000          0.000000       0.000000   \n",
              "25%                     NaN       0.000000          1.000000       0.000000   \n",
              "50%                     NaN       0.000000          1.000000       0.000000   \n",
              "75%                     NaN       0.000000          1.000000       1.000000   \n",
              "max                     NaN       1.000000          1.000000       1.000000   \n",
              "\n",
              "       employment_type required_experience required_education  \\\n",
              "count            14409               10830               9775   \n",
              "unique               5                   7                 13   \n",
              "top          Full-time    Mid-Senior level  Bachelor's Degree   \n",
              "freq             11620                3809               5145   \n",
              "mean               NaN                 NaN                NaN   \n",
              "std                NaN                 NaN                NaN   \n",
              "min                NaN                 NaN                NaN   \n",
              "25%                NaN                 NaN                NaN   \n",
              "50%                NaN                 NaN                NaN   \n",
              "75%                NaN                 NaN                NaN   \n",
              "max                NaN                 NaN                NaN   \n",
              "\n",
              "                                   industry                function  \\\n",
              "count                                 12977                   11425   \n",
              "unique                                  131                      37   \n",
              "top     Information Technology and Services  Information Technology   \n",
              "freq                                   1734                    1749   \n",
              "mean                                    NaN                     NaN   \n",
              "std                                     NaN                     NaN   \n",
              "min                                     NaN                     NaN   \n",
              "25%                                     NaN                     NaN   \n",
              "50%                                     NaN                     NaN   \n",
              "75%                                     NaN                     NaN   \n",
              "max                                     NaN                     NaN   \n",
              "\n",
              "          fraudulent  \n",
              "count   17880.000000  \n",
              "unique           NaN  \n",
              "top              NaN  \n",
              "freq             NaN  \n",
              "mean        0.048434  \n",
              "std         0.214688  \n",
              "min         0.000000  \n",
              "25%         0.000000  \n",
              "50%         0.000000  \n",
              "75%         0.000000  \n",
              "max         1.000000  "
            ]
          },
          "execution_count": 9,
          "metadata": {},
          "output_type": "execute_result"
        }
      ],
      "source": [
        "data.describe(include = 'all')"
      ]
    },
    {
      "cell_type": "markdown",
      "metadata": {
        "id": "P5hX0518aSpb"
      },
      "source": [
        "Выведем матрицу графиков рессеивания (запускать на свой стах и риск):"
      ]
    },
    {
      "cell_type": "code",
      "execution_count": 10,
      "metadata": {
        "id": "UvL19cWAaSpb"
      },
      "outputs": [],
      "source": [
        "#from pandas.plotting import scatter_matrix\n",
        "#scatter_matrix(data, alpha = .01, figsize = (10, 10))\n",
        "#pass"
      ]
    },
    {
      "cell_type": "markdown",
      "metadata": {
        "id": "nllCbzzraSpb"
      },
      "source": [
        "Выведем матрицу корреляции наших численных признаков:"
      ]
    },
    {
      "cell_type": "code",
      "execution_count": 11,
      "metadata": {
        "colab": {
          "base_uri": "https://localhost:8080/",
          "height": 332
        },
        "id": "rnYqF3ZlaSpb",
        "outputId": "723c5a59-e13e-4b7a-8e9d-48435cf35829"
      },
      "outputs": [
        {
          "name": "stderr",
          "output_type": "stream",
          "text": [
            "C:\\Users\\nick\\AppData\\Local\\Temp\\ipykernel_20052\\2627137660.py:1: FutureWarning: The default value of numeric_only in DataFrame.corr is deprecated. In a future version, it will default to False. Select only valid columns or specify the value of numeric_only to silence this warning.\n",
            "  data.corr()\n"
          ]
        },
        {
          "data": {
            "text/html": [
              "<div>\n",
              "<style scoped>\n",
              "    .dataframe tbody tr th:only-of-type {\n",
              "        vertical-align: middle;\n",
              "    }\n",
              "\n",
              "    .dataframe tbody tr th {\n",
              "        vertical-align: top;\n",
              "    }\n",
              "\n",
              "    .dataframe thead th {\n",
              "        text-align: right;\n",
              "    }\n",
              "</style>\n",
              "<table border=\"1\" class=\"dataframe\">\n",
              "  <thead>\n",
              "    <tr style=\"text-align: right;\">\n",
              "      <th></th>\n",
              "      <th>job_id</th>\n",
              "      <th>telecommuting</th>\n",
              "      <th>has_company_logo</th>\n",
              "      <th>has_questions</th>\n",
              "      <th>fraudulent</th>\n",
              "    </tr>\n",
              "  </thead>\n",
              "  <tbody>\n",
              "    <tr>\n",
              "      <th>job_id</th>\n",
              "      <td>1.000000</td>\n",
              "      <td>-0.004559</td>\n",
              "      <td>-0.014539</td>\n",
              "      <td>-0.087025</td>\n",
              "      <td>0.079872</td>\n",
              "    </tr>\n",
              "    <tr>\n",
              "      <th>telecommuting</th>\n",
              "      <td>-0.004559</td>\n",
              "      <td>1.000000</td>\n",
              "      <td>-0.019836</td>\n",
              "      <td>0.020345</td>\n",
              "      <td>0.034523</td>\n",
              "    </tr>\n",
              "    <tr>\n",
              "      <th>has_company_logo</th>\n",
              "      <td>-0.014539</td>\n",
              "      <td>-0.019836</td>\n",
              "      <td>1.000000</td>\n",
              "      <td>0.233932</td>\n",
              "      <td>-0.261971</td>\n",
              "    </tr>\n",
              "    <tr>\n",
              "      <th>has_questions</th>\n",
              "      <td>-0.087025</td>\n",
              "      <td>0.020345</td>\n",
              "      <td>0.233932</td>\n",
              "      <td>1.000000</td>\n",
              "      <td>-0.091627</td>\n",
              "    </tr>\n",
              "    <tr>\n",
              "      <th>fraudulent</th>\n",
              "      <td>0.079872</td>\n",
              "      <td>0.034523</td>\n",
              "      <td>-0.261971</td>\n",
              "      <td>-0.091627</td>\n",
              "      <td>1.000000</td>\n",
              "    </tr>\n",
              "  </tbody>\n",
              "</table>\n",
              "</div>"
            ],
            "text/plain": [
              "                    job_id  telecommuting  has_company_logo  has_questions  \\\n",
              "job_id            1.000000      -0.004559         -0.014539      -0.087025   \n",
              "telecommuting    -0.004559       1.000000         -0.019836       0.020345   \n",
              "has_company_logo -0.014539      -0.019836          1.000000       0.233932   \n",
              "has_questions    -0.087025       0.020345          0.233932       1.000000   \n",
              "fraudulent        0.079872       0.034523         -0.261971      -0.091627   \n",
              "\n",
              "                  fraudulent  \n",
              "job_id              0.079872  \n",
              "telecommuting       0.034523  \n",
              "has_company_logo   -0.261971  \n",
              "has_questions      -0.091627  \n",
              "fraudulent          1.000000  "
            ]
          },
          "execution_count": 11,
          "metadata": {},
          "output_type": "execute_result"
        }
      ],
      "source": [
        "data.corr()"
      ]
    },
    {
      "cell_type": "markdown",
      "metadata": {
        "id": "Piyq938vaSpc"
      },
      "source": [
        "Визуализируем данную матрицу корреляции:"
      ]
    },
    {
      "cell_type": "code",
      "execution_count": 12,
      "metadata": {
        "colab": {
          "base_uri": "https://localhost:8080/"
        },
        "id": "XxoDxZ0zaSpc",
        "outputId": "6344faf6-4623-4221-b470-c4ee8e8e39f6"
      },
      "outputs": [
        {
          "name": "stderr",
          "output_type": "stream",
          "text": [
            "'c:\\Program' is not recognized as an internal or external command,\n",
            "operable program or batch file.\n"
          ]
        }
      ],
      "source": [
        "import sys\n",
        "!{sys.executable} -m pip install seaborn\n",
        "import seaborn as sns"
      ]
    },
    {
      "cell_type": "code",
      "execution_count": 13,
      "metadata": {
        "colab": {
          "base_uri": "https://localhost:8080/",
          "height": 371
        },
        "id": "k_svuV81aSpc",
        "outputId": "e5f96be2-e09c-4626-a5c6-3b33118ff069"
      },
      "outputs": [
        {
          "name": "stderr",
          "output_type": "stream",
          "text": [
            "C:\\Users\\nick\\AppData\\Local\\Temp\\ipykernel_20052\\4293635737.py:1: FutureWarning: The default value of numeric_only in DataFrame.corr is deprecated. In a future version, it will default to False. Select only valid columns or specify the value of numeric_only to silence this warning.\n",
            "  corr_mat = data.corr()\n"
          ]
        },
        {
          "data": {
            "text/plain": [
              "<AxesSubplot: >"
            ]
          },
          "execution_count": 13,
          "metadata": {},
          "output_type": "execute_result"
        },
        {
          "data": {
            "image/png": "[encoded data removed]",
            "text/plain": [
              "<Figure size 640x480 with 2 Axes>"
            ]
          },
          "metadata": {},
          "output_type": "display_data"
        }
      ],
      "source": [
        "corr_mat = data.corr()\n",
        "sns.heatmap(corr_mat, square=True, fmt='.2f', vmin=-1, vmax=1, cmap='coolwarm')"
      ]
    },
    {
      "cell_type": "markdown",
      "metadata": {},
      "source": [
        "Наблюдается слабая корреляция признаков."
      ]
    },
    {
      "cell_type": "code",
      "execution_count": 36,
      "metadata": {},
      "outputs": [
        {
          "data": {
            "image/png": "[encoded data removed]",
            "text/plain": [
              "<Figure size 640x480 with 1 Axes>"
            ]
          },
          "metadata": {},
          "output_type": "display_data"
        }
      ],
      "source": [
        "data['fraudulent'].value_counts() / data['fraudulent'].value_counts().sum()*100\n",
        "sns.countplot(x='fraudulent', data=data)\n",
        "pass"
      ]
    },
    {
      "cell_type": "markdown",
      "metadata": {},
      "source": [
        "Значительная неравномерность распределения классов"
      ]
    },
    {
      "cell_type": "code",
      "execution_count": 37,
      "metadata": {},
      "outputs": [
        {
          "data": {
            "image/png": "[encoded data removed]",
            "text/plain": [
              "<Figure size 2250x2250 with 90 Axes>"
            ]
          },
          "metadata": {},
          "output_type": "display_data"
        }
      ],
      "source": [
        "random_subset = np.random.choice(np.arange(data.shape[0]), size=500, replace=False)\n",
        "sns.pairplot(data.iloc[random_subset], diag_kind=\"hist\")\n",
        "pass"
      ]
    },
    {
      "cell_type": "markdown",
      "metadata": {
        "id": "mJY4pC4ZaSpd"
      },
      "source": [
        "Выведем уникальные значения для некоторых нечисловых признаков:"
      ]
    },
    {
      "cell_type": "code",
      "execution_count": 14,
      "metadata": {
        "colab": {
          "base_uri": "https://localhost:8080/"
        },
        "id": "tps1JJXzaSpd",
        "outputId": "4731efaa-7fa0-458c-e82f-03dc5f6ca3a0"
      },
      "outputs": [
        {
          "data": {
            "text/plain": [
              "array(['US, NY, New York', 'NZ, , Auckland', 'US, IA, Wever', ...,\n",
              "       'US, CA, los Angeles', 'CA, , Ottawa', 'GB, WSX, Chichester'],\n",
              "      dtype=object)"
            ]
          },
          "execution_count": 14,
          "metadata": {},
          "output_type": "execute_result"
        }
      ],
      "source": [
        "data['location'].unique()"
      ]
    },
    {
      "cell_type": "code",
      "execution_count": 15,
      "metadata": {
        "colab": {
          "base_uri": "https://localhost:8080/"
        },
        "id": "ly3g_S8xaSpd",
        "outputId": "6c019a3c-4c70-4f74-fb77-55d3e5dac670"
      },
      "outputs": [
        {
          "data": {
            "text/plain": [
              "array(['Marketing', 'Success', nan, ..., 'Admin - Clerical',\n",
              "       'Administrative Dept', 'Hospitality'], dtype=object)"
            ]
          },
          "execution_count": 15,
          "metadata": {},
          "output_type": "execute_result"
        }
      ],
      "source": [
        "data['department'].unique()"
      ]
    },
    {
      "cell_type": "markdown",
      "metadata": {
        "id": "EzcGtCEvaSpe"
      },
      "source": [
        "## Готовим данные"
      ]
    },
    {
      "cell_type": "markdown",
      "metadata": {
        "id": "J9e0-61kdD2f"
      },
      "source": [
        "Для предсказания оригинальности вакансии будем использовать все признаки, кроме: job_id, location, department, salary_range, description, title, company_profile, benefits, requirements."
      ]
    },
    {
      "cell_type": "code",
      "execution_count": 16,
      "metadata": {
        "id": "KY2AwhjGdCAX"
      },
      "outputs": [],
      "source": [
        "data=data.drop(['job_id','location','department','salary_range','description','title','company_profile','benefits','requirements'],axis=1)"
      ]
    },
    {
      "cell_type": "markdown",
      "metadata": {
        "id": "ixBYc43naSpe"
      },
      "source": [
        "Рассортируем категориальные и численные признаки:"
      ]
    },
    {
      "cell_type": "code",
      "execution_count": 17,
      "metadata": {
        "colab": {
          "base_uri": "https://localhost:8080/"
        },
        "id": "Kub29byEaSpe",
        "outputId": "d06acece-e635-4f3c-fa8d-b08433036a70"
      },
      "outputs": [
        {
          "name": "stdout",
          "output_type": "stream",
          "text": [
            "['employment_type', 'required_experience', 'required_education', 'industry', 'function']\n",
            "['telecommuting', 'has_company_logo', 'has_questions', 'fraudulent']\n"
          ]
        }
      ],
      "source": [
        "categorical_columns = [c for c in data.columns if data[c].dtype.name == 'object']\n",
        "numerical_columns   = [c for c in data.columns if data[c].dtype.name != 'object']\n",
        "print(categorical_columns)\n",
        "print(numerical_columns)"
      ]
    },
    {
      "cell_type": "markdown",
      "metadata": {
        "id": "__ioJeNIaSpe"
      },
      "source": [
        "Выведем все уникальные значения для каждого категориального признака:"
      ]
    },
    {
      "cell_type": "code",
      "execution_count": 18,
      "metadata": {
        "colab": {
          "base_uri": "https://localhost:8080/"
        },
        "id": "0uhFzRV0aSpe",
        "outputId": "810d55cd-30ff-489f-fbc1-460419f365b4"
      },
      "outputs": [
        {
          "name": "stdout",
          "output_type": "stream",
          "text": [
            "employment_type: ['Other' 'Full-time' nan 'Part-time' 'Contract' 'Temporary']\n",
            "required_experience: ['Internship' 'Not Applicable' nan 'Mid-Senior level' 'Associate'\n",
            " 'Entry level' 'Executive' 'Director']\n",
            "required_education: [nan \"Bachelor's Degree\" \"Master's Degree\" 'High School or equivalent'\n",
            " 'Unspecified' 'Some College Coursework Completed' 'Vocational'\n",
            " 'Certification' 'Associate Degree' 'Professional' 'Doctorate'\n",
            " 'Some High School Coursework' 'Vocational - Degree'\n",
            " 'Vocational - HS Diploma']\n",
            "industry: [nan 'Marketing and Advertising' 'Computer Software'\n",
            " 'Hospital & Health Care' 'Online Media'\n",
            " 'Information Technology and Services' 'Financial Services'\n",
            " 'Management Consulting' 'Events Services' 'Internet'\n",
            " 'Facilities Services' 'Consumer Electronics' 'Telecommunications'\n",
            " 'Consumer Services' 'Construction' 'Oil & Energy' 'Education Management'\n",
            " 'Building Materials' 'Banking' 'Food & Beverages' 'Food Production'\n",
            " 'Health, Wellness and Fitness' 'Insurance' 'E-Learning' 'Cosmetics'\n",
            " 'Staffing and Recruiting' 'Venture Capital & Private Equity'\n",
            " 'Leisure, Travel & Tourism' 'Human Resources' 'Pharmaceuticals' 'Farming'\n",
            " 'Legal Services' 'Luxury Goods & Jewelry' 'Machinery' 'Real Estate'\n",
            " 'Mechanical or Industrial Engineering'\n",
            " 'Public Relations and Communications' 'Consumer Goods' 'Medical Practice'\n",
            " 'Electrical/Electronic Manufacturing' 'Hospitality' 'Music'\n",
            " 'Market Research' 'Automotive' 'Philanthropy' 'Utilities'\n",
            " 'Primary/Secondary Education' 'Logistics and Supply Chain' 'Design'\n",
            " 'Gambling & Casinos' 'Accounting' 'Environmental Services'\n",
            " 'Mental Health Care' 'Investment Management' 'Apparel & Fashion'\n",
            " 'Media Production' 'Publishing' 'Medical Devices' 'Information Services'\n",
            " 'Retail' 'Sports' 'Computer Games' 'Chemicals' 'Aviation & Aerospace'\n",
            " 'Business Supplies and Equipment' 'Program Development'\n",
            " 'Computer Networking' 'Biotechnology' 'Civic & Social Organization'\n",
            " 'Religious Institutions' 'Warehousing' 'Airlines/Aviation'\n",
            " 'Writing and Editing' 'Restaurants' 'Outsourcing/Offshoring'\n",
            " 'Transportation/Trucking/Railroad' 'Wireless' 'Investment Banking'\n",
            " 'Nonprofit Organization Management' 'Libraries' 'Computer Hardware'\n",
            " 'Broadcast Media' 'Printing' 'Graphic Design' 'Entertainment' 'Wholesale'\n",
            " 'Research' 'Animation' 'Government Administration' 'Capital Markets'\n",
            " 'Computer & Network Security' 'Semiconductors'\n",
            " 'Security and Investigations' 'Architecture & Planning' 'Maritime'\n",
            " 'Fund-Raising' 'Higher Education' 'Renewables & Environment'\n",
            " 'Motion Pictures and Film' 'Law Practice' 'Government Relations'\n",
            " 'Packaging and Containers' 'Sporting Goods' 'Mining & Metals'\n",
            " 'Import and Export' 'International Trade and Development'\n",
            " 'Professional Training & Coaching' 'Textiles' 'Commercial Real Estate'\n",
            " 'Law Enforcement' 'Package/Freight Delivery'\n",
            " 'Translation and Localization' 'Photography' 'Industrial Automation'\n",
            " 'Wine and Spirits' 'Public Safety' 'Civil Engineering' 'Military'\n",
            " 'Defense & Space' 'Veterinary' 'Executive Office' 'Performing Arts'\n",
            " 'Individual & Family Services' 'Public Policy' 'Nanotechnology'\n",
            " 'Museums and Institutions' 'Fishery' 'Plastics' 'Furniture'\n",
            " 'Shipbuilding' 'Alternative Dispute Resolution' 'Ranching']\n",
            "function: ['Marketing' 'Customer Service' nan 'Sales' 'Health Care Provider'\n",
            " 'Management' 'Information Technology' 'Other' 'Engineering'\n",
            " 'Administrative' 'Design' 'Production' 'Education' 'Supply Chain'\n",
            " 'Business Development' 'Product Management' 'Financial Analyst'\n",
            " 'Consulting' 'Human Resources' 'Project Management' 'Manufacturing'\n",
            " 'Public Relations' 'Strategy/Planning' 'Advertising' 'Finance'\n",
            " 'General Business' 'Research' 'Accounting/Auditing' 'Art/Creative'\n",
            " 'Quality Assurance' 'Data Analyst' 'Business Analyst' 'Writing/Editing'\n",
            " 'Distribution' 'Science' 'Training' 'Purchasing' 'Legal']\n"
          ]
        }
      ],
      "source": [
        "for c in categorical_columns:\n",
        "    print(f\"{c}: {data[c].unique()}\")"
      ]
    },
    {
      "cell_type": "code",
      "execution_count": 19,
      "metadata": {
        "colab": {
          "base_uri": "https://localhost:8080/"
        },
        "id": "ocdwKL2MdQF5",
        "outputId": "c10be49d-4304-4ddd-e66b-3230aecb4fb4"
      },
      "outputs": [
        {
          "data": {
            "text/plain": [
              "telecommuting             0\n",
              "has_company_logo          0\n",
              "has_questions             0\n",
              "employment_type        3471\n",
              "required_experience    7050\n",
              "required_education     8105\n",
              "industry               4903\n",
              "function               6455\n",
              "fraudulent                0\n",
              "dtype: int64"
            ]
          },
          "execution_count": 19,
          "metadata": {},
          "output_type": "execute_result"
        }
      ],
      "source": [
        "data.isnull().sum()"
      ]
    },
    {
      "cell_type": "markdown",
      "metadata": {},
      "source": [
        "Заполним пропущенные значения модой"
      ]
    },
    {
      "cell_type": "code",
      "execution_count": 20,
      "metadata": {
        "colab": {
          "base_uri": "https://localhost:8080/"
        },
        "id": "MrxDpWVWdR3m",
        "outputId": "d4deb092-9f62-4c21-85ac-875ba6b0dbb8"
      },
      "outputs": [
        {
          "data": {
            "text/plain": [
              "telecommuting          0\n",
              "has_company_logo       0\n",
              "has_questions          0\n",
              "employment_type        0\n",
              "required_experience    0\n",
              "required_education     0\n",
              "industry               0\n",
              "function               0\n",
              "fraudulent             0\n",
              "dtype: int64"
            ]
          },
          "execution_count": 20,
          "metadata": {},
          "output_type": "execute_result"
        }
      ],
      "source": [
        "columns_list=list(data.columns)\n",
        "\n",
        "for i in columns_list:\n",
        "    if data[i].dtype=='object':\n",
        "        data[i]=data[i].replace(np.nan,data[i].mode()[0],regex=True)\n",
        "\n",
        "data.isnull().sum()"
      ]
    },
    {
      "cell_type": "code",
      "execution_count": 21,
      "metadata": {
        "id": "Hr-eu7LXeOR6"
      },
      "outputs": [],
      "source": [
        "from sklearn.preprocessing import LabelEncoder\n",
        "le=LabelEncoder()\n",
        "\n",
        "#Присваивание меток объектам типа 'object'\n",
        "for i in columns_list:\n",
        "    if data[i].dtype=='object':\n",
        "        data[i]=le.fit_transform(data[i])\n",
        "        \n",
        "x=data.drop(['fraudulent'],axis=1)\n",
        "y=data['fraudulent']\n",
        "from sklearn.model_selection import train_test_split\n",
        "x_train, x_test, y_train, y_test=train_test_split(x,y,random_state=0,test_size=0.2)"
      ]
    },
    {
      "cell_type": "markdown",
      "metadata": {
        "id": "oxm7t8WgaSpi"
      },
      "source": [
        "## Обучение"
      ]
    },
    {
      "cell_type": "markdown",
      "metadata": {
        "id": "9ryCP_xlaSpi"
      },
      "source": [
        "Попробуем обучить нашу модель с помощью метода `kNN`:"
      ]
    },
    {
      "cell_type": "code",
      "execution_count": 22,
      "metadata": {
        "colab": {
          "base_uri": "https://localhost:8080/"
        },
        "id": "xVfDJVjKaSpj",
        "outputId": "771b53d0-ed10-43a6-bcb6-a80b2d7a4e30"
      },
      "outputs": [
        {
          "data": {
            "text/html": [
              "<style>#sk-container-id-1 {color: black;background-color: white;}#sk-container-id-1 pre{padding: 0;}#sk-container-id-1 div.sk-toggleable {background-color: white;}#sk-container-id-1 label.sk-toggleable__label {cursor: pointer;display: block;width: 100%;margin-bottom: 0;padding: 0.3em;box-sizing: border-box;text-align: center;}#sk-container-id-1 label.sk-toggleable__label-arrow:before {content: \"▸\";float: left;margin-right: 0.25em;color: #696969;}#sk-container-id-1 label.sk-toggleable__label-arrow:hover:before {color: black;}#sk-container-id-1 div.sk-estimator:hover label.sk-toggleable__label-arrow:before {color: black;}#sk-container-id-1 div.sk-toggleable__content {max-height: 0;max-width: 0;overflow: hidden;text-align: left;background-color: #f0f8ff;}#sk-container-id-1 div.sk-toggleable__content pre {margin: 0.2em;color: black;border-radius: 0.25em;background-color: #f0f8ff;}#sk-container-id-1 input.sk-toggleable__control:checked~div.sk-toggleable__content {max-height: 200px;max-width: 100%;overflow: auto;}#sk-container-id-1 input.sk-toggleable__control:checked~label.sk-toggleable__label-arrow:before {content: \"▾\";}#sk-container-id-1 div.sk-estimator input.sk-toggleable__control:checked~label.sk-toggleable__label {background-color: #d4ebff;}#sk-container-id-1 div.sk-label input.sk-toggleable__control:checked~label.sk-toggleable__label {background-color: #d4ebff;}#sk-container-id-1 input.sk-hidden--visually {border: 0;clip: rect(1px 1px 1px 1px);clip: rect(1px, 1px, 1px, 1px);height: 1px;margin: -1px;overflow: hidden;padding: 0;position: absolute;width: 1px;}#sk-container-id-1 div.sk-estimator {font-family: monospace;background-color: #f0f8ff;border: 1px dotted black;border-radius: 0.25em;box-sizing: border-box;margin-bottom: 0.5em;}#sk-container-id-1 div.sk-estimator:hover {background-color: #d4ebff;}#sk-container-id-1 div.sk-parallel-item::after {content: \"\";width: 100%;border-bottom: 1px solid gray;flex-grow: 1;}#sk-container-id-1 div.sk-label:hover label.sk-toggleable__label {background-color: #d4ebff;}#sk-container-id-1 div.sk-serial::before {content: \"\";position: absolute;border-left: 1px solid gray;box-sizing: border-box;top: 0;bottom: 0;left: 50%;z-index: 0;}#sk-container-id-1 div.sk-serial {display: flex;flex-direction: column;align-items: center;background-color: white;padding-right: 0.2em;padding-left: 0.2em;position: relative;}#sk-container-id-1 div.sk-item {position: relative;z-index: 1;}#sk-container-id-1 div.sk-parallel {display: flex;align-items: stretch;justify-content: center;background-color: white;position: relative;}#sk-container-id-1 div.sk-item::before, #sk-container-id-1 div.sk-parallel-item::before {content: \"\";position: absolute;border-left: 1px solid gray;box-sizing: border-box;top: 0;bottom: 0;left: 50%;z-index: -1;}#sk-container-id-1 div.sk-parallel-item {display: flex;flex-direction: column;z-index: 1;position: relative;background-color: white;}#sk-container-id-1 div.sk-parallel-item:first-child::after {align-self: flex-end;width: 50%;}#sk-container-id-1 div.sk-parallel-item:last-child::after {align-self: flex-start;width: 50%;}#sk-container-id-1 div.sk-parallel-item:only-child::after {width: 0;}#sk-container-id-1 div.sk-dashed-wrapped {border: 1px dashed gray;margin: 0 0.4em 0.5em 0.4em;box-sizing: border-box;padding-bottom: 0.4em;background-color: white;}#sk-container-id-1 div.sk-label label {font-family: monospace;font-weight: bold;display: inline-block;line-height: 1.2em;}#sk-container-id-1 div.sk-label-container {text-align: center;}#sk-container-id-1 div.sk-container {/* jupyter's `normalize.less` sets `[hidden] { display: none; }` but bootstrap.min.css set `[hidden] { display: none !important; }` so we also need the `!important` here to be able to override the default hidden behavior on the sphinx rendered scikit-learn.org. See: https://github.com/scikit-learn/scikit-learn/issues/21755 */display: inline-block !important;position: relative;}#sk-container-id-1 div.sk-text-repr-fallback {display: none;}</style><div id=\"sk-container-id-1\" class=\"sk-top-container\"><div class=\"sk-text-repr-fallback\"><pre>KNeighborsClassifier(n_neighbors=10)</pre><b>In a Jupyter environment, please rerun this cell to show the HTML representation or trust the notebook. <br />On GitHub, the HTML representation is unable to render, please try loading this page with nbviewer.org.</b></div><div class=\"sk-container\" hidden><div class=\"sk-item\"><div class=\"sk-estimator sk-toggleable\"><input class=\"sk-toggleable__control sk-hidden--visually\" id=\"sk-estimator-id-1\" type=\"checkbox\" checked><label for=\"sk-estimator-id-1\" class=\"sk-toggleable__label sk-toggleable__label-arrow\">KNeighborsClassifier</label><div class=\"sk-toggleable__content\"><pre>KNeighborsClassifier(n_neighbors=10)</pre></div></div></div></div></div>"
            ],
            "text/plain": [
              "KNeighborsClassifier(n_neighbors=10)"
            ]
          },
          "execution_count": 22,
          "metadata": {},
          "output_type": "execute_result"
        }
      ],
      "source": [
        "from sklearn.neighbors import KNeighborsClassifier\n",
        "\n",
        "knn = KNeighborsClassifier(n_neighbors = 10)\n",
        "knn.fit(x_train, y_train)"
      ]
    },
    {
      "cell_type": "code",
      "execution_count": 23,
      "metadata": {
        "id": "og8WzHXUaSpl"
      },
      "outputs": [],
      "source": [
        "y_test_predict = knn.predict(x_test)\n",
        "y_train_predict = knn.predict(x_train)\n",
        "err_test  = np.mean(y_test != y_test_predict)\n",
        "err_train  = np.mean(y_train != y_train_predict)"
      ]
    },
    {
      "cell_type": "code",
      "execution_count": 24,
      "metadata": {
        "colab": {
          "base_uri": "https://localhost:8080/"
        },
        "id": "9FBRqUPDaSpl",
        "outputId": "c2915c19-e32a-40bd-ecfa-215fc89c7a1b"
      },
      "outputs": [
        {
          "name": "stdout",
          "output_type": "stream",
          "text": [
            "0.0388003355704698\n",
            "0.03467561521252797\n"
          ]
        }
      ],
      "source": [
        "print(err_train)\n",
        "print(err_test)"
      ]
    },
    {
      "cell_type": "code",
      "execution_count": 25,
      "metadata": {
        "colab": {
          "base_uri": "https://localhost:8080/"
        },
        "id": "n1dHgJpFaSpl",
        "outputId": "25e6e41d-b814-4386-c6d0-5d84dac05a3a"
      },
      "outputs": [
        {
          "name": "stdout",
          "output_type": "stream",
          "text": [
            "[[13521    70]\n",
            " [  485   228]]\n",
            "\n",
            "[[3404   19]\n",
            " [ 105   48]]\n",
            "\n"
          ]
        }
      ],
      "source": [
        "from sklearn.metrics import confusion_matrix\n",
        "\n",
        "print(confusion_matrix(y_train, y_train_predict), end=\"\\n\\n\")\n",
        "print(confusion_matrix(y_test, y_test_predict), end=\"\\n\\n\")"
      ]
    },
    {
      "cell_type": "code",
      "execution_count": 26,
      "metadata": {
        "colab": {
          "base_uri": "https://localhost:8080/",
          "height": 351
        },
        "id": "nnob2_ejfyXr",
        "outputId": "84e4daf5-103f-4d67-fc1c-8dd4559110ff"
      },
      "outputs": [
        {
          "name": "stderr",
          "output_type": "stream",
          "text": [
            "C:\\Users\\nick\\AppData\\Roaming\\Python\\Python310\\site-packages\\sklearn\\utils\\deprecation.py:87: FutureWarning: Function plot_confusion_matrix is deprecated; Function `plot_confusion_matrix` is deprecated in 1.0 and will be removed in 1.2. Use one of the class methods: ConfusionMatrixDisplay.from_predictions or ConfusionMatrixDisplay.from_estimator.\n",
            "  warnings.warn(msg, category=FutureWarning)\n"
          ]
        },
        {
          "data": {
            "text/plain": [
              "<sklearn.metrics._plot.confusion_matrix.ConfusionMatrixDisplay at 0x265d47f2c80>"
            ]
          },
          "execution_count": 26,
          "metadata": {},
          "output_type": "execute_result"
        },
        {
          "data": {
            "image/png": "[encoded data removed]",
            "text/plain": [
              "<Figure size 640x480 with 2 Axes>"
            ]
          },
          "metadata": {},
          "output_type": "display_data"
        }
      ],
      "source": [
        "from sklearn.metrics import plot_confusion_matrix\n",
        "plot_confusion_matrix(knn, x_test, y_test) "
      ]
    },
    {
      "cell_type": "markdown",
      "metadata": {
        "id": "dPAPcPcLaSpl"
      },
      "source": [
        "Попробуем теперь подобрать параметры так, чтобы еще сильнее уменьшить ошибку (работает очень медленно):"
      ]
    },
    {
      "cell_type": "code",
      "execution_count": 27,
      "metadata": {
        "id": "SJsJgRTyaSpl"
      },
      "outputs": [],
      "source": [
        "#from sklearn.model_selection import GridSearchCV\n",
        "#nnb = [1, 3, 5, 10, 15, 20, 25, 35, 45, 55]\n",
        "#knn = KNeighborsClassifier()\n",
        "#grid = GridSearchCV(knn, param_grid = {'n_neighbors': nnb}, cv=10)\n",
        "#grid.fit(X_train, y_train)\n",
        "\n",
        "#best_cv_err = 1 - grid.best_score_\n",
        "#best_n_neighbors = grid.best_estimator_.n_neighbors\n",
        "#print(best_cv_err, best_n_neighbors)"
      ]
    },
    {
      "cell_type": "markdown",
      "metadata": {
        "id": "oQj9CSkSaSpl"
      },
      "source": [
        "Лучший результат достигается при n=1:"
      ]
    },
    {
      "cell_type": "code",
      "execution_count": 35,
      "metadata": {
        "colab": {
          "base_uri": "https://localhost:8080/"
        },
        "id": "fYV6wruZaSpl",
        "outputId": "80f37c7f-67b0-4b63-c661-5af5ea3f1f71"
      },
      "outputs": [
        {
          "name": "stdout",
          "output_type": "stream",
          "text": [
            "0.029921700223713647\n",
            "0.03467561521252797\n"
          ]
        }
      ],
      "source": [
        "knn = KNeighborsClassifier(n_neighbors = 3).fit(x_train, y_train)\n",
        "\n",
        "err_train = np.mean(y_train != knn.predict(x_train))\n",
        "err_test  = np.mean(y_test  != knn.predict(x_test))\n",
        "\n",
        "print(err_train)\n",
        "print(err_test)"
      ]
    },
    {
      "cell_type": "markdown",
      "metadata": {
        "id": "tz8oeWLDaSpl"
      },
      "source": [
        "## Другие алгоритмы обучения:"
      ]
    },
    {
      "cell_type": "markdown",
      "metadata": {
        "id": "9ULlgTFyaSpl"
      },
      "source": [
        "### SVC:"
      ]
    },
    {
      "cell_type": "code",
      "execution_count": 29,
      "metadata": {
        "colab": {
          "base_uri": "https://localhost:8080/"
        },
        "id": "2AX54bofaSpm",
        "outputId": "517d213b-f775-43f5-f986-075cc38bf0bc"
      },
      "outputs": [
        {
          "name": "stdout",
          "output_type": "stream",
          "text": [
            "0.02985178970917226\n",
            "0.03271812080536913\n"
          ]
        }
      ],
      "source": [
        "from sklearn.svm import SVC\n",
        "svc = SVC(gamma='auto')\n",
        "svc.fit(x_train, y_train)\n",
        "\n",
        "err_train = np.mean(y_train != svc.predict(x_train))\n",
        "err_test  = np.mean(y_test  != svc.predict(x_test))\n",
        "\n",
        "print(f\"{err_train}\")\n",
        "print(f\"{err_test}\")"
      ]
    },
    {
      "cell_type": "markdown",
      "metadata": {
        "id": "lSYaqY4uaSpm"
      },
      "source": [
        "### Random Forest:"
      ]
    },
    {
      "cell_type": "code",
      "execution_count": 30,
      "metadata": {
        "colab": {
          "base_uri": "https://localhost:8080/"
        },
        "id": "HJyAffxQaSpm",
        "outputId": "378d106c-e082-4525-86ad-3fa6356b4c46"
      },
      "outputs": [
        {
          "name": "stdout",
          "output_type": "stream",
          "text": [
            "0.01880592841163311\n",
            "0.024888143176733782\n"
          ]
        }
      ],
      "source": [
        "from sklearn import ensemble\n",
        "rf = ensemble.RandomForestClassifier(n_estimators = 1000)\n",
        "rf.fit(x_train, y_train)\n",
        "\n",
        "err_train = np.mean(y_train != rf.predict(x_train))\n",
        "err_test  = np.mean(y_test  != rf.predict(x_test))\n",
        "\n",
        "print(f\"{err_train}\")\n",
        "print(f\"{err_test}\")"
      ]
    },
    {
      "cell_type": "markdown",
      "metadata": {
        "id": "cbD2QZ4faSpm"
      },
      "source": [
        "### Extremely Randomized Trees:"
      ]
    },
    {
      "cell_type": "code",
      "execution_count": 31,
      "metadata": {
        "colab": {
          "base_uri": "https://localhost:8080/"
        },
        "id": "uiUa7gwoaSpm",
        "outputId": "56916a94-de41-418b-913e-3fb9e5370737"
      },
      "outputs": [
        {
          "name": "stdout",
          "output_type": "stream",
          "text": [
            "0.01880592841163311\n",
            "0.025447427293064876\n"
          ]
        }
      ],
      "source": [
        "ert = ensemble.ExtraTreesClassifier(n_estimators = 100).fit(x_train, y_train)\n",
        "\n",
        "err_train = np.mean(y_train != ert.predict(x_train))\n",
        "err_test  = np.mean(y_test  != ert.predict(x_test))\n",
        "\n",
        "print(f\"{err_train}\")\n",
        "print(f\"{err_test}\")"
      ]
    },
    {
      "cell_type": "markdown",
      "metadata": {
        "id": "m3kBAFQoaSpm"
      },
      "source": [
        "### AdaBoost:"
      ]
    },
    {
      "cell_type": "code",
      "execution_count": 32,
      "metadata": {
        "colab": {
          "base_uri": "https://localhost:8080/"
        },
        "id": "z1BFNE7YaSpm",
        "outputId": "187a853c-00bb-4d0a-80e3-336f50c2190a"
      },
      "outputs": [
        {
          "name": "stdout",
          "output_type": "stream",
          "text": [
            "0.04697986577181208\n",
            "0.03998881431767338\n"
          ]
        }
      ],
      "source": [
        "ada = ensemble.AdaBoostClassifier(n_estimators = 1000)\n",
        "ada.fit(x_train, y_train)\n",
        "\n",
        "err_train = np.mean(y_train != ada.predict(x_train))\n",
        "err_test = np.mean(y_test != ada.predict(x_test))\n",
        "\n",
        "print(f\"{err_train}\")\n",
        "print(f\"{err_test}\")"
      ]
    },
    {
      "cell_type": "markdown",
      "metadata": {
        "id": "jGWGB040aSpm"
      },
      "source": [
        "### GBT:"
      ]
    },
    {
      "cell_type": "code",
      "execution_count": 33,
      "metadata": {
        "colab": {
          "base_uri": "https://localhost:8080/"
        },
        "id": "QznMbWJKaSpm",
        "outputId": "610def33-3fc9-4020-de2a-57a3feaad556"
      },
      "outputs": [
        {
          "name": "stdout",
          "output_type": "stream",
          "text": [
            "0.02418903803131991\n",
            "0.027404921700223715\n"
          ]
        }
      ],
      "source": [
        "gbt = ensemble.GradientBoostingClassifier(n_estimators = 1000)\n",
        "gbt.fit(x_train, y_train)\n",
        "\n",
        "err_train = np.mean(y_train != gbt.predict(x_train))\n",
        "err_test = np.mean(y_test != gbt.predict(x_test))\n",
        "\n",
        "print(f\"{err_train}\")\n",
        "print(f\"{err_test}\")"
      ]
    },
    {
      "cell_type": "markdown",
      "metadata": {
        "id": "j8dp-wFYaSpn"
      },
      "source": [
        "Наилуший результат показывает Random Forest и GBT. Ошибка на тестовой выборке состовляет ~ 0.024. При этом, на обучение алгоритмом Random Forest затрачивается намного меньше вермени.\n",
        "\n",
        "Во всех случаях ошибка на тестовой выборке оказывалась больше, чем на тренировочной, что может свидетельствовать о некотором переобучении модели.\n",
        "\n",
        "Подводя итог, можно сделать вывод, что \"предобработка\" данных была выполнена успешно и задача классификации решена.\n"
      ]
    }
  ],
  "metadata": {
    "colab": {
      "provenance": []
    },
    "kernelspec": {
      "display_name": "Python 3.10.6 64-bit",
      "language": "python",
      "name": "python3"
    },
    "language_info": {
      "codemirror_mode": {
        "name": "ipython",
        "version": 3
      },
      "file_extension": ".py",
      "mimetype": "text/x-python",
      "name": "python",
      "nbconvert_exporter": "python",
      "pygments_lexer": "ipython3",
      "version": "3.10.6"
    },
    "orig_nbformat": 4,
    "vscode": {
      "interpreter": {
        "hash": "26de051ba29f2982a8de78e945f0abaf191376122a1563185a90213a26c5da77"
      }
    }
  },
  "nbformat": 4,
  "nbformat_minor": 0
}
